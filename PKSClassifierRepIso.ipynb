{
 "cells": [
  {
   "cell_type": "markdown",
   "metadata": {},
   "source": [
    "Pré-processamento realizado em Processing.ipynb"
   ]
  },
  {
   "cell_type": "markdown",
   "metadata": {},
   "source": [
    "# Bibliotecas"
   ]
  },
  {
   "cell_type": "code",
   "execution_count": 1,
   "metadata": {},
   "outputs": [],
   "source": [
    "import os\n",
    "import pandas as pd\n",
    "import numpy as np\n",
    "import scipy as sp\n",
    "from scipy import signal\n",
    "import ml_time_series as mls\n",
    "import timeit\n",
    "from datetime import datetime\n",
    "from sklearn.externals import joblib\n",
    "import matplotlib.pyplot as plt\n",
    "from sklearn.decomposition import PCA\n",
    "from sklearn import preprocessing\n",
    "from sklearn import utils\n",
    "from sys import platform\n",
    "from itertools import cycle\n",
    "from sklearn.metrics import roc_curve, auc\n",
    "from scipy import interp\n",
    "\n",
    "%matplotlib notebook"
   ]
  },
  {
   "cell_type": "code",
   "execution_count": 2,
   "metadata": {},
   "outputs": [],
   "source": [
    "def Stacker(files_,t):\n",
    "    \n",
    "    #Lê dados do arquivo e remove janela\n",
    "    Xc = np.load('preproc/'+files_[len(files_)-1])\n",
    "    Xc = Xc[:-49]\n",
    "    #print files_[len(files_)-1]\n",
    "    #print len(Xc)\n",
    "    \n",
    "    #Aplica Hstack nos dados\n",
    "    for j in range(0,len(files_)-1):\n",
    "        Xci = np.load('preproc/'+files_[j])\n",
    "        #print files_[j]\n",
    "        #print len(Xci)\n",
    "        Xc = np.hstack((Xc.reshape(Xc.shape),Xci.reshape(Xci.shape)))\n",
    "        \n",
    "    #Labeling the PKS level    \n",
    "    #C = (np.ones(len(Xc))*l).reshape((len(Xc),1))\n",
    "    #Xc = np.hstack((Xc.reshape(Xc.shape),C.reshape((len(Xc),1))))    \n",
    "    \n",
    "    # Salving in file on the folder <preproc/labeled>  \n",
    "    if \"v\" in t:\n",
    "        np.save('preproc/stacked_v/'+t+'_hs', Xc, allow_pickle=False)\n",
    "        DATAv_hs.append(t+'_hs.npy')\n",
    "    else:\n",
    "        np.save('preproc/stacked_t/'+t+'hs', Xc, allow_pickle=False)\n",
    "        DATA_hs.append(t+'hs.npy')"
   ]
  },
  {
   "cell_type": "code",
   "execution_count": 313,
   "metadata": {},
   "outputs": [],
   "source": [
    "if platform == \"linux\" or platform == \"linux2\":\n",
    "    files = os.listdir('db/partitioned')\n",
    "elif platform == \"win32\":\n",
    "    files = os.listdir('C:\\Users\\jorge.junior\\Documents\\GitHub\\PKS_ML\\db\\partitioned')\n",
    "    \n",
    "files_ = []\n",
    "for i in files:\n",
    "    #files_.append([i[:-4]+'_filt.npy',i[:-4]+'_rms.npy',i[:-4]+'_fft.npy',i[:-4]+'_peaks.npy',i[:-4]+'_std.npy'])\n",
    "    files_.append([i[:-4]+'_filt.npy',i[:-4]+'_rms.npy',i[:-4]+'_fft.npy',i[:-4]+'_std.npy'])\n",
    "    #files_.append([i[:-4]+'_fft.npy'])\n",
    "\n",
    "list.sort(files)"
   ]
  },
  {
   "cell_type": "code",
   "execution_count": 314,
   "metadata": {},
   "outputs": [
    {
     "data": {
      "text/plain": [
       "'pi03.1.1'"
      ]
     },
     "execution_count": 314,
     "metadata": {},
     "output_type": "execute_result"
    }
   ],
   "source": [
    "files_[0][0][:8]"
   ]
  },
  {
   "cell_type": "code",
   "execution_count": 315,
   "metadata": {},
   "outputs": [
    {
     "data": {
      "text/plain": [
       "(['pi03.1.1_filt.npy',\n",
       "  'pi03.1.1_rms.npy',\n",
       "  'pi03.1.1_fft.npy',\n",
       "  'pi03.1.1_std.npy'],\n",
       " 'pi03.1.1')"
      ]
     },
     "execution_count": 315,
     "metadata": {},
     "output_type": "execute_result"
    }
   ],
   "source": [
    "files_[0],files_[0][0][:8]"
   ]
  },
  {
   "cell_type": "code",
   "execution_count": 316,
   "metadata": {
    "scrolled": true
   },
   "outputs": [],
   "source": [
    "#Grupo total e validação\n",
    "DATA_hs = []\n",
    "DATAv_hs = []\n",
    "for i in range(len(files_)):\n",
    "    Stacker(files_[i],files_[i][0][:9])"
   ]
  },
  {
   "cell_type": "code",
   "execution_count": 317,
   "metadata": {},
   "outputs": [
    {
     "data": {
      "text/plain": [
       "['pi03.1.1_hs.npy',\n",
       " 'pi03.1.2_hs.npy',\n",
       " 'pi03.1.3_hs.npy',\n",
       " 'pi03.2.1_hs.npy',\n",
       " 'pi03.2.2_hs.npy',\n",
       " 'pi03.2.3_hs.npy',\n",
       " 'pi06.1.1_hs.npy',\n",
       " 'pi06.1.2_hs.npy',\n",
       " 'pi06.1.3_hs.npy',\n",
       " 'pi06.3.1_hs.npy',\n",
       " 'pi06.3.2_hs.npy',\n",
       " 'pi06.3.3_hs.npy',\n",
       " 'pi07.1.1_hs.npy',\n",
       " 'pi07.1.2_hs.npy',\n",
       " 'pi07.1.3_hs.npy',\n",
       " 'pi07.2.1_hs.npy',\n",
       " 'pi07.2.2_hs.npy',\n",
       " 'pi07.2.3_hs.npy',\n",
       " 'pi09.1.1_hs.npy',\n",
       " 'pi09.1.2_hs.npy',\n",
       " 'pi09.1.3_hs.npy',\n",
       " 'pi09.3.1_hs.npy',\n",
       " 'pi09.3.2_hs.npy',\n",
       " 'pi09.3.3_hs.npy',\n",
       " 'pi16.1.1_hs.npy',\n",
       " 'pi16.1.2_hs.npy',\n",
       " 'pi16.1.3_hs.npy',\n",
       " 'pi16.2.1_hs.npy',\n",
       " 'pi16.2.2_hs.npy',\n",
       " 'pi16.2.3_hs.npy',\n",
       " 'pi17.1.1_hs.npy',\n",
       " 'pi17.1.2_hs.npy',\n",
       " 'pi17.1.3_hs.npy',\n",
       " 'pi17.2.1_hs.npy',\n",
       " 'pi17.2.2_hs.npy',\n",
       " 'pi17.2.3_hs.npy',\n",
       " 'pr03.1.1_hs.npy',\n",
       " 'pr03.1.2_hs.npy',\n",
       " 'pr03.1.3_hs.npy',\n",
       " 'pr03.2.1_hs.npy',\n",
       " 'pr03.2.2_hs.npy',\n",
       " 'pr03.2.3_hs.npy',\n",
       " 'pr06.1.1_hs.npy',\n",
       " 'pr06.1.2_hs.npy',\n",
       " 'pr06.1.3_hs.npy',\n",
       " 'pr06.2.1_hs.npy',\n",
       " 'pr06.2.2_hs.npy',\n",
       " 'pr06.2.3_hs.npy',\n",
       " 'pr07.1.1_hs.npy',\n",
       " 'pr07.1.2_hs.npy',\n",
       " 'pr07.1.3_hs.npy',\n",
       " 'pr09.1.1_hs.npy',\n",
       " 'pr09.1.2_hs.npy',\n",
       " 'pr09.1.3_hs.npy',\n",
       " 'pr09.2.1_hs.npy',\n",
       " 'pr09.2.2_hs.npy',\n",
       " 'pr09.2.3_hs.npy',\n",
       " 'pr16.1.1_hs.npy',\n",
       " 'pr16.1.2_hs.npy',\n",
       " 'pr16.1.3_hs.npy',\n",
       " 'pr16.2.1_hs.npy',\n",
       " 'pr16.2.2_hs.npy',\n",
       " 'pr16.2.3_hs.npy',\n",
       " 'pr17.1.1_hs.npy',\n",
       " 'pr17.1.2_hs.npy',\n",
       " 'pr17.1.3_hs.npy',\n",
       " 'pr17.2.1_hs.npy',\n",
       " 'pr17.2.2_hs.npy',\n",
       " 'pr17.2.3_hs.npy']"
      ]
     },
     "execution_count": 317,
     "metadata": {},
     "output_type": "execute_result"
    }
   ],
   "source": [
    "list.sort(DATA_hs)\n",
    "DATA_hs"
   ]
  },
  {
   "cell_type": "code",
   "execution_count": 318,
   "metadata": {},
   "outputs": [
    {
     "data": {
      "text/plain": [
       "['piv03.3.1_hs.npy',\n",
       " 'piv03.3.2_hs.npy',\n",
       " 'piv03.3.3_hs.npy',\n",
       " 'piv06.2.1_hs.npy',\n",
       " 'piv06.2.2_hs.npy',\n",
       " 'piv06.2.3_hs.npy',\n",
       " 'piv07.3.1_hs.npy',\n",
       " 'piv07.3.2_hs.npy',\n",
       " 'piv07.3.3_hs.npy',\n",
       " 'piv09.2.1_hs.npy',\n",
       " 'piv09.2.2_hs.npy',\n",
       " 'piv09.2.3_hs.npy',\n",
       " 'piv16.3.1_hs.npy',\n",
       " 'piv16.3.2_hs.npy',\n",
       " 'piv16.3.3_hs.npy',\n",
       " 'piv17.3.1_hs.npy',\n",
       " 'piv17.3.2_hs.npy',\n",
       " 'piv17.3.3_hs.npy',\n",
       " 'prv03.3.1_hs.npy',\n",
       " 'prv03.3.2_hs.npy',\n",
       " 'prv03.3.3_hs.npy',\n",
       " 'prv06.3.1_hs.npy',\n",
       " 'prv06.3.2_hs.npy',\n",
       " 'prv06.3.3_hs.npy',\n",
       " 'prv07.2.1_hs.npy',\n",
       " 'prv07.2.2_hs.npy',\n",
       " 'prv07.2.3_hs.npy',\n",
       " 'prv09.3.1_hs.npy',\n",
       " 'prv09.3.2_hs.npy',\n",
       " 'prv09.3.3_hs.npy',\n",
       " 'prv16.3.1_hs.npy',\n",
       " 'prv16.3.2_hs.npy',\n",
       " 'prv16.3.3_hs.npy',\n",
       " 'prv17.3.1_hs.npy',\n",
       " 'prv17.3.2_hs.npy',\n",
       " 'prv17.3.3_hs.npy']"
      ]
     },
     "execution_count": 318,
     "metadata": {},
     "output_type": "execute_result"
    }
   ],
   "source": [
    "list.sort(DATAv_hs)\n",
    "DATAv_hs"
   ]
  },
  {
   "cell_type": "code",
   "execution_count": 319,
   "metadata": {},
   "outputs": [],
   "source": [
    "Xc = np.load('preproc/stacked_t/pr06.1.1_hs.npy')"
   ]
  },
  {
   "cell_type": "code",
   "execution_count": 320,
   "metadata": {
    "scrolled": false
   },
   "outputs": [
    {
     "data": {
      "text/html": [
       "<div>\n",
       "<style scoped>\n",
       "    .dataframe tbody tr th:only-of-type {\n",
       "        vertical-align: middle;\n",
       "    }\n",
       "\n",
       "    .dataframe tbody tr th {\n",
       "        vertical-align: top;\n",
       "    }\n",
       "\n",
       "    .dataframe thead th {\n",
       "        text-align: right;\n",
       "    }\n",
       "</style>\n",
       "<table border=\"1\" class=\"dataframe\">\n",
       "  <thead>\n",
       "    <tr style=\"text-align: right;\">\n",
       "      <th></th>\n",
       "      <th>0</th>\n",
       "      <th>1</th>\n",
       "      <th>2</th>\n",
       "      <th>3</th>\n",
       "      <th>4</th>\n",
       "      <th>5</th>\n",
       "      <th>6</th>\n",
       "      <th>7</th>\n",
       "      <th>8</th>\n",
       "      <th>9</th>\n",
       "      <th>10</th>\n",
       "      <th>11</th>\n",
       "      <th>12</th>\n",
       "      <th>13</th>\n",
       "      <th>14</th>\n",
       "      <th>15</th>\n",
       "    </tr>\n",
       "  </thead>\n",
       "  <tbody>\n",
       "    <tr>\n",
       "      <th>0</th>\n",
       "      <td>-0.008012</td>\n",
       "      <td>0.005458</td>\n",
       "      <td>0.054442</td>\n",
       "      <td>-0.055108</td>\n",
       "      <td>-0.000933</td>\n",
       "      <td>0.003024</td>\n",
       "      <td>-0.000911</td>\n",
       "      <td>0.002333</td>\n",
       "      <td>6.538195</td>\n",
       "      <td>4.492444</td>\n",
       "      <td>17.367166</td>\n",
       "      <td>14.146537</td>\n",
       "      <td>5.632277</td>\n",
       "      <td>7.969297</td>\n",
       "      <td>39.294102</td>\n",
       "      <td>162.808307</td>\n",
       "    </tr>\n",
       "    <tr>\n",
       "      <th>1</th>\n",
       "      <td>-0.049315</td>\n",
       "      <td>0.007679</td>\n",
       "      <td>0.026556</td>\n",
       "      <td>-0.055108</td>\n",
       "      <td>-0.016482</td>\n",
       "      <td>0.005833</td>\n",
       "      <td>-0.023176</td>\n",
       "      <td>0.004472</td>\n",
       "      <td>6.551378</td>\n",
       "      <td>4.474770</td>\n",
       "      <td>16.604748</td>\n",
       "      <td>14.146537</td>\n",
       "      <td>1.181517</td>\n",
       "      <td>1.262539</td>\n",
       "      <td>12.494615</td>\n",
       "      <td>3.992142</td>\n",
       "    </tr>\n",
       "    <tr>\n",
       "      <th>2</th>\n",
       "      <td>0.007477</td>\n",
       "      <td>0.005458</td>\n",
       "      <td>0.028701</td>\n",
       "      <td>-0.055108</td>\n",
       "      <td>-0.006325</td>\n",
       "      <td>0.003993</td>\n",
       "      <td>-0.031479</td>\n",
       "      <td>0.000052</td>\n",
       "      <td>6.294009</td>\n",
       "      <td>4.474770</td>\n",
       "      <td>16.424524</td>\n",
       "      <td>14.205700</td>\n",
       "      <td>1.365535</td>\n",
       "      <td>1.043233</td>\n",
       "      <td>19.267539</td>\n",
       "      <td>0.466960</td>\n",
       "    </tr>\n",
       "    <tr>\n",
       "      <th>3</th>\n",
       "      <td>-0.002849</td>\n",
       "      <td>0.005458</td>\n",
       "      <td>0.024411</td>\n",
       "      <td>-0.061283</td>\n",
       "      <td>0.007009</td>\n",
       "      <td>-0.001668</td>\n",
       "      <td>-0.028386</td>\n",
       "      <td>-0.006701</td>\n",
       "      <td>6.288016</td>\n",
       "      <td>4.699300</td>\n",
       "      <td>16.217454</td>\n",
       "      <td>14.233706</td>\n",
       "      <td>0.666651</td>\n",
       "      <td>0.787748</td>\n",
       "      <td>11.637271</td>\n",
       "      <td>3.842292</td>\n",
       "    </tr>\n",
       "    <tr>\n",
       "      <th>4</th>\n",
       "      <td>-0.013175</td>\n",
       "      <td>-0.010092</td>\n",
       "      <td>0.028701</td>\n",
       "      <td>-0.073634</td>\n",
       "      <td>-0.004382</td>\n",
       "      <td>-0.005448</td>\n",
       "      <td>-0.026331</td>\n",
       "      <td>-0.007560</td>\n",
       "      <td>6.295046</td>\n",
       "      <td>4.761814</td>\n",
       "      <td>16.106662</td>\n",
       "      <td>14.205700</td>\n",
       "      <td>0.903521</td>\n",
       "      <td>0.590054</td>\n",
       "      <td>0.968805</td>\n",
       "      <td>0.545747</td>\n",
       "    </tr>\n",
       "  </tbody>\n",
       "</table>\n",
       "</div>"
      ],
      "text/plain": [
       "         0         1         2         3         4         5         6   \\\n",
       "0 -0.008012  0.005458  0.054442 -0.055108 -0.000933  0.003024 -0.000911   \n",
       "1 -0.049315  0.007679  0.026556 -0.055108 -0.016482  0.005833 -0.023176   \n",
       "2  0.007477  0.005458  0.028701 -0.055108 -0.006325  0.003993 -0.031479   \n",
       "3 -0.002849  0.005458  0.024411 -0.061283  0.007009 -0.001668 -0.028386   \n",
       "4 -0.013175 -0.010092  0.028701 -0.073634 -0.004382 -0.005448 -0.026331   \n",
       "\n",
       "         7         8         9          10         11        12        13  \\\n",
       "0  0.002333  6.538195  4.492444  17.367166  14.146537  5.632277  7.969297   \n",
       "1  0.004472  6.551378  4.474770  16.604748  14.146537  1.181517  1.262539   \n",
       "2  0.000052  6.294009  4.474770  16.424524  14.205700  1.365535  1.043233   \n",
       "3 -0.006701  6.288016  4.699300  16.217454  14.233706  0.666651  0.787748   \n",
       "4 -0.007560  6.295046  4.761814  16.106662  14.205700  0.903521  0.590054   \n",
       "\n",
       "          14          15  \n",
       "0  39.294102  162.808307  \n",
       "1  12.494615    3.992142  \n",
       "2  19.267539    0.466960  \n",
       "3  11.637271    3.842292  \n",
       "4   0.968805    0.545747  "
      ]
     },
     "execution_count": 320,
     "metadata": {},
     "output_type": "execute_result"
    }
   ],
   "source": [
    "dfn = pd.DataFrame(data=Xc)\n",
    "dfn.head()"
   ]
  },
  {
   "cell_type": "code",
   "execution_count": 321,
   "metadata": {},
   "outputs": [
    {
     "data": {
      "text/plain": [
       "(3284L, 16L)"
      ]
     },
     "execution_count": 321,
     "metadata": {},
     "output_type": "execute_result"
    }
   ],
   "source": [
    "Xc.shape"
   ]
  },
  {
   "cell_type": "code",
   "execution_count": 324,
   "metadata": {},
   "outputs": [],
   "source": [
    "entropy = []\n",
    "\n",
    "def proccess_data(x,DATA,NUM_SAMPLES,LABEL):\n",
    "    \n",
    "    if \"v\" in x:\n",
    "         Xc = np.load(\"preproc/stacked_v/\"+x)\n",
    "    else:\n",
    "         Xc = np.load(\"preproc/stacked_t/\"+x)\n",
    "   \n",
    "    print '\\nXc initial shape ', Xc.shape\n",
    "    \n",
    "    #Principal component analysis\n",
    "    pca = PCA(n_components=8)\n",
    "    pca.fit(Xc)\n",
    "    Xc = pca.transform(Xc)\n",
    "    print pca.explained_variance_ratio_\n",
    "    entropy.append(sum(pca.explained_variance_ratio_))\n",
    "    print 'Xc PCA shape ', Xc.shape\n",
    "    \n",
    "    #Create temporal serie\n",
    "    #Xc = mls.generate_envelope(Xc, NUM_SAMPLES)\n",
    "    #print 'Xc temporal-serie shape ', Xc.shape\n",
    "    \n",
    "    #Labeling the PKS level    \n",
    "    C = (np.ones(len(Xc))*LABEL).reshape((len(Xc),1))\n",
    "    Xc = np.hstack((Xc.reshape(Xc.shape),C.reshape((len(Xc),1)))) \n",
    "    print 'Xc labeled shape ', Xc.shape\n",
    "    \n",
    "    # Salving in file on the folder </preproc/labeled>\n",
    "    if \"v\" in x:\n",
    "        np.save('./preproc/labeled_v/'+x[:9]+'_tsl', Xc, allow_pickle=False)\n",
    "        print '\\n'+x[:9]+'_tsl'\n",
    "        DATAv.append(x[:9]+'_tsl.npy')\n",
    "    else:\n",
    "        np.save('./preproc/labeled_t/'+x[:8]+'_tsl', Xc, allow_pickle=False)\n",
    "        print '\\n'+x[:8]+'_tsl'\n",
    "        DATA.append(x[:8]+'_tsl.npy')\n",
    "        "
   ]
  },
  {
   "cell_type": "code",
   "execution_count": 325,
   "metadata": {
    "scrolled": false
   },
   "outputs": [
    {
     "data": {
      "text/plain": [
       "['pi03.1.1_hs.npy',\n",
       " 'pi03.1.2_hs.npy',\n",
       " 'pi03.1.3_hs.npy',\n",
       " 'pi03.2.1_hs.npy',\n",
       " 'pi03.2.2_hs.npy',\n",
       " 'pi03.2.3_hs.npy',\n",
       " 'pi06.1.1_hs.npy',\n",
       " 'pi06.1.2_hs.npy',\n",
       " 'pi06.1.3_hs.npy',\n",
       " 'pi06.3.1_hs.npy',\n",
       " 'pi06.3.2_hs.npy',\n",
       " 'pi06.3.3_hs.npy',\n",
       " 'pi07.1.1_hs.npy',\n",
       " 'pi07.1.2_hs.npy',\n",
       " 'pi07.1.3_hs.npy',\n",
       " 'pi07.2.1_hs.npy',\n",
       " 'pi07.2.2_hs.npy',\n",
       " 'pi07.2.3_hs.npy',\n",
       " 'pi09.1.1_hs.npy',\n",
       " 'pi09.1.2_hs.npy',\n",
       " 'pi09.1.3_hs.npy',\n",
       " 'pi09.3.1_hs.npy',\n",
       " 'pi09.3.2_hs.npy',\n",
       " 'pi09.3.3_hs.npy',\n",
       " 'pi16.1.1_hs.npy',\n",
       " 'pi16.1.2_hs.npy',\n",
       " 'pi16.1.3_hs.npy',\n",
       " 'pi16.2.1_hs.npy',\n",
       " 'pi16.2.2_hs.npy',\n",
       " 'pi16.2.3_hs.npy',\n",
       " 'pi17.1.1_hs.npy',\n",
       " 'pi17.1.2_hs.npy',\n",
       " 'pi17.1.3_hs.npy',\n",
       " 'pi17.2.1_hs.npy',\n",
       " 'pi17.2.2_hs.npy',\n",
       " 'pi17.2.3_hs.npy',\n",
       " 'pr03.1.1_hs.npy',\n",
       " 'pr03.1.2_hs.npy',\n",
       " 'pr03.1.3_hs.npy',\n",
       " 'pr03.2.1_hs.npy',\n",
       " 'pr03.2.2_hs.npy',\n",
       " 'pr03.2.3_hs.npy',\n",
       " 'pr06.1.1_hs.npy',\n",
       " 'pr06.1.2_hs.npy',\n",
       " 'pr06.1.3_hs.npy',\n",
       " 'pr06.2.1_hs.npy',\n",
       " 'pr06.2.2_hs.npy',\n",
       " 'pr06.2.3_hs.npy',\n",
       " 'pr07.1.1_hs.npy',\n",
       " 'pr07.1.2_hs.npy',\n",
       " 'pr07.1.3_hs.npy',\n",
       " 'pr09.1.1_hs.npy',\n",
       " 'pr09.1.2_hs.npy',\n",
       " 'pr09.1.3_hs.npy',\n",
       " 'pr09.2.1_hs.npy',\n",
       " 'pr09.2.2_hs.npy',\n",
       " 'pr09.2.3_hs.npy',\n",
       " 'pr16.1.1_hs.npy',\n",
       " 'pr16.1.2_hs.npy',\n",
       " 'pr16.1.3_hs.npy',\n",
       " 'pr16.2.1_hs.npy',\n",
       " 'pr16.2.2_hs.npy',\n",
       " 'pr16.2.3_hs.npy',\n",
       " 'pr17.1.1_hs.npy',\n",
       " 'pr17.1.2_hs.npy',\n",
       " 'pr17.1.3_hs.npy',\n",
       " 'pr17.2.1_hs.npy',\n",
       " 'pr17.2.2_hs.npy',\n",
       " 'pr17.2.3_hs.npy']"
      ]
     },
     "execution_count": 325,
     "metadata": {},
     "output_type": "execute_result"
    }
   ],
   "source": [
    "DATA_hs"
   ]
  },
  {
   "cell_type": "markdown",
   "metadata": {},
   "source": [
    "---"
   ]
  },
  {
   "cell_type": "code",
   "execution_count": 326,
   "metadata": {},
   "outputs": [],
   "source": [
    "#len(DATA_hs)"
   ]
  },
  {
   "cell_type": "code",
   "execution_count": 327,
   "metadata": {},
   "outputs": [],
   "source": [
    "#len(l)"
   ]
  },
  {
   "cell_type": "code",
   "execution_count": 328,
   "metadata": {},
   "outputs": [
    {
     "name": "stdout",
     "output_type": "stream",
     "text": [
      "pi03.1.1 2\n",
      "pi03.1.2 2\n",
      "pi03.1.3 2\n",
      "pi03.2.1 2\n",
      "pi03.2.2 2\n",
      "pi03.2.3 2\n",
      "pi06.1.1 3\n",
      "pi06.1.2 3\n",
      "pi06.1.3 3\n",
      "pi06.3.1 3\n",
      "pi06.3.2 3\n",
      "pi06.3.3 3\n",
      "pi07.1.1 4\n",
      "pi07.1.2 4\n",
      "pi07.1.3 4\n",
      "pi07.2.1 4\n",
      "pi07.2.2 4\n",
      "pi07.2.3 4\n",
      "pi09.1.1 1\n",
      "pi09.1.2 1\n",
      "pi09.1.3 1\n",
      "pi09.3.1 1\n",
      "pi09.3.2 1\n",
      "pi09.3.3 1\n",
      "pi16.1.1 1\n",
      "pi16.1.2 1\n",
      "pi16.1.3 1\n",
      "pi16.2.1 1\n",
      "pi16.2.2 1\n",
      "pi16.2.3 1\n",
      "pi17.1.1 2\n",
      "pi17.1.2 2\n",
      "pi17.1.3 2\n",
      "pi17.2.1 2\n",
      "pi17.2.2 2\n",
      "pi17.2.3 2\n",
      "pr03.1.1 3\n",
      "pr03.1.2 3\n",
      "pr03.1.3 3\n",
      "pr03.2.1 4\n",
      "pr03.2.2 4\n",
      "pr03.2.3 4\n",
      "pr06.1.1 4\n",
      "pr06.1.2 4\n",
      "pr06.1.3 4\n",
      "pr06.2.1 1\n",
      "pr06.2.2 1\n",
      "pr06.2.3 1\n",
      "pr07.1.1 1\n",
      "pr07.1.2 1\n",
      "pr07.1.3 1\n",
      "pr09.1.1 1\n",
      "pr09.1.2 1\n",
      "pr09.1.3 1\n",
      "pr09.2.1 1\n",
      "pr09.2.2 1\n",
      "pr09.2.3 1\n"
     ]
    }
   ],
   "source": [
    "#6=2; 7=3; 9=4; 17=1\n",
    "\n",
    "l=[2,2,2,2,2,2, 3,3,3,3,3,3, 4,4,4,4,4,4, 1,1,1,1,1,1, 1,1,1,1,1,1, 2,2,2,2,2,2, 3,3,3, 4,4,4,4,4,4, 1,1,1,1,1,1, 1,1,1,1,1,1]\n",
    "#l=[2,2,2,2,2,2, 3,3,3,3,3,3, 4,4,4,4,4,4, 2,2,2,2,2,2, 1,1,1,1,1,1, 1,1,1,1,1,1, 2,2,2,2,2,2, 3,3,3, 4,4,4,4,4,4, 2,2,2,2,2,2, 1,1,1,1,1,1, 1,1,1,1,1,1]\n",
    "#l=[2,2,2,2,2,2, 2,2,2,2,2,2, 3,3,3,3,3,3, 4,4,4,4,4,4, 1,1,1,1,1,1, 1,1,1,1,1,1, 2,2,2,2,2,2, 2,2,2,2,2,2, 3,3,3, 4,4,4,4,4,4, 1,1,1,1,1,1, 1,1,1,1,1,1]\n",
    "for x, y in zip(DATA_hs, l):\n",
    "    print x[:8],y"
   ]
  },
  {
   "cell_type": "code",
   "execution_count": 329,
   "metadata": {
    "scrolled": true
   },
   "outputs": [
    {
     "name": "stdout",
     "output_type": "stream",
     "text": [
      "\n",
      "Xc initial shape  (2617L, 16L)\n",
      "[0.35072063 0.21266328 0.13717139 0.11774686 0.08812051 0.07411215\n",
      " 0.01183915 0.00722656]\n",
      "Xc PCA shape  (2617L, 8L)\n",
      "Xc labeled shape  (2617L, 9L)\n",
      "\n",
      "pi03.1.1_tsl\n",
      "\n",
      "Xc initial shape  (2617L, 16L)\n",
      "[0.30583208 0.23724818 0.14367376 0.12896779 0.08794486 0.07767164\n",
      " 0.01069367 0.00759266]\n",
      "Xc PCA shape  (2617L, 8L)\n",
      "Xc labeled shape  (2617L, 9L)\n",
      "\n",
      "pi03.1.2_tsl\n",
      "\n",
      "Xc initial shape  (2617L, 16L)\n",
      "[0.29823729 0.22265284 0.15932559 0.11325486 0.09879587 0.08733394\n",
      " 0.01180565 0.00818418]\n",
      "Xc PCA shape  (2617L, 8L)\n",
      "Xc labeled shape  (2617L, 9L)\n",
      "\n",
      "pi03.1.3_tsl\n",
      "\n",
      "Xc initial shape  (3284L, 16L)\n",
      "[0.7082743  0.09308488 0.07371052 0.05915716 0.03238076 0.02710294\n",
      " 0.00360552 0.00251622]\n",
      "Xc PCA shape  (3284L, 8L)\n",
      "Xc labeled shape  (3284L, 9L)\n",
      "\n",
      "pi03.2.1_tsl\n",
      "\n",
      "Xc initial shape  (3284L, 16L)\n",
      "[0.28755375 0.25509324 0.18025701 0.10663444 0.08907037 0.06350168\n",
      " 0.01110434 0.00647238]\n",
      "Xc PCA shape  (3284L, 8L)\n",
      "Xc labeled shape  (3284L, 9L)\n",
      "\n",
      "pi03.2.2_tsl\n",
      "\n",
      "Xc initial shape  (3284L, 16L)\n",
      "[9.33975615e-01 2.19762764e-02 1.32840933e-02 1.21769104e-02\n",
      " 9.46663710e-03 6.86146325e-03 1.43095147e-03 7.84655976e-04]\n",
      "Xc PCA shape  (3284L, 8L)\n",
      "Xc labeled shape  (3284L, 9L)\n",
      "\n",
      "pi03.2.3_tsl\n",
      "\n",
      "Xc initial shape  (3284L, 16L)\n",
      "[0.74907944 0.10564059 0.08127354 0.03708039 0.01781165 0.00625524\n",
      " 0.0018583  0.0009108 ]\n",
      "Xc PCA shape  (3284L, 8L)\n",
      "Xc labeled shape  (3284L, 9L)\n",
      "\n",
      "pi06.1.1_tsl\n",
      "\n",
      "Xc initial shape  (3284L, 16L)\n",
      "[8.11502645e-01 9.04755012e-02 6.06435510e-02 2.03433225e-02\n",
      " 1.28974382e-02 2.61374254e-03 1.00624133e-03 4.49045492e-04]\n",
      "Xc PCA shape  (3284L, 8L)\n",
      "Xc labeled shape  (3284L, 9L)\n",
      "\n",
      "pi06.1.2_tsl\n",
      "\n",
      "Xc initial shape  (3284L, 16L)\n",
      "[8.09524912e-01 7.78188193e-02 6.48309114e-02 3.23052373e-02\n",
      " 9.43176846e-03 4.04076096e-03 1.35708409e-03 6.30019653e-04]\n",
      "Xc PCA shape  (3284L, 8L)\n",
      "Xc labeled shape  (3284L, 9L)\n",
      "\n",
      "pi06.1.3_tsl\n",
      "\n",
      "Xc initial shape  (3284L, 16L)\n",
      "[0.78480229 0.09028709 0.06081257 0.04696278 0.00930099 0.00476544\n",
      " 0.00214351 0.00086296]\n",
      "Xc PCA shape  (3284L, 8L)\n",
      "Xc labeled shape  (3284L, 9L)\n",
      "\n",
      "pi06.3.1_tsl\n",
      "\n",
      "Xc initial shape  (3284L, 16L)\n",
      "[0.79595817 0.07510934 0.06140498 0.04786073 0.00993621 0.00596465\n",
      " 0.00259753 0.00110917]\n",
      "Xc PCA shape  (3284L, 8L)\n",
      "Xc labeled shape  (3284L, 9L)\n",
      "\n",
      "pi06.3.2_tsl\n",
      "\n",
      "Xc initial shape  (3284L, 16L)\n",
      "[0.74701097 0.10918466 0.06459365 0.05476438 0.01285548 0.00682361\n",
      " 0.00338832 0.00131359]\n",
      "Xc PCA shape  (3284L, 8L)\n",
      "Xc labeled shape  (3284L, 9L)\n",
      "\n",
      "pi06.3.3_tsl\n",
      "\n",
      "Xc initial shape  (2384L, 16L)\n",
      "[0.57892338 0.24817327 0.06798181 0.05349167 0.03558035 0.00802773\n",
      " 0.00478268 0.00295041]\n",
      "Xc PCA shape  (2384L, 8L)\n",
      "Xc labeled shape  (2384L, 9L)\n",
      "\n",
      "pi07.1.1_tsl\n",
      "\n",
      "Xc initial shape  (2384L, 16L)\n",
      "[0.55031389 0.32035228 0.05322369 0.03363675 0.02789934 0.00620767\n",
      " 0.00454255 0.00374378]\n",
      "Xc PCA shape  (2384L, 8L)\n",
      "Xc labeled shape  (2384L, 9L)\n",
      "\n",
      "pi07.1.2_tsl\n",
      "\n",
      "Xc initial shape  (2384L, 16L)\n",
      "[0.52288969 0.29789071 0.06688936 0.05721272 0.03729749 0.0094093\n",
      " 0.0050616  0.00326479]\n",
      "Xc PCA shape  (2384L, 8L)\n",
      "Xc labeled shape  (2384L, 9L)\n",
      "\n",
      "pi07.1.3_tsl\n",
      "\n",
      "Xc initial shape  (3284L, 16L)\n",
      "[0.59991029 0.24880105 0.06298078 0.04729274 0.02636787 0.00665794\n",
      " 0.00488606 0.00304818]\n",
      "Xc PCA shape  (3284L, 8L)\n",
      "Xc labeled shape  (3284L, 9L)\n",
      "\n",
      "pi07.2.1_tsl\n",
      "\n",
      "Xc initial shape  (3284L, 16L)\n",
      "[0.43120938 0.35769065 0.07863775 0.06340021 0.04788859 0.00883281\n",
      " 0.00772115 0.00453711]\n",
      "Xc PCA shape  (3284L, 8L)\n",
      "Xc labeled shape  (3284L, 9L)\n",
      "\n",
      "pi07.2.2_tsl\n",
      "\n",
      "Xc initial shape  (3284L, 16L)\n",
      "[0.54933423 0.23878243 0.08169815 0.06471466 0.04650264 0.00898159\n",
      " 0.00635379 0.00355488]\n",
      "Xc PCA shape  (3284L, 8L)\n",
      "Xc labeled shape  (3284L, 9L)\n",
      "\n",
      "pi07.2.3_tsl\n",
      "\n",
      "Xc initial shape  (3284L, 16L)\n",
      "[0.38030931 0.2139885  0.18912429 0.11809738 0.08000987 0.01244073\n",
      " 0.00366978 0.00224658]\n",
      "Xc PCA shape  (3284L, 8L)\n",
      "Xc labeled shape  (3284L, 9L)\n",
      "\n",
      "pi09.1.1_tsl\n",
      "\n",
      "Xc initial shape  (3284L, 16L)\n",
      "[0.50349483 0.21129426 0.11143158 0.10332353 0.05082014 0.01174022\n",
      " 0.00514203 0.00265151]\n",
      "Xc PCA shape  (3284L, 8L)\n",
      "Xc labeled shape  (3284L, 9L)\n",
      "\n",
      "pi09.1.2_tsl\n",
      "\n",
      "Xc initial shape  (3284L, 16L)\n",
      "[0.40042795 0.23265669 0.13624367 0.1259854  0.08184322 0.01355552\n",
      " 0.00624077 0.00292624]\n",
      "Xc PCA shape  (3284L, 8L)\n",
      "Xc labeled shape  (3284L, 9L)\n",
      "\n",
      "pi09.1.3_tsl\n",
      "\n",
      "Xc initial shape  (3284L, 16L)\n",
      "[0.34788861 0.23504449 0.15850788 0.14258158 0.08579786 0.01964995\n",
      " 0.00646003 0.00392179]\n",
      "Xc PCA shape  (3284L, 8L)\n",
      "Xc labeled shape  (3284L, 9L)\n",
      "\n",
      "pi09.3.1_tsl\n",
      "\n",
      "Xc initial shape  (3284L, 16L)\n",
      "[0.34065856 0.26040193 0.18051724 0.12521081 0.06578841 0.01589639\n",
      " 0.00721053 0.00419616]\n",
      "Xc PCA shape  (3284L, 8L)\n",
      "Xc labeled shape  (3284L, 9L)\n",
      "\n",
      "pi09.3.2_tsl\n",
      "\n",
      "Xc initial shape  (3284L, 16L)\n",
      "[0.30676292 0.2432086  0.19935001 0.12641971 0.09545488 0.01838265\n",
      " 0.00696478 0.00333084]\n",
      "Xc PCA shape  (3284L, 8L)\n",
      "Xc labeled shape  (3284L, 9L)\n",
      "\n",
      "pi09.3.3_tsl\n",
      "\n",
      "Xc initial shape  (2617L, 16L)\n",
      "[0.40226864 0.21042113 0.15831996 0.11006594 0.08653406 0.02286372\n",
      " 0.00525678 0.00404003]\n",
      "Xc PCA shape  (2617L, 8L)\n",
      "Xc labeled shape  (2617L, 9L)\n",
      "\n",
      "pi16.1.1_tsl\n",
      "\n",
      "Xc initial shape  (2617L, 16L)\n",
      "[0.37396134 0.19853897 0.17506211 0.12966098 0.09309915 0.02050191\n",
      " 0.00506496 0.00390167]\n",
      "Xc PCA shape  (2617L, 8L)\n",
      "Xc labeled shape  (2617L, 9L)\n",
      "\n",
      "pi16.1.2_tsl\n",
      "\n",
      "Xc initial shape  (2617L, 16L)\n",
      "[0.77980053 0.07960871 0.04892404 0.04606615 0.03411606 0.00769746\n",
      " 0.00200303 0.001714  ]\n",
      "Xc PCA shape  (2617L, 8L)\n",
      "Xc labeled shape  (2617L, 9L)\n",
      "\n",
      "pi16.1.3_tsl\n",
      "\n",
      "Xc initial shape  (2617L, 16L)\n",
      "[0.32243364 0.22184236 0.1684209  0.14278326 0.10535432 0.03113955\n",
      " 0.00528855 0.00250019]\n",
      "Xc PCA shape  (2617L, 8L)\n",
      "Xc labeled shape  (2617L, 9L)\n",
      "\n",
      "pi16.2.1_tsl\n",
      "\n",
      "Xc initial shape  (2617L, 16L)\n",
      "[0.4323406  0.26960587 0.11825458 0.10185772 0.05691366 0.01478193\n",
      " 0.00397787 0.00215606]\n",
      "Xc PCA shape  (2617L, 8L)\n",
      "Xc labeled shape  (2617L, 9L)\n",
      "\n",
      "pi16.2.2_tsl\n",
      "\n",
      "Xc initial shape  (2617L, 16L)\n",
      "[0.56093438 0.16794579 0.10575863 0.07456011 0.06368077 0.02081743\n",
      " 0.00389579 0.00224583]\n",
      "Xc PCA shape  (2617L, 8L)\n",
      "Xc labeled shape  (2617L, 9L)\n",
      "\n",
      "pi16.2.3_tsl\n",
      "\n",
      "Xc initial shape  (3284L, 16L)\n",
      "[0.31823048 0.25641767 0.21190123 0.13561765 0.03859719 0.0341275\n",
      " 0.00394715 0.00099425]\n",
      "Xc PCA shape  (3284L, 8L)\n",
      "Xc labeled shape  (3284L, 9L)\n",
      "\n",
      "pi17.1.1_tsl\n",
      "\n",
      "Xc initial shape  (3284L, 16L)\n",
      "[0.39973572 0.20354003 0.1689678  0.12483905 0.05377625 0.04197764\n",
      " 0.00575997 0.00122857]\n",
      "Xc PCA shape  (3284L, 8L)\n",
      "Xc labeled shape  (3284L, 9L)\n",
      "\n",
      "pi17.1.2_tsl\n",
      "\n",
      "Xc initial shape  (3284L, 16L)\n",
      "[0.50990183 0.16057015 0.12208597 0.11946819 0.04581213 0.03704791\n",
      " 0.00410092 0.00087332]\n",
      "Xc PCA shape  (3284L, 8L)\n",
      "Xc labeled shape  (3284L, 9L)\n",
      "\n",
      "pi17.1.3_tsl\n",
      "\n",
      "Xc initial shape  (3284L, 16L)\n",
      "[0.32983034 0.24815908 0.19965401 0.15139207 0.03464206 0.02870148\n",
      " 0.00624433 0.00121961]\n",
      "Xc PCA shape  (3284L, 8L)\n",
      "Xc labeled shape  (3284L, 9L)\n",
      "\n",
      "pi17.2.1_tsl\n",
      "\n",
      "Xc initial shape  (3284L, 16L)\n",
      "[0.38372374 0.20682542 0.17746615 0.15592715 0.05496797 0.01584484\n",
      " 0.00460456 0.00054323]\n",
      "Xc PCA shape  (3284L, 8L)\n",
      "Xc labeled shape  (3284L, 9L)\n",
      "\n",
      "pi17.2.2_tsl\n",
      "\n",
      "Xc initial shape  (3284L, 16L)\n",
      "[0.34204947 0.21530675 0.2061426  0.16586497 0.03431704 0.02879923\n",
      " 0.00644125 0.0009117 ]\n",
      "Xc PCA shape  (3284L, 8L)\n",
      "Xc labeled shape  (3284L, 9L)\n",
      "\n",
      "pi17.2.3_tsl\n",
      "\n",
      "Xc initial shape  (2617L, 16L)\n",
      "[9.34584701e-01 3.46542143e-02 1.83898195e-02 7.45797431e-03\n",
      " 3.31877954e-03 8.88527852e-04 4.80456087e-04 2.03998384e-04]\n",
      "Xc PCA shape  (2617L, 8L)\n",
      "Xc labeled shape  (2617L, 9L)\n",
      "\n",
      "pr03.1.1_tsl\n",
      "\n",
      "Xc initial shape  (2617L, 16L)\n",
      "[9.46820421e-01 2.20470076e-02 1.98037383e-02 8.21563336e-03\n",
      " 1.68091589e-03 7.99380218e-04 4.17002725e-04 1.93302156e-04]\n",
      "Xc PCA shape  (2617L, 8L)\n",
      "Xc labeled shape  (2617L, 9L)\n",
      "\n",
      "pr03.1.2_tsl\n",
      "\n",
      "Xc initial shape  (2617L, 16L)\n",
      "[9.16510473e-01 4.55461711e-02 2.14038816e-02 1.15985193e-02\n",
      " 3.09549251e-03 9.40892285e-04 5.92999207e-04 2.87752518e-04]\n",
      "Xc PCA shape  (2617L, 8L)\n",
      "Xc labeled shape  (2617L, 9L)\n",
      "\n",
      "pr03.1.3_tsl\n",
      "\n",
      "Xc initial shape  (3284L, 16L)\n",
      "[0.77784335 0.10906449 0.05497153 0.02420084 0.02272768 0.00658655\n",
      " 0.00281018 0.00173725]\n",
      "Xc PCA shape  (3284L, 8L)\n",
      "Xc labeled shape  (3284L, 9L)\n",
      "\n",
      "pr03.2.1_tsl\n",
      "\n",
      "Xc initial shape  (3284L, 16L)\n",
      "[0.78687605 0.13249822 0.04852714 0.01763166 0.00797973 0.00335433\n",
      " 0.00175233 0.0013347 ]\n",
      "Xc PCA shape  (3284L, 8L)\n",
      "Xc labeled shape  (3284L, 9L)\n",
      "\n",
      "pr03.2.2_tsl\n",
      "\n",
      "Xc initial shape  (3284L, 16L)\n",
      "[8.79483090e-01 9.36639112e-02 1.41169604e-02 6.22566826e-03\n",
      " 4.21044694e-03 1.22195156e-03 5.42107406e-04 5.21675147e-04]\n",
      "Xc PCA shape  (3284L, 8L)\n",
      "Xc labeled shape  (3284L, 9L)\n",
      "\n",
      "pr03.2.3_tsl\n",
      "\n",
      "Xc initial shape  (3284L, 16L)\n",
      "[0.68041905 0.17603348 0.09156118 0.01982967 0.01604018 0.00711028\n",
      " 0.00675032 0.00222038]\n"
     ]
    },
    {
     "name": "stdout",
     "output_type": "stream",
     "text": [
      "Xc PCA shape  (3284L, 8L)\n",
      "Xc labeled shape  (3284L, 9L)\n",
      "\n",
      "pr06.1.1_tsl\n",
      "\n",
      "Xc initial shape  (3284L, 16L)\n",
      "[0.84947535 0.0636462  0.05597447 0.01323615 0.00700257 0.00618765\n",
      " 0.00257498 0.00188706]\n",
      "Xc PCA shape  (3284L, 8L)\n",
      "Xc labeled shape  (3284L, 9L)\n",
      "\n",
      "pr06.1.2_tsl\n",
      "\n",
      "Xc initial shape  (3284L, 16L)\n",
      "[0.8142253  0.11293106 0.04144711 0.01022096 0.00773919 0.00709233\n",
      " 0.00384469 0.00247169]\n",
      "Xc PCA shape  (3284L, 8L)\n",
      "Xc labeled shape  (3284L, 9L)\n",
      "\n",
      "pr06.1.3_tsl\n",
      "\n",
      "Xc initial shape  (3284L, 16L)\n",
      "[0.52356215 0.34462335 0.05120205 0.02978489 0.01941722 0.01330159\n",
      " 0.01062001 0.00741015]\n",
      "Xc PCA shape  (3284L, 8L)\n",
      "Xc labeled shape  (3284L, 9L)\n",
      "\n",
      "pr06.2.1_tsl\n",
      "\n",
      "Xc initial shape  (3284L, 16L)\n",
      "[0.81302918 0.13223814 0.0241259  0.01089009 0.00798945 0.00512136\n",
      " 0.0035101  0.00307119]\n",
      "Xc PCA shape  (3284L, 8L)\n",
      "Xc labeled shape  (3284L, 9L)\n",
      "\n",
      "pr06.2.2_tsl\n",
      "\n",
      "Xc initial shape  (3284L, 16L)\n",
      "[0.52307436 0.35794213 0.03761049 0.03120154 0.01544234 0.01421056\n",
      " 0.01217354 0.00825977]\n",
      "Xc PCA shape  (3284L, 8L)\n",
      "Xc labeled shape  (3284L, 9L)\n",
      "\n",
      "pr06.2.3_tsl\n",
      "\n",
      "Xc initial shape  (3284L, 16L)\n",
      "[0.6133578  0.17136321 0.11696256 0.0844594  0.00579827 0.00479649\n",
      " 0.00180596 0.00133174]\n",
      "Xc PCA shape  (3284L, 8L)\n",
      "Xc labeled shape  (3284L, 9L)\n",
      "\n",
      "pr07.1.1_tsl\n",
      "\n",
      "Xc initial shape  (3284L, 16L)\n",
      "[0.56747781 0.1934371  0.14159278 0.07932904 0.00917007 0.0042135\n",
      " 0.00299096 0.00163262]\n",
      "Xc PCA shape  (3284L, 8L)\n",
      "Xc labeled shape  (3284L, 9L)\n",
      "\n",
      "pr07.1.2_tsl\n",
      "\n",
      "Xc initial shape  (3284L, 16L)\n",
      "[0.43249692 0.26672817 0.17777059 0.0996331  0.01265334 0.00456626\n",
      " 0.00358207 0.00246342]\n",
      "Xc PCA shape  (3284L, 8L)\n",
      "Xc labeled shape  (3284L, 9L)\n",
      "\n",
      "pr07.1.3_tsl\n",
      "\n",
      "Xc initial shape  (3284L, 16L)\n",
      "[4.09688647e-01 2.67316386e-01 2.29610972e-01 5.83638966e-02\n",
      " 2.52136447e-02 5.31926319e-03 4.10939117e-03 3.34127116e-04]\n",
      "Xc PCA shape  (3284L, 8L)\n",
      "Xc labeled shape  (3284L, 9L)\n",
      "\n",
      "pr09.1.1_tsl\n",
      "\n",
      "Xc initial shape  (3284L, 16L)\n",
      "[0.43322188 0.26356077 0.20204545 0.0714386  0.01484896 0.00823227\n",
      " 0.00600867 0.00058037]\n",
      "Xc PCA shape  (3284L, 8L)\n",
      "Xc labeled shape  (3284L, 9L)\n",
      "\n",
      "pr09.1.2_tsl\n",
      "\n",
      "Xc initial shape  (3284L, 16L)\n",
      "[5.19373858e-01 2.01538389e-01 1.82872015e-01 6.26338989e-02\n",
      " 1.82396669e-02 9.78338552e-03 4.98865804e-03 4.93479600e-04]\n",
      "Xc PCA shape  (3284L, 8L)\n",
      "Xc labeled shape  (3284L, 9L)\n",
      "\n",
      "pr09.1.3_tsl\n",
      "\n",
      "Xc initial shape  (3284L, 16L)\n",
      "[4.42990295e-01 2.57907704e-01 2.08614961e-01 6.61846157e-02\n",
      " 9.41995666e-03 7.86955283e-03 6.52391849e-03 4.28575902e-04]\n",
      "Xc PCA shape  (3284L, 8L)\n",
      "Xc labeled shape  (3284L, 9L)\n",
      "\n",
      "pr09.2.1_tsl\n",
      "\n",
      "Xc initial shape  (3284L, 16L)\n",
      "[0.46524677 0.29870739 0.12907004 0.07924805 0.00967577 0.00905191\n",
      " 0.00825    0.00065955]\n",
      "Xc PCA shape  (3284L, 8L)\n",
      "Xc labeled shape  (3284L, 9L)\n",
      "\n",
      "pr09.2.2_tsl\n",
      "\n",
      "Xc initial shape  (3284L, 16L)\n",
      "[0.41338458 0.35441565 0.11721098 0.07985131 0.0194924  0.00770099\n",
      " 0.00692039 0.00093849]\n",
      "Xc PCA shape  (3284L, 8L)\n",
      "Xc labeled shape  (3284L, 9L)\n",
      "\n",
      "pr09.2.3_tsl\n",
      "Tempo total para o envelopamento: 0.04 min\n"
     ]
    }
   ],
   "source": [
    "#Grupo total\n",
    "start = timeit.default_timer()\n",
    "\n",
    "NUM_SAMPLES = 500\n",
    "\n",
    "#l=[2,2,2, 3,3,3, 4,4,4, 1,1,1, 2,2,2,2,2,2, 3,3,3, 4,4,4,4,4,4, 1,1,1,1,1,1]\n",
    "#l=[2,2,2, 2,2,2, 3,3,3, 3,3,3, 4,4,4, 4,4,4, 1,1,1, 1,1,1, 2,2,2, 2,2,2, 3,3,3, 4,4,4, 4,4,4, 1,1,1, 1,1,1]\n",
    "#l=[2,2,2,2,2,2, 3,3,3,3,3,3, 4,4,4,4,4,4, 2,2,2,2,2,2, 1,1,1,1,1,1, 1,1,1,1,1,1, 2,2,2,2,2,2, 3,3,3, 4,4,4,4,4,4, 2,2,2,2,2,2, 1,1,1,1,1,1, 1,1,1,1,1,1]\n",
    "l=[2,2,2,2,2,2, 3,3,3,3,3,3, 4,4,4,4,4,4, 1,1,1,1,1,1, 1,1,1,1,1,1, 2,2,2,2,2,2, 3,3,3, 4,4,4,4,4,4, 1,1,1,1,1,1, 1,1,1,1,1,1]\n",
    "#l=[2,2,2,2,2,2, 2,2,2,2,2,2, 3,3,3,3,3,3, 4,4,4,4,4,4, 1,1,1,1,1,1, 1,1,1,1,1,1, 2,2,2,2,2,2, 2,2,2,2,2,2, 3,3,3, 4,4,4,4,4,4, 1,1,1,1,1,1, 1,1,1,1,1,1]\n",
    "\n",
    "DATA = []\n",
    "\n",
    "for x, y in zip(DATA_hs, l):\n",
    "    proccess_data(x,DATA,NUM_SAMPLES,y)\n",
    "    \n",
    "stop = timeit.default_timer()\n",
    "ti = stop - start \n",
    "print ('Tempo total para o envelopamento: %.2f min' % (ti/60))"
   ]
  },
  {
   "cell_type": "code",
   "execution_count": 330,
   "metadata": {},
   "outputs": [
    {
     "data": {
      "text/plain": [
       "[0.9995902290975097,\n",
       " 0.9996005225428538,\n",
       " 0.9996246434243075,\n",
       " 0.9996872006082536,\n",
       " 0.9997627580062369,\n",
       " 0.9997702560760484,\n",
       " 0.9997910851833349,\n",
       " 0.9998250298749415,\n",
       " 0.9998322949178869,\n",
       " 0.9998330148999048]"
      ]
     },
     "execution_count": 330,
     "metadata": {},
     "output_type": "execute_result"
    }
   ],
   "source": [
    "#print min(entropy)\n",
    "import heapq\n",
    "\n",
    "elements = heapq.nsmallest(10, entropy)\n",
    "elements"
   ]
  },
  {
   "cell_type": "code",
   "execution_count": 331,
   "metadata": {},
   "outputs": [
    {
     "data": {
      "text/plain": [
       "['pi03.1.2_tsl.npy',\n",
       " 'pi03.1.3_tsl.npy',\n",
       " 'pi03.2.1_tsl.npy',\n",
       " 'pi03.2.2_tsl.npy',\n",
       " 'pi03.2.3_tsl.npy',\n",
       " 'pi06.1.1_tsl.npy',\n",
       " 'pi06.1.2_tsl.npy',\n",
       " 'pi06.1.3_tsl.npy',\n",
       " 'pi06.3.1_tsl.npy',\n",
       " 'pi06.3.2_tsl.npy',\n",
       " 'pi06.3.3_tsl.npy',\n",
       " 'pi07.1.1_tsl.npy',\n",
       " 'pi07.1.2_tsl.npy',\n",
       " 'pi07.1.3_tsl.npy',\n",
       " 'pi07.2.1_tsl.npy',\n",
       " 'pi07.2.2_tsl.npy',\n",
       " 'pi07.2.3_tsl.npy',\n",
       " 'pi09.1.1_tsl.npy',\n",
       " 'pi09.1.2_tsl.npy',\n",
       " 'pi09.1.3_tsl.npy',\n",
       " 'pi09.3.1_tsl.npy',\n",
       " 'pi09.3.2_tsl.npy',\n",
       " 'pi09.3.3_tsl.npy',\n",
       " 'pi16.1.1_tsl.npy',\n",
       " 'pi16.1.2_tsl.npy',\n",
       " 'pi16.1.3_tsl.npy',\n",
       " 'pi16.2.1_tsl.npy',\n",
       " 'pi16.2.2_tsl.npy',\n",
       " 'pi16.2.3_tsl.npy',\n",
       " 'pi17.1.1_tsl.npy',\n",
       " 'pi17.1.2_tsl.npy',\n",
       " 'pi17.1.3_tsl.npy',\n",
       " 'pi17.2.1_tsl.npy',\n",
       " 'pi17.2.2_tsl.npy',\n",
       " 'pi17.2.3_tsl.npy',\n",
       " 'pr03.1.1_tsl.npy',\n",
       " 'pr03.1.2_tsl.npy',\n",
       " 'pr03.1.3_tsl.npy',\n",
       " 'pr03.2.1_tsl.npy',\n",
       " 'pr03.2.2_tsl.npy',\n",
       " 'pr03.2.3_tsl.npy',\n",
       " 'pr06.1.1_tsl.npy',\n",
       " 'pr06.1.2_tsl.npy',\n",
       " 'pr06.1.3_tsl.npy',\n",
       " 'pr06.2.1_tsl.npy',\n",
       " 'pr06.2.2_tsl.npy',\n",
       " 'pr06.2.3_tsl.npy',\n",
       " 'pr07.1.1_tsl.npy',\n",
       " 'pr07.1.2_tsl.npy',\n",
       " 'pr07.1.3_tsl.npy',\n",
       " 'pr09.1.1_tsl.npy',\n",
       " 'pr09.1.2_tsl.npy',\n",
       " 'pr09.1.3_tsl.npy',\n",
       " 'pr09.2.1_tsl.npy']"
      ]
     },
     "execution_count": 331,
     "metadata": {},
     "output_type": "execute_result"
    }
   ],
   "source": [
    "DATA[1:-2]"
   ]
  },
  {
   "cell_type": "markdown",
   "metadata": {},
   "source": [
    "---"
   ]
  },
  {
   "cell_type": "code",
   "execution_count": 332,
   "metadata": {},
   "outputs": [
    {
     "data": {
      "text/plain": [
       "['piv03.3.1_hs.npy',\n",
       " 'piv03.3.2_hs.npy',\n",
       " 'piv03.3.3_hs.npy',\n",
       " 'piv06.2.1_hs.npy',\n",
       " 'piv06.2.2_hs.npy',\n",
       " 'piv06.2.3_hs.npy',\n",
       " 'piv07.3.1_hs.npy',\n",
       " 'piv07.3.2_hs.npy',\n",
       " 'piv07.3.3_hs.npy',\n",
       " 'piv09.2.1_hs.npy',\n",
       " 'piv09.2.2_hs.npy',\n",
       " 'piv09.2.3_hs.npy',\n",
       " 'piv16.3.1_hs.npy',\n",
       " 'piv16.3.2_hs.npy',\n",
       " 'piv16.3.3_hs.npy',\n",
       " 'piv17.3.1_hs.npy',\n",
       " 'piv17.3.2_hs.npy',\n",
       " 'piv17.3.3_hs.npy',\n",
       " 'prv03.3.1_hs.npy',\n",
       " 'prv03.3.2_hs.npy',\n",
       " 'prv03.3.3_hs.npy',\n",
       " 'prv06.3.1_hs.npy',\n",
       " 'prv06.3.2_hs.npy',\n",
       " 'prv06.3.3_hs.npy',\n",
       " 'prv07.2.1_hs.npy',\n",
       " 'prv07.2.2_hs.npy',\n",
       " 'prv07.2.3_hs.npy',\n",
       " 'prv09.3.1_hs.npy',\n",
       " 'prv09.3.2_hs.npy',\n",
       " 'prv09.3.3_hs.npy',\n",
       " 'prv16.3.1_hs.npy',\n",
       " 'prv16.3.2_hs.npy',\n",
       " 'prv16.3.3_hs.npy',\n",
       " 'prv17.3.1_hs.npy',\n",
       " 'prv17.3.2_hs.npy',\n",
       " 'prv17.3.3_hs.npy']"
      ]
     },
     "execution_count": 332,
     "metadata": {},
     "output_type": "execute_result"
    }
   ],
   "source": [
    "DATAv_hs"
   ]
  },
  {
   "cell_type": "code",
   "execution_count": 333,
   "metadata": {},
   "outputs": [
    {
     "data": {
      "text/plain": [
       "36"
      ]
     },
     "execution_count": 333,
     "metadata": {},
     "output_type": "execute_result"
    }
   ],
   "source": [
    "len(DATAv_hs)"
   ]
  },
  {
   "cell_type": "code",
   "execution_count": 334,
   "metadata": {},
   "outputs": [
    {
     "data": {
      "text/plain": [
       "57"
      ]
     },
     "execution_count": 334,
     "metadata": {},
     "output_type": "execute_result"
    }
   ],
   "source": [
    "len(l)"
   ]
  },
  {
   "cell_type": "code",
   "execution_count": 335,
   "metadata": {},
   "outputs": [
    {
     "name": "stdout",
     "output_type": "stream",
     "text": [
      "piv03.3.1 2\n",
      "piv03.3.2 2\n",
      "piv03.3.3 2\n",
      "piv06.2.1 3\n",
      "piv06.2.2 3\n",
      "piv06.2.3 3\n",
      "piv07.3.1 4\n",
      "piv07.3.2 4\n",
      "piv07.3.3 4\n",
      "piv09.2.1 1\n",
      "piv09.2.2 1\n",
      "piv09.2.3 1\n",
      "piv16.3.1 1\n",
      "piv16.3.2 1\n",
      "piv16.3.3 1\n",
      "piv17.3.1 2\n",
      "piv17.3.2 2\n",
      "piv17.3.3 2\n",
      "prv03.3.1 3\n",
      "prv03.3.2 3\n",
      "prv03.3.3 3\n",
      "prv06.3.1 4\n",
      "prv06.3.2 4\n",
      "prv06.3.3 4\n",
      "prv07.2.1 1\n",
      "prv07.2.2 1\n",
      "prv07.2.3 1\n",
      "prv09.3.1 1\n",
      "prv09.3.2 1\n",
      "prv09.3.3 1\n"
     ]
    }
   ],
   "source": [
    "#6=2; 7=3; 9=4; 17=1\n",
    "#l=[2,2,2, 3,3,3, 4,4,4, 2,2,2, 1,1,1, 1,1,1, 2,2,2, 3,3,3, 4,4,4, 2,2,2, 1,1,1, 1,1,1]\n",
    "l=[2,2,2, 3,3,3, 4,4,4, 1,1,1, 1,1,1, 2,2,2, 3,3,3, 4,4,4, 1,1,1, 1,1,1]\n",
    "#l=[2,2,2, 2,2,2, 3,3,3, 4,4,4, 1,1,1, 1,1,1, 2,2,2, 2,2,2, 3,3,3, 4,4,4, 1,1,1, 1,1,1]\n",
    "\n",
    "for x, y in zip(DATAv_hs, l):\n",
    "    print x[:9],y"
   ]
  },
  {
   "cell_type": "code",
   "execution_count": 336,
   "metadata": {
    "scrolled": true
   },
   "outputs": [
    {
     "name": "stdout",
     "output_type": "stream",
     "text": [
      "\n",
      "Xc initial shape  (2617L, 16L)\n",
      "[0.78558194 0.07845209 0.04922876 0.03450836 0.02552611 0.0167179\n",
      " 0.00869551 0.00121047]\n",
      "Xc PCA shape  (2617L, 8L)\n",
      "Xc labeled shape  (2617L, 9L)\n",
      "\n",
      "piv03.3.1_tsl\n",
      "\n",
      "Xc initial shape  (2617L, 16L)\n",
      "[0.26644137 0.23782622 0.19782561 0.12044037 0.09153767 0.07113588\n",
      " 0.00880998 0.0056653 ]\n",
      "Xc PCA shape  (2617L, 8L)\n",
      "Xc labeled shape  (2617L, 9L)\n",
      "\n",
      "piv03.3.2_tsl\n",
      "\n",
      "Xc initial shape  (2617L, 16L)\n",
      "[7.37214211e-01 1.82198736e-01 3.62878610e-02 1.99955181e-02\n",
      " 1.54430660e-02 7.26022548e-03 9.02609038e-04 6.56810019e-04]\n",
      "Xc PCA shape  (2617L, 8L)\n",
      "Xc labeled shape  (2617L, 9L)\n",
      "\n",
      "piv03.3.3_tsl\n",
      "\n",
      "Xc initial shape  (3284L, 16L)\n",
      "[8.35786904e-01 6.27174848e-02 4.72157164e-02 4.22243098e-02\n",
      " 5.89274383e-03 4.04723871e-03 1.58706191e-03 4.78048721e-04]\n",
      "Xc PCA shape  (3284L, 8L)\n",
      "Xc labeled shape  (3284L, 9L)\n",
      "\n",
      "piv06.2.1_tsl\n",
      "\n",
      "Xc initial shape  (3284L, 16L)\n",
      "[7.85562590e-01 8.67559946e-02 6.72729947e-02 4.21188333e-02\n",
      " 1.09865832e-02 4.77584132e-03 1.69601189e-03 7.62584513e-04]\n",
      "Xc PCA shape  (3284L, 8L)\n",
      "Xc labeled shape  (3284L, 9L)\n",
      "\n",
      "piv06.2.2_tsl\n",
      "\n",
      "Xc initial shape  (3284L, 16L)\n",
      "[0.78518418 0.07509258 0.06527255 0.05182913 0.01160164 0.007687\n",
      " 0.00227693 0.00099714]\n",
      "Xc PCA shape  (3284L, 8L)\n",
      "Xc labeled shape  (3284L, 9L)\n",
      "\n",
      "piv06.2.3_tsl\n",
      "\n",
      "Xc initial shape  (3284L, 16L)\n",
      "[0.47080484 0.3189332  0.08780199 0.06353642 0.03970526 0.00821876\n",
      " 0.00635046 0.00457582]\n",
      "Xc PCA shape  (3284L, 8L)\n",
      "Xc labeled shape  (3284L, 9L)\n",
      "\n",
      "piv07.3.1_tsl\n",
      "\n",
      "Xc initial shape  (3284L, 16L)\n",
      "[0.54757464 0.2425499  0.08649427 0.05143517 0.04523836 0.01469039\n",
      " 0.00798955 0.00394415]\n",
      "Xc PCA shape  (3284L, 8L)\n",
      "Xc labeled shape  (3284L, 9L)\n",
      "\n",
      "piv07.3.2_tsl\n",
      "\n",
      "Xc initial shape  (3284L, 16L)\n",
      "[0.6003412  0.22543559 0.06739009 0.05770126 0.02854441 0.00916332\n",
      " 0.00774973 0.00360257]\n",
      "Xc PCA shape  (3284L, 8L)\n",
      "Xc labeled shape  (3284L, 9L)\n",
      "\n",
      "piv07.3.3_tsl\n",
      "\n",
      "Xc initial shape  (3284L, 16L)\n",
      "[0.32858018 0.27366313 0.25408728 0.0679794  0.05824523 0.01024814\n",
      " 0.00434062 0.00277878]\n",
      "Xc PCA shape  (3284L, 8L)\n",
      "Xc labeled shape  (3284L, 9L)\n",
      "\n",
      "piv09.2.1_tsl\n",
      "\n",
      "Xc initial shape  (3284L, 16L)\n",
      "[0.43615603 0.22147522 0.14606515 0.10583523 0.07030478 0.01222245\n",
      " 0.00505239 0.002797  ]\n",
      "Xc PCA shape  (3284L, 8L)\n",
      "Xc labeled shape  (3284L, 9L)\n",
      "\n",
      "piv09.2.2_tsl\n",
      "\n",
      "Xc initial shape  (3284L, 16L)\n",
      "[0.36149798 0.30941823 0.14830547 0.10398461 0.05589491 0.01247883\n",
      " 0.00468893 0.00362986]\n",
      "Xc PCA shape  (3284L, 8L)\n",
      "Xc labeled shape  (3284L, 9L)\n",
      "\n",
      "piv09.2.3_tsl\n",
      "\n",
      "Xc initial shape  (2617L, 16L)\n",
      "[0.29648915 0.22191742 0.19047145 0.15630129 0.09665616 0.02917202\n",
      " 0.0064316  0.0023309 ]\n",
      "Xc PCA shape  (2617L, 8L)\n",
      "Xc labeled shape  (2617L, 9L)\n",
      "\n",
      "piv16.3.1_tsl\n",
      "\n",
      "Xc initial shape  (2617L, 16L)\n",
      "[0.2945656  0.2451091  0.16333047 0.15394627 0.10350776 0.03100544\n",
      " 0.00561017 0.00269075]\n",
      "Xc PCA shape  (2617L, 8L)\n",
      "Xc labeled shape  (2617L, 9L)\n",
      "\n",
      "piv16.3.2_tsl\n",
      "\n",
      "Xc initial shape  (2617L, 16L)\n",
      "[0.67700549 0.16859944 0.06392972 0.04874558 0.02991885 0.00910756\n",
      " 0.00176084 0.00085872]\n",
      "Xc PCA shape  (2617L, 8L)\n",
      "Xc labeled shape  (2617L, 9L)\n",
      "\n",
      "piv16.3.3_tsl\n",
      "\n",
      "Xc initial shape  (3284L, 16L)\n",
      "[0.46069637 0.19549131 0.15103193 0.11188668 0.037571   0.03391081\n",
      " 0.00788419 0.00137126]\n",
      "Xc PCA shape  (3284L, 8L)\n",
      "Xc labeled shape  (3284L, 9L)\n",
      "\n",
      "piv17.3.1_tsl\n",
      "\n",
      "Xc initial shape  (3284L, 16L)\n",
      "[0.51393692 0.18152479 0.13619163 0.10250162 0.0520399  0.00911494\n",
      " 0.0040981  0.00051489]\n",
      "Xc PCA shape  (3284L, 8L)\n",
      "Xc labeled shape  (3284L, 9L)\n",
      "\n",
      "piv17.3.2_tsl\n",
      "\n",
      "Xc initial shape  (3284L, 16L)\n",
      "[0.36570388 0.21358223 0.18597438 0.1555488  0.04521786 0.02619793\n",
      " 0.0063187  0.00126083]\n",
      "Xc PCA shape  (3284L, 8L)\n",
      "Xc labeled shape  (3284L, 9L)\n",
      "\n",
      "piv17.3.3_tsl\n",
      "\n",
      "Xc initial shape  (3284L, 16L)\n",
      "[8.76746632e-01 6.40098731e-02 3.41836535e-02 1.09654954e-02\n",
      " 8.90170484e-03 3.07574616e-03 1.29619701e-03 7.83105287e-04]\n",
      "Xc PCA shape  (3284L, 8L)\n",
      "Xc labeled shape  (3284L, 9L)\n",
      "\n",
      "prv03.3.1_tsl\n",
      "\n",
      "Xc initial shape  (3284L, 16L)\n",
      "[9.17213145e-01 3.45048301e-02 2.83360937e-02 1.03183554e-02\n",
      " 5.71474758e-03 2.37744072e-03 1.10265338e-03 4.04852460e-04]\n",
      "Xc PCA shape  (3284L, 8L)\n",
      "Xc labeled shape  (3284L, 9L)\n",
      "\n",
      "prv03.3.2_tsl\n",
      "\n",
      "Xc initial shape  (3284L, 16L)\n",
      "[9.12004212e-01 4.43630895e-02 2.53047794e-02 9.55387237e-03\n",
      " 4.96738751e-03 2.33253462e-03 1.11373347e-03 3.34853013e-04]\n",
      "Xc PCA shape  (3284L, 8L)\n",
      "Xc labeled shape  (3284L, 9L)\n",
      "\n",
      "prv03.3.3_tsl\n",
      "\n",
      "Xc initial shape  (3284L, 16L)\n",
      "[0.81272474 0.11039743 0.0215946  0.02006106 0.01319586 0.01109799\n",
      " 0.00689428 0.00398659]\n",
      "Xc PCA shape  (3284L, 8L)\n",
      "Xc labeled shape  (3284L, 9L)\n",
      "\n",
      "prv06.3.1_tsl\n",
      "\n",
      "Xc initial shape  (3284L, 16L)\n",
      "[0.69349313 0.22530287 0.0321844  0.01819801 0.01153176 0.00724898\n",
      " 0.00668333 0.00531706]\n",
      "Xc PCA shape  (3284L, 8L)\n",
      "Xc labeled shape  (3284L, 9L)\n",
      "\n",
      "prv06.3.2_tsl\n",
      "\n",
      "Xc initial shape  (3284L, 16L)\n",
      "[0.76949199 0.16428585 0.02664159 0.01427529 0.01038859 0.0056597\n",
      " 0.00494662 0.00427932]\n",
      "Xc PCA shape  (3284L, 8L)\n",
      "Xc labeled shape  (3284L, 9L)\n",
      "\n",
      "prv06.3.3_tsl\n",
      "\n",
      "Xc initial shape  (3284L, 16L)\n",
      "[0.41718078 0.31545509 0.12730274 0.11519303 0.01023458 0.00663515\n",
      " 0.00427944 0.00358246]\n",
      "Xc PCA shape  (3284L, 8L)\n",
      "Xc labeled shape  (3284L, 9L)\n",
      "\n",
      "prv07.2.1_tsl\n",
      "\n",
      "Xc initial shape  (3284L, 16L)\n",
      "[0.48213295 0.27214607 0.11545679 0.10588343 0.01082348 0.00689999\n",
      " 0.0041321  0.00240516]\n",
      "Xc PCA shape  (3284L, 8L)\n",
      "Xc labeled shape  (3284L, 9L)\n",
      "\n",
      "prv07.2.2_tsl\n",
      "\n",
      "Xc initial shape  (3284L, 16L)\n",
      "[0.53419085 0.24346201 0.12168908 0.07816621 0.0112528  0.00586732\n",
      " 0.00324629 0.00200551]\n",
      "Xc PCA shape  (3284L, 8L)\n",
      "Xc labeled shape  (3284L, 9L)\n",
      "\n",
      "prv07.2.3_tsl\n",
      "\n",
      "Xc initial shape  (3284L, 16L)\n",
      "[0.50864209 0.20967142 0.15038512 0.09994444 0.01850335 0.00816431\n",
      " 0.00406084 0.00054491]\n",
      "Xc PCA shape  (3284L, 8L)\n",
      "Xc labeled shape  (3284L, 9L)\n",
      "\n",
      "prv09.3.1_tsl\n",
      "\n",
      "Xc initial shape  (3284L, 16L)\n",
      "[5.39498656e-01 2.08512291e-01 1.37411625e-01 9.26116696e-02\n",
      " 1.06510392e-02 7.35660310e-03 3.52565035e-03 3.53842692e-04]\n",
      "Xc PCA shape  (3284L, 8L)\n",
      "Xc labeled shape  (3284L, 9L)\n",
      "\n",
      "prv09.3.2_tsl\n",
      "\n",
      "Xc initial shape  (3284L, 16L)\n",
      "[6.23670525e-01 2.03587753e-01 1.00557999e-01 4.92040745e-02\n",
      " 9.99739749e-03 7.64407495e-03 4.74914172e-03 5.01450648e-04]\n",
      "Xc PCA shape  (3284L, 8L)\n",
      "Xc labeled shape  (3284L, 9L)\n",
      "\n",
      "prv09.3.3_tsl\n",
      "Tempo total para o envelopamento: 0.02 min\n"
     ]
    }
   ],
   "source": [
    "#Grupo total\n",
    "start = timeit.default_timer()\n",
    "\n",
    "NUM_SAMPLES = 500\n",
    "\n",
    "l=[2,2,2, 3,3,3, 4,4,4, 1,1,1, 1,1,1, 2,2,2, 3,3,3, 4,4,4, 1,1,1, 1,1,1]\n",
    "#l=[2,2,2, 3,3,3, 4,4,4, 2,2,2, 1,1,1, 1,1,1, 2,2,2, 3,3,3, 4,4,4, 2,2,2, 1,1,1, 1,1,1]\n",
    "#l=[2,2,2, 2,2,2, 3,3,3, 4,4,4, 1,1,1, 1,1,1, 2,2,2, 2,2,2, 3,3,3, 4,4,4, 1,1,1, 1,1,1]\n",
    "\n",
    "DATAv = []\n",
    "\n",
    "for x, y in zip(DATAv_hs, l):\n",
    "    proccess_data(x,DATAv,NUM_SAMPLES,y)\n",
    "    \n",
    "stop = timeit.default_timer()\n",
    "ti = stop - start \n",
    "print ('Tempo total para o envelopamento: %.2f min' % (ti/60))"
   ]
  },
  {
   "cell_type": "code",
   "execution_count": 337,
   "metadata": {},
   "outputs": [
    {
     "data": {
      "text/plain": [
       "[0.9995902290975097,\n",
       " 0.9996005225428538,\n",
       " 0.9996246434243075,\n",
       " 0.9996823983987675,\n",
       " 0.9996872006082536,\n",
       " 0.9997627580062369,\n",
       " 0.999765561464847,\n",
       " 0.9997699928353119,\n",
       " 0.9997702560760484,\n",
       " 0.9997910851833349]"
      ]
     },
     "execution_count": 337,
     "metadata": {},
     "output_type": "execute_result"
    }
   ],
   "source": [
    "#print min(entropy)\n",
    "import heapq\n",
    "\n",
    "elements = heapq.nsmallest(10, entropy)\n",
    "elements"
   ]
  },
  {
   "cell_type": "code",
   "execution_count": 338,
   "metadata": {
    "scrolled": false
   },
   "outputs": [
    {
     "data": {
      "text/plain": [
       "['pi03.1.1_tsl.npy',\n",
       " 'pi03.1.2_tsl.npy',\n",
       " 'pi03.1.3_tsl.npy',\n",
       " 'pi03.2.1_tsl.npy',\n",
       " 'pi03.2.2_tsl.npy',\n",
       " 'pi03.2.3_tsl.npy',\n",
       " 'pi06.1.1_tsl.npy',\n",
       " 'pi06.1.2_tsl.npy',\n",
       " 'pi06.1.3_tsl.npy',\n",
       " 'pi06.3.1_tsl.npy',\n",
       " 'pi06.3.2_tsl.npy',\n",
       " 'pi06.3.3_tsl.npy',\n",
       " 'pi07.1.1_tsl.npy',\n",
       " 'pi07.1.2_tsl.npy',\n",
       " 'pi07.1.3_tsl.npy',\n",
       " 'pi07.2.1_tsl.npy',\n",
       " 'pi07.2.2_tsl.npy',\n",
       " 'pi07.2.3_tsl.npy',\n",
       " 'pi09.1.1_tsl.npy',\n",
       " 'pi09.1.2_tsl.npy',\n",
       " 'pi09.1.3_tsl.npy',\n",
       " 'pi09.3.1_tsl.npy',\n",
       " 'pi09.3.2_tsl.npy',\n",
       " 'pi09.3.3_tsl.npy',\n",
       " 'pi16.1.1_tsl.npy',\n",
       " 'pi16.1.2_tsl.npy',\n",
       " 'pi16.1.3_tsl.npy',\n",
       " 'pi16.2.1_tsl.npy',\n",
       " 'pi16.2.2_tsl.npy',\n",
       " 'pi16.2.3_tsl.npy',\n",
       " 'pi17.1.1_tsl.npy',\n",
       " 'pi17.1.2_tsl.npy',\n",
       " 'pi17.1.3_tsl.npy',\n",
       " 'pi17.2.1_tsl.npy',\n",
       " 'pi17.2.2_tsl.npy',\n",
       " 'pi17.2.3_tsl.npy',\n",
       " 'pr03.1.1_tsl.npy',\n",
       " 'pr03.1.2_tsl.npy',\n",
       " 'pr03.1.3_tsl.npy',\n",
       " 'pr03.2.1_tsl.npy',\n",
       " 'pr03.2.2_tsl.npy',\n",
       " 'pr03.2.3_tsl.npy',\n",
       " 'pr06.1.1_tsl.npy',\n",
       " 'pr06.1.2_tsl.npy',\n",
       " 'pr06.1.3_tsl.npy',\n",
       " 'pr06.2.1_tsl.npy',\n",
       " 'pr06.2.2_tsl.npy',\n",
       " 'pr06.2.3_tsl.npy',\n",
       " 'pr07.1.1_tsl.npy',\n",
       " 'pr07.1.2_tsl.npy',\n",
       " 'pr07.1.3_tsl.npy',\n",
       " 'pr09.1.1_tsl.npy',\n",
       " 'pr09.1.2_tsl.npy',\n",
       " 'pr09.1.3_tsl.npy',\n",
       " 'pr09.2.1_tsl.npy',\n",
       " 'pr09.2.2_tsl.npy',\n",
       " 'pr09.2.3_tsl.npy']"
      ]
     },
     "execution_count": 338,
     "metadata": {},
     "output_type": "execute_result"
    }
   ],
   "source": [
    "DATA"
   ]
  },
  {
   "cell_type": "code",
   "execution_count": 339,
   "metadata": {},
   "outputs": [
    {
     "data": {
      "text/plain": [
       "['piv03.3.1_tsl.npy',\n",
       " 'piv03.3.2_tsl.npy',\n",
       " 'piv03.3.3_tsl.npy',\n",
       " 'piv06.2.1_tsl.npy',\n",
       " 'piv06.2.2_tsl.npy',\n",
       " 'piv06.2.3_tsl.npy',\n",
       " 'piv07.3.1_tsl.npy',\n",
       " 'piv07.3.2_tsl.npy',\n",
       " 'piv07.3.3_tsl.npy',\n",
       " 'piv09.2.1_tsl.npy',\n",
       " 'piv09.2.2_tsl.npy',\n",
       " 'piv09.2.3_tsl.npy',\n",
       " 'piv16.3.1_tsl.npy',\n",
       " 'piv16.3.2_tsl.npy',\n",
       " 'piv16.3.3_tsl.npy',\n",
       " 'piv17.3.1_tsl.npy',\n",
       " 'piv17.3.2_tsl.npy',\n",
       " 'piv17.3.3_tsl.npy',\n",
       " 'prv03.3.1_tsl.npy',\n",
       " 'prv03.3.2_tsl.npy',\n",
       " 'prv03.3.3_tsl.npy',\n",
       " 'prv06.3.1_tsl.npy',\n",
       " 'prv06.3.2_tsl.npy',\n",
       " 'prv06.3.3_tsl.npy',\n",
       " 'prv07.2.1_tsl.npy',\n",
       " 'prv07.2.2_tsl.npy',\n",
       " 'prv07.2.3_tsl.npy',\n",
       " 'prv09.3.1_tsl.npy',\n",
       " 'prv09.3.2_tsl.npy',\n",
       " 'prv09.3.3_tsl.npy']"
      ]
     },
     "execution_count": 339,
     "metadata": {},
     "output_type": "execute_result"
    }
   ],
   "source": [
    "DATAv"
   ]
  },
  {
   "cell_type": "markdown",
   "metadata": {},
   "source": [
    "## Shape data"
   ]
  },
  {
   "cell_type": "code",
   "execution_count": 340,
   "metadata": {
    "scrolled": true
   },
   "outputs": [
    {
     "name": "stdout",
     "output_type": "stream",
     "text": [
      "Vstacking DATA test on X: 1 de 57\n",
      "Vstacking DATA test on X: 2 de 57\n",
      "Vstacking DATA test on X: 3 de 57\n",
      "Vstacking DATA test on X: 4 de 57\n",
      "Vstacking DATA test on X: 5 de 57\n",
      "Vstacking DATA test on X: 6 de 57\n",
      "Vstacking DATA test on X: 7 de 57\n",
      "Vstacking DATA test on X: 8 de 57\n",
      "Vstacking DATA test on X: 9 de 57\n",
      "Vstacking DATA test on X: 10 de 57\n",
      "Vstacking DATA test on X: 11 de 57\n",
      "Vstacking DATA test on X: 12 de 57\n",
      "Vstacking DATA test on X: 13 de 57\n",
      "Vstacking DATA test on X: 14 de 57\n",
      "Vstacking DATA test on X: 15 de 57\n",
      "Vstacking DATA test on X: 16 de 57\n",
      "Vstacking DATA test on X: 17 de 57\n",
      "Vstacking DATA test on X: 18 de 57\n",
      "Vstacking DATA test on X: 19 de 57\n",
      "Vstacking DATA test on X: 20 de 57\n",
      "Vstacking DATA test on X: 21 de 57\n",
      "Vstacking DATA test on X: 22 de 57\n",
      "Vstacking DATA test on X: 23 de 57\n",
      "Vstacking DATA test on X: 24 de 57\n",
      "Vstacking DATA test on X: 25 de 57\n",
      "Vstacking DATA test on X: 26 de 57\n",
      "Vstacking DATA test on X: 27 de 57\n",
      "Vstacking DATA test on X: 28 de 57\n",
      "Vstacking DATA test on X: 29 de 57\n",
      "Vstacking DATA test on X: 30 de 57\n",
      "Vstacking DATA test on X: 31 de 57\n",
      "Vstacking DATA test on X: 32 de 57\n",
      "Vstacking DATA test on X: 33 de 57\n",
      "Vstacking DATA test on X: 34 de 57\n",
      "Vstacking DATA test on X: 35 de 57\n",
      "Vstacking DATA test on X: 36 de 57\n",
      "Vstacking DATA test on X: 37 de 57\n",
      "Vstacking DATA test on X: 38 de 57\n",
      "Vstacking DATA test on X: 39 de 57\n",
      "Vstacking DATA test on X: 40 de 57\n",
      "Vstacking DATA test on X: 41 de 57\n",
      "Vstacking DATA test on X: 42 de 57\n",
      "Vstacking DATA test on X: 43 de 57\n",
      "Vstacking DATA test on X: 44 de 57\n",
      "Vstacking DATA test on X: 45 de 57\n",
      "Vstacking DATA test on X: 46 de 57\n",
      "Vstacking DATA test on X: 47 de 57\n",
      "Vstacking DATA test on X: 48 de 57\n",
      "Vstacking DATA test on X: 49 de 57\n",
      "Vstacking DATA test on X: 50 de 57\n",
      "Vstacking DATA test on X: 51 de 57\n",
      "Vstacking DATA test on X: 52 de 57\n",
      "Vstacking DATA test on X: 53 de 57\n",
      "Vstacking DATA test on X: 54 de 57\n",
      "Vstacking DATA test on X: 55 de 57\n",
      "Vstacking DATA test on X: 56 de 57\n",
      "Creating labels vector ...\n"
     ]
    },
    {
     "data": {
      "text/plain": [
       "((176484L, 8L), (176484L,))"
      ]
     },
     "execution_count": 340,
     "metadata": {},
     "output_type": "execute_result"
    }
   ],
   "source": [
    "cdata=0\n",
    "#Separando set de dados X, e set de labels y - Treino e Teste\n",
    "Xc = np.load(\"preproc/labeled_t/\"+DATA[0])\n",
    "#for i in DATA[1:-2]:\n",
    "\n",
    "for i in DATA[1:]:\n",
    "    Xc = np.vstack((Xc,np.load('preproc/labeled_t/'+i)))\n",
    "    cdata += 1\n",
    "    print (\"Vstacking DATA test on X: %i de %i\" % (cdata, len(DATA)))\n",
    "    \n",
    "X = Xc[:,0:(Xc.shape[1]-1)]\n",
    "\n",
    "print \"Creating labels vector ...\"\n",
    "\n",
    "yz = Xc[:,[(Xc.shape[1]-1)]]\n",
    "y = np.array([])\n",
    "for i in range(len(yz)):\n",
    "    y = np.hstack((y,yz[i]))\n",
    "    \n",
    "X.shape, y.shape"
   ]
  },
  {
   "cell_type": "code",
   "execution_count": 341,
   "metadata": {
    "scrolled": true
   },
   "outputs": [
    {
     "data": {
      "text/plain": [
       "array([1., 2., 3., 4.])"
      ]
     },
     "execution_count": 341,
     "metadata": {},
     "output_type": "execute_result"
    }
   ],
   "source": [
    "np.unique(y)"
   ]
  },
  {
   "cell_type": "code",
   "execution_count": 342,
   "metadata": {},
   "outputs": [],
   "source": [
    "#Dividindo os dados em sets de treino, test e validação\n",
    "from sklearn.model_selection import train_test_split\n",
    "X_train, X_test, y_train, y_test = train_test_split(X, y, test_size=0.3, random_state=1)\n",
    "\n",
    "#X_test, X_validate, y_test, y_validate = train_test_split(X_test_p, y_test_p, test_size=0.5, random_state=1)"
   ]
  },
  {
   "cell_type": "code",
   "execution_count": 343,
   "metadata": {
    "scrolled": true
   },
   "outputs": [
    {
     "name": "stdout",
     "output_type": "stream",
     "text": [
      "Vstacking DATA test on X: 1 de 30\n",
      "Vstacking DATA test on X: 2 de 30\n",
      "Vstacking DATA test on X: 3 de 30\n",
      "Vstacking DATA test on X: 4 de 30\n",
      "Vstacking DATA test on X: 5 de 30\n",
      "Vstacking DATA test on X: 6 de 30\n",
      "Vstacking DATA test on X: 7 de 30\n",
      "Vstacking DATA test on X: 8 de 30\n",
      "Vstacking DATA test on X: 9 de 30\n",
      "Vstacking DATA test on X: 10 de 30\n",
      "Vstacking DATA test on X: 11 de 30\n",
      "Vstacking DATA test on X: 12 de 30\n",
      "Vstacking DATA test on X: 13 de 30\n",
      "Vstacking DATA test on X: 14 de 30\n",
      "Vstacking DATA test on X: 15 de 30\n",
      "Vstacking DATA test on X: 16 de 30\n",
      "Vstacking DATA test on X: 17 de 30\n",
      "Vstacking DATA test on X: 18 de 30\n",
      "Vstacking DATA test on X: 19 de 30\n",
      "Vstacking DATA test on X: 20 de 30\n",
      "Vstacking DATA test on X: 21 de 30\n",
      "Vstacking DATA test on X: 22 de 30\n",
      "Vstacking DATA test on X: 23 de 30\n",
      "Vstacking DATA test on X: 24 de 30\n",
      "Vstacking DATA test on X: 25 de 30\n",
      "Vstacking DATA test on X: 26 de 30\n",
      "Vstacking DATA test on X: 27 de 30\n",
      "Vstacking DATA test on X: 28 de 30\n",
      "Vstacking DATA test on X: 29 de 30\n",
      "Creating labels vector ...\n"
     ]
    },
    {
     "data": {
      "text/plain": [
       "((94518L, 8L), (94518L,))"
      ]
     },
     "execution_count": 343,
     "metadata": {},
     "output_type": "execute_result"
    }
   ],
   "source": [
    "cdata=0\n",
    "#Separando set de dados X, e set de labels y - Validação\n",
    "Xc = np.load(\"preproc/labeled_v/\"+DATAv[0])\n",
    "for i in DATAv[1:]:\n",
    "    Xc = np.vstack((Xc,np.load('preproc/labeled_v/'+i))) \n",
    "    cdata += 1\n",
    "    print (\"Vstacking DATA test on X: %i de %i\" % (cdata, len(DATAv)))\n",
    "    \n",
    "X_validate = Xc[:,0:(Xc.shape[1]-1)]\n",
    "\n",
    "print \"Creating labels vector ...\"\n",
    "\n",
    "yz = Xc[:,[(Xc.shape[1]-1)]]\n",
    "y_validate = np.array([])\n",
    "for i in range(len(yz)):\n",
    "    y_validate = np.hstack((y_validate,yz[i]))\n",
    "    \n",
    "X_validate.shape, y_validate.shape"
   ]
  },
  {
   "cell_type": "code",
   "execution_count": 344,
   "metadata": {},
   "outputs": [
    {
     "data": {
      "text/plain": [
       "array([1., 2., 3., 4.])"
      ]
     },
     "execution_count": 344,
     "metadata": {},
     "output_type": "execute_result"
    }
   ],
   "source": [
    "np.unique(y_validate)"
   ]
  },
  {
   "cell_type": "code",
   "execution_count": 345,
   "metadata": {},
   "outputs": [
    {
     "name": "stdout",
     "output_type": "stream",
     "text": [
      "(123538L, 8L) (52946L, 8L) (94518L, 8L) (123538L,) (52946L,) (94518L,)\n"
     ]
    }
   ],
   "source": [
    "#Aplica normalizador P.S.: Verificar necessidade pois os dados já foram normalizados anteriormente\n",
    "from sklearn.preprocessing import StandardScaler\n",
    "sc = StandardScaler()\n",
    "sc.fit(X_train)\n",
    "X_train_std = sc.transform(X_train)\n",
    "X_test_std = sc.transform(X_test)\n",
    "X_validate_std = sc.transform(X_validate)\n",
    "\n",
    "print X_train_std.shape, X_test_std.shape, X_validate_std.shape, y_train.shape, y_test.shape, y_validate.shape"
   ]
  },
  {
   "cell_type": "markdown",
   "metadata": {},
   "source": [
    "(94065, 8) (40314, 8) (96822, 8) (94065,) (40314,) (96822,)"
   ]
  },
  {
   "cell_type": "code",
   "execution_count": 346,
   "metadata": {},
   "outputs": [
    {
     "data": {
      "text/plain": [
       "((94518L, 8L), (94518L,))"
      ]
     },
     "execution_count": 346,
     "metadata": {},
     "output_type": "execute_result"
    }
   ],
   "source": [
    "X_validate_std = sc.transform(X_validate)\n",
    "\n",
    "X_validate_std.shape, y_validate.shape"
   ]
  },
  {
   "cell_type": "markdown",
   "metadata": {},
   "source": [
    "---"
   ]
  },
  {
   "cell_type": "markdown",
   "metadata": {},
   "source": [
    "## Classifiers"
   ]
  },
  {
   "cell_type": "markdown",
   "metadata": {},
   "source": [
    "### Random Forest"
   ]
  },
  {
   "cell_type": "code",
   "execution_count": 347,
   "metadata": {
    "scrolled": false
   },
   "outputs": [
    {
     "name": "stdout",
     "output_type": "stream",
     "text": [
      "Training time\n",
      "Wall time: 1min 37s\n",
      "\n",
      "Predict time\n",
      "Wall time: 1.43 s\n",
      "\n",
      "ClassifyRF accuracy:---------->87.64 %\n"
     ]
    }
   ],
   "source": [
    "#Training and test\n",
    "from sklearn.ensemble import RandomForestClassifier\n",
    "rfc = RandomForestClassifier(n_estimators=100, criterion=\"entropy\", oob_score=True, n_jobs = 4)\n",
    "\n",
    "print 'Training time'\n",
    "%time rfc = rfc.fit(X_train_std, y_train)\n",
    "\n",
    "print''\n",
    "\n",
    "print 'Predict time'\n",
    "%time rfc_y_pred = rfc.predict(X_test_std)\n",
    "\n",
    "print''\n",
    "\n",
    "from sklearn.metrics import accuracy_score\n",
    "print ('ClassifyRF accuracy:---------->%.2f %%' % (accuracy_score(y_test, rfc_y_pred)*100))"
   ]
  },
  {
   "cell_type": "markdown",
   "metadata": {},
   "source": [
    "#### Resultado anterior\n",
    "H-Y n1-4\n",
    "\n",
    "Training time\n",
    "Wall time: 1min 51s\n",
    "\n",
    "Predict time\n",
    "Wall time: 1.6 s\n",
    "\n",
    "ClassifyRF accuracy:---------->87.62 %\n",
    "\n",
    "---\n",
    "\n",
    "H-Y Simpliicada + n0\n",
    "\n",
    "Training time\n",
    "CPU times: user 59 s, sys: 696 ms, total: 59.7 s\n",
    "Wall time: 15.5 s\n",
    "\n",
    "Predict time\n",
    "CPU times: user 5.14 s, sys: 16 ms, total: 5.15 s\n",
    "Wall time: 1.45 s\n",
    "\n",
    "ClassifyRF accuracy:---------->73.55 %\n",
    "\n",
    "---\n",
    "\n",
    "Todas as clases\n",
    "\n",
    "Training time\n",
    "CPU times: user 59.5 s, sys: 980 ms, total: 1min\n",
    "Wall time: 16.6 s\n",
    "\n",
    "Predict time\n",
    "CPU times: user 5.46 s, sys: 32 ms, total: 5.49 s\n",
    "Wall time: 1.56 s\n",
    "\n",
    "ClassifyRF accuracy:---------->71.82 %\n",
    "\n",
    "---\n",
    "Overfited\n",
    "\n",
    "Training time\n",
    "CPU times: user 59.5 s, sys: 1.2 s, total: 1min\n",
    "Wall time: 17.2 s\n",
    "\n",
    "Predict time\n",
    "CPU times: user 9.07 s, sys: 132 ms, total: 9.2 s\n",
    "Wall time: 2.75 s\n",
    "\n",
    "ClassifyRF accuracy:---------->100.00 %"
   ]
  },
  {
   "cell_type": "markdown",
   "metadata": {},
   "source": [
    "#Salva a rede treinada para um arquivo\n",
    "joblib.dump(rfc, 'DB_INTENC/preproc/labeled/rfc_split2.pkl') "
   ]
  },
  {
   "cell_type": "markdown",
   "metadata": {
    "collapsed": true
   },
   "source": [
    "rfc = joblib.load('DB_INTENC/preproc/labeled/rfc.pkl')"
   ]
  },
  {
   "cell_type": "code",
   "execution_count": 348,
   "metadata": {},
   "outputs": [
    {
     "name": "stdout",
     "output_type": "stream",
     "text": [
      "Predict time\n",
      "Wall time: 1.43 s\n",
      "\n",
      "ClassifyRF accuracy:---------->19.19 %\n"
     ]
    }
   ],
   "source": [
    "#Validation\n",
    "print 'Predict time'\n",
    "%time rfc_y_pred_v = rfc.predict(X_validate)\n",
    "\n",
    "print''\n",
    "\n",
    "from sklearn.metrics import accuracy_score\n",
    "\n",
    "result = ('ClassifyRF accuracy:---------->%.2f %%' % (accuracy_score(rfc_y_pred_v, y_validate)*100))\n",
    "\n",
    "print result"
   ]
  },
  {
   "cell_type": "markdown",
   "metadata": {},
   "source": [
    "#### Resultado anterior\n",
    "H-Y Simpliicada + n0\n",
    "\n",
    "Predict time\n",
    "CPU times: user 4.2 s, sys: 124 ms, total: 4.32 s\n",
    "Wall time: 1.23 s\n",
    "\n",
    "ClassifyRF accuracy:---------->29.25 %\n",
    "\n",
    "\n",
    "---\n",
    "\n",
    "Predict time\n",
    "CPU times: user 4.48 s, sys: 548 ms, total: 5.02 s\n",
    "Wall time: 1.45 s\n",
    "\n",
    "ClassifyRF accuracy:---------->25.98 %\n",
    "\n",
    "---\n",
    "\n",
    "Predict time\n",
    "CPU times: user 1.73 s, sys: 220 ms, total: 1.95 s\n",
    "Wall time: 707 ms\n",
    "\n",
    "ClassifyRF accuracy:---------->27.10 %\n"
   ]
  },
  {
   "cell_type": "code",
   "execution_count": 349,
   "metadata": {},
   "outputs": [
    {
     "name": "stdout",
     "output_type": "stream",
     "text": [
      "Predict time\n",
      "Wall time: 1.67 s\n",
      "\n",
      "ClassifyRF accuracy:---------->61.47 %\n"
     ]
    }
   ],
   "source": [
    "#Validation\n",
    "print 'Predict time'\n",
    "%time rfc_y_pred_v = rfc.predict(X_validate_std)\n",
    "\n",
    "print''\n",
    "\n",
    "from sklearn.metrics import accuracy_score\n",
    "\n",
    "result = ('ClassifyRF accuracy:---------->%.2f %%' % (accuracy_score(rfc_y_pred_v, y_validate)*100))\n",
    "\n",
    "print result"
   ]
  },
  {
   "cell_type": "markdown",
   "metadata": {},
   "source": [
    "#### Resultado anterior\n",
    "H-Y n1-4\n",
    "\n",
    "Predict time\n",
    "Wall time: 1.94 s\n",
    "\n",
    "ClassifyRF accuracy:---------->61.36 %\n",
    "\n",
    "---\n",
    "\n",
    "H-Y Simpliicada + n0\n",
    "\n",
    "Predict time\n",
    "CPU times: user 10.1 s, sys: 80 ms, total: 10.1 s\n",
    "Wall time: 2.94 s\n",
    "\n",
    "ClassifyRF accuracy:---------->45.17 %\n",
    "\n",
    "---\n",
    "\n",
    "Predict time\n",
    "CPU times: user 10.5 s, sys: 552 ms, total: 11.1 s\n",
    "Wall time: 3.03 s\n",
    "\n",
    "ClassifyRF accuracy:---------->42.09 %\n",
    "\n",
    "---\n",
    "\n",
    "Predict time\n",
    "\n",
    "CPU times: user 6.7 s, sys: 372 ms, total: 7.07 s\n",
    "Wall time: 2.05 s\n",
    "\n",
    "ClassifyRF accuracy:---------->85.97 %\n"
   ]
  },
  {
   "cell_type": "markdown",
   "metadata": {},
   "source": [
    "## ROC and AUC"
   ]
  },
  {
   "cell_type": "code",
   "execution_count": 370,
   "metadata": {},
   "outputs": [],
   "source": [
    "# Compute ROC curve and ROC area for each class\n",
    "fpr = dict()\n",
    "tpr = dict()\n",
    "roc_auc = dict()\n",
    "\n",
    "from sklearn.metrics import roc_curve, auc\n",
    "\n",
    "for k in range(1,5,1):\n",
    "    \n",
    "    yy_pred = np.array([0 if int(el)!=k else 1 for el in rfc_y_pred_v])\n",
    "    yy_valid = np.array([0 if int(el)!=k else 1 for el in y_validate])\n",
    "\n",
    "\n",
    "    fpr[k], tpr[k], _ = roc_curve(yy_pred, yy_valid)\n",
    "    roc_auc[k] = auc(fpr[k], tpr[k])\n",
    "\n",
    "# Compute micro-average ROC curve and ROC area\n",
    "fpr[\"micro\"], tpr[\"micro\"], _ = roc_curve(yy_pred.ravel(), yy_valid.ravel())\n",
    "roc_auc[\"micro\"] = auc(fpr[\"micro\"], tpr[\"micro\"])"
   ]
  },
  {
   "cell_type": "code",
   "execution_count": 371,
   "metadata": {},
   "outputs": [
    {
     "data": {
      "text/plain": [
       "{1: 0.7408749604790328,\n",
       " 2: 0.7343982412732114,\n",
       " 3: 0.7915114342122717,\n",
       " 4: 0.7014356261376749,\n",
       " 'micro': 0.7014356261376749}"
      ]
     },
     "execution_count": 371,
     "metadata": {},
     "output_type": "execute_result"
    }
   ],
   "source": [
    "roc_auc"
   ]
  },
  {
   "cell_type": "code",
   "execution_count": 403,
   "metadata": {},
   "outputs": [
    {
     "data": {
      "image/png": "[encoded data removed]",
      "text/plain": [
       "<matplotlib.figure.Figure at 0x3cde4da0>"
      ]
     },
     "metadata": {},
     "output_type": "display_data"
    }
   ],
   "source": [
    "n_classes = len(np.unique(y_validate))\n",
    "lw = 2\n",
    "# Compute macro-average ROC curve and ROC area\n",
    "\n",
    "# First aggregate all false positive rates\n",
    "all_fpr = np.unique(np.concatenate([fpr[i] for i in range(1,5,1)]))\n",
    "\n",
    "# Then interpolate all ROC curves at this points\n",
    "mean_tpr = np.zeros_like(all_fpr)\n",
    "for i in range(1,5,1):\n",
    "    mean_tpr += interp(all_fpr, fpr[i], tpr[i])\n",
    "\n",
    "# Finally average it and compute AUC\n",
    "mean_tpr /= n_classes\n",
    "\n",
    "fpr[\"macro\"] = all_fpr\n",
    "tpr[\"macro\"] = mean_tpr\n",
    "roc_auc[\"macro\"] = auc(fpr[\"macro\"], tpr[\"macro\"])\n",
    "\n",
    "# Plot all ROC curves\n",
    "\n",
    "#plt.figure()\n",
    "\n",
    "def plot_roc_c():\n",
    "    \n",
    "    plt.plot(fpr[\"micro\"], tpr[\"micro\"],\n",
    "             label='micro-average ROC curve (area = {0:0.2f})'\n",
    "                   ''.format(roc_auc[\"micro\"]),\n",
    "             color='violet', linestyle=':', linewidth=6)\n",
    "\n",
    "    plt.plot(fpr[\"macro\"], tpr[\"macro\"],\n",
    "             label='macro-average ROC curve (area = {0:0.2f})'\n",
    "                   ''.format(roc_auc[\"macro\"]),\n",
    "             color='darkviolet', linestyle=':', linewidth=6)\n",
    "\n",
    "    colors = cycle(['olivedrab', 'peru', 'darkorange', 'chartreuse'])\n",
    "\n",
    "    for i, color in zip(range(1,5,1), colors):\n",
    "        plt.plot(fpr[i], tpr[i], color=color, lw=2,\n",
    "                 label='ROC curve of class {0} (area = {1:0.2f})'\n",
    "                 ''.format(i, roc_auc[i]))\n",
    "\n",
    "    plt.plot([0, 1], [0, 1], 'k--', lw=lw)\n",
    "    plt.xlim([0.0, 1.0])\n",
    "    plt.ylim([0.0, 1.0])\n",
    "    plt.xlabel('False Positive Rate')\n",
    "    plt.ylabel('True Positive Rate')\n",
    "    plt.title('Some extension of Receiver operating characteristic to multi-class')\n",
    "    plt.legend(loc=\"lower right\")\n",
    "\n",
    "fig = plt.figure()\n",
    "plot_roc_c()\n",
    "fig.set_size_inches(w=9,h=9)\n",
    "fig_name = 'CF_figs/ROC_RF.png'\n",
    "fig.savefig(fig_name)\n",
    "plt.show()"
   ]
  },
  {
   "cell_type": "code",
   "execution_count": 47,
   "metadata": {},
   "outputs": [
    {
     "data": {
      "text/plain": [
       "array([1., 1., 1., ..., 1., 1., 1.])"
      ]
     },
     "execution_count": 47,
     "metadata": {},
     "output_type": "execute_result"
    }
   ],
   "source": [
    "rfc_y_pred_v"
   ]
  },
  {
   "cell_type": "code",
   "execution_count": 48,
   "metadata": {},
   "outputs": [
    {
     "data": {
      "text/plain": [
       "19704"
      ]
     },
     "execution_count": 48,
     "metadata": {},
     "output_type": "execute_result"
    }
   ],
   "source": [
    "list(y_validate).count(3)"
   ]
  },
  {
   "cell_type": "code",
   "execution_count": 50,
   "metadata": {},
   "outputs": [
    {
     "name": "stdout",
     "output_type": "stream",
     "text": [
      "[1. 1. 1. ... 1. 1. 1.]\n",
      "[0. 0. 0. ... 1. 1. 1.]\n",
      "[0. 0. 0. ... 0. 0. 0.]\n",
      "[0. 0. 0. ... 0. 0. 0.]\n",
      "[0. 0. 0. ... 0. 0. 0.]\n",
      "[0. 0. 0. ... 0. 0. 0.]\n",
      "[0. 0. 0. ... 0. 0. 0.]\n",
      "[0. 0. 0. ... 0. 0. 0.]\n"
     ]
    }
   ],
   "source": [
    "from sklearn.metrics import roc_curve, auc\n",
    "for k in range(1,5,1):\n",
    "    yy_pred = rfc_y_pred_v\n",
    "    yy_valid = y_validate\n",
    "    \n",
    "    for (i, item) in enumerate(yy_pred):\n",
    "        if item != k:\n",
    "            yy_pred[i] = 0\n",
    "    print yy_pred\n",
    "\n",
    "    for (i, item) in enumerate(yy_valid):\n",
    "        if item != k:\n",
    "            yy_valid[i] = 0\n",
    "    print yy_valid"
   ]
  },
  {
   "cell_type": "code",
   "execution_count": 51,
   "metadata": {
    "scrolled": true
   },
   "outputs": [
    {
     "data": {
      "text/plain": [
       "array([[31538.,  1406.,  1863.,  2600.],\n",
       "       [ 5698.,  7241.,  2286.,  2478.],\n",
       "       [ 5203.,  1796., 10683.,  2022.],\n",
       "       [ 8837.,  1806.,   561.,  8500.]])"
      ]
     },
     "execution_count": 51,
     "metadata": {},
     "output_type": "execute_result"
    }
   ],
   "source": [
    "confusion_matrix\n",
    "cm = confusion_matrix\n",
    "cm"
   ]
  },
  {
   "cell_type": "code",
   "execution_count": 52,
   "metadata": {},
   "outputs": [
    {
     "name": "stdout",
     "output_type": "stream",
     "text": [
      "             precision    recall  f1-score   support\n",
      "\n",
      "    class 1       1.00      1.00      1.00     94518\n",
      "\n",
      "avg / total       1.00      1.00      1.00     94518\n",
      "\n"
     ]
    },
    {
     "name": "stderr",
     "output_type": "stream",
     "text": [
      "C:\\Users\\jorge.junior\\AppData\\Local\\Continuum\\anaconda2\\lib\\site-packages\\sklearn\\metrics\\classification.py:1428: UserWarning: labels size, 1, does not match size of target_names, 4\n",
      "  .format(len(labels), len(target_names))\n"
     ]
    }
   ],
   "source": [
    "from sklearn.metrics import classification_report\n",
    "target_names = ['class 1', 'class 2', 'class 3', 'class 4']\n",
    "print(classification_report(y_validate, rfc_y_pred_v, target_names=target_names))"
   ]
  },
  {
   "cell_type": "code",
   "execution_count": 53,
   "metadata": {},
   "outputs": [
    {
     "data": {
      "text/plain": [
       "0.0"
      ]
     },
     "execution_count": 53,
     "metadata": {},
     "output_type": "execute_result"
    }
   ],
   "source": [
    "from sklearn.metrics import hamming_loss\n",
    "hamming_loss(y_validate, rfc_y_pred_v,)"
   ]
  },
  {
   "cell_type": "markdown",
   "metadata": {},
   "source": [
    "## CM"
   ]
  },
  {
   "cell_type": "code",
   "execution_count": 373,
   "metadata": {},
   "outputs": [],
   "source": [
    "from sklearn.metrics import confusion_matrix\n",
    "confusion_matrix = confusion_matrix(y_validate, rfc_y_pred_v)\n",
    "confusion_matrix = confusion_matrix.astype('float')"
   ]
  },
  {
   "cell_type": "code",
   "execution_count": 374,
   "metadata": {},
   "outputs": [],
   "source": [
    "FN = confusion_matrix.sum(axis=0) - np.diag(confusion_matrix)  \n",
    "FP = confusion_matrix.sum(axis=1) - np.diag(confusion_matrix)\n",
    "TP = np.diag(confusion_matrix)\n",
    "TN = confusion_matrix.sum() - (FP + FN + TP)\n",
    "\n",
    "# Sensitivity, hit rate, recall, or true positive rate\n",
    "TPR = TP/(TP+FN)\n",
    "# Specificity or true negative rate\n",
    "TNR = TN/(TN+FP) \n",
    "# Precision or positive predictive value\n",
    "PPV = TP/(TP+FP)\n",
    "# Negative predictive value\n",
    "NPV = TN/(TN+FN)\n",
    "# Fall out or false positive rate\n",
    "FPR = FP/(FP+TN)\n",
    "# False negative rate\n",
    "FNR = FN/(TP+FN)\n",
    "# False discovery rate\n",
    "FDR = FP/(TP+FP)\n",
    "\n",
    "# Overall accuracy\n",
    "ACC = (TP+TN)/(TP+FP+FN+TN)"
   ]
  },
  {
   "cell_type": "code",
   "execution_count": 375,
   "metadata": {},
   "outputs": [
    {
     "name": "stdout",
     "output_type": "stream",
     "text": [
      "TP: [31580.  7234. 10702.  8587.] = 58103.0\n",
      "TN: [37456. 71909. 70156. 67618.] = 247139.0\n",
      "FP: [ 5827. 10469.  9002. 11117.] = 36415.0\n",
      "FN: [19655.  4906.  4658.  7196.] = 36415.0\n"
     ]
    }
   ],
   "source": [
    "print 'TP:', TP, '=', sum(TP)\n",
    "print 'TN:', TN, '=', sum(TN)\n",
    "print 'FP:', FP, '=', sum(FP)\n",
    "print 'FN:', FN, '=', sum(FN)"
   ]
  },
  {
   "cell_type": "code",
   "execution_count": 376,
   "metadata": {},
   "outputs": [],
   "source": [
    "confusion_matrix\n",
    "cm = confusion_matrix\n",
    "\n",
    "#P1 = sum(cm[0][:5])\n",
    "#P2 = sum(cm[1][:5])\n",
    "#P3 = sum(cm[2][:5])\n",
    "#P4 = sum(cm[3][:5])\n",
    "#P5 = sum(cm[4][:5])\n",
    "\n",
    "P1 = sum(cm[0][:4])\n",
    "P2 = sum(cm[1][:4])\n",
    "P3 = sum(cm[2][:4])\n",
    "P4 = sum(cm[3][:4])\n",
    "\n",
    "#P1 = sum(cm[0][:2])\n",
    "#P2 = sum(cm[1][:2])"
   ]
  },
  {
   "cell_type": "code",
   "execution_count": 377,
   "metadata": {},
   "outputs": [
    {
     "data": {
      "text/plain": [
       "0.5579491521011515"
      ]
     },
     "execution_count": 377,
     "metadata": {},
     "output_type": "execute_result"
    }
   ],
   "source": [
    "#P1 = (TP[0])/sum(cm[0][:5])\n",
    "#P2 = (TP[1])/sum(cm[1][:5])\n",
    "#P3 = (TP[2])/sum(cm[2][:5])\n",
    "#P4 = (TP[3])/sum(cm[3][:5])\n",
    "#P5 = (TP[4])/sum(cm[4][:5])\n",
    "\n",
    "#S1 = (TP[0])/sum(cm[:5,[0]])\n",
    "#S2 = (TP[1])/sum(cm[:5,[1]])\n",
    "#S3 = (TP[2])/sum(cm[:5,[2]])\n",
    "#S4 = (TP[3])/sum(cm[:5,[3]])\n",
    "#S5 = (TP[4])/sum(cm[:5,[4]])\n",
    "\n",
    "#(P1+P2+P3+P4+P5)/5\n",
    "\n",
    "P1 = (TP[0])/sum(cm[0][:4])\n",
    "P2 = (TP[1])/sum(cm[1][:4])\n",
    "P3 = (TP[2])/sum(cm[2][:4])\n",
    "P4 = (TP[3])/sum(cm[3][:4])\n",
    "\n",
    "S1 = (TP[0])/sum(cm[:5,[0]])\n",
    "S2 = (TP[1])/sum(cm[:5,[1]])\n",
    "S3 = (TP[2])/sum(cm[:5,[2]])\n",
    "S4 = (TP[3])/sum(cm[:5,[3]])\n",
    "\n",
    "(P1+P2+P3+P4)/4\n",
    "\n",
    "#P1 = (TP[0])/sum(cm[0][:2])\n",
    "#P2 = (TP[1])/sum(cm[1][:2])\n",
    "\n",
    "#S1 = (TP[0])/sum(cm[:2,[0]])\n",
    "#S2 = (TP[1])/sum(cm[:2,[1]])\n",
    "\n",
    "#(P1+P2)/2"
   ]
  },
  {
   "cell_type": "code",
   "execution_count": 378,
   "metadata": {
    "scrolled": false
   },
   "outputs": [
    {
     "name": "stdout",
     "output_type": "stream",
     "text": [
      "(0.8442270163338412, 0.40863130542845844, 0.543138449045879, 0.4357998375964271)\n",
      "\n",
      "(array([0.62]), array([0.6]), array([0.7]), array([0.54]))\n"
     ]
    }
   ],
   "source": [
    "print (P1,P2,P3,P4)\n",
    "print ''\n",
    "print (S1,S2,S3,S4)\n",
    "\n",
    "#print (P1,P2)\n",
    "#print ''\n",
    "#print (S1,S2)"
   ]
  },
  {
   "cell_type": "code",
   "execution_count": 379,
   "metadata": {},
   "outputs": [
    {
     "data": {
      "text/plain": [
       "array([0.61])"
      ]
     },
     "execution_count": 379,
     "metadata": {},
     "output_type": "execute_result"
    }
   ],
   "source": [
    "(S1+S2+S3+S4)/4"
   ]
  },
  {
   "cell_type": "code",
   "execution_count": 380,
   "metadata": {},
   "outputs": [
    {
     "data": {
      "text/plain": [
       "array([37407., 17703., 19704., 19704.])"
      ]
     },
     "execution_count": 380,
     "metadata": {},
     "output_type": "execute_result"
    }
   ],
   "source": [
    "(TP+FP)"
   ]
  },
  {
   "cell_type": "code",
   "execution_count": 381,
   "metadata": {},
   "outputs": [
    {
     "data": {
      "text/plain": [
       "array([61.64, 59.59, 69.67, 54.41])"
      ]
     },
     "execution_count": 381,
     "metadata": {},
     "output_type": "execute_result"
    }
   ],
   "source": [
    "TPR*100 # Sensitivity"
   ]
  },
  {
   "cell_type": "code",
   "execution_count": 382,
   "metadata": {},
   "outputs": [
    {
     "data": {
      "text/plain": [
       "array([86.54, 87.29, 88.63, 85.88])"
      ]
     },
     "execution_count": 382,
     "metadata": {},
     "output_type": "execute_result"
    }
   ],
   "source": [
    "TNR*100 # Specificity"
   ]
  },
  {
   "cell_type": "code",
   "execution_count": 383,
   "metadata": {},
   "outputs": [
    {
     "data": {
      "text/plain": [
       "array([84.42, 40.86, 54.31, 43.58])"
      ]
     },
     "execution_count": 383,
     "metadata": {},
     "output_type": "execute_result"
    }
   ],
   "source": [
    "PPV*100 # Precision"
   ]
  },
  {
   "cell_type": "code",
   "execution_count": 384,
   "metadata": {},
   "outputs": [
    {
     "data": {
      "text/plain": [
       "array([73.04, 83.73, 85.55, 80.62])"
      ]
     },
     "execution_count": 384,
     "metadata": {},
     "output_type": "execute_result"
    }
   ],
   "source": [
    "ACC*100 # Accuracy"
   ]
  },
  {
   "cell_type": "code",
   "execution_count": 385,
   "metadata": {
    "scrolled": true
   },
   "outputs": [
    {
     "name": "stdout",
     "output_type": "stream",
     "text": [
      "Sensitivity 61.33%\n",
      "Specificity 87.08%\n",
      "Precision 55.79%\n",
      "Accuray 80.74%\n"
     ]
    }
   ],
   "source": [
    "print ('Sensitivity %.2f%%' %(sum(TPR)/4*100))\n",
    "print ('Specificity %.2f%%' %(sum(TNR)/4*100))\n",
    "print ('Precision %.2f%%' %(sum(PPV)/4*100))\n",
    "print ('Accuray %.2f%%' %(sum(ACC)/4*100))\n",
    "\n",
    "#print ('Sensitivity %.2f%%' %(sum(TPR)/2*100))\n",
    "#print ('Specificity %.2f%%' %(sum(TNR)/2*100))\n",
    "#print ('Precision %.2f%%' %(sum(PPV)/2*100))\n",
    "#print ('Accuray %.2f%%' %(sum(ACC)/2*100))"
   ]
  },
  {
   "cell_type": "markdown",
   "metadata": {},
   "source": [
    "#### Resultado anterior\n",
    "Sensitivity 56.11%\n",
    "\n",
    "Specificity 85.39%\n",
    "\n",
    "Precision 56.28%\n",
    "\n",
    "Accuray 78.06%\n",
    "\n",
    "#### Antes do Quaçify\n",
    "Sensitivity 44.06%\n",
    "\n",
    "Specificity 86.15%\n",
    "\n",
    "Precision 45.71%\n",
    "\n",
    "Accuray 78.07%"
   ]
  },
  {
   "cell_type": "markdown",
   "metadata": {},
   "source": [
    "## Confusion Matrix Plot"
   ]
  },
  {
   "cell_type": "code",
   "execution_count": 386,
   "metadata": {
    "scrolled": false
   },
   "outputs": [
    {
     "name": "stdout",
     "output_type": "stream",
     "text": [
      "Matrix de confusão, sem normalização\n",
      "[[31580  1407  1809  2611]\n",
      " [ 5669  7234  2288  2512]\n",
      " [ 5223  1706 10702  2073]\n",
      " [ 8763  1793   561  8587]]\n",
      "Matrix de confusão normalizada\n",
      "[[0.84 0.04 0.05 0.07]\n",
      " [0.32 0.41 0.13 0.14]\n",
      " [0.27 0.09 0.54 0.11]\n",
      " [0.44 0.09 0.03 0.44]]\n"
     ]
    },
    {
     "data": {
      "image/png": "[encoded data removed]",
      "text/plain": [
       "<matplotlib.figure.Figure at 0x145f7ef0>"
      ]
     },
     "metadata": {},
     "output_type": "display_data"
    },
    {
     "data": {
      "image/png": "[encoded data removed]",
      "text/plain": [
       "<matplotlib.figure.Figure at 0x13dc1208>"
      ]
     },
     "metadata": {},
     "output_type": "display_data"
    }
   ],
   "source": [
    "# encoding=utf8  \n",
    "#import sys  \n",
    "#reload(sys)  \n",
    "#sys.setdefaultencoding('utf8')\n",
    "\n",
    "from sklearn.metrics import confusion_matrix\n",
    "import itertools\n",
    "import matplotlib.pyplot as plt\n",
    "\n",
    "class_names = np.array(['N-1', 'N-2', 'N-3', 'N-4'])\n",
    "\n",
    "yvalid = y_validate \n",
    "\n",
    "def plot_confusion_matrix(cm, classes,\n",
    "                          normalize=False,\n",
    "                          title='Confusion de matrix',\n",
    "                          cmap=plt.cm.Blues):\n",
    "    \"\"\"\n",
    "    This function prints and plots the confusion matrix.\n",
    "    Normalization can be applied by setting `normalize=True`.\n",
    "    \"\"\"\n",
    "    plt.imshow(cm, interpolation='nearest', cmap=cmap)\n",
    "    plt.title(title)\n",
    "    plt.colorbar()\n",
    "    tick_marks = np.arange(len(classes))\n",
    "    plt.xticks(tick_marks, classes, rotation=45)\n",
    "    plt.yticks(tick_marks, classes)\n",
    "\n",
    "    \n",
    "    if normalize:\n",
    "        cm = cm.astype('float') / cm.sum(axis=1)[:, np.newaxis]\n",
    "        print(\"Matrix de confusão normalizada\")\n",
    "        thresh = cm.max() / 2.\n",
    "        for i, j in itertools.product(range(cm.shape[0]), range(cm.shape[1])):\n",
    "            plt.text(j, i, ('%.3f' % cm[i, j]), horizontalalignment=\"center\", color=\"white\" if cm[i, j] > thresh else \"black\")\n",
    "\n",
    "    else:\n",
    "        print('Matrix de confusão, sem normalização')\n",
    "        thresh = cm.max() / 2.\n",
    "        for i, j in itertools.product(range(cm.shape[0]), range(cm.shape[1])):\n",
    "            plt.text(j, i, cm[i, j], horizontalalignment=\"center\", color=\"white\" if cm[i, j] > thresh else \"black\")\n",
    "\n",
    "    print(cm)\n",
    "\n",
    "    plt.tight_layout()\n",
    "    plt.ylabel('Valores reais')\n",
    "    plt.xlabel('Valores preditos')\n",
    "\n",
    "# Compute confusion matrix\n",
    "cnf_matrix = confusion_matrix(yvalid, rfc_y_pred_v)\n",
    "np.set_printoptions(precision=2)\n",
    "\n",
    "# Plot non-normalized confusion matrix\n",
    "fig = plt.figure()\n",
    "plot_confusion_matrix(cnf_matrix, classes=class_names,\n",
    "                      title='Matrix de confusao - Random Forest')\n",
    "fig.set_size_inches(w=7,h=6)\n",
    "\n",
    "# Plot normalized confusion matrix\n",
    "fig = plt.figure()\n",
    "plot_confusion_matrix(cnf_matrix, classes=class_names, normalize=True,\n",
    "                      title='Matrix de confusao - Random Forest')\n",
    "fig_name = 'CF_figs/cm_RF.png'\n",
    "fig.set_size_inches(w=7,h=6)\n",
    "fig.savefig(fig_name)\n",
    "\n",
    "plt.show()"
   ]
  },
  {
   "cell_type": "markdown",
   "metadata": {},
   "source": [
    "---"
   ]
  },
  {
   "cell_type": "markdown",
   "metadata": {},
   "source": [
    "## KNN"
   ]
  },
  {
   "cell_type": "code",
   "execution_count": 387,
   "metadata": {},
   "outputs": [
    {
     "name": "stdout",
     "output_type": "stream",
     "text": [
      "Wall time: 447 ms\n"
     ]
    },
    {
     "data": {
      "text/plain": [
       "KNeighborsClassifier(algorithm='auto', leaf_size=60, metric='minkowski',\n",
       "           metric_params=None, n_jobs=4, n_neighbors=20, p=4,\n",
       "           weights='distance')"
      ]
     },
     "execution_count": 387,
     "metadata": {},
     "output_type": "execute_result"
    }
   ],
   "source": [
    "from sklearn.neighbors import KNeighborsClassifier\n",
    "knn = KNeighborsClassifier(n_neighbors=20, weights='distance', leaf_size=60, n_jobs=4, p=4)\n",
    "\n",
    "%time knn.fit(X_train_std, y_train)"
   ]
  },
  {
   "cell_type": "code",
   "execution_count": 388,
   "metadata": {},
   "outputs": [
    {
     "name": "stdout",
     "output_type": "stream",
     "text": [
      "Wall time: 4min 32s\n",
      "ClassifyRF accuracy:---------->87.64 %\n"
     ]
    }
   ],
   "source": [
    "%time knn_pred = knn.predict(X_test_std)\n",
    "\n",
    "print ('ClassifyRF accuracy:---------->%.2f %%' % (accuracy_score(y_test, knn_pred)*100))"
   ]
  },
  {
   "cell_type": "code",
   "execution_count": 389,
   "metadata": {},
   "outputs": [
    {
     "name": "stdout",
     "output_type": "stream",
     "text": [
      "Wall time: 9min 24s\n",
      "ClassifyRF accuracy:---------->61.47 %\n"
     ]
    }
   ],
   "source": [
    "%time knn_pred_v = knn.predict(X_validate_std)\n",
    "print ('ClassifyRF accuracy:---------->%.2f %%' % (accuracy_score(knn_pred_v, y_validate)*100))"
   ]
  },
  {
   "cell_type": "code",
   "execution_count": 390,
   "metadata": {},
   "outputs": [
    {
     "name": "stdout",
     "output_type": "stream",
     "text": [
      "ClassifyRF accuracy:---------->57.38 %\n"
     ]
    }
   ],
   "source": [
    "print ('ClassifyRF accuracy:---------->%.2f %%' % (accuracy_score(knn_pred_v, y_validate)*100))"
   ]
  },
  {
   "cell_type": "code",
   "execution_count": 391,
   "metadata": {},
   "outputs": [],
   "source": [
    "from sklearn.metrics import classification_report"
   ]
  },
  {
   "cell_type": "code",
   "execution_count": 392,
   "metadata": {},
   "outputs": [],
   "source": [
    "confusion_matrix = confusion_matrix(y_validate, knn_pred_v)\n",
    "confusion_matrix = confusion_matrix.astype('float')"
   ]
  },
  {
   "cell_type": "code",
   "execution_count": 393,
   "metadata": {},
   "outputs": [],
   "source": [
    "FN = confusion_matrix.sum(axis=0) - np.diag(confusion_matrix)  \n",
    "FP = confusion_matrix.sum(axis=1) - np.diag(confusion_matrix)\n",
    "TP = np.diag(confusion_matrix)\n",
    "TN = confusion_matrix.sum() - (FP + FN + TP)\n",
    "\n",
    "# Sensitivity, hit rate, recall, or true positive rate\n",
    "TPR = TP/(TP+FN)\n",
    "# Specificity or true negative rate\n",
    "TNR = TN/(TN+FP) \n",
    "# Precision or positive predictive value\n",
    "PPV = TP/(TP+FP)\n",
    "# Negative predictive value\n",
    "NPV = TN/(TN+FN)\n",
    "# Fall out or false positive rate\n",
    "FPR = FP/(FP+TN)\n",
    "# False negative rate\n",
    "FNR = FN/(TP+FN)\n",
    "# False discovery rate\n",
    "FDR = FP/(TP+FP)\n",
    "\n",
    "# Overall accuracy\n",
    "ACC = (TP+TN)/(TP+FP+FN+TN)"
   ]
  },
  {
   "cell_type": "code",
   "execution_count": 394,
   "metadata": {},
   "outputs": [
    {
     "name": "stdout",
     "output_type": "stream",
     "text": [
      "TP: [29233.  7932.  9881.  7189.] = 54235.0\n",
      "TN: [37916. 69545. 69272. 66538.] = 243271.0\n",
      "FP: [ 8174.  9771.  9823. 12515.] = 40283.0\n",
      "FN: [19195.  7270.  5542.  8276.] = 40283.0\n"
     ]
    }
   ],
   "source": [
    "print 'TP:', TP, '=', sum(TP)\n",
    "print 'TN:', TN, '=', sum(TN)\n",
    "print 'FP:', FP, '=', sum(FP)\n",
    "print 'FN:', FN, '=', sum(FN)"
   ]
  },
  {
   "cell_type": "code",
   "execution_count": 395,
   "metadata": {},
   "outputs": [],
   "source": [
    "confusion_matrix\n",
    "cm = confusion_matrix\n",
    "\n",
    "P1 = sum(cm[0][:4])\n",
    "P2 = sum(cm[1][:4])\n",
    "P3 = sum(cm[2][:4])\n",
    "P4 = sum(cm[3][:4])"
   ]
  },
  {
   "cell_type": "code",
   "execution_count": 396,
   "metadata": {},
   "outputs": [
    {
     "data": {
      "text/plain": [
       "0.5239664897061812"
      ]
     },
     "execution_count": 396,
     "metadata": {},
     "output_type": "execute_result"
    }
   ],
   "source": [
    "P1 = (TP[0])/sum(cm[0][:4])\n",
    "P2 = (TP[1])/sum(cm[1][:4])\n",
    "P3 = (TP[2])/sum(cm[2][:4])\n",
    "P4 = (TP[3])/sum(cm[3][:4])\n",
    "\n",
    "S1 = (TP[0])/sum(cm[:5,[0]])\n",
    "S2 = (TP[1])/sum(cm[:5,[1]])\n",
    "S3 = (TP[2])/sum(cm[:5,[2]])\n",
    "S4 = (TP[3])/sum(cm[:5,[3]])\n",
    "\n",
    "(P1+P2+P3+P4)/4"
   ]
  },
  {
   "cell_type": "code",
   "execution_count": 397,
   "metadata": {},
   "outputs": [
    {
     "name": "stdout",
     "output_type": "stream",
     "text": [
      "(0.7814847488437993, 0.448059650906626, 0.5014717823792123, 0.3648497766950873)\n",
      "\n",
      "(array([0.6]), array([0.52]), array([0.64]), array([0.46]))\n"
     ]
    }
   ],
   "source": [
    "print (P1,P2,P3,P4)\n",
    "print ''\n",
    "print (S1,S2,S3,S4)"
   ]
  },
  {
   "cell_type": "code",
   "execution_count": 398,
   "metadata": {},
   "outputs": [
    {
     "name": "stdout",
     "output_type": "stream",
     "text": [
      "Sensitivity 55.77%\n",
      "Specificity 85.42%\n",
      "Precision 52.40%\n",
      "Accuray 78.69%\n"
     ]
    }
   ],
   "source": [
    "print ('Sensitivity %.2f%%' %(sum(TPR)/4*100))\n",
    "print ('Specificity %.2f%%' %(sum(TNR)/4*100))\n",
    "print ('Precision %.2f%%' %(sum(PPV)/4*100))\n",
    "print ('Accuray %.2f%%' %(sum(ACC)/4*100))"
   ]
  },
  {
   "cell_type": "code",
   "execution_count": 399,
   "metadata": {},
   "outputs": [
    {
     "name": "stdout",
     "output_type": "stream",
     "text": [
      "Matrix de confusão, sem normalização\n",
      "[[29233  2560  1802  3812]\n",
      " [ 4820  7932  2919  2032]\n",
      " [ 5742  1649  9881  2432]\n",
      " [ 8633  3061   821  7189]]\n",
      "Matrix de confusão normalizada\n",
      "[[0.78 0.07 0.05 0.1 ]\n",
      " [0.27 0.45 0.16 0.11]\n",
      " [0.29 0.08 0.5  0.12]\n",
      " [0.44 0.16 0.04 0.36]]\n"
     ]
    },
    {
     "data": {
      "image/png": "[encoded data removed]",
      "text/plain": [
       "<matplotlib.figure.Figure at 0xfb15080>"
      ]
     },
     "metadata": {},
     "output_type": "display_data"
    },
    {
     "data": {
      "image/png": "[encoded data removed]",
      "text/plain": [
       "<matplotlib.figure.Figure at 0x13dd2f28>"
      ]
     },
     "metadata": {},
     "output_type": "display_data"
    }
   ],
   "source": [
    "from sklearn.metrics import confusion_matrix\n",
    "import itertools\n",
    "import matplotlib.pyplot as plt\n",
    "\n",
    "class_names = np.array(['N-1', 'N-2', 'N-3', 'N-4'])\n",
    "\n",
    "yvalid = y_validate \n",
    "\n",
    "def plot_confusion_matrix(cm, classes,\n",
    "                          normalize=False,\n",
    "                          title='Confusion de matrix',\n",
    "                          cmap=plt.cm.Blues):\n",
    "    \"\"\"\n",
    "    This function prints and plots the confusion matrix.\n",
    "    Normalization can be applied by setting `normalize=True`.\n",
    "    \"\"\"\n",
    "    plt.imshow(cm, interpolation='nearest', cmap=cmap)\n",
    "    plt.title(title)\n",
    "    plt.colorbar()\n",
    "    tick_marks = np.arange(len(classes))\n",
    "    plt.xticks(tick_marks, classes, rotation=45)\n",
    "    plt.yticks(tick_marks, classes)\n",
    "\n",
    "    \n",
    "    if normalize:\n",
    "        cm = cm.astype('float') / cm.sum(axis=1)[:, np.newaxis]\n",
    "        print(\"Matrix de confusão normalizada\")\n",
    "        thresh = cm.max() / 2.\n",
    "        for i, j in itertools.product(range(cm.shape[0]), range(cm.shape[1])):\n",
    "            plt.text(j, i, ('%.3f' % cm[i, j]), horizontalalignment=\"center\", color=\"white\" if cm[i, j] > thresh else \"black\")\n",
    "\n",
    "    else:\n",
    "        print('Matrix de confusão, sem normalização')\n",
    "        thresh = cm.max() / 2.\n",
    "        for i, j in itertools.product(range(cm.shape[0]), range(cm.shape[1])):\n",
    "            plt.text(j, i, cm[i, j], horizontalalignment=\"center\", color=\"white\" if cm[i, j] > thresh else \"black\")\n",
    "\n",
    "    print(cm)\n",
    "\n",
    "    plt.tight_layout()\n",
    "    plt.ylabel('Valores reais')\n",
    "    plt.xlabel('Valores preditos')\n",
    "\n",
    "# Compute confusion matrix\n",
    "cnf_matrix = confusion_matrix(yvalid, knn_pred_v)\n",
    "np.set_printoptions(precision=2)\n",
    "\n",
    "# Plot non-normalized confusion matrix\n",
    "fig = plt.figure()\n",
    "plot_confusion_matrix(cnf_matrix, classes=class_names,\n",
    "                      title='Matrix de confusao - KNN')\n",
    "fig.set_size_inches(w=7,h=6)\n",
    "\n",
    "# Plot normalized confusion matrix\n",
    "fig = plt.figure()\n",
    "plot_confusion_matrix(cnf_matrix, classes=class_names, normalize=True,\n",
    "                      title='Matrix de confusao - KNN')\n",
    "fig_name = 'CF_figs/cm_KNN.png'\n",
    "fig.set_size_inches(w=7,h=6)\n",
    "fig.savefig(fig_name)\n",
    "\n",
    "plt.show()"
   ]
  },
  {
   "cell_type": "code",
   "execution_count": null,
   "metadata": {},
   "outputs": [],
   "source": [
    "# Compute ROC curve and ROC area for each class\n",
    "fpr = dict()\n",
    "tpr = dict()\n",
    "roc_auc = dict()\n",
    "\n",
    "from sklearn.metrics import roc_curve, auc\n",
    "\n",
    "for k in range(1,5,1):\n",
    "    \n",
    "    yy_pred = np.array([0 if int(el)!=k else 1 for el in knn_pred_v])\n",
    "    yy_valid = np.array([0 if int(el)!=k else 1 for el in y_validate])\n",
    "\n",
    "\n",
    "    fpr[k], tpr[k], _ = roc_curve(yy_pred, yy_valid)\n",
    "    roc_auc[k] = auc(fpr[k], tpr[k])\n",
    "\n",
    "# Compute micro-average ROC curve and ROC area\n",
    "fpr[\"micro\"], tpr[\"micro\"], _ = roc_curve(yy_pred.ravel(), yy_valid.ravel())\n",
    "roc_auc[\"micro\"] = auc(fpr[\"micro\"], tpr[\"micro\"])"
   ]
  },
  {
   "cell_type": "code",
   "execution_count": null,
   "metadata": {},
   "outputs": [],
   "source": [
    "n_classes = len(np.unique(y_validate))\n",
    "lw = 2\n",
    "# Compute macro-average ROC curve and ROC area\n",
    "\n",
    "# First aggregate all false positive rates\n",
    "all_fpr = np.unique(np.concatenate([fpr[i] for i in range(1,5,1)]))\n",
    "\n",
    "# Then interpolate all ROC curves at this points\n",
    "mean_tpr = np.zeros_like(all_fpr)\n",
    "for i in range(1,5,1):\n",
    "    mean_tpr += interp(all_fpr, fpr[i], tpr[i])\n",
    "\n",
    "# Finally average it and compute AUC\n",
    "mean_tpr /= n_classes\n",
    "\n",
    "fpr[\"macro\"] = all_fpr\n",
    "tpr[\"macro\"] = mean_tpr\n",
    "roc_auc[\"macro\"] = auc(fpr[\"macro\"], tpr[\"macro\"])\n",
    "\n",
    "# Plot all ROC curves\n",
    "\n",
    "#plt.figure()\n",
    "\n",
    "def plot_roc_c():\n",
    "    \n",
    "    plt.plot(fpr[\"micro\"], tpr[\"micro\"],\n",
    "             label='micro-average ROC curve (area = {0:0.2f})'\n",
    "                   ''.format(roc_auc[\"micro\"]),\n",
    "             color='violet', linestyle=':', linewidth=6)\n",
    "\n",
    "    plt.plot(fpr[\"macro\"], tpr[\"macro\"],\n",
    "             label='macro-average ROC curve (area = {0:0.2f})'\n",
    "                   ''.format(roc_auc[\"macro\"]),\n",
    "             color='darkviolet', linestyle=':', linewidth=6)\n",
    "\n",
    "    colors = cycle(['olivedrab', 'peru', 'darkorange', 'chartreuse'])\n",
    "\n",
    "    for i, color in zip(range(1,5,1), colors):\n",
    "        plt.plot(fpr[i], tpr[i], color=color, lw=2,\n",
    "                 label='ROC curve of class {0} (area = {1:0.2f})'\n",
    "                 ''.format(i, roc_auc[i]))\n",
    "\n",
    "    plt.plot([0, 1], [0, 1], 'k--', lw=lw)\n",
    "    plt.xlim([0.0, 1.0])\n",
    "    plt.ylim([0.0, 1.0])\n",
    "    plt.xlabel('False Positive Rate')\n",
    "    plt.ylabel('True Positive Rate')\n",
    "    plt.title('Some extension of Receiver operating characteristic to multi-class')\n",
    "    plt.legend(loc=\"lower right\")\n",
    "\n",
    "fig = plt.figure()\n",
    "plot_roc_c()\n",
    "fig.set_size_inches(w=9,h=9)\n",
    "fig_name = 'CF_figs/ROC_KNN.png'\n",
    "fig.savefig(fig_name)\n",
    "plt.show()"
   ]
  },
  {
   "cell_type": "markdown",
   "metadata": {},
   "source": [
    "---"
   ]
  },
  {
   "cell_type": "markdown",
   "metadata": {},
   "source": [
    "## Support Vector Machine RBF"
   ]
  },
  {
   "cell_type": "code",
   "execution_count": null,
   "metadata": {},
   "outputs": [
    {
     "name": "stdout",
     "output_type": "stream",
     "text": [
      "Processing time SVM\n"
     ]
    }
   ],
   "source": [
    "from sklearn import svm, datasets\n",
    "\n",
    "print 'Processing time SVM'\n",
    "%time svm_rbf = svm.SVC(kernel='rbf', gamma=0.2, C=6, decision_function_shape='ovr').fit(X_train_std, y_train)\n",
    "\n",
    "print ''\n",
    "print 'Predict time'  \n",
    "%time rbf_y_pred = svm_rbf.predict(X_test_std)\n",
    "from sklearn.metrics import accuracy_score\n",
    "\n",
    "print ('SVM-RBF accuracy:---------->%.2f %%' % (accuracy_score(y_test, rbf_y_pred)*100))"
   ]
  },
  {
   "cell_type": "code",
   "execution_count": null,
   "metadata": {},
   "outputs": [],
   "source": [
    "accuracy_score(y_test, rbf_y_pred)"
   ]
  },
  {
   "cell_type": "code",
   "execution_count": null,
   "metadata": {},
   "outputs": [],
   "source": [
    "print 'Predict time'  \n",
    "%time rbf_y_pred_v = svm_rbf.predict(X_validate_std)\n",
    "from sklearn.metrics import accuracy_score\n",
    "print ('SVM-RBF accuracy:---------->%.2f %%' % (accuracy_score(y_validate, rbf_y_pred_v)*100))"
   ]
  },
  {
   "cell_type": "code",
   "execution_count": null,
   "metadata": {},
   "outputs": [],
   "source": [
    "(accuracy_score(y_validate, rbf_y_pred_v))"
   ]
  },
  {
   "cell_type": "code",
   "execution_count": null,
   "metadata": {},
   "outputs": [],
   "source": [
    "from sklearn.metrics import confusion_matrix\n",
    "confusion_matrix = confusion_matrix(y_validate, rbf_y_pred_v)\n",
    "confusion_matrix = confusion_matrix.astype('float')\n",
    "confusion_matrix\n",
    "cm = confusion_matrix\n",
    "cm"
   ]
  },
  {
   "cell_type": "markdown",
   "metadata": {
    "collapsed": true
   },
   "source": [
    "# Confusion Matrix"
   ]
  },
  {
   "cell_type": "code",
   "execution_count": null,
   "metadata": {},
   "outputs": [],
   "source": [
    "from sklearn.metrics import confusion_matrix\n",
    "confusion_matrix = confusion_matrix(y_validate, rbf_y_pred_v)\n",
    "confusion_matrix = confusion_matrix.astype('float')"
   ]
  },
  {
   "cell_type": "code",
   "execution_count": null,
   "metadata": {},
   "outputs": [],
   "source": [
    "confusion_matrix"
   ]
  },
  {
   "cell_type": "code",
   "execution_count": null,
   "metadata": {},
   "outputs": [],
   "source": [
    "FN = confusion_matrix.sum(axis=0) - np.diag(confusion_matrix)  \n",
    "FP = confusion_matrix.sum(axis=1) - np.diag(confusion_matrix)\n",
    "TP = np.diag(confusion_matrix)\n",
    "TN = confusion_matrix.sum() - (FP + FN + TP)\n",
    "\n",
    "# Sensitivity, hit rate, recall, or true positive rate\n",
    "TPR = TP/(TP+FN)\n",
    "# Specificity or true negative rate\n",
    "TNR = TN/(TN+FP) \n",
    "# Precision or positive predictive value\n",
    "PPV = TP/(TP+FP)\n",
    "# Negative predictive value\n",
    "NPV = TN/(TN+FN)\n",
    "# Fall out or false positive rate\n",
    "FPR = FP/(FP+TN)\n",
    "# False negative rate\n",
    "FNR = FN/(TP+FN)\n",
    "# False discovery rate\n",
    "FDR = FP/(TP+FP)\n",
    "\n",
    "# Overall accuracy\n",
    "ACC = (TP+TN)/(TP+FP+FN+TN)"
   ]
  },
  {
   "cell_type": "code",
   "execution_count": null,
   "metadata": {},
   "outputs": [],
   "source": [
    "TPR*100 # Sensitivity"
   ]
  },
  {
   "cell_type": "code",
   "execution_count": null,
   "metadata": {},
   "outputs": [],
   "source": [
    "TNR*100 # Specificity"
   ]
  },
  {
   "cell_type": "code",
   "execution_count": null,
   "metadata": {},
   "outputs": [],
   "source": [
    "PPV*100 # Precision"
   ]
  },
  {
   "cell_type": "code",
   "execution_count": null,
   "metadata": {},
   "outputs": [],
   "source": [
    "ACC*100 # Accuracy"
   ]
  },
  {
   "cell_type": "code",
   "execution_count": null,
   "metadata": {},
   "outputs": [],
   "source": [
    "sum(ACC)/6*100"
   ]
  },
  {
   "cell_type": "code",
   "execution_count": null,
   "metadata": {},
   "outputs": [],
   "source": [
    "print ('Sensitivity %.2f%%' %(sum(TPR)/4*100))\n",
    "print ('Specificity %.2f%%' %(sum(TNR)/4*100))\n",
    "print ('Precision %.2f%%' %(sum(PPV)/4*100))\n",
    "print ('Accuray %.2f%%' %(sum(ACC)/4*100))\n",
    "\n",
    "#print ('Sensitivity %.2f%%' %(sum(TPR)/2*100))\n",
    "#print ('Specificity %.2f%%' %(sum(TNR)/2*100))\n",
    "#print ('Precision %.2f%%' %(sum(PPV)/2*100))\n",
    "#print ('Accuray %.2f%%' %(sum(ACC)/2*100))"
   ]
  },
  {
   "cell_type": "code",
   "execution_count": null,
   "metadata": {},
   "outputs": [],
   "source": [
    "# encoding=utf8  \n",
    "#import sys  \n",
    "#reload(sys)  \n",
    "#sys.setdefaultencoding('utf8')\n",
    "\n",
    "from sklearn.metrics import confusion_matrix\n",
    "import itertools\n",
    "import matplotlib.pyplot as plt\n",
    "\n",
    "#%matplotlib notebook\n",
    "class_names = np.array(['N-1', 'N-2', 'N-3', 'N-4'])\n",
    "\n",
    "yvalid = y_validate \n",
    "\n",
    "def plot_confusion_matrix(cm, classes,\n",
    "                          normalize=False,\n",
    "                          title='Confusion de matrix',\n",
    "                          cmap=plt.cm.Blues):\n",
    "    \"\"\"\n",
    "    This function prints and plots the confusion matrix.\n",
    "    Normalization can be applied by setting `normalize=True`.\n",
    "    \"\"\"\n",
    "    plt.imshow(cm, interpolation='nearest', cmap=cmap)\n",
    "    plt.title(title)\n",
    "    plt.colorbar()\n",
    "    tick_marks = np.arange(len(classes))\n",
    "    plt.xticks(tick_marks, classes, rotation=45)\n",
    "    plt.yticks(tick_marks, classes)\n",
    "\n",
    "    \n",
    "    if normalize:\n",
    "        cm = cm.astype('float') / cm.sum(axis=1)[:, np.newaxis]\n",
    "        print(\"Matrix de confusão normalizada\")\n",
    "        thresh = cm.max() / 2.\n",
    "        for i, j in itertools.product(range(cm.shape[0]), range(cm.shape[1])):\n",
    "            plt.text(j, i, ('%.3f' % cm[i, j]), horizontalalignment=\"center\", color=\"white\" if cm[i, j] > thresh else \"black\")\n",
    "\n",
    "    else:\n",
    "        print('Matrix de confusão, sem normalização')\n",
    "        thresh = cm.max() / 2.\n",
    "        for i, j in itertools.product(range(cm.shape[0]), range(cm.shape[1])):\n",
    "            plt.text(j, i, cm[i, j], horizontalalignment=\"center\", color=\"white\" if cm[i, j] > thresh else \"black\")\n",
    "\n",
    "    print(cm)\n",
    "\n",
    "    plt.tight_layout()\n",
    "    plt.ylabel('Valores reais')\n",
    "    plt.xlabel('Valores preditos')\n",
    "\n",
    "# Compute confusion matrix\n",
    "cnf_matrix = confusion_matrix(yvalid, rbf_y_pred_v)\n",
    "np.set_printoptions(precision=2)\n",
    "\n",
    "# Plot non-normalized confusion matrix\n",
    "fig = plt.figure()\n",
    "plot_confusion_matrix(cnf_matrix, classes=class_names,\n",
    "                      title='Matrix de confusao - SVM-RBF')\n",
    "fig.set_size_inches(w=7,h=6)\n",
    "\n",
    "# Plot normalized confusion matrix\n",
    "fig = plt.figure()\n",
    "plot_confusion_matrix(cnf_matrix, classes=class_names, normalize=True,\n",
    "                      title='Matrix de confusao - SVM-RBF')\n",
    "fig_name = 'CF_figs/cm_SVM-RBF.png'\n",
    "fig.set_size_inches(w=7,h=6)\n",
    "fig.savefig(fig_name)\n",
    "\n",
    "plt.show()"
   ]
  },
  {
   "cell_type": "code",
   "execution_count": null,
   "metadata": {},
   "outputs": [],
   "source": [
    "# Compute ROC curve and ROC area for each class\n",
    "fpr = dict()\n",
    "tpr = dict()\n",
    "roc_auc = dict()\n",
    "\n",
    "from sklearn.metrics import roc_curve, auc\n",
    "\n",
    "for k in range(1,5,1):\n",
    "    \n",
    "    yy_pred = np.array([0 if int(el)!=k else 1 for el in rbf_y_pred_v])\n",
    "    yy_valid = np.array([0 if int(el)!=k else 1 for el in y_validate])\n",
    "\n",
    "\n",
    "    fpr[k], tpr[k], _ = roc_curve(yy_pred, yy_valid)\n",
    "    roc_auc[k] = auc(fpr[k], tpr[k])\n",
    "\n",
    "# Compute micro-average ROC curve and ROC area\n",
    "fpr[\"micro\"], tpr[\"micro\"], _ = roc_curve(yy_pred.ravel(), yy_valid.ravel())\n",
    "roc_auc[\"micro\"] = auc(fpr[\"micro\"], tpr[\"micro\"])"
   ]
  },
  {
   "cell_type": "code",
   "execution_count": null,
   "metadata": {},
   "outputs": [],
   "source": [
    "n_classes = len(np.unique(y_validate))\n",
    "lw = 2\n",
    "# Compute macro-average ROC curve and ROC area\n",
    "\n",
    "# First aggregate all false positive rates\n",
    "all_fpr = np.unique(np.concatenate([fpr[i] for i in range(1,5,1)]))\n",
    "\n",
    "# Then interpolate all ROC curves at this points\n",
    "mean_tpr = np.zeros_like(all_fpr)\n",
    "for i in range(1,5,1):\n",
    "    mean_tpr += interp(all_fpr, fpr[i], tpr[i])\n",
    "\n",
    "# Finally average it and compute AUC\n",
    "mean_tpr /= n_classes\n",
    "\n",
    "fpr[\"macro\"] = all_fpr\n",
    "tpr[\"macro\"] = mean_tpr\n",
    "roc_auc[\"macro\"] = auc(fpr[\"macro\"], tpr[\"macro\"])\n",
    "\n",
    "# Plot all ROC curves\n",
    "\n",
    "#plt.figure()\n",
    "\n",
    "def plot_roc_c():\n",
    "    \n",
    "    plt.plot(fpr[\"micro\"], tpr[\"micro\"],\n",
    "             label='micro-average ROC curve (area = {0:0.2f})'\n",
    "                   ''.format(roc_auc[\"micro\"]),\n",
    "             color='violet', linestyle=':', linewidth=6)\n",
    "\n",
    "    plt.plot(fpr[\"macro\"], tpr[\"macro\"],\n",
    "             label='macro-average ROC curve (area = {0:0.2f})'\n",
    "                   ''.format(roc_auc[\"macro\"]),\n",
    "             color='darkviolet', linestyle=':', linewidth=6)\n",
    "\n",
    "    colors = cycle(['olivedrab', 'peru', 'darkorange', 'chartreuse'])\n",
    "\n",
    "    for i, color in zip(range(1,5,1), colors):\n",
    "        plt.plot(fpr[i], tpr[i], color=color, lw=2,\n",
    "                 label='ROC curve of class {0} (area = {1:0.2f})'\n",
    "                 ''.format(i, roc_auc[i]))\n",
    "\n",
    "    plt.plot([0, 1], [0, 1], 'k--', lw=lw)\n",
    "    plt.xlim([0.0, 1.0])\n",
    "    plt.ylim([0.0, 1.0])\n",
    "    plt.xlabel('False Positive Rate')\n",
    "    plt.ylabel('True Positive Rate')\n",
    "    plt.title('Some extension of Receiver operating characteristic to multi-class')\n",
    "    plt.legend(loc=\"lower right\")\n",
    "\n",
    "fig = plt.figure()\n",
    "plot_roc_c()\n",
    "fig.set_size_inches(w=9,h=9)\n",
    "fig_name = 'CF_figs/ROC_RBF.png'\n",
    "fig.savefig(fig_name)\n",
    "plt.show()"
   ]
  },
  {
   "cell_type": "markdown",
   "metadata": {},
   "source": [
    "## Support Vector Machine Poly"
   ]
  },
  {
   "cell_type": "code",
   "execution_count": null,
   "metadata": {},
   "outputs": [
    {
     "name": "stdout",
     "output_type": "stream",
     "text": [
      "Processing time Polynomial\n"
     ]
    }
   ],
   "source": [
    "from sklearn import svm, datasets\n",
    "\n",
    "print 'Processing time Polynomial'\n",
    "#%time svm = svm.SVC(kernel='poly', degree=2, coef0=4.7, C=48.9, decision_function_shape='ovr').fit(X_train_std, y_train)\n",
    "%time svm_poly = svm.SVC(kernel='poly', degree=2,  C=500).fit(X_train_std, y_train)\n"
   ]
  },
  {
   "cell_type": "code",
   "execution_count": null,
   "metadata": {},
   "outputs": [],
   "source": [
    "#poly_y_pred = svm_poly.predict(X_test_std)\n",
    "\n",
    "print 'Predict time'  \n",
    "%time poly_y_pred = svm_poly.predict(X_test_std)\n",
    "from sklearn.metrics import accuracy_score\n",
    "print ('SVM-Polynomial accuracy:--->%.2f %%' % (accuracy_score(y_test, poly_y_pred)*100))\n",
    "        "
   ]
  },
  {
   "cell_type": "code",
   "execution_count": null,
   "metadata": {
    "scrolled": true
   },
   "outputs": [],
   "source": [
    "print 'Predict time'  \n",
    "%time poly_y_pred_v = svm_poly.predict(X_validate_std)\n",
    "from sklearn.metrics import accuracy_score\n",
    "print ('SVM-Polynomial accuracy:---------->%.2f %%' % (accuracy_score(y_validate, poly_y_pred_v)*100))"
   ]
  },
  {
   "cell_type": "code",
   "execution_count": null,
   "metadata": {},
   "outputs": [],
   "source": [
    "from sklearn.metrics import confusion_matrix\n",
    "confusion_matrix = confusion_matrix(y_validate, poly_y_pred_v)\n",
    "confusion_matrix = confusion_matrix.astype('float')\n",
    "confusion_matrix\n",
    "cm = confusion_matrix\n",
    "cm"
   ]
  },
  {
   "cell_type": "markdown",
   "metadata": {},
   "source": [
    "# Confusion Matrix"
   ]
  },
  {
   "cell_type": "code",
   "execution_count": null,
   "metadata": {},
   "outputs": [],
   "source": [
    "from sklearn.metrics import confusion_matrix\n",
    "confusion_matrix = confusion_matrix(y_validate, poly_y_pred_v)\n",
    "confusion_matrix = confusion_matrix.astype('float')"
   ]
  },
  {
   "cell_type": "code",
   "execution_count": null,
   "metadata": {},
   "outputs": [],
   "source": [
    "confusion_matrix"
   ]
  },
  {
   "cell_type": "code",
   "execution_count": null,
   "metadata": {},
   "outputs": [],
   "source": [
    "FP = confusion_matrix.sum(axis=0) - np.diag(confusion_matrix)  \n",
    "FN = confusion_matrix.sum(axis=1) - np.diag(confusion_matrix)\n",
    "TP = np.diag(confusion_matrix)\n",
    "TN = confusion_matrix.sum() - (FP + FN + TP)\n",
    "\n",
    "# Sensitivity, hit rate, recall, or true positive rate\n",
    "TPR = TP/(TP+FN)\n",
    "# Specificity or true negative rate\n",
    "TNR = TN/(TN+FP) \n",
    "# Precision or positive predictive value\n",
    "PPV = TP/(TP+FP)\n",
    "# Negative predictive value\n",
    "NPV = TN/(TN+FN)\n",
    "# Fall out or false positive rate\n",
    "FPR = FP/(FP+TN)\n",
    "# False negative rate\n",
    "FNR = FN/(TP+FN)\n",
    "# False discovery rate\n",
    "FDR = FP/(TP+FP)\n",
    "\n",
    "# Overall accuracy\n",
    "ACC = (TP+TN)/(TP+FP+FN+TN)"
   ]
  },
  {
   "cell_type": "code",
   "execution_count": null,
   "metadata": {},
   "outputs": [],
   "source": [
    "TPR*100 # Sensitivity"
   ]
  },
  {
   "cell_type": "code",
   "execution_count": null,
   "metadata": {},
   "outputs": [],
   "source": [
    "TNR*100 # Specificity"
   ]
  },
  {
   "cell_type": "code",
   "execution_count": null,
   "metadata": {},
   "outputs": [],
   "source": [
    "PPV*100 # Precision"
   ]
  },
  {
   "cell_type": "code",
   "execution_count": null,
   "metadata": {},
   "outputs": [],
   "source": [
    "ACC*100 # Accuracy"
   ]
  },
  {
   "cell_type": "code",
   "execution_count": null,
   "metadata": {},
   "outputs": [],
   "source": [
    "sum(ACC)/6*100"
   ]
  },
  {
   "cell_type": "code",
   "execution_count": null,
   "metadata": {},
   "outputs": [],
   "source": [
    "# encoding=utf8  \n",
    "#import sys  \n",
    "#reload(sys)  \n",
    "#sys.setdefaultencoding('utf8')\n",
    "\n",
    "from sklearn.metrics import confusion_matrix\n",
    "import itertools\n",
    "import matplotlib.pyplot as plt\n",
    "\n",
    "#%matplotlib notebook\n",
    "class_names = np.array(['N-0', 'N-1', 'N-2', 'N-3', 'N-4', 'N-1,5'])\n",
    "\n",
    "yvalid = y_validate \n",
    "\n",
    "def plot_confusion_matrix(cm, classes,\n",
    "                          normalize=False,\n",
    "                          title='Confusion de matrix',\n",
    "                          cmap=plt.cm.Blues):\n",
    "    \"\"\"\n",
    "    This function prints and plots the confusion matrix.\n",
    "    Normalization can be applied by setting `normalize=True`.\n",
    "    \"\"\"\n",
    "    plt.imshow(cm, interpolation='nearest', cmap=cmap)\n",
    "    plt.title(title)\n",
    "    plt.colorbar()\n",
    "    tick_marks = np.arange(len(classes))\n",
    "    plt.xticks(tick_marks, classes, rotation=45)\n",
    "    plt.yticks(tick_marks, classes)\n",
    "\n",
    "    \n",
    "    if normalize:\n",
    "        cm = cm.astype('float') / cm.sum(axis=1)[:, np.newaxis]\n",
    "        print(\"Matrix de confusão normalizada\")\n",
    "        thresh = cm.max() / 2.\n",
    "        for i, j in itertools.product(range(cm.shape[0]), range(cm.shape[1])):\n",
    "            plt.text(j, i, ('%.3f' % cm[i, j]), horizontalalignment=\"center\", color=\"white\" if cm[i, j] > thresh else \"black\")\n",
    "\n",
    "    else:\n",
    "        print('Matrix de confusão, sem normalização')\n",
    "        thresh = cm.max() / 2.\n",
    "        for i, j in itertools.product(range(cm.shape[0]), range(cm.shape[1])):\n",
    "            plt.text(j, i, cm[i, j], horizontalalignment=\"center\", color=\"white\" if cm[i, j] > thresh else \"black\")\n",
    "\n",
    "    print(cm)\n",
    "\n",
    "    plt.tight_layout()\n",
    "    plt.ylabel('Valores reais')\n",
    "    plt.xlabel('Valores preditos')\n",
    "\n",
    "# Compute confusion matrix\n",
    "cnf_matrix = confusion_matrix(yvalid, poly_y_pred_v)\n",
    "np.set_printoptions(precision=2)\n",
    "\n",
    "# Plot non-normalized confusion matrix\n",
    "fig = plt.figure()\n",
    "plot_confusion_matrix(cnf_matrix, classes=class_names,\n",
    "                      title='Matrix de confusao - SVM-Poly')\n",
    "fig.set_size_inches(w=7,h=6)\n",
    "\n",
    "# Plot normalized confusion matrix\n",
    "fig = plt.figure()\n",
    "plot_confusion_matrix(cnf_matrix, classes=class_names, normalize=True,\n",
    "                      title='Matrix de confusao - SVM-Poly')\n",
    "fig_name = 'CF_figs/cm_SVM-Poly.png'\n",
    "fig.set_size_inches(w=7,h=6)\n",
    "fig.savefig(fig_name)\n",
    "\n",
    "plt.show()"
   ]
  },
  {
   "cell_type": "markdown",
   "metadata": {},
   "source": [
    "---"
   ]
  },
  {
   "cell_type": "markdown",
   "metadata": {},
   "source": [
    "## KNeigbors"
   ]
  },
  {
   "cell_type": "code",
   "execution_count": 80,
   "metadata": {},
   "outputs": [],
   "source": [
    "from sklearn.neighbors import KNeighborsClassifier\n",
    "knc = KNeighborsClassifier(n_neighbors=2, weights = 'distance', algorithm = 'auto', p = 1)\n",
    "knc = knc.fit(X_train_std, y_train)\n",
    "print''\n",
    "\n",
    "print 'Predict time'\n",
    "%time pred = knc.predict(X_test_std)\n",
    "\n",
    "print''\n",
    "\n",
    "from sklearn.metrics import accuracy_score\n",
    "\n",
    "\n",
    "\n",
    "print ('ClassifyKN accuracy:---------->%.2f %%' % (accuracy_score(y_test, pred)*100))"
   ]
  },
  {
   "cell_type": "code",
   "execution_count": 81,
   "metadata": {},
   "outputs": [
    {
     "data": {
      "text/plain": [
       "70.42095014099111"
      ]
     },
     "execution_count": 81,
     "metadata": {},
     "output_type": "execute_result"
    }
   ],
   "source": [
    "accuracy_score(y_test, pred)*100"
   ]
  },
  {
   "cell_type": "code",
   "execution_count": 82,
   "metadata": {},
   "outputs": [
    {
     "data": {
      "text/plain": [
       "40.215143949442144"
      ]
     },
     "execution_count": 82,
     "metadata": {},
     "output_type": "execute_result"
    }
   ],
   "source": [
    "%time pred = knc.predict(X_validate_std)\n",
    "accuracy_score(y_validate, pred)*100"
   ]
  },
  {
   "cell_type": "markdown",
   "metadata": {},
   "source": [
    "## Confusion Matrix"
   ]
  },
  {
   "cell_type": "code",
   "execution_count": 83,
   "metadata": {},
   "outputs": [],
   "source": [
    "from sklearn.metrics import confusion_matrix\n",
    "confusion_matrix = confusion_matrix(y_validate, y_pred)\n",
    "confusion_matrix = confusion_matrix.astype('float')"
   ]
  },
  {
   "cell_type": "code",
   "execution_count": 84,
   "metadata": {},
   "outputs": [
    {
     "data": {
      "text/plain": [
       "array([[  2.73e+04,   4.75e+03,   2.00e+01,   3.09e+03,   1.06e+03,\n",
       "          3.72e+03],\n",
       "       [  1.06e+04,   1.60e+03,   6.00e+00,   3.57e+03,   2.53e+03,\n",
       "          5.70e+03],\n",
       "       [  3.58e+04,   5.48e+03,   2.60e+01,   4.52e+03,   3.18e+03,\n",
       "          4.96e+03],\n",
       "       [  1.57e+04,   2.55e+03,   1.10e+01,   6.00e+03,   2.24e+03,\n",
       "          3.45e+03],\n",
       "       [  4.22e+04,   6.18e+03,   2.60e+01,   1.75e+04,   8.46e+03,\n",
       "          2.16e+04],\n",
       "       [  2.57e+04,   2.89e+03,   1.10e+01,   1.80e+04,   4.18e+03,\n",
       "          1.31e+04]])"
      ]
     },
     "execution_count": 84,
     "metadata": {},
     "output_type": "execute_result"
    }
   ],
   "source": [
    "confusion_matrix"
   ]
  },
  {
   "cell_type": "code",
   "execution_count": 85,
   "metadata": {},
   "outputs": [],
   "source": [
    "FP = confusion_matrix.sum(axis=0) - np.diag(confusion_matrix)  \n",
    "FN = confusion_matrix.sum(axis=1) - np.diag(confusion_matrix)\n",
    "TP = np.diag(confusion_matrix)\n",
    "TN = confusion_matrix.sum() - (FP + FN + TP)\n",
    "\n",
    "# Sensitivity, hit rate, recall, or true positive rate\n",
    "TPR = TP/(TP+FN)\n",
    "# Specificity or true negative rate\n",
    "TNR = TN/(TN+FP) \n",
    "# Precision or positive predictive value\n",
    "PPV = TP/(TP+FP)\n",
    "# Negative predictive value\n",
    "NPV = TN/(TN+FN)\n",
    "# Fall out or false positive rate\n",
    "FPR = FP/(FP+TN)\n",
    "# False negative rate\n",
    "FNR = FN/(TP+FN)\n",
    "# False discovery rate\n",
    "FDR = FP/(TP+FP)\n",
    "\n",
    "# Overall accuracy\n",
    "ACC = (TP+TN)/(TP+FP+FN+TN)"
   ]
  },
  {
   "cell_type": "code",
   "execution_count": 86,
   "metadata": {},
   "outputs": [
    {
     "data": {
      "text/plain": [
       "array([  6.83e+01,   6.68e+00,   4.82e-02,   2.00e+01,   8.81e+00,\n",
       "         2.05e+01])"
      ]
     },
     "execution_count": 86,
     "metadata": {},
     "output_type": "execute_result"
    }
   ],
   "source": [
    "TPR*100 # Sensitivity"
   ]
  },
  {
   "cell_type": "code",
   "execution_count": 87,
   "metadata": {},
   "outputs": [
    {
     "data": {
      "text/plain": [
       "array([ 51.45,  92.3 ,  99.97,  83.21,  93.76,  83.83])"
      ]
     },
     "execution_count": 87,
     "metadata": {},
     "output_type": "execute_result"
    }
   ],
   "source": [
    "TNR*100 # Specificity"
   ]
  },
  {
   "cell_type": "code",
   "execution_count": 88,
   "metadata": {},
   "outputs": [
    {
     "data": {
      "text/plain": [
       "array([ 17.34,   6.82,  26.  ,  11.41,  39.04,  24.97])"
      ]
     },
     "execution_count": 88,
     "metadata": {},
     "output_type": "execute_result"
    }
   ],
   "source": [
    "PPV*100 # Precision"
   ]
  },
  {
   "cell_type": "code",
   "execution_count": 89,
   "metadata": {},
   "outputs": [
    {
     "data": {
      "text/plain": [
       "array([ 53.64,  85.63,  82.45,  77.06,  67.26,  70.68])"
      ]
     },
     "execution_count": 89,
     "metadata": {},
     "output_type": "execute_result"
    }
   ],
   "source": [
    "ACC*100 # Accuracy"
   ]
  },
  {
   "cell_type": "code",
   "execution_count": 90,
   "metadata": {},
   "outputs": [
    {
     "data": {
      "text/plain": [
       "72.784951410019673"
      ]
     },
     "execution_count": 90,
     "metadata": {},
     "output_type": "execute_result"
    }
   ],
   "source": [
    "sum(ACC)/6*100"
   ]
  },
  {
   "cell_type": "code",
   "execution_count": 91,
   "metadata": {},
   "outputs": [
    {
     "data": {
      "image/png": "[encoded data removed]",
      "text/plain": [
       "<matplotlib.figure.Figure at 0x7fb6ed146a50>"
      ]
     },
     "metadata": {},
     "output_type": "display_data"
    },
    {
     "data": {
      "image/png": "[encoded data removed]",
      "text/plain": [
       "<matplotlib.figure.Figure at 0x7fb6ecebd3d0>"
      ]
     },
     "metadata": {},
     "output_type": "display_data"
    }
   ],
   "source": [
    "# encoding=utf8  \n",
    "#import sys  \n",
    "#reload(sys)  \n",
    "#sys.setdefaultencoding('utf8')\n",
    "\n",
    "from sklearn.metrics import confusion_matrix\n",
    "import itertools\n",
    "import matplotlib.pyplot as plt\n",
    "\n",
    "#%matplotlib notebook\n",
    "class_names = np.array(['N-0', 'N-1', 'N-2', 'N-3', 'N-4', 'N-1,5'])\n",
    "\n",
    "yvalid = y_validate \n",
    "\n",
    "def plot_confusion_matrix(cm, classes,\n",
    "                          normalize=False,\n",
    "                          title='Confusion matrix',\n",
    "                          cmap=plt.cm.Blues):\n",
    "    \"\"\"\n",
    "    This function prints and plots the confusion matrix.\n",
    "    Normalization can be applied by setting `normalize=True`.\n",
    "    \"\"\"\n",
    "    plt.imshow(cm, interpolation='nearest', cmap=cmap)\n",
    "    plt.title(title)\n",
    "    plt.colorbar()\n",
    "    tick_marks = np.arange(len(classes))\n",
    "    plt.xticks(tick_marks, classes, rotation=45)\n",
    "    plt.yticks(tick_marks, classes)\n",
    "\n",
    "    \n",
    "    if normalize:\n",
    "        cm = cm.astype('float') / cm.sum(axis=1)[:, np.newaxis]\n",
    "        print(\"Matrix confusão normalizada\")\n",
    "        thresh = cm.max() / 2.\n",
    "        for i, j in itertools.product(range(cm.shape[0]), range(cm.shape[1])):\n",
    "            plt.text(j, i, ('%.3f' % cm[i, j]), horizontalalignment=\"center\", color=\"white\" if cm[i, j] > thresh else \"black\")\n",
    "\n",
    "    else:\n",
    "        print('Matrix confusão, sem normalização')\n",
    "        thresh = cm.max() / 2.\n",
    "        for i, j in itertools.product(range(cm.shape[0]), range(cm.shape[1])):\n",
    "            plt.text(j, i, cm[i, j], horizontalalignment=\"center\", color=\"white\" if cm[i, j] > thresh else \"black\")\n",
    "\n",
    "    print(cm)\n",
    "\n",
    "    plt.tight_layout()\n",
    "    plt.ylabel('Valores reais')\n",
    "    plt.xlabel('Valores preditos')\n",
    "\n",
    "# Compute confusion matrix\n",
    "cnf_matrix = confusion_matrix(yvalid, y_pred)\n",
    "np.set_printoptions(precision=2)\n",
    "\n",
    "# Plot non-normalized confusion matrix\n",
    "fig = plt.figure()\n",
    "plot_confusion_matrix(cnf_matrix, classes=class_names,\n",
    "                      title='Matrix confusao SVM-RBF')\n",
    "fig.set_size_inches(w=7,h=6)\n",
    "\n",
    "# Plot normalized confusion matrix\n",
    "fig = plt.figure()\n",
    "plot_confusion_matrix(cnf_matrix, classes=class_names, normalize=True,\n",
    "                      title='Matrix confusao SVM-RBF')\n",
    "fig_name = 'cm_SVM-RBF.png'\n",
    "fig.set_size_inches(w=7,h=6)\n",
    "fig.savefig(fig_name)\n",
    "\n",
    "plt.show()"
   ]
  }
 ],
 "metadata": {
  "kernelspec": {
   "display_name": "Python 2",
   "language": "python",
   "name": "python2"
  },
  "language_info": {
   "codemirror_mode": {
    "name": "ipython",
    "version": 2
   },
   "file_extension": ".py",
   "mimetype": "text/x-python",
   "name": "python",
   "nbconvert_exporter": "python",
   "pygments_lexer": "ipython2",
   "version": "2.7.14"
  }
 },
 "nbformat": 4,
 "nbformat_minor": 2
}
