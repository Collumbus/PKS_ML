{
 "cells": [
  {
   "cell_type": "markdown",
   "metadata": {},
   "source": [
    "Pré-processamento realizado em Processing.ipynb"
   ]
  },
  {
   "cell_type": "markdown",
   "metadata": {},
   "source": [
    "# Bibliotecas"
   ]
  },
  {
   "cell_type": "code",
   "execution_count": 1,
   "metadata": {},
   "outputs": [],
   "source": [
    "import os\n",
    "import pandas as pd\n",
    "import numpy as np\n",
    "import scipy as sp\n",
    "from scipy import signal\n",
    "import ml_time_series as mls\n",
    "import timeit\n",
    "from datetime import datetime\n",
    "from sklearn.externals import joblib\n",
    "import matplotlib.pyplot as plt\n",
    "from sklearn.decomposition import PCA\n",
    "from sklearn import preprocessing\n",
    "from sklearn import utils\n",
    "\n",
    "%matplotlib notebook"
   ]
  },
  {
   "cell_type": "code",
   "execution_count": 16,
   "metadata": {},
   "outputs": [],
   "source": [
    "def Stacker(files_,t):\n",
    "    \n",
    "    #Lê dados do arquivo e remove janela\n",
    "    Xc = np.load('preproc/'+files_[3])\n",
    "    Xc = Xc[:-49]\n",
    "    #print t\n",
    "    #print len(Xc)\n",
    "    \n",
    "    #Aplica Hstack nos dados\n",
    "    for j in range(0,len(files_)-1):\n",
    "        Xci = np.load('preproc/'+files_[j])\n",
    "        #print len(Xci)\n",
    "        Xc = np.hstack((Xc.reshape(Xc.shape),Xci.reshape(Xci.shape)))\n",
    "        \n",
    "    #Labeling the PKS level    \n",
    "    #C = (np.ones(len(Xc))*l).reshape((len(Xc),1))\n",
    "    #Xc = np.hstack((Xc.reshape(Xc.shape),C.reshape((len(Xc),1))))    \n",
    "    \n",
    "    # Salving in file on the folder <preproc/labeled>\n",
    "    np.save('preproc/labeled/'+t+'_hs', Xc, allow_pickle=False)\n",
    "    \n",
    "    if \"v\" in t:\n",
    "        DATAv_hs.append(t+'_hs.npy')\n",
    "    else:\n",
    "        DATA_hs.append(t+'_hs.npy')"
   ]
  },
  {
   "cell_type": "code",
   "execution_count": 17,
   "metadata": {
    "scrolled": true
   },
   "outputs": [
    {
     "data": {
      "text/plain": [
       "['labeled',\n",
       " 'pd06.1.1_fft.npy',\n",
       " 'pd06.1.1_filt.npy',\n",
       " 'pd06.1.1_rms.npy',\n",
       " 'pd06.1.1_std.npy',\n",
       " 'pd06.1.2_fft.npy',\n",
       " 'pd06.1.2_filt.npy',\n",
       " 'pd06.1.2_rms.npy',\n",
       " 'pd06.1.2_std.npy',\n",
       " 'pd06.1.3_fft.npy',\n",
       " 'pd06.1.3_filt.npy',\n",
       " 'pd06.1.3_rms.npy',\n",
       " 'pd06.1.3_std.npy',\n",
       " 'pd07.1.1_fft.npy',\n",
       " 'pd07.1.1_filt.npy',\n",
       " 'pd07.1.1_rms.npy',\n",
       " 'pd07.1.1_std.npy',\n",
       " 'pd07.1.2_fft.npy',\n",
       " 'pd07.1.2_filt.npy',\n",
       " 'pd07.1.2_rms.npy',\n",
       " 'pd07.1.2_std.npy',\n",
       " 'pd07.1.3_fft.npy',\n",
       " 'pd07.1.3_filt.npy',\n",
       " 'pd07.1.3_rms.npy',\n",
       " 'pd07.1.3_std.npy',\n",
       " 'pd09.2.1_fft.npy',\n",
       " 'pd09.2.1_filt.npy',\n",
       " 'pd09.2.1_rms.npy',\n",
       " 'pd09.2.1_std.npy',\n",
       " 'pd09.2.2_fft.npy',\n",
       " 'pd09.2.2_filt.npy',\n",
       " 'pd09.2.2_rms.npy',\n",
       " 'pd09.2.2_std.npy',\n",
       " 'pd09.2.3_fft.npy',\n",
       " 'pd09.2.3_filt.npy',\n",
       " 'pd09.2.3_rms.npy',\n",
       " 'pd09.2.3_std.npy',\n",
       " 'pd17.2.1_fft.npy',\n",
       " 'pd17.2.1_filt.npy',\n",
       " 'pd17.2.1_rms.npy',\n",
       " 'pd17.2.1_std.npy',\n",
       " 'pd17.2.2_fft.npy',\n",
       " 'pd17.2.2_filt.npy',\n",
       " 'pd17.2.2_rms.npy',\n",
       " 'pd17.2.2_std.npy',\n",
       " 'pd17.2.3_fft.npy',\n",
       " 'pd17.2.3_filt.npy',\n",
       " 'pd17.2.3_rms.npy',\n",
       " 'pd17.2.3_std.npy',\n",
       " 'pdv06.2.1_fft.npy',\n",
       " 'pdv06.2.1_filt.npy',\n",
       " 'pdv06.2.1_rms.npy',\n",
       " 'pdv06.2.1_std.npy',\n",
       " 'pdv06.2.2_fft.npy',\n",
       " 'pdv06.2.2_filt.npy',\n",
       " 'pdv06.2.2_rms.npy',\n",
       " 'pdv06.2.2_std.npy',\n",
       " 'pdv06.2.3_fft.npy',\n",
       " 'pdv06.2.3_filt.npy',\n",
       " 'pdv06.2.3_rms.npy',\n",
       " 'pdv06.2.3_std.npy',\n",
       " 'pdv07.2.1_fft.npy',\n",
       " 'pdv07.2.1_filt.npy',\n",
       " 'pdv07.2.1_rms.npy',\n",
       " 'pdv07.2.1_std.npy',\n",
       " 'pdv07.2.2_fft.npy',\n",
       " 'pdv07.2.2_filt.npy',\n",
       " 'pdv07.2.2_rms.npy',\n",
       " 'pdv07.2.2_std.npy',\n",
       " 'pdv07.2.3_fft.npy',\n",
       " 'pdv07.2.3_filt.npy',\n",
       " 'pdv07.2.3_rms.npy',\n",
       " 'pdv07.2.3_std.npy',\n",
       " 'pdv09.3.1_fft.npy',\n",
       " 'pdv09.3.1_filt.npy',\n",
       " 'pdv09.3.1_rms.npy',\n",
       " 'pdv09.3.1_std.npy',\n",
       " 'pdv09.3.2_fft.npy',\n",
       " 'pdv09.3.2_filt.npy',\n",
       " 'pdv09.3.2_rms.npy',\n",
       " 'pdv09.3.2_std.npy',\n",
       " 'pdv09.3.3_fft.npy',\n",
       " 'pdv09.3.3_filt.npy',\n",
       " 'pdv09.3.3_rms.npy',\n",
       " 'pdv09.3.3_std.npy',\n",
       " 'pdv17.3.1_fft.npy',\n",
       " 'pdv17.3.1_filt.npy',\n",
       " 'pdv17.3.1_rms.npy',\n",
       " 'pdv17.3.1_std.npy',\n",
       " 'pdv17.3.2_fft.npy',\n",
       " 'pdv17.3.2_filt.npy',\n",
       " 'pdv17.3.2_rms.npy',\n",
       " 'pdv17.3.2_std.npy',\n",
       " 'pdv17.3.3_fft.npy',\n",
       " 'pdv17.3.3_filt.npy',\n",
       " 'pdv17.3.3_rms.npy',\n",
       " 'pdv17.3.3_std.npy',\n",
       " 'pe06.1.1_fft.npy',\n",
       " 'pe06.1.1_filt.npy',\n",
       " 'pe06.1.1_rms.npy',\n",
       " 'pe06.1.1_std.npy',\n",
       " 'pe06.1.2_fft.npy',\n",
       " 'pe06.1.2_filt.npy',\n",
       " 'pe06.1.2_rms.npy',\n",
       " 'pe06.1.2_std.npy',\n",
       " 'pe06.1.3_fft.npy',\n",
       " 'pe06.1.3_filt.npy',\n",
       " 'pe06.1.3_rms.npy',\n",
       " 'pe06.1.3_std.npy',\n",
       " 'pe07.1.1_fft.npy',\n",
       " 'pe07.1.1_filt.npy',\n",
       " 'pe07.1.1_rms.npy',\n",
       " 'pe07.1.1_std.npy',\n",
       " 'pe07.1.2_fft.npy',\n",
       " 'pe07.1.2_filt.npy',\n",
       " 'pe07.1.2_rms.npy',\n",
       " 'pe07.1.2_std.npy',\n",
       " 'pe07.1.3_fft.npy',\n",
       " 'pe07.1.3_filt.npy',\n",
       " 'pe07.1.3_rms.npy',\n",
       " 'pe07.1.3_std.npy',\n",
       " 'pe09.2.1_fft.npy',\n",
       " 'pe09.2.1_filt.npy',\n",
       " 'pe09.2.1_rms.npy',\n",
       " 'pe09.2.1_std.npy',\n",
       " 'pe09.2.2_fft.npy',\n",
       " 'pe09.2.2_filt.npy',\n",
       " 'pe09.2.2_rms.npy',\n",
       " 'pe09.2.2_std.npy',\n",
       " 'pe09.2.3_fft.npy',\n",
       " 'pe09.2.3_filt.npy',\n",
       " 'pe09.2.3_rms.npy',\n",
       " 'pe09.2.3_std.npy',\n",
       " 'pe17.2.1_fft.npy',\n",
       " 'pe17.2.1_filt.npy',\n",
       " 'pe17.2.1_rms.npy',\n",
       " 'pe17.2.1_std.npy',\n",
       " 'pe17.2.2_fft.npy',\n",
       " 'pe17.2.2_filt.npy',\n",
       " 'pe17.2.2_rms.npy',\n",
       " 'pe17.2.2_std.npy',\n",
       " 'pe17.2.3_fft.npy',\n",
       " 'pe17.2.3_filt.npy',\n",
       " 'pe17.2.3_rms.npy',\n",
       " 'pe17.2.3_std.npy',\n",
       " 'pev06.2.1_fft.npy',\n",
       " 'pev06.2.1_filt.npy',\n",
       " 'pev06.2.1_rms.npy',\n",
       " 'pev06.2.1_std.npy',\n",
       " 'pev06.2.2_fft.npy',\n",
       " 'pev06.2.2_filt.npy',\n",
       " 'pev06.2.2_rms.npy',\n",
       " 'pev06.2.2_std.npy',\n",
       " 'pev06.2.3_fft.npy',\n",
       " 'pev06.2.3_filt.npy',\n",
       " 'pev06.2.3_rms.npy',\n",
       " 'pev06.2.3_std.npy',\n",
       " 'pev07.2.1_fft.npy',\n",
       " 'pev07.2.1_filt.npy',\n",
       " 'pev07.2.1_rms.npy',\n",
       " 'pev07.2.1_std.npy',\n",
       " 'pev07.2.2_fft.npy',\n",
       " 'pev07.2.2_filt.npy',\n",
       " 'pev07.2.2_rms.npy',\n",
       " 'pev07.2.2_std.npy',\n",
       " 'pev07.2.3_fft.npy',\n",
       " 'pev07.2.3_filt.npy',\n",
       " 'pev07.2.3_rms.npy',\n",
       " 'pev07.2.3_std.npy',\n",
       " 'pev09.3.1_fft.npy',\n",
       " 'pev09.3.1_filt.npy',\n",
       " 'pev09.3.1_rms.npy',\n",
       " 'pev09.3.1_std.npy',\n",
       " 'pev09.3.2_fft.npy',\n",
       " 'pev09.3.2_filt.npy',\n",
       " 'pev09.3.2_rms.npy',\n",
       " 'pev09.3.2_std.npy',\n",
       " 'pev09.3.3_fft.npy',\n",
       " 'pev09.3.3_filt.npy',\n",
       " 'pev09.3.3_rms.npy',\n",
       " 'pev09.3.3_std.npy',\n",
       " 'pev17.3.1_fft.npy',\n",
       " 'pev17.3.1_filt.npy',\n",
       " 'pev17.3.1_rms.npy',\n",
       " 'pev17.3.1_std.npy',\n",
       " 'pev17.3.2_fft.npy',\n",
       " 'pev17.3.2_filt.npy',\n",
       " 'pev17.3.2_rms.npy',\n",
       " 'pev17.3.2_std.npy',\n",
       " 'pev17.3.3_fft.npy',\n",
       " 'pev17.3.3_filt.npy',\n",
       " 'pev17.3.3_rms.npy',\n",
       " 'pev17.3.3_std.npy',\n",
       " 'pi06.1.1_fft.npy',\n",
       " 'pi06.1.1_filt.npy',\n",
       " 'pi06.1.1_rms.npy',\n",
       " 'pi06.1.1_std.npy',\n",
       " 'pi06.1.2_fft.npy',\n",
       " 'pi06.1.2_filt.npy',\n",
       " 'pi06.1.2_rms.npy',\n",
       " 'pi06.1.2_std.npy',\n",
       " 'pi06.1.3_fft.npy',\n",
       " 'pi06.1.3_filt.npy',\n",
       " 'pi06.1.3_rms.npy',\n",
       " 'pi06.1.3_std.npy',\n",
       " 'pi07.2.1_fft.npy',\n",
       " 'pi07.2.1_filt.npy',\n",
       " 'pi07.2.1_rms.npy',\n",
       " 'pi07.2.1_std.npy',\n",
       " 'pi07.2.2_fft.npy',\n",
       " 'pi07.2.2_filt.npy',\n",
       " 'pi07.2.2_rms.npy',\n",
       " 'pi07.2.2_std.npy',\n",
       " 'pi07.2.3_fft.npy',\n",
       " 'pi07.2.3_filt.npy',\n",
       " 'pi07.2.3_rms.npy',\n",
       " 'pi07.2.3_std.npy',\n",
       " 'pi09.1.1_fft.npy',\n",
       " 'pi09.1.1_filt.npy',\n",
       " 'pi09.1.1_rms.npy',\n",
       " 'pi09.1.1_std.npy',\n",
       " 'pi09.1.2_fft.npy',\n",
       " 'pi09.1.2_filt.npy',\n",
       " 'pi09.1.2_rms.npy',\n",
       " 'pi09.1.2_std.npy',\n",
       " 'pi09.1.3_fft.npy',\n",
       " 'pi09.1.3_filt.npy',\n",
       " 'pi09.1.3_rms.npy',\n",
       " 'pi09.1.3_std.npy',\n",
       " 'pi17.1.1_fft.npy',\n",
       " 'pi17.1.1_filt.npy',\n",
       " 'pi17.1.1_rms.npy',\n",
       " 'pi17.1.1_std.npy',\n",
       " 'pi17.1.2_fft.npy',\n",
       " 'pi17.1.2_filt.npy',\n",
       " 'pi17.1.2_rms.npy',\n",
       " 'pi17.1.2_std.npy',\n",
       " 'pi17.1.3_fft.npy',\n",
       " 'pi17.1.3_filt.npy',\n",
       " 'pi17.1.3_rms.npy',\n",
       " 'pi17.1.3_std.npy',\n",
       " 'piv06.2.1_fft.npy',\n",
       " 'piv06.2.1_filt.npy',\n",
       " 'piv06.2.1_rms.npy',\n",
       " 'piv06.2.1_std.npy',\n",
       " 'piv06.2.2_fft.npy',\n",
       " 'piv06.2.2_filt.npy',\n",
       " 'piv06.2.2_rms.npy',\n",
       " 'piv06.2.2_std.npy',\n",
       " 'piv06.2.3_fft.npy',\n",
       " 'piv06.2.3_filt.npy',\n",
       " 'piv06.2.3_rms.npy',\n",
       " 'piv06.2.3_std.npy',\n",
       " 'piv07.3.1_fft.npy',\n",
       " 'piv07.3.1_filt.npy',\n",
       " 'piv07.3.1_rms.npy',\n",
       " 'piv07.3.1_std.npy',\n",
       " 'piv07.3.2_fft.npy',\n",
       " 'piv07.3.2_filt.npy',\n",
       " 'piv07.3.2_rms.npy',\n",
       " 'piv07.3.2_std.npy',\n",
       " 'piv07.3.3_fft.npy',\n",
       " 'piv07.3.3_filt.npy',\n",
       " 'piv07.3.3_rms.npy',\n",
       " 'piv07.3.3_std.npy',\n",
       " 'piv09.2.1_fft.npy',\n",
       " 'piv09.2.1_filt.npy',\n",
       " 'piv09.2.1_rms.npy',\n",
       " 'piv09.2.1_std.npy',\n",
       " 'piv09.2.2_fft.npy',\n",
       " 'piv09.2.2_filt.npy',\n",
       " 'piv09.2.2_rms.npy',\n",
       " 'piv09.2.2_std.npy',\n",
       " 'piv09.2.3_fft.npy',\n",
       " 'piv09.2.3_filt.npy',\n",
       " 'piv09.2.3_rms.npy',\n",
       " 'piv09.2.3_std.npy',\n",
       " 'piv17.3.1_fft.npy',\n",
       " 'piv17.3.1_filt.npy',\n",
       " 'piv17.3.1_rms.npy',\n",
       " 'piv17.3.1_std.npy',\n",
       " 'piv17.3.2_fft.npy',\n",
       " 'piv17.3.2_filt.npy',\n",
       " 'piv17.3.2_rms.npy',\n",
       " 'piv17.3.2_std.npy',\n",
       " 'piv17.3.3_fft.npy',\n",
       " 'piv17.3.3_filt.npy',\n",
       " 'piv17.3.3_rms.npy',\n",
       " 'piv17.3.3_std.npy',\n",
       " 'pr06.1.1_fft.npy',\n",
       " 'pr06.1.1_filt.npy',\n",
       " 'pr06.1.1_rms.npy',\n",
       " 'pr06.1.1_std.npy',\n",
       " 'pr06.1.2_fft.npy',\n",
       " 'pr06.1.2_filt.npy',\n",
       " 'pr06.1.2_rms.npy',\n",
       " 'pr06.1.2_std.npy',\n",
       " 'pr06.1.3_fft.npy',\n",
       " 'pr06.1.3_filt.npy',\n",
       " 'pr06.1.3_rms.npy',\n",
       " 'pr06.1.3_std.npy',\n",
       " 'pr06.2.1_fft.npy',\n",
       " 'pr06.2.1_filt.npy',\n",
       " 'pr06.2.1_rms.npy',\n",
       " 'pr06.2.1_std.npy',\n",
       " 'pr06.2.2_fft.npy',\n",
       " 'pr06.2.2_filt.npy',\n",
       " 'pr06.2.2_rms.npy',\n",
       " 'pr06.2.2_std.npy',\n",
       " 'pr06.2.3_fft.npy',\n",
       " 'pr06.2.3_filt.npy',\n",
       " 'pr06.2.3_rms.npy',\n",
       " 'pr06.2.3_std.npy',\n",
       " 'pr07.1.1_fft.npy',\n",
       " 'pr07.1.1_filt.npy',\n",
       " 'pr07.1.1_rms.npy',\n",
       " 'pr07.1.1_std.npy',\n",
       " 'pr07.1.2_fft.npy',\n",
       " 'pr07.1.2_filt.npy',\n",
       " 'pr07.1.2_rms.npy',\n",
       " 'pr07.1.2_std.npy',\n",
       " 'pr07.1.3_fft.npy',\n",
       " 'pr07.1.3_filt.npy',\n",
       " 'pr07.1.3_rms.npy',\n",
       " 'pr07.1.3_std.npy',\n",
       " 'pr09.1.1_fft.npy',\n",
       " 'pr09.1.1_filt.npy',\n",
       " 'pr09.1.1_rms.npy',\n",
       " 'pr09.1.1_std.npy',\n",
       " 'pr09.1.2_fft.npy',\n",
       " 'pr09.1.2_filt.npy',\n",
       " 'pr09.1.2_rms.npy',\n",
       " 'pr09.1.2_std.npy',\n",
       " 'pr09.1.3_fft.npy',\n",
       " 'pr09.1.3_filt.npy',\n",
       " 'pr09.1.3_rms.npy',\n",
       " 'pr09.1.3_std.npy',\n",
       " 'pr09.2.1_fft.npy',\n",
       " 'pr09.2.1_filt.npy',\n",
       " 'pr09.2.1_rms.npy',\n",
       " 'pr09.2.1_std.npy',\n",
       " 'pr09.2.2_fft.npy',\n",
       " 'pr09.2.2_filt.npy',\n",
       " 'pr09.2.2_rms.npy',\n",
       " 'pr09.2.2_std.npy',\n",
       " 'pr09.2.3_fft.npy',\n",
       " 'pr09.2.3_filt.npy',\n",
       " 'pr09.2.3_rms.npy',\n",
       " 'pr09.2.3_std.npy',\n",
       " 'pr17.1.1_fft.npy',\n",
       " 'pr17.1.1_filt.npy',\n",
       " 'pr17.1.1_rms.npy',\n",
       " 'pr17.1.1_std.npy',\n",
       " 'pr17.1.2_fft.npy',\n",
       " 'pr17.1.2_filt.npy',\n",
       " 'pr17.1.2_rms.npy',\n",
       " 'pr17.1.2_std.npy',\n",
       " 'pr17.1.3_fft.npy',\n",
       " 'pr17.1.3_filt.npy',\n",
       " 'pr17.1.3_rms.npy',\n",
       " 'pr17.1.3_std.npy',\n",
       " 'pr17.2.1_fft.npy',\n",
       " 'pr17.2.1_filt.npy',\n",
       " 'pr17.2.1_rms.npy',\n",
       " 'pr17.2.1_std.npy',\n",
       " 'pr17.2.2_fft.npy',\n",
       " 'pr17.2.2_filt.npy',\n",
       " 'pr17.2.2_rms.npy',\n",
       " 'pr17.2.2_std.npy',\n",
       " 'pr17.2.3_fft.npy',\n",
       " 'pr17.2.3_filt.npy',\n",
       " 'pr17.2.3_rms.npy',\n",
       " 'pr17.2.3_std.npy',\n",
       " 'prv06.3.1_fft.npy',\n",
       " 'prv06.3.1_filt.npy',\n",
       " 'prv06.3.1_rms.npy',\n",
       " 'prv06.3.1_std.npy',\n",
       " 'prv06.3.2_fft.npy',\n",
       " 'prv06.3.2_filt.npy',\n",
       " 'prv06.3.2_rms.npy',\n",
       " 'prv06.3.2_std.npy',\n",
       " 'prv06.3.3_fft.npy',\n",
       " 'prv06.3.3_filt.npy',\n",
       " 'prv06.3.3_rms.npy',\n",
       " 'prv06.3.3_std.npy',\n",
       " 'prv07.2.1_fft.npy',\n",
       " 'prv07.2.1_filt.npy',\n",
       " 'prv07.2.1_rms.npy',\n",
       " 'prv07.2.1_std.npy',\n",
       " 'prv07.2.2_fft.npy',\n",
       " 'prv07.2.2_filt.npy',\n",
       " 'prv07.2.2_rms.npy',\n",
       " 'prv07.2.2_std.npy',\n",
       " 'prv07.2.3_fft.npy',\n",
       " 'prv07.2.3_filt.npy',\n",
       " 'prv07.2.3_rms.npy',\n",
       " 'prv07.2.3_std.npy',\n",
       " 'prv09.3.1_fft.npy',\n",
       " 'prv09.3.1_filt.npy',\n",
       " 'prv09.3.1_rms.npy',\n",
       " 'prv09.3.1_std.npy',\n",
       " 'prv09.3.2_fft.npy',\n",
       " 'prv09.3.2_filt.npy',\n",
       " 'prv09.3.2_rms.npy',\n",
       " 'prv09.3.2_std.npy',\n",
       " 'prv09.3.3_fft.npy',\n",
       " 'prv09.3.3_filt.npy',\n",
       " 'prv09.3.3_rms.npy',\n",
       " 'prv09.3.3_std.npy',\n",
       " 'prv17.3.1_fft.npy',\n",
       " 'prv17.3.1_filt.npy',\n",
       " 'prv17.3.1_rms.npy',\n",
       " 'prv17.3.1_std.npy',\n",
       " 'prv17.3.2_fft.npy',\n",
       " 'prv17.3.2_filt.npy',\n",
       " 'prv17.3.2_rms.npy',\n",
       " 'prv17.3.2_std.npy',\n",
       " 'prv17.3.3_fft.npy',\n",
       " 'prv17.3.3_filt.npy',\n",
       " 'prv17.3.3_rms.npy',\n",
       " 'prv17.3.3_std.npy']"
      ]
     },
     "execution_count": 17,
     "metadata": {},
     "output_type": "execute_result"
    }
   ],
   "source": [
    "files = os.listdir('C:\\Users\\jorge.junior\\Documents\\GitHub\\PKS\\preproc')\n",
    "files"
   ]
  },
  {
   "cell_type": "code",
   "execution_count": 18,
   "metadata": {},
   "outputs": [],
   "source": [
    "files_ =[['pd06.1.1_fft.npy', 'pd06.1.1_filt.npy', 'pd06.1.1_rms.npy', 'pd06.1.1_std.npy'],\n",
    "        ['pd06.1.2_fft.npy', 'pd06.1.2_filt.npy', 'pd06.1.2_rms.npy', 'pd06.1.2_std.npy'],\n",
    "        ['pd06.1.3_fft.npy', 'pd06.1.3_filt.npy', 'pd06.1.3_rms.npy', 'pd06.1.3_std.npy'],\n",
    "        ['pd07.1.1_fft.npy', 'pd07.1.1_filt.npy', 'pd07.1.1_rms.npy', 'pd07.1.1_std.npy'],\n",
    "        ['pd07.1.2_fft.npy', 'pd07.1.2_filt.npy', 'pd07.1.2_rms.npy', 'pd07.1.2_std.npy'],\n",
    "        ['pd07.1.3_fft.npy', 'pd07.1.3_filt.npy', 'pd07.1.3_rms.npy', 'pd07.1.3_std.npy'],\n",
    "        ['pd09.2.1_fft.npy', 'pd09.2.1_filt.npy', 'pd09.2.1_rms.npy', 'pd09.2.1_std.npy'],\n",
    "        ['pd09.2.2_fft.npy', 'pd09.2.2_filt.npy', 'pd09.2.2_rms.npy', 'pd09.2.2_std.npy'],\n",
    "        ['pd09.2.3_fft.npy', 'pd09.2.3_filt.npy', 'pd09.2.3_rms.npy', 'pd09.2.3_std.npy'],\n",
    "        ['pd17.2.1_fft.npy', 'pd17.2.1_filt.npy', 'pd17.2.1_rms.npy', 'pd17.2.1_std.npy'],\n",
    "        ['pd17.2.2_fft.npy', 'pd17.2.2_filt.npy', 'pd17.2.2_rms.npy', 'pd17.2.2_std.npy'],\n",
    "        ['pd17.2.3_fft.npy', 'pd17.2.3_filt.npy', 'pd17.2.3_rms.npy', 'pd17.2.3_std.npy'],\n",
    "        ['pe06.1.1_fft.npy', 'pe06.1.1_filt.npy', 'pe06.1.1_rms.npy', 'pe06.1.1_std.npy'],\n",
    "        ['pe06.1.2_fft.npy', 'pe06.1.2_filt.npy', 'pe06.1.2_rms.npy', 'pe06.1.2_std.npy'],\n",
    "        ['pe06.1.3_fft.npy', 'pe06.1.3_filt.npy', 'pe06.1.3_rms.npy', 'pe06.1.3_std.npy'],\n",
    "        ['pe07.1.1_fft.npy', 'pe07.1.1_filt.npy', 'pe07.1.1_rms.npy', 'pe07.1.1_std.npy'],\n",
    "        ['pe07.1.2_fft.npy', 'pe07.1.2_filt.npy', 'pe07.1.2_rms.npy', 'pe07.1.2_std.npy'],\n",
    "        ['pe07.1.3_fft.npy', 'pe07.1.3_filt.npy', 'pe07.1.3_rms.npy', 'pe07.1.3_std.npy'],\n",
    "        ['pe09.2.1_fft.npy', 'pe09.2.1_filt.npy', 'pe09.2.1_rms.npy', 'pe09.2.1_std.npy'],\n",
    "        ['pe09.2.2_fft.npy', 'pe09.2.2_filt.npy', 'pe09.2.2_rms.npy', 'pe09.2.2_std.npy'],\n",
    "        ['pe09.2.3_fft.npy', 'pe09.2.3_filt.npy', 'pe09.2.3_rms.npy', 'pe09.2.3_std.npy'],\n",
    "        ['pe17.2.1_fft.npy', 'pe17.2.1_filt.npy', 'pe17.2.1_rms.npy', 'pe17.2.1_std.npy'],\n",
    "        ['pe17.2.2_fft.npy', 'pe17.2.2_filt.npy', 'pe17.2.2_rms.npy', 'pe17.2.2_std.npy'],\n",
    "        ['pe17.2.3_fft.npy', 'pe17.2.3_filt.npy', 'pe17.2.3_rms.npy', 'pe17.2.3_std.npy'],\n",
    "        ['pr06.1.1_filt.npy', 'pr06.1.1_rms.npy', 'pr06.1.1_fft.npy', 'pr06.1.1_std.npy'], \n",
    "        ['pr06.1.2_filt.npy', 'pr06.1.2_rms.npy', 'pr06.1.2_fft.npy', 'pr06.1.2_std.npy'],\n",
    "        ['pr06.1.3_filt.npy', 'pr06.1.3_rms.npy', 'pr06.1.3_fft.npy', 'pr06.1.3_std.npy'],\n",
    "        ['pr06.2.1_filt.npy', 'pr06.2.1_rms.npy', 'pr06.2.1_fft.npy', 'pr06.2.1_std.npy'],\n",
    "        ['pr06.2.2_filt.npy', 'pr06.2.2_rms.npy', 'pr06.2.2_fft.npy', 'pr06.2.2_std.npy'],\n",
    "        ['pr06.2.3_filt.npy', 'pr06.2.3_rms.npy', 'pr06.2.3_fft.npy', 'pr06.2.3_std.npy'],\n",
    "        ['pr07.1.1_filt.npy', 'pr07.1.1_rms.npy', 'pr07.1.1_fft.npy', 'pr07.1.1_std.npy'],\n",
    "        ['pr07.1.2_filt.npy', 'pr07.1.2_rms.npy', 'pr07.1.2_fft.npy', 'pr07.1.2_std.npy'],\n",
    "        ['pr07.1.3_filt.npy', 'pr07.1.3_rms.npy', 'pr07.1.3_fft.npy', 'pr07.1.3_std.npy'],\n",
    "        ['pr09.1.1_filt.npy', 'pr09.1.1_rms.npy', 'pr09.1.1_fft.npy', 'pr09.1.1_std.npy'],\n",
    "        ['pr09.1.2_filt.npy', 'pr09.1.2_rms.npy', 'pr09.1.2_fft.npy', 'pr09.1.2_std.npy'],\n",
    "        ['pr09.1.3_filt.npy', 'pr09.1.3_rms.npy', 'pr09.1.3_fft.npy', 'pr09.1.3_std.npy'],\n",
    "        ['pr09.2.1_filt.npy', 'pr09.2.1_rms.npy', 'pr09.2.1_fft.npy', 'pr09.2.1_std.npy'],\n",
    "        ['pr09.2.2_filt.npy', 'pr09.2.2_rms.npy', 'pr09.2.2_fft.npy', 'pr09.2.2_std.npy'],\n",
    "        ['pr09.2.3_filt.npy', 'pr09.2.3_rms.npy', 'pr09.2.3_fft.npy', 'pr09.2.3_std.npy'],\n",
    "        ['pr17.1.1_filt.npy', 'pr17.1.1_rms.npy', 'pr17.1.1_fft.npy', 'pr17.1.1_std.npy'],\n",
    "        ['pr17.1.2_filt.npy', 'pr17.1.2_rms.npy', 'pr17.1.2_fft.npy', 'pr17.1.2_std.npy'],\n",
    "        ['pr17.1.3_filt.npy', 'pr17.1.3_rms.npy', 'pr17.1.3_fft.npy', 'pr17.1.3_std.npy'],\n",
    "        ['pr17.2.1_filt.npy', 'pr17.2.1_rms.npy', 'pr17.2.1_fft.npy', 'pr17.2.1_std.npy'],\n",
    "        ['pr17.2.2_filt.npy', 'pr17.2.2_rms.npy', 'pr17.2.2_fft.npy', 'pr17.2.2_std.npy'],\n",
    "        ['pr17.2.3_filt.npy', 'pr17.2.3_rms.npy', 'pr17.2.3_fft.npy', 'pr17.2.3_std.npy'],\n",
    "        ['pi06.1.1_filt.npy', 'pi06.1.1_rms.npy', 'pi06.1.1_fft.npy', 'pi06.1.1_std.npy'],\n",
    "        ['pi06.1.2_filt.npy', 'pi06.1.2_rms.npy', 'pi06.1.2_fft.npy', 'pi06.1.2_std.npy'],\n",
    "        ['pi06.1.3_filt.npy', 'pi06.1.3_rms.npy', 'pi06.1.3_fft.npy', 'pi06.1.3_std.npy'],\n",
    "        ['pi07.2.1_filt.npy', 'pi07.2.1_rms.npy', 'pi07.2.1_fft.npy', 'pi07.2.1_std.npy'],\n",
    "        ['pi07.2.2_filt.npy', 'pi07.2.2_rms.npy', 'pi07.2.2_fft.npy', 'pi07.2.2_std.npy'],\n",
    "        ['pi07.2.3_filt.npy', 'pi07.2.3_rms.npy', 'pi07.2.3_fft.npy', 'pi07.2.3_std.npy'],\n",
    "        ['pi09.1.1_filt.npy', 'pi09.1.1_rms.npy', 'pi09.1.1_fft.npy', 'pi09.1.1_std.npy'],\n",
    "        ['pi09.1.2_filt.npy', 'pi09.1.2_rms.npy', 'pi09.1.2_fft.npy', 'pi09.1.2_std.npy'],\n",
    "        ['pi09.1.3_filt.npy', 'pi09.1.3_rms.npy', 'pi09.1.3_fft.npy', 'pi09.1.3_std.npy'],\n",
    "        ['pi17.1.1_filt.npy', 'pi17.1.1_rms.npy', 'pi17.1.1_fft.npy', 'pi17.1.1_std.npy'],\n",
    "        ['pi17.1.2_filt.npy', 'pi17.1.2_rms.npy', 'pi17.1.2_fft.npy', 'pi17.1.2_std.npy'],\n",
    "        ['pi17.1.3_filt.npy', 'pi17.1.3_rms.npy', 'pi17.1.3_fft.npy', 'pi17.1.3_std.npy']]"
   ]
  },
  {
   "cell_type": "markdown",
   "metadata": {},
   "source": [
    "files_ =[['pr06.1.1_filt.npy', 'pr06.1.1_rms.npy', 'pr06.1.1_fft.npy', 'pr06.1.1_std.npy'], \n",
    "        ['pr06.1.2_filt.npy', 'pr06.1.2_rms.npy', 'pr06.1.2_fft.npy', 'pr06.1.2_std.npy'],\n",
    "        ['pr06.1.3_filt.npy', 'pr06.1.3_rms.npy', 'pr06.1.3_fft.npy', 'pr06.1.3_std.npy'],\n",
    "        ['pr06.2.1_filt.npy', 'pr06.2.1_rms.npy', 'pr06.2.1_fft.npy', 'pr06.2.1_std.npy'],\n",
    "        ['pr06.2.2_filt.npy', 'pr06.2.2_rms.npy', 'pr06.2.2_fft.npy', 'pr06.2.2_std.npy'],\n",
    "        ['pr06.2.3_filt.npy', 'pr06.2.3_rms.npy', 'pr06.2.3_fft.npy', 'pr06.2.3_std.npy'],\n",
    "        ['pr07.1.1_filt.npy', 'pr07.1.1_rms.npy', 'pr07.1.1_fft.npy', 'pr07.1.1_std.npy'],\n",
    "        ['pr07.1.2_filt.npy', 'pr07.1.2_rms.npy', 'pr07.1.2_fft.npy', 'pr07.1.2_std.npy'],\n",
    "        ['pr07.1.3_filt.npy', 'pr07.1.3_rms.npy', 'pr07.1.3_fft.npy', 'pr07.1.3_std.npy'],\n",
    "        ['pr09.1.1_filt.npy', 'pr09.1.1_rms.npy', 'pr09.1.1_fft.npy', 'pr09.1.1_std.npy'],\n",
    "        ['pr09.1.2_filt.npy', 'pr09.1.2_rms.npy', 'pr09.1.2_fft.npy', 'pr09.1.2_std.npy'],\n",
    "        ['pr09.1.3_filt.npy', 'pr09.1.3_rms.npy', 'pr09.1.3_fft.npy', 'pr09.1.3_std.npy'],\n",
    "        ['pr09.2.1_filt.npy', 'pr09.2.1_rms.npy', 'pr09.2.1_fft.npy', 'pr09.2.1_std.npy'],\n",
    "        ['pr09.2.2_filt.npy', 'pr09.2.2_rms.npy', 'pr09.2.2_fft.npy', 'pr09.2.2_std.npy'],\n",
    "        ['pr09.2.3_filt.npy', 'pr09.2.3_rms.npy', 'pr09.2.3_fft.npy', 'pr09.2.3_std.npy'],\n",
    "        ['pr17.1.1_filt.npy', 'pr17.1.1_rms.npy', 'pr17.1.1_fft.npy', 'pr17.1.1_std.npy'],\n",
    "        ['pr17.1.2_filt.npy', 'pr17.1.2_rms.npy', 'pr17.1.2_fft.npy', 'pr17.1.2_std.npy'],\n",
    "        ['pr17.1.3_filt.npy', 'pr17.1.3_rms.npy', 'pr17.1.3_fft.npy', 'pr17.1.3_std.npy'],\n",
    "        ['pr17.2.1_filt.npy', 'pr17.2.1_rms.npy', 'pr17.2.1_fft.npy', 'pr17.2.1_std.npy'],\n",
    "        ['pr17.2.2_filt.npy', 'pr17.2.2_rms.npy', 'pr17.2.2_fft.npy', 'pr17.2.2_std.npy'],\n",
    "        ['pr17.2.3_filt.npy', 'pr17.2.3_rms.npy', 'pr17.2.3_fft.npy', 'pr17.2.3_std.npy'],\n",
    "        ['pi06.1.1_filt.npy', 'pi06.1.1_rms.npy', 'pi06.1.1_fft.npy', 'pi06.1.1_std.npy'],\n",
    "        ['pi06.1.2_filt.npy', 'pi06.1.2_rms.npy', 'pi06.1.2_fft.npy', 'pi06.1.2_std.npy'],\n",
    "        ['pi06.1.3_filt.npy', 'pi06.1.3_rms.npy', 'pi06.1.3_fft.npy', 'pi06.1.3_std.npy'],\n",
    "        ['pi07.2.1_filt.npy', 'pi07.2.1_rms.npy', 'pi07.2.1_fft.npy', 'pi07.2.1_std.npy'],\n",
    "        ['pi07.2.2_filt.npy', 'pi07.2.2_rms.npy', 'pi07.2.2_fft.npy', 'pi07.2.2_std.npy'],\n",
    "        ['pi07.2.3_filt.npy', 'pi07.2.3_rms.npy', 'pi07.2.3_fft.npy', 'pi07.2.3_std.npy'],\n",
    "        ['pi09.1.1_filt.npy', 'pi09.1.1_rms.npy', 'pi09.1.1_fft.npy', 'pi09.1.1_std.npy'],\n",
    "        ['pi09.1.2_filt.npy', 'pi09.1.2_rms.npy', 'pi09.1.2_fft.npy', 'pi09.1.2_std.npy'],\n",
    "        ['pi09.1.3_filt.npy', 'pi09.1.3_rms.npy', 'pi09.1.3_fft.npy', 'pi09.1.3_std.npy'],\n",
    "        ['pi17.1.1_filt.npy', 'pi17.1.1_rms.npy', 'pi17.1.1_fft.npy', 'pi17.1.1_std.npy'],\n",
    "        ['pi17.1.2_filt.npy', 'pi17.1.2_rms.npy', 'pi17.1.2_fft.npy', 'pi17.1.2_std.npy'],\n",
    "        ['pi17.1.3_filt.npy', 'pi17.1.3_rms.npy', 'pi17.1.3_fft.npy', 'pi17.1.3_std.npy']]\n",
    "\n",
    "#Com Wavelets\n",
    "\n",
    "\n",
    "files_ =[['pr06.1.1_filt.npy', 'pr06.1.1_rms.npy', 'pr06.1.1_fft.npy', 'pr06.1.1_wlt.npy', 'pr06.1.1_std.npy'], \n",
    "        ['pr06.1.2_filt.npy', 'pr06.1.2_rms.npy', 'pr06.1.2_fft.npy', 'pr06.1.2_wlt.npy', 'pr06.1.2_std.npy'],\n",
    "        ['pr06.1.3_filt.npy', 'pr06.1.3_rms.npy', 'pr06.1.3_fft.npy', 'pr06.1.3_wlt.npy', 'pr06.1.3_std.npy'],\n",
    "        ['pr06.2.1_filt.npy', 'pr06.2.1_rms.npy', 'pr06.2.1_fft.npy', 'pr06.2.1_wlt.npy', 'pr06.2.1_std.npy'],\n",
    "        ['pr06.2.2_filt.npy', 'pr06.2.2_rms.npy', 'pr06.2.2_fft.npy', 'pr06.2.2_wlt.npy', 'pr06.2.2_std.npy'],\n",
    "        ['pr06.2.3_filt.npy', 'pr06.2.3_rms.npy', 'pr06.2.3_fft.npy', 'pr06.2.3_wlt.npy', 'pr06.2.3_std.npy'],\n",
    "        ['pr07.1.1_filt.npy', 'pr07.1.1_rms.npy', 'pr07.1.1_fft.npy', 'pr07.1.1_wlt.npy', 'pr07.1.1_std.npy'],\n",
    "        ['pr07.1.2_filt.npy', 'pr07.1.2_rms.npy', 'pr07.1.2_fft.npy', 'pr07.1.2_wlt.npy', 'pr07.1.2_std.npy'],\n",
    "        ['pr07.1.3_filt.npy', 'pr07.1.3_rms.npy', 'pr07.1.3_fft.npy', 'pr07.1.3_wlt.npy', 'pr07.1.3_std.npy'],\n",
    "        ['pr09.1.1_filt.npy', 'pr09.1.1_rms.npy', 'pr09.1.1_fft.npy', 'pr09.1.1_wlt.npy', 'pr09.1.1_std.npy'],\n",
    "        ['pr09.1.2_filt.npy', 'pr09.1.2_rms.npy', 'pr09.1.2_fft.npy', 'pr09.1.2_wlt.npy', 'pr09.1.2_std.npy'],\n",
    "        ['pr09.1.3_filt.npy', 'pr09.1.3_rms.npy', 'pr09.1.3_fft.npy', 'pr09.1.3_wlt.npy', 'pr09.1.3_std.npy'],\n",
    "        ['pr09.2.1_filt.npy', 'pr09.2.1_rms.npy', 'pr09.2.1_fft.npy', 'pr09.2.1_wlt.npy', 'pr09.2.1_std.npy'],\n",
    "        ['pr09.2.2_filt.npy', 'pr09.2.2_rms.npy', 'pr09.2.2_fft.npy', 'pr09.2.2_wlt.npy', 'pr09.2.2_std.npy'],\n",
    "        ['pr09.2.3_filt.npy', 'pr09.2.3_rms.npy', 'pr09.2.3_fft.npy', 'pr09.2.3_wlt.npy', 'pr09.2.3_std.npy'],\n",
    "        ['pr17.1.1_filt.npy', 'pr17.1.1_rms.npy', 'pr17.1.1_fft.npy', 'pr17.1.1_wlt.npy', 'pr17.1.1_std.npy'],\n",
    "        ['pr17.1.2_filt.npy', 'pr17.1.2_rms.npy', 'pr17.1.2_fft.npy', 'pr17.1.2_wlt.npy', 'pr17.1.2_std.npy'],\n",
    "        ['pr17.1.3_filt.npy', 'pr17.1.3_rms.npy', 'pr17.1.3_fft.npy', 'pr17.1.3_wlt.npy', 'pr17.1.3_std.npy'],\n",
    "        ['pr17.2.1_filt.npy', 'pr17.2.1_rms.npy', 'pr17.2.1_fft.npy', 'pr17.2.1_wlt.npy', 'pr17.2.1_std.npy'],\n",
    "        ['pr17.2.2_filt.npy', 'pr17.2.2_rms.npy', 'pr17.2.2_fft.npy', 'pr17.2.2_wlt.npy', 'pr17.2.2_std.npy'],\n",
    "        ['pr17.2.3_filt.npy', 'pr17.2.3_rms.npy', 'pr17.2.3_fft.npy', 'pr17.2.3_wlt.npy', 'pr17.2.3_std.npy'],\n",
    "        ['pi06.1.1_filt.npy', 'pi06.1.1_rms.npy', 'pi06.1.1_fft.npy', 'pi06.1.1_wlt.npy', 'pi06.1.1_std.npy'],\n",
    "        ['pi06.1.2_filt.npy', 'pi06.1.2_rms.npy', 'pi06.1.2_fft.npy', 'pi06.1.2_wlt.npy', 'pi06.1.2_std.npy'],\n",
    "        ['pi06.1.3_filt.npy', 'pi06.1.3_rms.npy', 'pi06.1.3_fft.npy', 'pi06.1.3_wlt.npy', 'pi06.1.3_std.npy'],\n",
    "        ['pi07.2.1_filt.npy', 'pi07.2.1_rms.npy', 'pi07.2.1_fft.npy', 'pi07.2.1_wlt.npy', 'pi07.2.1_std.npy'],\n",
    "        ['pi07.2.2_filt.npy', 'pi07.2.2_rms.npy', 'pi07.2.2_fft.npy', 'pi07.2.2_wlt.npy', 'pi07.2.2_std.npy'],\n",
    "        ['pi07.2.3_filt.npy', 'pi07.2.3_rms.npy', 'pi07.2.3_fft.npy', 'pi07.2.3_wlt.npy', 'pi07.2.3_std.npy'],\n",
    "        ['pi09.1.1_filt.npy', 'pi09.1.1_rms.npy', 'pi09.1.1_fft.npy', 'pi09.1.1_wlt.npy', 'pi09.1.1_std.npy'],\n",
    "        ['pi09.1.2_filt.npy', 'pi09.1.2_rms.npy', 'pi09.1.2_fft.npy', 'pi09.1.2_wlt.npy', 'pi09.1.2_std.npy'],\n",
    "        ['pi09.1.3_filt.npy', 'pi09.1.3_rms.npy', 'pi09.1.3_fft.npy', 'pi09.1.3_wlt.npy', 'pi09.1.3_std.npy'],\n",
    "        ['pi17.1.1_filt.npy', 'pi17.1.1_rms.npy', 'pi17.1.1_fft.npy', 'pi17.1.1_wlt.npy', 'pi17.1.1_std.npy'],\n",
    "        ['pi17.1.2_filt.npy', 'pi17.1.2_rms.npy', 'pi17.1.2_fft.npy', 'pi17.1.2_wlt.npy', 'pi17.1.2_std.npy'],\n",
    "        ['pi17.1.3_filt.npy', 'pi17.1.3_rms.npy', 'pi17.1.3_fft.npy', 'pi17.1.3_wlt.npy', 'pi17.1.3_std.npy']]\n"
   ]
  },
  {
   "cell_type": "code",
   "execution_count": 19,
   "metadata": {},
   "outputs": [],
   "source": [
    "#Carregando arquivos para treino e teste\n",
    "\n",
    "#Com não parkinsonianos\n",
    "#files_ = [['p1_std', 'p1_rms', 'p1_filt'],['p2_std', 'p2_rms', 'p2_filt'],['p3_std', 'p3_rms', 'p3_filt'],\n",
    "#          ['p5_std', 'p5_rms', 'p5_filt'],['c1_std', 'c1_rms', 'c1_filt'],['c3_std', 'c3_rms', 'c3_filt'],\n",
    "#          ['p4_std', 'p4_rms', 'p4_filt'],['p6_std', 'p6_rms', 'p6_filt']]\n",
    "\n",
    "#Sem não parkinsonianos\n",
    "#files_ = [['p1_std', 'p1_rms', 'p1_filt'],['p2_std', 'p2_rms', 'p2_filt'],['p3_std', 'p3_rms', 'p3_filt'],\n",
    "#          ['p5_std', 'p5_rms', 'p5_filt'],['p4_std', 'p4_rms', 'p4_filt'],['p6_std', 'p6_rms', 'p6_filt']]\n",
    "\n",
    "#files_ = [['pr06.1_std', 'pr06.1_rms', 'pr06.1_filt'],['pr06.2_std', 'pr06.2_rms', 'pr06.2_filt'],\n",
    "#          ['pr07.1_std', 'pr07.1_rms', 'pr07.1_filt'],['pr09.1_std', 'pr09.1_rms', 'pr09.1_filt'],['pr09.2_std', 'pr09.2_rms', 'pr09.2_filt'],\n",
    "#          ['pr17.1_std', 'pr17.1_rms', 'pr17.1_filt'],['pr17.2_std', 'pr17.2_rms', 'pr17.2_filt']]\n",
    "\n",
    "\n",
    "\n",
    "DATA_hs = []"
   ]
  },
  {
   "cell_type": "code",
   "execution_count": 20,
   "metadata": {},
   "outputs": [],
   "source": [
    "filesv_ = [['pdv06.2.1_fft.npy', 'pdv06.2.1_filt.npy', 'pdv06.2.1_rms.npy', 'pdv06.2.1_std.npy'],\n",
    "           ['pdv06.2.2_fft.npy', 'pdv06.2.2_filt.npy', 'pdv06.2.2_rms.npy', 'pdv06.2.2_std.npy'],\n",
    "           ['pdv06.2.3_fft.npy', 'pdv06.2.3_filt.npy', 'pdv06.2.3_rms.npy', 'pdv06.2.3_std.npy'],\n",
    "           ['pdv07.2.1_fft.npy', 'pdv07.2.1_filt.npy', 'pdv07.2.1_rms.npy', 'pdv07.2.1_std.npy'],\n",
    "           ['pdv07.2.2_fft.npy', 'pdv07.2.2_filt.npy', 'pdv07.2.2_rms.npy', 'pdv07.2.2_std.npy'],\n",
    "           ['pdv07.2.3_fft.npy', 'pdv07.2.3_filt.npy', 'pdv07.2.3_rms.npy', 'pdv07.2.3_std.npy'],\n",
    "           ['pdv09.3.1_fft.npy', 'pdv09.3.1_filt.npy', 'pdv09.3.1_rms.npy', 'pdv09.3.1_std.npy'],\n",
    "           ['pdv09.3.2_fft.npy', 'pdv09.3.2_filt.npy', 'pdv09.3.2_rms.npy', 'pdv09.3.2_std.npy'],\n",
    "           ['pdv09.3.3_fft.npy', 'pdv09.3.3_filt.npy', 'pdv09.3.3_rms.npy', 'pdv09.3.3_std.npy'],\n",
    "           ['pdv17.3.1_fft.npy', 'pdv17.3.1_filt.npy', 'pdv17.3.1_rms.npy', 'pdv17.3.1_std.npy'],\n",
    "           ['pdv17.3.2_fft.npy', 'pdv17.3.2_filt.npy', 'pdv17.3.2_rms.npy', 'pdv17.3.2_std.npy'],\n",
    "           ['pdv17.3.3_fft.npy', 'pdv17.3.3_filt.npy', 'pdv17.3.3_rms.npy', 'pdv17.3.3_std.npy'],\n",
    "           ['pev06.2.1_fft.npy', 'pev06.2.1_filt.npy', 'pev06.2.1_rms.npy', 'pev06.2.1_std.npy'],\n",
    "           ['pev06.2.2_fft.npy', 'pev06.2.2_filt.npy', 'pev06.2.2_rms.npy', 'pev06.2.2_std.npy'],\n",
    "           ['pev06.2.3_fft.npy', 'pev06.2.3_filt.npy', 'pev06.2.3_rms.npy', 'pev06.2.3_std.npy'],\n",
    "           ['pev07.2.1_fft.npy', 'pev07.2.1_filt.npy', 'pev07.2.1_rms.npy', 'pev07.2.1_std.npy'],\n",
    "           ['pev07.2.2_fft.npy', 'pev07.2.2_filt.npy', 'pev07.2.2_rms.npy', 'pev07.2.2_std.npy'],\n",
    "           ['pev07.2.3_fft.npy', 'pev07.2.3_filt.npy', 'pev07.2.3_rms.npy', 'pev07.2.3_std.npy'],\n",
    "           ['pev09.3.1_fft.npy', 'pev09.3.1_filt.npy', 'pev09.3.1_rms.npy', 'pev09.3.1_std.npy'],\n",
    "           ['pev09.3.2_fft.npy', 'pev09.3.2_filt.npy', 'pev09.3.2_rms.npy', 'pev09.3.2_std.npy'],\n",
    "           ['pev09.3.3_fft.npy', 'pev09.3.3_filt.npy', 'pev09.3.3_rms.npy', 'pev09.3.3_std.npy'],\n",
    "           ['pev17.3.1_fft.npy', 'pev17.3.1_filt.npy', 'pev17.3.1_rms.npy', 'pev17.3.1_std.npy'],\n",
    "           ['pev17.3.2_fft.npy', 'pev17.3.2_filt.npy', 'pev17.3.2_rms.npy', 'pev17.3.2_std.npy'],\n",
    "           ['pev17.3.3_fft.npy', 'pev17.3.3_filt.npy', 'pev17.3.3_rms.npy', 'pev17.3.3_std.npy'],\n",
    "           ['prv06.3.1_filt.npy', 'prv06.3.1_rms.npy', 'prv06.3.1_fft.npy', 'prv06.3.1_std.npy'],\n",
    "           ['prv06.3.2_filt.npy', 'prv06.3.2_rms.npy', 'prv06.3.2_fft.npy', 'prv06.3.2_std.npy'],\n",
    "           ['prv06.3.3_filt.npy', 'prv06.3.3_rms.npy', 'prv06.3.3_fft.npy', 'prv06.3.3_std.npy'],\n",
    "           ['prv07.2.1_filt.npy', 'prv07.2.1_rms.npy', 'prv07.2.1_fft.npy', 'prv07.2.1_std.npy'],\n",
    "           ['prv07.2.2_filt.npy', 'prv07.2.2_rms.npy', 'prv07.2.2_fft.npy', 'prv07.2.2_std.npy'],\n",
    "           ['prv07.2.3_filt.npy', 'prv07.2.3_rms.npy', 'prv07.2.3_fft.npy', 'prv07.2.3_std.npy'],\n",
    "           ['prv09.3.1_filt.npy', 'prv09.3.1_rms.npy', 'prv09.3.1_fft.npy', 'prv09.3.1_std.npy'],\n",
    "           ['prv09.3.2_filt.npy', 'prv09.3.2_rms.npy', 'prv09.3.2_fft.npy', 'prv09.3.2_std.npy'],\n",
    "           ['prv09.3.3_filt.npy', 'prv09.3.3_rms.npy', 'prv09.3.3_fft.npy', 'prv09.3.3_std.npy'],\n",
    "           ['prv17.3.1_filt.npy', 'prv17.3.1_rms.npy', 'prv17.3.1_fft.npy', 'prv17.3.1_std.npy'],\n",
    "           ['prv17.3.2_filt.npy', 'prv17.3.2_rms.npy', 'prv17.3.2_fft.npy', 'prv17.3.2_std.npy'],\n",
    "           ['prv17.3.3_filt.npy', 'prv17.3.3_rms.npy', 'prv17.3.3_fft.npy', 'prv17.3.3_std.npy'],\n",
    "           ['piv06.2.1_filt.npy', 'piv06.2.1_rms.npy', 'piv06.2.1_fft.npy', 'piv06.2.1_std.npy'],\n",
    "           ['piv06.2.2_filt.npy', 'piv06.2.2_rms.npy', 'piv06.2.2_fft.npy', 'piv06.2.2_std.npy'],\n",
    "           ['piv06.2.3_filt.npy', 'piv06.2.3_rms.npy', 'piv06.2.3_fft.npy', 'piv06.2.3_std.npy'],\n",
    "           ['piv07.3.1_filt.npy', 'piv07.3.1_rms.npy', 'piv07.3.1_fft.npy', 'piv07.3.1_std.npy'],\n",
    "           ['piv07.3.2_filt.npy', 'piv07.3.2_rms.npy', 'piv07.3.2_fft.npy', 'piv07.3.2_std.npy'],\n",
    "           ['piv07.3.3_filt.npy', 'piv07.3.3_rms.npy', 'piv07.3.3_fft.npy', 'piv07.3.3_std.npy'],\n",
    "           ['piv09.2.1_filt.npy', 'piv09.2.1_rms.npy', 'piv09.2.1_fft.npy', 'piv09.2.1_std.npy'],\n",
    "           ['piv09.2.2_filt.npy', 'piv09.2.2_rms.npy', 'piv09.2.2_fft.npy', 'piv09.2.2_std.npy'],\n",
    "           ['piv09.2.3_filt.npy', 'piv09.2.3_rms.npy', 'piv09.2.3_fft.npy', 'piv09.2.3_std.npy'],\n",
    "           ['piv17.3.1_filt.npy', 'piv17.3.1_rms.npy', 'piv17.3.1_fft.npy', 'piv17.3.1_std.npy'],\n",
    "           ['piv17.3.2_filt.npy', 'piv17.3.2_rms.npy', 'piv17.3.2_fft.npy', 'piv17.3.2_std.npy'],\n",
    "           ['piv17.3.3_filt.npy', 'piv17.3.3_rms.npy', 'piv17.3.3_fft.npy', 'piv17.3.3_std.npy']]"
   ]
  },
  {
   "cell_type": "markdown",
   "metadata": {},
   "source": [
    "filesv_ = [['prv06.3.1_filt.npy', 'prv06.3.1_rms.npy', 'prv06.3.1_fft.npy', 'prv06.3.1_std.npy'],\n",
    "           ['prv06.3.2_filt.npy', 'prv06.3.2_rms.npy', 'prv06.3.2_fft.npy', 'prv06.3.2_std.npy'],\n",
    "           ['prv06.3.3_filt.npy', 'prv06.3.3_rms.npy', 'prv06.3.3_fft.npy', 'prv06.3.3_std.npy'],\n",
    "           ['prv07.2.1_filt.npy', 'prv07.2.1_rms.npy', 'prv07.2.1_fft.npy', 'prv07.2.1_std.npy'],\n",
    "           ['prv07.2.2_filt.npy', 'prv07.2.2_rms.npy', 'prv07.2.2_fft.npy', 'prv07.2.2_std.npy'],\n",
    "           ['prv07.2.3_filt.npy', 'prv07.2.3_rms.npy', 'prv07.2.3_fft.npy', 'prv07.2.3_std.npy'],\n",
    "           ['prv09.3.1_filt.npy', 'prv09.3.1_rms.npy', 'prv09.3.1_fft.npy', 'prv09.3.1_std.npy'],\n",
    "           ['prv09.3.2_filt.npy', 'prv09.3.2_rms.npy', 'prv09.3.2_fft.npy', 'prv09.3.2_std.npy'],\n",
    "           ['prv09.3.3_filt.npy', 'prv09.3.3_rms.npy', 'prv09.3.3_fft.npy', 'prv09.3.3_std.npy'],\n",
    "           ['prv17.3.1_filt.npy', 'prv17.3.1_rms.npy', 'prv17.3.1_fft.npy', 'prv17.3.1_std.npy'],\n",
    "           ['prv17.3.2_filt.npy', 'prv17.3.2_rms.npy', 'prv17.3.2_fft.npy', 'prv17.3.2_std.npy'],\n",
    "           ['prv17.3.3_filt.npy', 'prv17.3.3_rms.npy', 'prv17.3.3_fft.npy', 'prv17.3.3_std.npy'],\n",
    "           ['piv06.2.1_filt.npy', 'piv06.2.1_rms.npy', 'piv06.2.1_fft.npy', 'piv06.2.1_std.npy'],\n",
    "           ['piv06.2.2_filt.npy', 'piv06.2.2_rms.npy', 'piv06.2.2_fft.npy', 'piv06.2.2_std.npy'],\n",
    "           ['piv06.2.3_filt.npy', 'piv06.2.3_rms.npy', 'piv06.2.3_fft.npy', 'piv06.2.3_std.npy'],\n",
    "           ['piv07.3.1_filt.npy', 'piv07.3.1_rms.npy', 'piv07.3.1_fft.npy', 'piv07.3.1_std.npy'],\n",
    "           ['piv07.3.2_filt.npy', 'piv07.3.2_rms.npy', 'piv07.3.2_fft.npy', 'piv07.3.2_std.npy'],\n",
    "           ['piv07.3.3_filt.npy', 'piv07.3.3_rms.npy', 'piv07.3.3_fft.npy', 'piv07.3.3_std.npy'],\n",
    "           ['piv09.2.1_filt.npy', 'piv09.2.1_rms.npy', 'piv09.2.1_fft.npy', 'piv09.2.1_std.npy'],\n",
    "           ['piv09.2.2_filt.npy', 'piv09.2.2_rms.npy', 'piv09.2.2_fft.npy', 'piv09.2.2_std.npy'],\n",
    "           ['piv09.2.3_filt.npy', 'piv09.2.3_rms.npy', 'piv09.2.3_fft.npy', 'piv09.2.3_std.npy'],\n",
    "           ['piv17.3.1_filt.npy', 'piv17.3.1_rms.npy', 'piv17.3.1_fft.npy', 'piv17.3.1_std.npy'],\n",
    "           ['piv17.3.2_filt.npy', 'piv17.3.2_rms.npy', 'piv17.3.2_fft.npy', 'piv17.3.2_std.npy'],\n",
    "           ['piv17.3.3_filt.npy', 'piv17.3.3_rms.npy', 'piv17.3.3_fft.npy', 'piv17.3.3_std.npy']]\n",
    "\n",
    "#Com Wavelets\n",
    "\n",
    "filesv_ = [['prv06.3.1_filt.npy', 'prv06.3.1_rms.npy', 'prv06.3.1_fft.npy', 'prv06.3.1_fft.npy', 'prv06.3.1_std.npy'],\n",
    "           ['prv06.3.2_filt.npy', 'prv06.3.2_rms.npy', 'prv06.3.2_fft.npy', 'prv06.3.2_fft.npy', 'prv06.3.2_std.npy'],\n",
    "           ['prv06.3.3_filt.npy', 'prv06.3.3_rms.npy', 'prv06.3.3_fft.npy', 'prv06.3.3_fft.npy', 'prv06.3.3_std.npy'],\n",
    "           ['prv07.2.1_filt.npy', 'prv07.2.1_rms.npy', 'prv07.2.1_fft.npy', 'prv07.2.1_fft.npy', 'prv07.2.1_std.npy'],\n",
    "           ['prv07.2.2_filt.npy', 'prv07.2.2_rms.npy', 'prv07.2.2_fft.npy', 'prv07.2.2_fft.npy', 'prv07.2.2_std.npy'],\n",
    "           ['prv07.2.3_filt.npy', 'prv07.2.3_rms.npy', 'prv07.2.3_fft.npy', 'prv07.2.3_fft.npy', 'prv07.2.3_std.npy'],\n",
    "           ['prv09.3.1_filt.npy', 'prv09.3.1_rms.npy', 'prv09.3.1_fft.npy', 'prv09.3.1_fft.npy', 'prv09.3.1_std.npy'],\n",
    "           ['prv09.3.2_filt.npy', 'prv09.3.2_rms.npy', 'prv09.3.2_fft.npy', 'prv09.3.2_fft.npy', 'prv09.3.2_std.npy'],\n",
    "           ['prv09.3.3_filt.npy', 'prv09.3.3_rms.npy', 'prv09.3.3_fft.npy', 'prv09.3.3_fft.npy', 'prv09.3.3_std.npy'],\n",
    "           ['prv17.3.1_filt.npy', 'prv17.3.1_rms.npy', 'prv17.3.1_fft.npy', 'prv17.3.1_fft.npy', 'prv17.3.1_std.npy'],\n",
    "           ['prv17.3.2_filt.npy', 'prv17.3.2_rms.npy', 'prv17.3.2_fft.npy', 'prv17.3.2_fft.npy', 'prv17.3.2_std.npy'],\n",
    "           ['prv17.3.3_filt.npy', 'prv17.3.3_rms.npy', 'prv17.3.3_fft.npy', 'prv17.3.3_fft.npy', 'prv17.3.3_std.npy'],\n",
    "           ['piv06.2.1_filt.npy', 'piv06.2.1_rms.npy', 'piv06.2.1_fft.npy', 'piv06.2.1_fft.npy', 'piv06.2.1_std.npy'],\n",
    "           ['piv06.2.2_filt.npy', 'piv06.2.2_rms.npy', 'piv06.2.2_fft.npy', 'piv06.2.2_fft.npy', 'piv06.2.2_std.npy'],\n",
    "           ['piv06.2.3_filt.npy', 'piv06.2.3_rms.npy', 'piv06.2.3_fft.npy', 'piv06.2.3_fft.npy', 'piv06.2.3_std.npy'],\n",
    "           ['piv07.3.1_filt.npy', 'piv07.3.1_rms.npy', 'piv07.3.1_fft.npy', 'piv07.3.1_fft.npy', 'piv07.3.1_std.npy'],\n",
    "           ['piv07.3.2_filt.npy', 'piv07.3.2_rms.npy', 'piv07.3.2_fft.npy', 'piv07.3.2_fft.npy', 'piv07.3.2_std.npy'],\n",
    "           ['piv07.3.3_filt.npy', 'piv07.3.3_rms.npy', 'piv07.3.3_fft.npy', 'piv07.3.3_fft.npy', 'piv07.3.3_std.npy'],\n",
    "           ['piv09.2.1_filt.npy', 'piv09.2.1_rms.npy', 'piv09.2.1_fft.npy', 'piv09.2.1_fft.npy', 'piv09.2.1_std.npy'],\n",
    "           ['piv09.2.2_filt.npy', 'piv09.2.2_rms.npy', 'piv09.2.2_fft.npy', 'piv09.2.2_fft.npy', 'piv09.2.2_std.npy'],\n",
    "           ['piv09.2.3_filt.npy', 'piv09.2.3_rms.npy', 'piv09.2.3_fft.npy', 'piv09.2.3_fft.npy', 'piv09.2.3_std.npy'],\n",
    "           ['piv17.3.1_filt.npy', 'piv17.3.1_rms.npy', 'piv17.3.1_fft.npy', 'piv17.3.1_fft.npy', 'piv17.3.1_std.npy'],\n",
    "           ['piv17.3.2_filt.npy', 'piv17.3.2_rms.npy', 'piv17.3.2_fft.npy', 'piv17.3.2_fft.npy', 'piv17.3.2_std.npy'],\n",
    "           ['piv17.3.3_filt.npy', 'piv17.3.3_rms.npy', 'piv17.3.3_fft.npy', 'piv17.3.3_fft.npy', 'piv17.3.3_std.npy']]"
   ]
  },
  {
   "cell_type": "code",
   "execution_count": 21,
   "metadata": {},
   "outputs": [],
   "source": [
    "#Carregando arquivos para validação\n",
    "#Com não parkinsonianos\n",
    "#filesv_ = [['p1v_std', 'p1v_rms', 'p1v_filt'],['p2v_std', 'p2v_rms', 'p2v_filt'],['p3v_std', 'p3v_rms', 'p3v_filt'],\n",
    "#          ['p5v_std', 'p5v_rms', 'p5v_filt'],['c1v_std', 'c1v_rms', 'c1v_filt'],['c3v_std', 'c3v_rms', 'c3v_filt'],\n",
    "#          ['p4v_std', 'p4v_rms', 'p4v_filt'],['p6v_std', 'p6v_rms', 'p6v_filt']]\n",
    "\n",
    "#Sem não parkinsonianos\n",
    "#filesv_ = [['p1v_std', 'p1v_rms', 'p1v_filt'],['p2v_std', 'p2v_rms', 'p2v_filt'],['p3v_std', 'p3v_rms', 'p3v_filt'],\n",
    "#          ['p5v_std', 'p5v_rms', 'p5v_filt'],['p4v_std', 'p4v_rms', 'p4v_filt'],['p6v_std', 'p6v_rms', 'p6v_filt']]\n",
    "\n",
    "#filesv_ = [['prv06.3_std', 'prv06.3_rms', 'prv06.3_filt'],['prv07.2_std', 'prv07.2_rms', 'prv07.2_filt'],['prv09.3_std', 'prv09.3_rms', 'prv09.3_filt'],['prv17.3_std', 'prv17.3_rms', 'prv17.3_filt']]\n",
    "\n",
    "DATAv_hs = []"
   ]
  },
  {
   "cell_type": "markdown",
   "metadata": {
    "collapsed": true
   },
   "source": [
    "files_ = [['p4_std', 'p4_rms', 'p4_filt']]\n",
    "DATA_hs = []"
   ]
  },
  {
   "cell_type": "markdown",
   "metadata": {
    "collapsed": true
   },
   "source": [
    "#Grupo de validação\n",
    "Stacker(files_[0],files_[0][0][:2])"
   ]
  },
  {
   "cell_type": "code",
   "execution_count": 22,
   "metadata": {},
   "outputs": [
    {
     "data": {
      "text/plain": [
       "(['pd06.1.1_fft.npy',\n",
       "  'pd06.1.1_filt.npy',\n",
       "  'pd06.1.1_rms.npy',\n",
       "  'pd06.1.1_std.npy'],\n",
       " 'pd06.1.1')"
      ]
     },
     "execution_count": 22,
     "metadata": {},
     "output_type": "execute_result"
    }
   ],
   "source": [
    "files_[0],files_[0][0][:8]"
   ]
  },
  {
   "cell_type": "code",
   "execution_count": 23,
   "metadata": {},
   "outputs": [
    {
     "data": {
      "text/plain": [
       "[0, 1, 2]"
      ]
     },
     "execution_count": 23,
     "metadata": {},
     "output_type": "execute_result"
    }
   ],
   "source": [
    "range(0,len(files_[0])-1)"
   ]
  },
  {
   "cell_type": "code",
   "execution_count": 25,
   "metadata": {
    "scrolled": true
   },
   "outputs": [],
   "source": [
    "#Grupo total\n",
    "for i in range(len(files_)):\n",
    "    Stacker(files_[i],files_[i][0][:8])"
   ]
  },
  {
   "cell_type": "code",
   "execution_count": 26,
   "metadata": {},
   "outputs": [
    {
     "data": {
      "text/plain": [
       "['pd06.1.1_hs.npy',\n",
       " 'pd06.1.2_hs.npy',\n",
       " 'pd06.1.3_hs.npy',\n",
       " 'pd07.1.1_hs.npy',\n",
       " 'pd07.1.2_hs.npy',\n",
       " 'pd07.1.3_hs.npy',\n",
       " 'pd09.2.1_hs.npy',\n",
       " 'pd09.2.2_hs.npy',\n",
       " 'pd09.2.3_hs.npy',\n",
       " 'pd17.2.1_hs.npy',\n",
       " 'pd17.2.2_hs.npy',\n",
       " 'pd17.2.3_hs.npy',\n",
       " 'pe06.1.1_hs.npy',\n",
       " 'pe06.1.2_hs.npy',\n",
       " 'pe06.1.3_hs.npy',\n",
       " 'pe07.1.1_hs.npy',\n",
       " 'pe07.1.2_hs.npy',\n",
       " 'pe07.1.3_hs.npy',\n",
       " 'pe09.2.1_hs.npy',\n",
       " 'pe09.2.2_hs.npy',\n",
       " 'pe09.2.3_hs.npy',\n",
       " 'pe17.2.1_hs.npy',\n",
       " 'pe17.2.2_hs.npy',\n",
       " 'pe17.2.3_hs.npy',\n",
       " 'pr06.1.1_hs.npy',\n",
       " 'pr06.1.2_hs.npy',\n",
       " 'pr06.1.3_hs.npy',\n",
       " 'pr06.2.1_hs.npy',\n",
       " 'pr06.2.2_hs.npy',\n",
       " 'pr06.2.3_hs.npy',\n",
       " 'pr07.1.1_hs.npy',\n",
       " 'pr07.1.2_hs.npy',\n",
       " 'pr07.1.3_hs.npy',\n",
       " 'pr09.1.1_hs.npy',\n",
       " 'pr09.1.2_hs.npy',\n",
       " 'pr09.1.3_hs.npy',\n",
       " 'pr09.2.1_hs.npy',\n",
       " 'pr09.2.2_hs.npy',\n",
       " 'pr09.2.3_hs.npy',\n",
       " 'pr17.1.1_hs.npy',\n",
       " 'pr17.1.2_hs.npy',\n",
       " 'pr17.1.3_hs.npy',\n",
       " 'pr17.2.1_hs.npy',\n",
       " 'pr17.2.2_hs.npy',\n",
       " 'pr17.2.3_hs.npy',\n",
       " 'pi06.1.1_hs.npy',\n",
       " 'pi06.1.2_hs.npy',\n",
       " 'pi06.1.3_hs.npy',\n",
       " 'pi07.2.1_hs.npy',\n",
       " 'pi07.2.2_hs.npy',\n",
       " 'pi07.2.3_hs.npy',\n",
       " 'pi09.1.1_hs.npy',\n",
       " 'pi09.1.2_hs.npy',\n",
       " 'pi09.1.3_hs.npy',\n",
       " 'pi17.1.1_hs.npy',\n",
       " 'pi17.1.2_hs.npy',\n",
       " 'pi17.1.3_hs.npy']"
      ]
     },
     "execution_count": 26,
     "metadata": {},
     "output_type": "execute_result"
    }
   ],
   "source": [
    "DATA_hs"
   ]
  },
  {
   "cell_type": "code",
   "execution_count": 27,
   "metadata": {},
   "outputs": [
    {
     "data": {
      "text/plain": [
       "(['pdv06.2.1_fft.npy',\n",
       "  'pdv06.2.1_filt.npy',\n",
       "  'pdv06.2.1_rms.npy',\n",
       "  'pdv06.2.1_std.npy'],\n",
       " 'pdv06.2.1')"
      ]
     },
     "execution_count": 27,
     "metadata": {},
     "output_type": "execute_result"
    }
   ],
   "source": [
    "filesv_[0],filesv_[0][0][:9]"
   ]
  },
  {
   "cell_type": "code",
   "execution_count": 28,
   "metadata": {},
   "outputs": [],
   "source": [
    "#Grupo total validação\n",
    "for i in range(len(filesv_)):\n",
    "    Stacker(filesv_[i],filesv_[i][0][:9])"
   ]
  },
  {
   "cell_type": "code",
   "execution_count": 29,
   "metadata": {},
   "outputs": [
    {
     "data": {
      "text/plain": [
       "['pdv06.2.1_hs.npy',\n",
       " 'pdv06.2.2_hs.npy',\n",
       " 'pdv06.2.3_hs.npy',\n",
       " 'pdv07.2.1_hs.npy',\n",
       " 'pdv07.2.2_hs.npy',\n",
       " 'pdv07.2.3_hs.npy',\n",
       " 'pdv09.3.1_hs.npy',\n",
       " 'pdv09.3.2_hs.npy',\n",
       " 'pdv09.3.3_hs.npy',\n",
       " 'pdv17.3.1_hs.npy',\n",
       " 'pdv17.3.2_hs.npy',\n",
       " 'pdv17.3.3_hs.npy',\n",
       " 'pev06.2.1_hs.npy',\n",
       " 'pev06.2.2_hs.npy',\n",
       " 'pev06.2.3_hs.npy',\n",
       " 'pev07.2.1_hs.npy',\n",
       " 'pev07.2.2_hs.npy',\n",
       " 'pev07.2.3_hs.npy',\n",
       " 'pev09.3.1_hs.npy',\n",
       " 'pev09.3.2_hs.npy',\n",
       " 'pev09.3.3_hs.npy',\n",
       " 'pev17.3.1_hs.npy',\n",
       " 'pev17.3.2_hs.npy',\n",
       " 'pev17.3.3_hs.npy',\n",
       " 'prv06.3.1_hs.npy',\n",
       " 'prv06.3.2_hs.npy',\n",
       " 'prv06.3.3_hs.npy',\n",
       " 'prv07.2.1_hs.npy',\n",
       " 'prv07.2.2_hs.npy',\n",
       " 'prv07.2.3_hs.npy',\n",
       " 'prv09.3.1_hs.npy',\n",
       " 'prv09.3.2_hs.npy',\n",
       " 'prv09.3.3_hs.npy',\n",
       " 'prv17.3.1_hs.npy',\n",
       " 'prv17.3.2_hs.npy',\n",
       " 'prv17.3.3_hs.npy',\n",
       " 'piv06.2.1_hs.npy',\n",
       " 'piv06.2.2_hs.npy',\n",
       " 'piv06.2.3_hs.npy',\n",
       " 'piv07.3.1_hs.npy',\n",
       " 'piv07.3.2_hs.npy',\n",
       " 'piv07.3.3_hs.npy',\n",
       " 'piv09.2.1_hs.npy',\n",
       " 'piv09.2.2_hs.npy',\n",
       " 'piv09.2.3_hs.npy',\n",
       " 'piv17.3.1_hs.npy',\n",
       " 'piv17.3.2_hs.npy',\n",
       " 'piv17.3.3_hs.npy']"
      ]
     },
     "execution_count": 29,
     "metadata": {},
     "output_type": "execute_result"
    }
   ],
   "source": [
    "DATAv_hs"
   ]
  },
  {
   "cell_type": "code",
   "execution_count": 30,
   "metadata": {},
   "outputs": [],
   "source": [
    "Xc = np.load('preproc/labeled/pr06.1.1_hs.npy')"
   ]
  },
  {
   "cell_type": "code",
   "execution_count": 31,
   "metadata": {
    "scrolled": false
   },
   "outputs": [
    {
     "data": {
      "text/html": [
       "<div>\n",
       "<style scoped>\n",
       "    .dataframe tbody tr th:only-of-type {\n",
       "        vertical-align: middle;\n",
       "    }\n",
       "\n",
       "    .dataframe tbody tr th {\n",
       "        vertical-align: top;\n",
       "    }\n",
       "\n",
       "    .dataframe thead th {\n",
       "        text-align: right;\n",
       "    }\n",
       "</style>\n",
       "<table border=\"1\" class=\"dataframe\">\n",
       "  <thead>\n",
       "    <tr style=\"text-align: right;\">\n",
       "      <th></th>\n",
       "      <th>0</th>\n",
       "      <th>1</th>\n",
       "      <th>2</th>\n",
       "      <th>3</th>\n",
       "      <th>4</th>\n",
       "      <th>5</th>\n",
       "      <th>6</th>\n",
       "      <th>7</th>\n",
       "      <th>8</th>\n",
       "      <th>9</th>\n",
       "      <th>10</th>\n",
       "      <th>11</th>\n",
       "      <th>12</th>\n",
       "      <th>13</th>\n",
       "      <th>14</th>\n",
       "      <th>15</th>\n",
       "    </tr>\n",
       "  </thead>\n",
       "  <tbody>\n",
       "    <tr>\n",
       "      <th>0</th>\n",
       "      <td>-0.008526</td>\n",
       "      <td>0.005000</td>\n",
       "      <td>0.054442</td>\n",
       "      <td>-0.059327</td>\n",
       "      <td>-0.000994</td>\n",
       "      <td>0.002769</td>\n",
       "      <td>-0.000904</td>\n",
       "      <td>0.002534</td>\n",
       "      <td>6.538195</td>\n",
       "      <td>4.492444</td>\n",
       "      <td>17.367166</td>\n",
       "      <td>14.146537</td>\n",
       "      <td>7.010638</td>\n",
       "      <td>9.018004</td>\n",
       "      <td>55.488495</td>\n",
       "      <td>207.737268</td>\n",
       "    </tr>\n",
       "    <tr>\n",
       "      <th>1</th>\n",
       "      <td>-0.052484</td>\n",
       "      <td>0.007035</td>\n",
       "      <td>0.026556</td>\n",
       "      <td>-0.059327</td>\n",
       "      <td>-0.017542</td>\n",
       "      <td>0.005341</td>\n",
       "      <td>-0.023169</td>\n",
       "      <td>0.004837</td>\n",
       "      <td>6.551378</td>\n",
       "      <td>4.474770</td>\n",
       "      <td>16.604748</td>\n",
       "      <td>14.146537</td>\n",
       "      <td>1.020075</td>\n",
       "      <td>1.350177</td>\n",
       "      <td>19.546165</td>\n",
       "      <td>5.347520</td>\n",
       "    </tr>\n",
       "    <tr>\n",
       "      <th>2</th>\n",
       "      <td>0.007958</td>\n",
       "      <td>0.005000</td>\n",
       "      <td>0.028701</td>\n",
       "      <td>-0.059327</td>\n",
       "      <td>-0.006732</td>\n",
       "      <td>0.003656</td>\n",
       "      <td>-0.031473</td>\n",
       "      <td>0.000079</td>\n",
       "      <td>6.294009</td>\n",
       "      <td>4.474770</td>\n",
       "      <td>16.424524</td>\n",
       "      <td>14.205700</td>\n",
       "      <td>1.560204</td>\n",
       "      <td>1.282810</td>\n",
       "      <td>20.677449</td>\n",
       "      <td>1.305248</td>\n",
       "    </tr>\n",
       "    <tr>\n",
       "      <th>3</th>\n",
       "      <td>-0.003032</td>\n",
       "      <td>0.005000</td>\n",
       "      <td>0.024411</td>\n",
       "      <td>-0.065975</td>\n",
       "      <td>0.007458</td>\n",
       "      <td>-0.001530</td>\n",
       "      <td>-0.028379</td>\n",
       "      <td>-0.007191</td>\n",
       "      <td>6.288016</td>\n",
       "      <td>4.699300</td>\n",
       "      <td>16.217454</td>\n",
       "      <td>14.233706</td>\n",
       "      <td>1.223630</td>\n",
       "      <td>0.828499</td>\n",
       "      <td>6.083578</td>\n",
       "      <td>1.502714</td>\n",
       "    </tr>\n",
       "    <tr>\n",
       "      <th>4</th>\n",
       "      <td>-0.014021</td>\n",
       "      <td>-0.009246</td>\n",
       "      <td>0.028701</td>\n",
       "      <td>-0.079272</td>\n",
       "      <td>-0.004664</td>\n",
       "      <td>-0.004994</td>\n",
       "      <td>-0.026324</td>\n",
       "      <td>-0.008116</td>\n",
       "      <td>6.295046</td>\n",
       "      <td>4.761814</td>\n",
       "      <td>16.106662</td>\n",
       "      <td>14.205700</td>\n",
       "      <td>0.374498</td>\n",
       "      <td>0.232677</td>\n",
       "      <td>10.918321</td>\n",
       "      <td>3.738429</td>\n",
       "    </tr>\n",
       "  </tbody>\n",
       "</table>\n",
       "</div>"
      ],
      "text/plain": [
       "         0         1         2         3         4         5         6   \\\n",
       "0 -0.008526  0.005000  0.054442 -0.059327 -0.000994  0.002769 -0.000904   \n",
       "1 -0.052484  0.007035  0.026556 -0.059327 -0.017542  0.005341 -0.023169   \n",
       "2  0.007958  0.005000  0.028701 -0.059327 -0.006732  0.003656 -0.031473   \n",
       "3 -0.003032  0.005000  0.024411 -0.065975  0.007458 -0.001530 -0.028379   \n",
       "4 -0.014021 -0.009246  0.028701 -0.079272 -0.004664 -0.004994 -0.026324   \n",
       "\n",
       "         7         8         9          10         11        12        13  \\\n",
       "0  0.002534  6.538195  4.492444  17.367166  14.146537  7.010638  9.018004   \n",
       "1  0.004837  6.551378  4.474770  16.604748  14.146537  1.020075  1.350177   \n",
       "2  0.000079  6.294009  4.474770  16.424524  14.205700  1.560204  1.282810   \n",
       "3 -0.007191  6.288016  4.699300  16.217454  14.233706  1.223630  0.828499   \n",
       "4 -0.008116  6.295046  4.761814  16.106662  14.205700  0.374498  0.232677   \n",
       "\n",
       "          14          15  \n",
       "0  55.488495  207.737268  \n",
       "1  19.546165    5.347520  \n",
       "2  20.677449    1.305248  \n",
       "3   6.083578    1.502714  \n",
       "4  10.918321    3.738429  "
      ]
     },
     "execution_count": 31,
     "metadata": {},
     "output_type": "execute_result"
    }
   ],
   "source": [
    "dfn = pd.DataFrame(data=Xc)\n",
    "dfn.head()"
   ]
  },
  {
   "cell_type": "code",
   "execution_count": 32,
   "metadata": {},
   "outputs": [
    {
     "data": {
      "text/plain": [
       "(3951L, 16L)"
      ]
     },
     "execution_count": 32,
     "metadata": {},
     "output_type": "execute_result"
    }
   ],
   "source": [
    "Xc.shape"
   ]
  },
  {
   "cell_type": "code",
   "execution_count": 33,
   "metadata": {},
   "outputs": [],
   "source": [
    "entropy = []\n",
    "\n",
    "def proccess_data(x,DATA,NUM_SAMPLES,LABEL):\n",
    "    \n",
    "    Xc = np.load(\"preproc/labeled/\"+x)\n",
    "    print '\\nXc initial shape ', Xc.shape\n",
    "    \n",
    "    #Principal component analysis\n",
    "    pca = PCA(n_components=8)\n",
    "    pca.fit(Xc)\n",
    "    Xc = pca.transform(Xc)\n",
    "    print pca.explained_variance_ratio_\n",
    "    entropy.append(sum(pca.explained_variance_ratio_))\n",
    "    print 'Xc PCA shape ', Xc.shape\n",
    "    \n",
    "    #Create temporal serie\n",
    "    #Xc = mls.generate_envelope(Xc, NUM_SAMPLES)\n",
    "    #print 'Xc temporal-serie shape ', Xc.shape\n",
    "    \n",
    "    #Labeling the PKS level    \n",
    "    C = (np.ones(len(Xc))*LABEL).reshape((len(Xc),1))\n",
    "    Xc = np.hstack((Xc.reshape(Xc.shape),C.reshape((len(Xc),1)))) \n",
    "    print 'Xc labeled shape ', Xc.shape\n",
    "    \n",
    "    # Salving in file on the folder </preproc/labeled>\n",
    "    if \"v\" in x:\n",
    "        np.save('./preproc/labeled/'+x[:9]+'_tsl', Xc, allow_pickle=False)\n",
    "        print '\\n'+x[:9]+'_tsl'\n",
    "        DATAv.append(x[:9]+'_tsl.npy')\n",
    "    else:\n",
    "        np.save('./preproc/labeled/'+x[:8]+'_tsl', Xc, allow_pickle=False)\n",
    "        print '\\n'+x[:8]+'_tsl'\n",
    "        DATA.append(x[:8]+'_tsl.npy')\n",
    "        "
   ]
  },
  {
   "cell_type": "code",
   "execution_count": 34,
   "metadata": {
    "scrolled": false
   },
   "outputs": [
    {
     "data": {
      "text/plain": [
       "['pd06.1.1_hs.npy',\n",
       " 'pd06.1.2_hs.npy',\n",
       " 'pd06.1.3_hs.npy',\n",
       " 'pd07.1.1_hs.npy',\n",
       " 'pd07.1.2_hs.npy',\n",
       " 'pd07.1.3_hs.npy',\n",
       " 'pd09.2.1_hs.npy',\n",
       " 'pd09.2.2_hs.npy',\n",
       " 'pd09.2.3_hs.npy',\n",
       " 'pd17.2.1_hs.npy',\n",
       " 'pd17.2.2_hs.npy',\n",
       " 'pd17.2.3_hs.npy',\n",
       " 'pe06.1.1_hs.npy',\n",
       " 'pe06.1.2_hs.npy',\n",
       " 'pe06.1.3_hs.npy',\n",
       " 'pe07.1.1_hs.npy',\n",
       " 'pe07.1.2_hs.npy',\n",
       " 'pe07.1.3_hs.npy',\n",
       " 'pe09.2.1_hs.npy',\n",
       " 'pe09.2.2_hs.npy',\n",
       " 'pe09.2.3_hs.npy',\n",
       " 'pe17.2.1_hs.npy',\n",
       " 'pe17.2.2_hs.npy',\n",
       " 'pe17.2.3_hs.npy',\n",
       " 'pr06.1.1_hs.npy',\n",
       " 'pr06.1.2_hs.npy',\n",
       " 'pr06.1.3_hs.npy',\n",
       " 'pr06.2.1_hs.npy',\n",
       " 'pr06.2.2_hs.npy',\n",
       " 'pr06.2.3_hs.npy',\n",
       " 'pr07.1.1_hs.npy',\n",
       " 'pr07.1.2_hs.npy',\n",
       " 'pr07.1.3_hs.npy',\n",
       " 'pr09.1.1_hs.npy',\n",
       " 'pr09.1.2_hs.npy',\n",
       " 'pr09.1.3_hs.npy',\n",
       " 'pr09.2.1_hs.npy',\n",
       " 'pr09.2.2_hs.npy',\n",
       " 'pr09.2.3_hs.npy',\n",
       " 'pr17.1.1_hs.npy',\n",
       " 'pr17.1.2_hs.npy',\n",
       " 'pr17.1.3_hs.npy',\n",
       " 'pr17.2.1_hs.npy',\n",
       " 'pr17.2.2_hs.npy',\n",
       " 'pr17.2.3_hs.npy',\n",
       " 'pi06.1.1_hs.npy',\n",
       " 'pi06.1.2_hs.npy',\n",
       " 'pi06.1.3_hs.npy',\n",
       " 'pi07.2.1_hs.npy',\n",
       " 'pi07.2.2_hs.npy',\n",
       " 'pi07.2.3_hs.npy',\n",
       " 'pi09.1.1_hs.npy',\n",
       " 'pi09.1.2_hs.npy',\n",
       " 'pi09.1.3_hs.npy',\n",
       " 'pi17.1.1_hs.npy',\n",
       " 'pi17.1.2_hs.npy',\n",
       " 'pi17.1.3_hs.npy']"
      ]
     },
     "execution_count": 34,
     "metadata": {},
     "output_type": "execute_result"
    }
   ],
   "source": [
    "DATA_hs"
   ]
  },
  {
   "cell_type": "markdown",
   "metadata": {},
   "source": [
    "---"
   ]
  },
  {
   "cell_type": "markdown",
   "metadata": {},
   "source": [
    "#Validação\n",
    "start = timeit.default_timer()\n",
    "\n",
    "NUM_SAMPLES = 500\n",
    "l = [1]\n",
    "DATA = []\n",
    "\n",
    "for x, y in zip(DATA_hs, l):\n",
    "    proccess_data(x,DATA,NUM_SAMPLES,y)\n",
    "    \n",
    "stop = timeit.default_timer()\n",
    "ti = stop - start \n",
    "print ('Tempo total para o envelopamento: %.2f min' % (ti/60))"
   ]
  },
  {
   "cell_type": "markdown",
   "metadata": {},
   "source": [
    "DATA"
   ]
  },
  {
   "cell_type": "markdown",
   "metadata": {},
   "source": [
    "Xc = np.load('DB_INTENC/preproc/labeled/p4_hs.npy_tsl.npy')\n",
    "dfn = pd.DataFrame(data=Xc)\n",
    "dfn.head()"
   ]
  },
  {
   "cell_type": "markdown",
   "metadata": {},
   "source": [
    "---"
   ]
  },
  {
   "cell_type": "code",
   "execution_count": 35,
   "metadata": {},
   "outputs": [
    {
     "name": "stdout",
     "output_type": "stream",
     "text": [
      "pd06.1.1 2\n",
      "pd06.1.2 2\n",
      "pd06.1.3 2\n",
      "pd07.1.1 3\n",
      "pd07.1.2 3\n",
      "pd07.1.3 3\n",
      "pd09.2.1 4\n",
      "pd09.2.2 4\n",
      "pd09.2.3 4\n",
      "pd17.2.1 1\n",
      "pd17.2.2 1\n",
      "pd17.2.3 1\n",
      "pe06.1.1 2\n",
      "pe06.1.2 2\n",
      "pe06.1.3 2\n",
      "pe07.1.1 3\n",
      "pe07.1.2 3\n",
      "pe07.1.3 3\n",
      "pe09.2.1 4\n",
      "pe09.2.2 4\n",
      "pe09.2.3 4\n",
      "pe17.2.1 1\n",
      "pe17.2.2 1\n",
      "pe17.2.3 1\n",
      "pr06.1.1 2\n",
      "pr06.1.2 2\n",
      "pr06.1.3 2\n",
      "pr06.2.1 2\n",
      "pr06.2.2 2\n",
      "pr06.2.3 2\n",
      "pr07.1.1 3\n",
      "pr07.1.2 3\n",
      "pr07.1.3 3\n",
      "pr09.1.1 4\n",
      "pr09.1.2 4\n",
      "pr09.1.3 4\n",
      "pr09.2.1 4\n",
      "pr09.2.2 4\n",
      "pr09.2.3 4\n",
      "pr17.1.1 1\n",
      "pr17.1.2 1\n",
      "pr17.1.3 1\n",
      "pr17.2.1 1\n",
      "pr17.2.2 1\n",
      "pr17.2.3 1\n",
      "pi06.1.1 2\n",
      "pi06.1.2 2\n",
      "pi06.1.3 2\n",
      "pi07.2.1 3\n",
      "pi07.2.2 3\n",
      "pi07.2.3 3\n",
      "pi09.1.1 4\n",
      "pi09.1.2 4\n",
      "pi09.1.3 4\n",
      "pi17.1.1 1\n",
      "pi17.1.2 1\n",
      "pi17.1.3 1\n"
     ]
    }
   ],
   "source": [
    "#l = [2, 15, 4, 1, 0, 0, 15, 3]\n",
    "#l = [2, 1, 4, 1, 0, 0, 1, 3]\n",
    "#l = [2, 1, 4, 1, 1, 3]\n",
    "#l=[2,2,2,2,2,2,3,3,3,4,4,4,4,4,4,1,1,1,1,1,1]\n",
    "#l=[9,9,9,9,9,9,9,9,9,9,9,9,9,9,9,1,1,1,1,1,1]\n",
    "#l=[2,2,2,2,2,2,9,9,9,9,9,9,9,9,9,9,9,9,9,9,9]\n",
    "#l=[9,9,9,9,9,9,3,3,3,9,9,9,9,9,9,9,9,9,9,9,9]\n",
    "#l=[0,0,0,0,0,0,0,0,0,4,4,4,4,4,4,0,0,0,0,0,0]\n",
    "#l=[0,0,0,0,0,0,3,3,3,0,0,0,0,0,0,0,0,0,0,0,0]\n",
    "#l=[2,2,2,2,2,2,3,3,3,4,4,4,4,4,4,1,1,1,1,1,1,2,2,2,3,3,3,4,4,4,1,1,1]\n",
    "l=[2,2,2,3,3,3,4,4,4,1,1,1,2,2,2,3,3,3,4,4,4,1,1,1,2,2,2,2,2,2,3,3,3,4,4,4,4,4,4,1,1,1,1,1,1,2,2,2,3,3,3,4,4,4,1,1,1]\n",
    "\n",
    "for x, y in zip(DATA_hs, l):\n",
    "    print x[:8],y"
   ]
  },
  {
   "cell_type": "code",
   "execution_count": 36,
   "metadata": {
    "scrolled": true
   },
   "outputs": [
    {
     "name": "stdout",
     "output_type": "stream",
     "text": [
      "\n",
      "Xc initial shape  (17951L, 16L)\n",
      "[0.47798198 0.25395936 0.20850054 0.02114339 0.01529274 0.01339588\n",
      " 0.00906957 0.00061247]\n",
      "Xc PCA shape  (17951L, 8L)\n",
      "Xc labeled shape  (17951L, 9L)\n",
      "\n",
      "pd06.1.1_tsl\n",
      "\n",
      "Xc initial shape  (17951L, 16L)\n",
      "[0.45697296 0.27887212 0.19859102 0.02136174 0.01790994 0.01450973\n",
      " 0.01110463 0.00062735]\n",
      "Xc PCA shape  (17951L, 8L)\n",
      "Xc labeled shape  (17951L, 9L)\n",
      "\n",
      "pd06.1.2_tsl\n",
      "\n",
      "Xc initial shape  (17951L, 16L)\n",
      "[5.16259433e-01 2.32890099e-01 1.97382987e-01 1.95531991e-02\n",
      " 1.52927509e-02 1.28519524e-02 5.31136070e-03 4.15807397e-04]\n",
      "Xc PCA shape  (17951L, 8L)\n",
      "Xc labeled shape  (17951L, 9L)\n",
      "\n",
      "pd06.1.3_tsl\n",
      "\n",
      "Xc initial shape  (9284L, 16L)\n",
      "[0.68408963 0.18345259 0.06457869 0.02293877 0.02092118 0.01046568\n",
      " 0.0085268  0.00499195]\n",
      "Xc PCA shape  (9284L, 8L)\n",
      "Xc labeled shape  (9284L, 9L)\n",
      "\n",
      "pd07.1.1_tsl\n",
      "\n",
      "Xc initial shape  (9284L, 16L)\n",
      "[0.75782973 0.15041875 0.05188187 0.01798785 0.00804771 0.00680448\n",
      " 0.00418541 0.00281924]\n",
      "Xc PCA shape  (9284L, 8L)\n",
      "Xc labeled shape  (9284L, 9L)\n",
      "\n",
      "pd07.1.2_tsl\n",
      "\n",
      "Xc initial shape  (9284L, 16L)\n",
      "[0.7149211  0.18641249 0.04653841 0.01805519 0.01457959 0.00897802\n",
      " 0.00730689 0.00318022]\n",
      "Xc PCA shape  (9284L, 8L)\n",
      "Xc labeled shape  (9284L, 9L)\n",
      "\n",
      "pd07.1.3_tsl\n",
      "\n",
      "Xc initial shape  (26617L, 16L)\n",
      "[0.39444092 0.22838872 0.15836365 0.0784381  0.07229342 0.03917577\n",
      " 0.02219521 0.00667727]\n",
      "Xc PCA shape  (26617L, 8L)\n",
      "Xc labeled shape  (26617L, 9L)\n",
      "\n",
      "pd09.2.1_tsl\n",
      "\n",
      "Xc initial shape  (26617L, 16L)\n",
      "[0.46814415 0.19913263 0.13810445 0.08502186 0.0684184  0.02220912\n",
      " 0.01403737 0.00491292]\n",
      "Xc PCA shape  (26617L, 8L)\n",
      "Xc labeled shape  (26617L, 9L)\n",
      "\n",
      "pd09.2.2_tsl\n",
      "\n",
      "Xc initial shape  (26617L, 16L)\n",
      "[0.48799031 0.19723902 0.16620713 0.09614441 0.02928343 0.01348771\n",
      " 0.00746392 0.00217023]\n",
      "Xc PCA shape  (26617L, 8L)\n",
      "Xc labeled shape  (26617L, 9L)\n",
      "\n",
      "pd09.2.3_tsl\n",
      "\n",
      "Xc initial shape  (5951L, 16L)\n",
      "[6.57383072e-01 1.47700228e-01 1.19136253e-01 4.85170991e-02\n",
      " 1.24383320e-02 1.11517241e-02 3.40060181e-03 2.38322212e-04]\n",
      "Xc PCA shape  (5951L, 8L)\n",
      "Xc labeled shape  (5951L, 9L)\n",
      "\n",
      "pd17.2.1_tsl\n",
      "\n",
      "Xc initial shape  (5951L, 16L)\n",
      "[0.4157627  0.25338516 0.19944581 0.08324273 0.02543516 0.01425531\n",
      " 0.00789632 0.00051647]\n",
      "Xc PCA shape  (5951L, 8L)\n",
      "Xc labeled shape  (5951L, 9L)\n",
      "\n",
      "pd17.2.2_tsl\n",
      "\n",
      "Xc initial shape  (5951L, 16L)\n",
      "[6.19995453e-01 2.05466398e-01 9.62578759e-02 4.75179719e-02\n",
      " 1.78025373e-02 7.26699633e-03 5.28041713e-03 3.77146848e-04]\n",
      "Xc PCA shape  (5951L, 8L)\n",
      "Xc labeled shape  (5951L, 9L)\n",
      "\n",
      "pd17.2.3_tsl\n",
      "\n",
      "Xc initial shape  (11951L, 16L)\n",
      "[0.74397958 0.10051314 0.07705748 0.0382501  0.01609427 0.0130269\n",
      " 0.00878096 0.00226353]\n",
      "Xc PCA shape  (11951L, 8L)\n",
      "Xc labeled shape  (11951L, 9L)\n",
      "\n",
      "pe06.1.1_tsl\n",
      "\n",
      "Xc initial shape  (11951L, 16L)\n",
      "[0.66323578 0.13771025 0.11232001 0.04051371 0.01766132 0.01445976\n",
      " 0.01152705 0.00253496]\n",
      "Xc PCA shape  (11951L, 8L)\n",
      "Xc labeled shape  (11951L, 9L)\n",
      "\n",
      "pe06.1.2_tsl\n",
      "\n",
      "Xc initial shape  (11951L, 16L)\n",
      "[0.81763896 0.07248607 0.04000862 0.02695048 0.01552579 0.01345456\n",
      " 0.0114103  0.00249251]\n",
      "Xc PCA shape  (11951L, 8L)\n",
      "Xc labeled shape  (11951L, 9L)\n",
      "\n",
      "pe06.1.3_tsl\n",
      "\n",
      "Xc initial shape  (9951L, 16L)\n",
      "[7.91216890e-01 1.20938624e-01 5.64060982e-02 1.34048188e-02\n",
      " 1.30895110e-02 2.48708364e-03 2.01455791e-03 4.20610826e-04]\n",
      "Xc PCA shape  (9951L, 8L)\n",
      "Xc labeled shape  (9951L, 9L)\n",
      "\n",
      "pe07.1.1_tsl\n",
      "\n",
      "Xc initial shape  (9951L, 16L)\n",
      "[7.14881406e-01 1.70740485e-01 7.36608175e-02 1.82053831e-02\n",
      " 1.42492284e-02 3.97243585e-03 3.64996599e-03 6.09788478e-04]\n",
      "Xc PCA shape  (9951L, 8L)\n",
      "Xc labeled shape  (9951L, 9L)\n",
      "\n",
      "pe07.1.2_tsl\n",
      "\n",
      "Xc initial shape  (9951L, 16L)\n",
      "[7.60092077e-01 1.48101197e-01 5.27715778e-02 2.17815497e-02\n",
      " 9.74835764e-03 3.83019839e-03 3.08482864e-03 5.68574905e-04]\n",
      "Xc PCA shape  (9951L, 8L)\n",
      "Xc labeled shape  (9951L, 9L)\n",
      "\n",
      "pe07.1.3_tsl\n",
      "\n",
      "Xc initial shape  (18617L, 16L)\n",
      "[0.81896273 0.10975507 0.04452485 0.01473095 0.0052734  0.00331541\n",
      " 0.0025954  0.0008373 ]\n",
      "Xc PCA shape  (18617L, 8L)\n",
      "Xc labeled shape  (18617L, 9L)\n",
      "\n",
      "pe09.2.1_tsl\n",
      "\n",
      "Xc initial shape  (18617L, 16L)\n",
      "[7.25407015e-01 1.86443731e-01 5.53929387e-02 1.98268560e-02\n",
      " 5.65557491e-03 4.60501140e-03 2.10534562e-03 5.56925041e-04]\n",
      "Xc PCA shape  (18617L, 8L)\n",
      "Xc labeled shape  (18617L, 9L)\n",
      "\n",
      "pe09.2.2_tsl\n",
      "\n",
      "Xc initial shape  (18617L, 16L)\n",
      "[0.49496119 0.2928497  0.09076791 0.08376853 0.01740531 0.01075291\n",
      " 0.00741841 0.00206416]\n",
      "Xc PCA shape  (18617L, 8L)\n",
      "Xc labeled shape  (18617L, 9L)\n",
      "\n",
      "pe09.2.3_tsl\n",
      "\n",
      "Xc initial shape  (5951L, 16L)\n",
      "[0.90666628 0.02985911 0.02366393 0.0162535  0.00990861 0.00759466\n",
      " 0.00497307 0.00105597]\n",
      "Xc PCA shape  (5951L, 8L)\n",
      "Xc labeled shape  (5951L, 9L)\n",
      "\n",
      "pe17.2.1_tsl\n",
      "\n",
      "Xc initial shape  (5951L, 16L)\n",
      "[9.23239796e-01 2.46796900e-02 1.92169629e-02 1.36170373e-02\n",
      " 8.84189438e-03 5.76023469e-03 3.77035255e-03 8.53239013e-04]\n",
      "Xc PCA shape  (5951L, 8L)\n",
      "Xc labeled shape  (5951L, 9L)\n",
      "\n",
      "pe17.2.2_tsl\n",
      "\n",
      "Xc initial shape  (5951L, 16L)\n",
      "[0.85734672 0.0787004  0.02526984 0.01527987 0.00904308 0.00822613\n",
      " 0.0051473  0.0009659 ]\n",
      "Xc PCA shape  (5951L, 8L)\n",
      "Xc labeled shape  (5951L, 9L)\n",
      "\n",
      "pe17.2.3_tsl\n",
      "\n",
      "Xc initial shape  (3951L, 16L)\n",
      "[0.64615117 0.21950446 0.0825476  0.01837573 0.01498483 0.00837818\n",
      " 0.00774286 0.00227983]\n",
      "Xc PCA shape  (3951L, 8L)\n",
      "Xc labeled shape  (3951L, 9L)\n",
      "\n",
      "pr06.1.1_tsl\n",
      "\n",
      "Xc initial shape  (3951L, 16L)\n",
      "[0.82564748 0.07583612 0.07257669 0.01118889 0.00634047 0.00346747\n",
      " 0.00316274 0.00176472]\n",
      "Xc PCA shape  (3951L, 8L)\n",
      "Xc labeled shape  (3951L, 9L)\n",
      "\n",
      "pr06.1.2_tsl\n",
      "\n",
      "Xc initial shape  (3951L, 16L)\n",
      "[0.74768053 0.16436788 0.03504877 0.03285036 0.00723729 0.00669215\n",
      " 0.00421896 0.00188064]\n",
      "Xc PCA shape  (3951L, 8L)\n",
      "Xc labeled shape  (3951L, 9L)\n",
      "\n",
      "pr06.1.3_tsl\n",
      "\n",
      "Xc initial shape  (3951L, 16L)\n",
      "[0.55295946 0.29930429 0.06490297 0.02728007 0.0202353  0.01644068\n",
      " 0.01117007 0.00763011]\n",
      "Xc PCA shape  (3951L, 8L)\n",
      "Xc labeled shape  (3951L, 9L)\n",
      "\n",
      "pr06.2.1_tsl\n",
      "\n",
      "Xc initial shape  (3951L, 16L)\n",
      "[0.8082161  0.13099914 0.02664084 0.01156593 0.00700946 0.006388\n",
      " 0.00539355 0.00375865]\n",
      "Xc PCA shape  (3951L, 8L)\n",
      "Xc labeled shape  (3951L, 9L)\n",
      "\n",
      "pr06.2.2_tsl\n",
      "\n",
      "Xc initial shape  (3951L, 16L)\n",
      "[0.74481251 0.17077178 0.03653975 0.02429093 0.01019682 0.00543033\n",
      " 0.00459289 0.00333662]\n",
      "Xc PCA shape  (3951L, 8L)\n",
      "Xc labeled shape  (3951L, 9L)\n",
      "\n",
      "pr06.2.3_tsl\n",
      "\n",
      "Xc initial shape  (3951L, 16L)\n",
      "[0.56603286 0.18913763 0.13951404 0.09089788 0.00593423 0.00442389\n",
      " 0.00230987 0.00161281]\n",
      "Xc PCA shape  (3951L, 8L)\n",
      "Xc labeled shape  (3951L, 9L)\n",
      "\n",
      "pr07.1.1_tsl\n",
      "\n",
      "Xc initial shape  (3951L, 16L)\n",
      "[0.49869698 0.2043328  0.18307722 0.09429245 0.00886002 0.00526048\n",
      " 0.00327031 0.00205766]\n",
      "Xc PCA shape  (3951L, 8L)\n",
      "Xc labeled shape  (3951L, 9L)\n",
      "\n",
      "pr07.1.2_tsl\n",
      "\n",
      "Xc initial shape  (3951L, 16L)\n",
      "[0.73432252 0.11258207 0.08946202 0.04806327 0.00998581 0.00264284\n",
      " 0.00194883 0.00094289]\n",
      "Xc PCA shape  (3951L, 8L)\n",
      "Xc labeled shape  (3951L, 9L)\n",
      "\n",
      "pr07.1.3_tsl\n",
      "\n",
      "Xc initial shape  (3951L, 16L)\n",
      "[3.85064134e-01 2.65783032e-01 2.38884458e-01 6.73375716e-02\n",
      " 3.13115960e-02 6.33940969e-03 4.87210256e-03 3.59213842e-04]\n",
      "Xc PCA shape  (3951L, 8L)\n",
      "Xc labeled shape  (3951L, 9L)\n",
      "\n",
      "pr09.1.1_tsl\n",
      "\n",
      "Xc initial shape  (3951L, 16L)\n",
      "[0.40293805 0.28474687 0.1676038  0.11346024 0.01614995 0.00930969\n",
      " 0.00519341 0.00052779]\n",
      "Xc PCA shape  (3951L, 8L)\n",
      "Xc labeled shape  (3951L, 9L)\n",
      "\n",
      "pr09.1.2_tsl\n",
      "\n",
      "Xc initial shape  (3951L, 16L)\n",
      "[6.42644212e-01 1.69288327e-01 9.98710374e-02 6.05275987e-02\n",
      " 1.33106242e-02 7.93306543e-03 5.93470809e-03 4.32482511e-04]\n",
      "Xc PCA shape  (3951L, 8L)\n",
      "Xc labeled shape  (3951L, 9L)\n",
      "\n",
      "pr09.1.3_tsl\n",
      "\n",
      "Xc initial shape  (3951L, 16L)\n",
      "[4.51751330e-01 2.30546668e-01 1.91811232e-01 9.77025972e-02\n",
      " 1.23993857e-02 9.73113786e-03 5.60562216e-03 3.88801267e-04]\n",
      "Xc PCA shape  (3951L, 8L)\n",
      "Xc labeled shape  (3951L, 9L)\n",
      "\n",
      "pr09.2.1_tsl\n",
      "\n",
      "Xc initial shape  (3951L, 16L)\n",
      "[0.41719984 0.28061121 0.1519992  0.10366898 0.01885402 0.01574853\n",
      " 0.01084805 0.00095102]\n",
      "Xc PCA shape  (3951L, 8L)\n",
      "Xc labeled shape  (3951L, 9L)\n",
      "\n",
      "pr09.2.2_tsl\n",
      "\n",
      "Xc initial shape  (3951L, 16L)\n",
      "[5.32364550e-01 2.49639346e-01 1.08978643e-01 7.75307805e-02\n",
      " 1.90444663e-02 6.77249708e-03 5.15001994e-03 4.75014695e-04]\n",
      "Xc PCA shape  (3951L, 8L)\n",
      "Xc labeled shape  (3951L, 9L)\n",
      "\n",
      "pr09.2.3_tsl\n",
      "\n",
      "Xc initial shape  (4617L, 16L)\n",
      "[7.62104502e-01 1.81519788e-01 2.39687598e-02 1.33357612e-02\n",
      " 1.28455418e-02 4.80924243e-03 7.43778336e-04 5.50075772e-04]\n",
      "Xc PCA shape  (4617L, 8L)\n",
      "Xc labeled shape  (4617L, 9L)\n",
      "\n",
      "pr17.1.1_tsl\n",
      "\n",
      "Xc initial shape  (4617L, 16L)\n",
      "[7.47469788e-01 1.96280951e-01 2.20341238e-02 1.52965570e-02\n",
      " 1.18038983e-02 5.58527864e-03 8.27204386e-04 5.74991131e-04]\n",
      "Xc PCA shape  (4617L, 8L)\n",
      "Xc labeled shape  (4617L, 9L)\n",
      "\n",
      "pr17.1.2_tsl\n",
      "\n",
      "Xc initial shape  (4617L, 16L)\n",
      "[8.65835899e-01 7.50868382e-02 4.48643567e-02 6.07010044e-03\n",
      " 4.39981951e-03 3.13368996e-03 3.42806879e-04 2.14716612e-04]\n",
      "Xc PCA shape  (4617L, 8L)\n",
      "Xc labeled shape  (4617L, 9L)\n",
      "\n",
      "pr17.1.3_tsl\n",
      "\n",
      "Xc initial shape  (3951L, 16L)\n",
      "[7.40395815e-01 1.37761743e-01 6.51964963e-02 3.66249925e-02\n",
      " 1.23556581e-02 6.33736576e-03 7.67706739e-04 4.51643741e-04]\n",
      "Xc PCA shape  (3951L, 8L)\n",
      "Xc labeled shape  (3951L, 9L)\n"
     ]
    },
    {
     "name": "stdout",
     "output_type": "stream",
     "text": [
      "\n",
      "pr17.2.1_tsl\n",
      "\n",
      "Xc initial shape  (3951L, 16L)\n",
      "[7.04748760e-01 1.69053203e-01 6.37692150e-02 3.58145839e-02\n",
      " 1.50827298e-02 9.66889806e-03 1.03353008e-03 6.89454680e-04]\n",
      "Xc PCA shape  (3951L, 8L)\n",
      "Xc labeled shape  (3951L, 9L)\n",
      "\n",
      "pr17.2.2_tsl\n",
      "\n",
      "Xc initial shape  (3951L, 16L)\n",
      "[8.07559874e-01 9.07833840e-02 4.46373122e-02 3.62648427e-02\n",
      " 1.25173272e-02 7.46099415e-03 3.96985949e-04 3.05424714e-04]\n",
      "Xc PCA shape  (3951L, 8L)\n",
      "Xc labeled shape  (3951L, 9L)\n",
      "\n",
      "pr17.2.3_tsl\n",
      "\n",
      "Xc initial shape  (4617L, 16L)\n",
      "[0.70266675 0.13533794 0.09772733 0.03099862 0.02433168 0.00524991\n",
      " 0.00254483 0.00105406]\n",
      "Xc PCA shape  (4617L, 8L)\n",
      "Xc labeled shape  (4617L, 9L)\n",
      "\n",
      "pi06.1.1_tsl\n",
      "\n",
      "Xc initial shape  (4617L, 16L)\n",
      "[7.92391633e-01 9.74355769e-02 6.92129097e-02 2.04112117e-02\n",
      " 1.56787831e-02 2.91264066e-03 1.26605524e-03 6.29596881e-04]\n",
      "Xc PCA shape  (4617L, 8L)\n",
      "Xc labeled shape  (4617L, 9L)\n",
      "\n",
      "pi06.1.2_tsl\n",
      "\n",
      "Xc initial shape  (4617L, 16L)\n",
      "[9.18108081e-01 3.43028536e-02 2.50061872e-02 1.68807525e-02\n",
      " 3.72872455e-03 1.19810659e-03 5.07704121e-04 2.50394841e-04]\n",
      "Xc PCA shape  (4617L, 8L)\n",
      "Xc labeled shape  (4617L, 9L)\n",
      "\n",
      "pi06.1.3_tsl\n",
      "\n",
      "Xc initial shape  (3951L, 16L)\n",
      "[0.57906879 0.24182858 0.07123382 0.05140601 0.03818228 0.00852123\n",
      " 0.00663139 0.00306768]\n",
      "Xc PCA shape  (3951L, 8L)\n",
      "Xc labeled shape  (3951L, 9L)\n",
      "\n",
      "pi07.2.1_tsl\n",
      "\n",
      "Xc initial shape  (3951L, 16L)\n",
      "[0.45014805 0.31661577 0.09659891 0.06650448 0.04314308 0.01205164\n",
      " 0.01047417 0.00438114]\n",
      "Xc PCA shape  (3951L, 8L)\n",
      "Xc labeled shape  (3951L, 9L)\n",
      "\n",
      "pi07.2.2_tsl\n",
      "\n",
      "Xc initial shape  (3951L, 16L)\n",
      "[0.67122108 0.1809554  0.06385046 0.03920517 0.03065006 0.0063037\n",
      " 0.00531967 0.00244711]\n",
      "Xc PCA shape  (3951L, 8L)\n",
      "Xc labeled shape  (3951L, 9L)\n",
      "\n",
      "pi07.2.3_tsl\n",
      "\n",
      "Xc initial shape  (3951L, 16L)\n",
      "[0.36496785 0.20706995 0.18995804 0.14091615 0.07600909 0.01428718\n",
      " 0.00432326 0.00234071]\n",
      "Xc PCA shape  (3951L, 8L)\n",
      "Xc labeled shape  (3951L, 9L)\n",
      "\n",
      "pi09.1.1_tsl\n",
      "\n",
      "Xc initial shape  (3951L, 16L)\n",
      "[0.46323448 0.23560768 0.123177   0.09776296 0.05541125 0.01604708\n",
      " 0.005899   0.00274725]\n",
      "Xc PCA shape  (3951L, 8L)\n",
      "Xc labeled shape  (3951L, 9L)\n",
      "\n",
      "pi09.1.2_tsl\n",
      "\n",
      "Xc initial shape  (3951L, 16L)\n",
      "[0.5358036  0.16295195 0.12602234 0.09380467 0.06419386 0.0105214\n",
      " 0.00429643 0.00232283]\n",
      "Xc PCA shape  (3951L, 8L)\n",
      "Xc labeled shape  (3951L, 9L)\n",
      "\n",
      "pi09.1.3_tsl\n",
      "\n",
      "Xc initial shape  (3951L, 16L)\n",
      "[0.31923017 0.2437944  0.20038398 0.15717483 0.04068837 0.03415004\n",
      " 0.00330425 0.00109807]\n",
      "Xc PCA shape  (3951L, 8L)\n",
      "Xc labeled shape  (3951L, 9L)\n",
      "\n",
      "pi17.1.1_tsl\n",
      "\n",
      "Xc initial shape  (3951L, 16L)\n",
      "[0.36937519 0.21143965 0.16151947 0.14043055 0.07501281 0.03588402\n",
      " 0.00511392 0.00105912]\n",
      "Xc PCA shape  (3951L, 8L)\n",
      "Xc labeled shape  (3951L, 9L)\n",
      "\n",
      "pi17.1.2_tsl\n",
      "\n",
      "Xc initial shape  (3951L, 16L)\n",
      "[8.13052890e-01 7.49387453e-02 5.63189988e-02 2.89855630e-02\n",
      " 1.36103083e-02 1.17420061e-02 1.00921226e-03 2.98915304e-04]\n",
      "Xc PCA shape  (3951L, 8L)\n",
      "Xc labeled shape  (3951L, 9L)\n",
      "\n",
      "pi17.1.3_tsl\n",
      "Tempo total para o envelopamento: 0.08 min\n"
     ]
    }
   ],
   "source": [
    "#Grupo total\n",
    "start = timeit.default_timer()\n",
    "\n",
    "NUM_SAMPLES = 500\n",
    "#l = [2, 15, 4, 1, 0, 0, 15, 3]\n",
    "#l = [2, 1, 4, 1, 0, 0, 1, 3]\n",
    "#l = [2, 1, 4, 1, 1, 3]\n",
    "#l=[2, 2, 3, 3, 4, 4, 1, 1]\n",
    "#l=[2,2,2,2,2,2,3,3,3,4,4,4,4,4,4,1,1,1,1,1,1]\n",
    "#l=[9,9,9,9,9,9,9,9,9,9,9,9,9,9,9,1,1,1,1,1,1]\n",
    "#l=[2,2,2,2,2,2,9,9,9,9,9,9,9,9,9,9,9,9,9,9,9]\n",
    "#l=[9,9,9,9,9,9,3,3,3,9,9,9,9,9,9,9,9,9,9,9,9]\n",
    "#l=[0,0,0,0,0,0,0,0,0,4,4,4,4,4,4,0,0,0,0,0,0]\n",
    "#l=[0,0,0,0,0,0,3,3,3,0,0,0,0,0,0,0,0,0,0,0,0]\n",
    "#l=[2,2,2,2,2,2,3,3,3,4,4,4,4,4,4,1,1,1,1,1,1,2,2,2,3,3,3,4,4,4,1,1,1]\n",
    "l=[2,2,2,3,3,3,4,4,4,1,1,1,2,2,2,3,3,3,4,4,4,1,1,1,2,2,2,2,2,2,3,3,3,4,4,4,4,4,4,1,1,1,1,1,1,2,2,2,3,3,3,4,4,4,1,1,1]\n",
    "\n",
    "DATA = []\n",
    "\n",
    "for x, y in zip(DATA_hs, l):\n",
    "    proccess_data(x,DATA,NUM_SAMPLES,y)\n",
    "    \n",
    "stop = timeit.default_timer()\n",
    "ti = stop - start \n",
    "print ('Tempo total para o envelopamento: %.2f min' % (ti/60))"
   ]
  },
  {
   "cell_type": "code",
   "execution_count": 37,
   "metadata": {},
   "outputs": [
    {
     "data": {
      "text/plain": [
       "[0.9998240994264294,\n",
       " 0.9998347367058655,\n",
       " 0.999847907179636,\n",
       " 0.9998603737387219,\n",
       " 0.9998632210559566,\n",
       " 0.9998722232483347,\n",
       " 0.9998727927219496,\n",
       " 0.9998774484405445,\n",
       " 0.9998808405551048,\n",
       " 0.9998867086090611,\n",
       " 0.9998914215939326,\n",
       " 0.9999111245621258,\n",
       " 0.9999170776353351,\n",
       " 0.9999172401671796,\n",
       " 0.9999229546418382,\n",
       " 0.9999261452212346,\n",
       " 0.9999297964440744,\n",
       " 0.9999367749320751,\n",
       " 0.9999384076436004,\n",
       " 0.9999396760714405,\n",
       " 0.9999397796020293,\n",
       " 0.999942054702508,\n",
       " 0.9999482268790577,\n",
       " 0.9999494938520214,\n",
       " 0.9999502386045234,\n",
       " 0.9999515184216524,\n",
       " 0.9999526547960622,\n",
       " 0.9999553168747635,\n",
       " 0.999955928492495,\n",
       " 0.9999566385223054,\n",
       " 0.9999575895656335,\n",
       " 0.9999628357334298,\n",
       " 0.9999646679102216,\n",
       " 0.9999647962994727,\n",
       " 0.9999652778356058,\n",
       " 0.9999656322512764,\n",
       " 0.9999659517564042,\n",
       " 0.9999672912776598,\n",
       " 0.9999695104927651,\n",
       " 0.9999716209198432,\n",
       " 0.9999716786996175,\n",
       " 0.9999719128155947,\n",
       " 0.9999730580730092,\n",
       " 0.9999750295826008,\n",
       " 0.9999751348728161,\n",
       " 0.9999765674523247,\n",
       " 0.9999781945064021,\n",
       " 0.9999783608243046,\n",
       " 0.999979206794039,\n",
       " 0.999979249843498,\n",
       " 0.999980903935185,\n",
       " 0.9999828048083129,\n",
       " 0.9999845781235291,\n",
       " 0.9999861571721667,\n",
       " 0.9999881166769048,\n",
       " 0.9999933981527441,\n",
       " 0.9999951145974751]"
      ]
     },
     "execution_count": 37,
     "metadata": {},
     "output_type": "execute_result"
    }
   ],
   "source": [
    "#print min(entropy)\n",
    "import heapq\n",
    "\n",
    "elements = heapq.nsmallest(100, entropy)\n",
    "elements"
   ]
  },
  {
   "cell_type": "code",
   "execution_count": 38,
   "metadata": {},
   "outputs": [
    {
     "data": {
      "text/plain": [
       "['pd06.1.2_tsl.npy',\n",
       " 'pd06.1.3_tsl.npy',\n",
       " 'pd07.1.1_tsl.npy',\n",
       " 'pd07.1.2_tsl.npy',\n",
       " 'pd07.1.3_tsl.npy',\n",
       " 'pd09.2.1_tsl.npy',\n",
       " 'pd09.2.2_tsl.npy',\n",
       " 'pd09.2.3_tsl.npy',\n",
       " 'pd17.2.1_tsl.npy',\n",
       " 'pd17.2.2_tsl.npy',\n",
       " 'pd17.2.3_tsl.npy',\n",
       " 'pe06.1.1_tsl.npy',\n",
       " 'pe06.1.2_tsl.npy',\n",
       " 'pe06.1.3_tsl.npy',\n",
       " 'pe07.1.1_tsl.npy',\n",
       " 'pe07.1.2_tsl.npy',\n",
       " 'pe07.1.3_tsl.npy',\n",
       " 'pe09.2.1_tsl.npy',\n",
       " 'pe09.2.2_tsl.npy',\n",
       " 'pe09.2.3_tsl.npy',\n",
       " 'pe17.2.1_tsl.npy',\n",
       " 'pe17.2.2_tsl.npy',\n",
       " 'pe17.2.3_tsl.npy',\n",
       " 'pr06.1.1_tsl.npy',\n",
       " 'pr06.1.2_tsl.npy',\n",
       " 'pr06.1.3_tsl.npy',\n",
       " 'pr06.2.1_tsl.npy',\n",
       " 'pr06.2.2_tsl.npy',\n",
       " 'pr06.2.3_tsl.npy',\n",
       " 'pr07.1.1_tsl.npy',\n",
       " 'pr07.1.2_tsl.npy',\n",
       " 'pr07.1.3_tsl.npy',\n",
       " 'pr09.1.1_tsl.npy',\n",
       " 'pr09.1.2_tsl.npy',\n",
       " 'pr09.1.3_tsl.npy',\n",
       " 'pr09.2.1_tsl.npy',\n",
       " 'pr09.2.2_tsl.npy',\n",
       " 'pr09.2.3_tsl.npy',\n",
       " 'pr17.1.1_tsl.npy',\n",
       " 'pr17.1.2_tsl.npy',\n",
       " 'pr17.1.3_tsl.npy',\n",
       " 'pr17.2.1_tsl.npy',\n",
       " 'pr17.2.2_tsl.npy',\n",
       " 'pr17.2.3_tsl.npy',\n",
       " 'pi06.1.1_tsl.npy',\n",
       " 'pi06.1.2_tsl.npy',\n",
       " 'pi06.1.3_tsl.npy',\n",
       " 'pi07.2.1_tsl.npy',\n",
       " 'pi07.2.2_tsl.npy',\n",
       " 'pi07.2.3_tsl.npy',\n",
       " 'pi09.1.1_tsl.npy',\n",
       " 'pi09.1.2_tsl.npy',\n",
       " 'pi09.1.3_tsl.npy',\n",
       " 'pi17.1.1_tsl.npy']"
      ]
     },
     "execution_count": 38,
     "metadata": {},
     "output_type": "execute_result"
    }
   ],
   "source": [
    "DATA[1:-2]"
   ]
  },
  {
   "cell_type": "markdown",
   "metadata": {},
   "source": [
    "---"
   ]
  },
  {
   "cell_type": "code",
   "execution_count": 40,
   "metadata": {},
   "outputs": [
    {
     "data": {
      "text/plain": [
       "['pdv06.2.1_hs.npy',\n",
       " 'pdv06.2.2_hs.npy',\n",
       " 'pdv06.2.3_hs.npy',\n",
       " 'pdv07.2.1_hs.npy',\n",
       " 'pdv07.2.2_hs.npy',\n",
       " 'pdv07.2.3_hs.npy',\n",
       " 'pdv09.3.1_hs.npy',\n",
       " 'pdv09.3.2_hs.npy',\n",
       " 'pdv09.3.3_hs.npy',\n",
       " 'pdv17.3.1_hs.npy',\n",
       " 'pdv17.3.2_hs.npy',\n",
       " 'pdv17.3.3_hs.npy',\n",
       " 'pev06.2.1_hs.npy',\n",
       " 'pev06.2.2_hs.npy',\n",
       " 'pev06.2.3_hs.npy',\n",
       " 'pev07.2.1_hs.npy',\n",
       " 'pev07.2.2_hs.npy',\n",
       " 'pev07.2.3_hs.npy',\n",
       " 'pev09.3.1_hs.npy',\n",
       " 'pev09.3.2_hs.npy',\n",
       " 'pev09.3.3_hs.npy',\n",
       " 'pev17.3.1_hs.npy',\n",
       " 'pev17.3.2_hs.npy',\n",
       " 'pev17.3.3_hs.npy',\n",
       " 'prv06.3.1_hs.npy',\n",
       " 'prv06.3.2_hs.npy',\n",
       " 'prv06.3.3_hs.npy',\n",
       " 'prv07.2.1_hs.npy',\n",
       " 'prv07.2.2_hs.npy',\n",
       " 'prv07.2.3_hs.npy',\n",
       " 'prv09.3.1_hs.npy',\n",
       " 'prv09.3.2_hs.npy',\n",
       " 'prv09.3.3_hs.npy',\n",
       " 'prv17.3.1_hs.npy',\n",
       " 'prv17.3.2_hs.npy',\n",
       " 'prv17.3.3_hs.npy',\n",
       " 'piv06.2.1_hs.npy',\n",
       " 'piv06.2.2_hs.npy',\n",
       " 'piv06.2.3_hs.npy',\n",
       " 'piv07.3.1_hs.npy',\n",
       " 'piv07.3.2_hs.npy',\n",
       " 'piv07.3.3_hs.npy',\n",
       " 'piv09.2.1_hs.npy',\n",
       " 'piv09.2.2_hs.npy',\n",
       " 'piv09.2.3_hs.npy',\n",
       " 'piv17.3.1_hs.npy',\n",
       " 'piv17.3.2_hs.npy',\n",
       " 'piv17.3.3_hs.npy']"
      ]
     },
     "execution_count": 40,
     "metadata": {},
     "output_type": "execute_result"
    }
   ],
   "source": [
    "DATAv_hs"
   ]
  },
  {
   "cell_type": "code",
   "execution_count": 41,
   "metadata": {},
   "outputs": [
    {
     "name": "stdout",
     "output_type": "stream",
     "text": [
      "pdv06.2 2\n",
      "pdv06.2 2\n",
      "pdv06.2 2\n",
      "pdv07.2 3\n",
      "pdv07.2 3\n",
      "pdv07.2 3\n",
      "pdv09.3 4\n",
      "pdv09.3 4\n",
      "pdv09.3 4\n",
      "pdv17.3 1\n",
      "pdv17.3 1\n",
      "pdv17.3 1\n",
      "pev06.2 2\n",
      "pev06.2 2\n",
      "pev06.2 2\n",
      "pev07.2 3\n",
      "pev07.2 3\n",
      "pev07.2 3\n",
      "pev09.3 4\n",
      "pev09.3 4\n",
      "pev09.3 4\n",
      "pev17.3 1\n",
      "pev17.3 1\n",
      "pev17.3 1\n",
      "prv06.3 2\n",
      "prv06.3 2\n",
      "prv06.3 2\n",
      "prv07.2 3\n",
      "prv07.2 3\n",
      "prv07.2 3\n",
      "prv09.3 4\n",
      "prv09.3 4\n",
      "prv09.3 4\n",
      "prv17.3 1\n",
      "prv17.3 1\n",
      "prv17.3 1\n",
      "piv06.2 2\n",
      "piv06.2 2\n",
      "piv06.2 2\n",
      "piv07.3 3\n",
      "piv07.3 3\n",
      "piv07.3 3\n",
      "piv09.2 4\n",
      "piv09.2 4\n",
      "piv09.2 4\n",
      "piv17.3 1\n",
      "piv17.3 1\n",
      "piv17.3 1\n"
     ]
    }
   ],
   "source": [
    "#l = [2, 15, 4, 1, 0, 0, 15, 3]\n",
    "#l = [2, 1, 4, 1, 0, 0, 1, 3]\n",
    "#l = [2, 1, 4, 1, 1, 3]\n",
    "#l=[2,2,2, 3,3,3, 4,4,4, 1,1,1]\n",
    "#l=[9,9,9, 9,9,9, 9,9,9, 1,1,1]\n",
    "#l=[2,2,2, 9,9,9, 9,9,9, 9,9,9]\n",
    "#l=[9,9,9, 3,3,3, 9,9,9, 9,9,9]\n",
    "#l=[0,0,0, 0,0,0, 4,4,4, 0,0,0]\n",
    "#l=[0,0,0, 3,3,3, 0,0,0, 0,0,0]\n",
    "#=[2,2,2, 3,3,3, 4,4,4, 1,1,1, 2,2,2, 3,3,3, 4,4,4, 1,1,1]\n",
    "l=[2,2,2, 3,3,3, 4,4,4, 1,1,1, 2,2,2, 3,3,3, 4,4,4, 1,1,1, 2,2,2, 3,3,3, 4,4,4, 1,1,1, 2,2,2, 3,3,3, 4,4,4, 1,1,1]\n",
    "\n",
    "for x, y in zip(DATAv_hs, l):\n",
    "    print x[:7],y"
   ]
  },
  {
   "cell_type": "code",
   "execution_count": 42,
   "metadata": {
    "scrolled": true
   },
   "outputs": [
    {
     "name": "stdout",
     "output_type": "stream",
     "text": [
      "\n",
      "Xc initial shape  (10617L, 16L)\n",
      "[6.38022055e-01 1.88057112e-01 1.39326606e-01 1.07167770e-02\n",
      " 9.95431529e-03 7.33651650e-03 6.16504705e-03 3.75354238e-04]\n",
      "Xc PCA shape  (10617L, 8L)\n",
      "Xc labeled shape  (10617L, 9L)\n",
      "\n",
      "pdv06.2.1_tsl\n",
      "\n",
      "Xc initial shape  (10617L, 16L)\n",
      "[4.70908511e-01 2.49953921e-01 2.16559316e-01 2.29596799e-02\n",
      " 1.59883477e-02 1.57463852e-02 7.34332570e-03 4.68829024e-04]\n",
      "Xc PCA shape  (10617L, 8L)\n",
      "Xc labeled shape  (10617L, 9L)\n",
      "\n",
      "pdv06.2.2_tsl\n",
      "\n",
      "Xc initial shape  (10617L, 16L)\n",
      "[6.42877161e-01 2.21490945e-01 1.07579819e-01 1.28932123e-02\n",
      " 6.22601225e-03 4.79202184e-03 3.80806113e-03 3.10127870e-04]\n",
      "Xc PCA shape  (10617L, 8L)\n",
      "Xc labeled shape  (10617L, 9L)\n",
      "\n",
      "pdv06.2.3_tsl\n",
      "\n",
      "Xc initial shape  (9284L, 16L)\n",
      "[0.76569541 0.13593719 0.05312755 0.0129     0.01197472 0.00835295\n",
      " 0.00817561 0.00380539]\n",
      "Xc PCA shape  (9284L, 8L)\n",
      "Xc labeled shape  (9284L, 9L)\n",
      "\n",
      "pdv07.2.1_tsl\n",
      "\n",
      "Xc initial shape  (9284L, 16L)\n",
      "[0.71089383 0.17837457 0.05946025 0.02030096 0.0127047  0.00937997\n",
      " 0.00497564 0.0038775 ]\n",
      "Xc PCA shape  (9284L, 8L)\n",
      "Xc labeled shape  (9284L, 9L)\n",
      "\n",
      "pdv07.2.2_tsl\n",
      "\n",
      "Xc initial shape  (9284L, 16L)\n",
      "[0.82710351 0.10154546 0.02976211 0.02246839 0.00821333 0.00460028\n",
      " 0.00446575 0.00182318]\n",
      "Xc PCA shape  (9284L, 8L)\n",
      "Xc labeled shape  (9284L, 9L)\n",
      "\n",
      "pdv07.2.3_tsl\n",
      "\n",
      "Xc initial shape  (23951L, 16L)\n",
      "[0.45583264 0.27422373 0.16520733 0.06450836 0.02340091 0.00867711\n",
      " 0.0056843  0.0024442 ]\n",
      "Xc PCA shape  (23951L, 8L)\n",
      "Xc labeled shape  (23951L, 9L)\n",
      "\n",
      "pdv09.3.1_tsl\n",
      "\n",
      "Xc initial shape  (23951L, 16L)\n",
      "[0.42988962 0.21170745 0.15722806 0.12285118 0.03786055 0.02356089\n",
      " 0.01331185 0.00357258]\n",
      "Xc PCA shape  (23951L, 8L)\n",
      "Xc labeled shape  (23951L, 9L)\n",
      "\n",
      "pdv09.3.2_tsl\n",
      "\n",
      "Xc initial shape  (23951L, 16L)\n",
      "[0.33046889 0.25802024 0.17995486 0.13330788 0.05315284 0.02407121\n",
      " 0.01747474 0.00352718]\n",
      "Xc PCA shape  (23951L, 8L)\n",
      "Xc labeled shape  (23951L, 9L)\n",
      "\n",
      "pdv09.3.3_tsl\n",
      "\n",
      "Xc initial shape  (7284L, 16L)\n",
      "[5.35399474e-01 2.37727710e-01 1.35543055e-01 6.37470312e-02\n",
      " 1.69228534e-02 5.22643141e-03 5.10159550e-03 3.03566644e-04]\n",
      "Xc PCA shape  (7284L, 8L)\n",
      "Xc labeled shape  (7284L, 9L)\n",
      "\n",
      "pdv17.3.1_tsl\n",
      "\n",
      "Xc initial shape  (7284L, 16L)\n",
      "[0.43075795 0.23289879 0.19343246 0.10881296 0.01347588 0.01151376\n",
      " 0.00848497 0.00057416]\n",
      "Xc PCA shape  (7284L, 8L)\n",
      "Xc labeled shape  (7284L, 9L)\n",
      "\n",
      "pdv17.3.2_tsl\n",
      "\n",
      "Xc initial shape  (7284L, 16L)\n",
      "[4.59426165e-01 2.10717811e-01 1.65461603e-01 1.25152563e-01\n",
      " 1.83785987e-02 1.35290329e-02 6.83757027e-03 4.53610765e-04]\n",
      "Xc PCA shape  (7284L, 8L)\n",
      "Xc labeled shape  (7284L, 9L)\n",
      "\n",
      "pdv17.3.3_tsl\n",
      "\n",
      "Xc initial shape  (11284L, 16L)\n",
      "[0.85085359 0.05974226 0.03059298 0.0209954  0.01420482 0.01294922\n",
      " 0.00844416 0.00218072]\n",
      "Xc PCA shape  (11284L, 8L)\n",
      "Xc labeled shape  (11284L, 9L)\n",
      "\n",
      "pev06.2.1_tsl\n",
      "\n",
      "Xc initial shape  (11284L, 16L)\n",
      "[0.81841726 0.06892433 0.04246746 0.02711406 0.01573329 0.0150743\n",
      " 0.00972789 0.00250083]\n",
      "Xc PCA shape  (11284L, 8L)\n",
      "Xc labeled shape  (11284L, 9L)\n",
      "\n",
      "pev06.2.2_tsl\n",
      "\n",
      "Xc initial shape  (11284L, 16L)\n",
      "[0.81699811 0.07387331 0.04627733 0.02693064 0.01408476 0.01033288\n",
      " 0.00983744 0.00163632]\n",
      "Xc PCA shape  (11284L, 8L)\n",
      "Xc labeled shape  (11284L, 9L)\n",
      "\n",
      "pev06.2.3_tsl\n",
      "\n",
      "Xc initial shape  (9951L, 16L)\n",
      "[6.66217738e-01 2.22280436e-01 7.45380814e-02 1.67317117e-02\n",
      " 1.46869635e-02 3.12920812e-03 1.87474093e-03 5.14494761e-04]\n",
      "Xc PCA shape  (9951L, 8L)\n",
      "Xc labeled shape  (9951L, 9L)\n",
      "\n",
      "pev07.2.1_tsl\n",
      "\n",
      "Xc initial shape  (9951L, 16L)\n",
      "[6.56597832e-01 2.35424417e-01 7.59497935e-02 1.42033402e-02\n",
      " 1.14307079e-02 3.69843113e-03 2.07427416e-03 5.90934667e-04]\n",
      "Xc PCA shape  (9951L, 8L)\n",
      "Xc labeled shape  (9951L, 9L)\n",
      "\n",
      "pev07.2.2_tsl\n",
      "\n",
      "Xc initial shape  (9951L, 16L)\n",
      "[7.20653520e-01 1.89458122e-01 5.60120332e-02 1.55527386e-02\n",
      " 1.16758437e-02 3.23578135e-03 2.87828861e-03 5.11545157e-04]\n",
      "Xc PCA shape  (9951L, 8L)\n",
      "Xc labeled shape  (9951L, 9L)\n",
      "\n",
      "pev07.2.3_tsl\n",
      "\n",
      "Xc initial shape  (20617L, 16L)\n",
      "[0.7711249  0.1227341  0.05216661 0.03047719 0.01000804 0.00838174\n",
      " 0.00405679 0.00104446]\n",
      "Xc PCA shape  (20617L, 8L)\n",
      "Xc labeled shape  (20617L, 9L)\n",
      "\n",
      "pev09.3.1_tsl\n",
      "\n",
      "Xc initial shape  (20617L, 16L)\n",
      "[0.40858051 0.32734906 0.12135244 0.09025801 0.02452795 0.01314133\n",
      " 0.01239116 0.00238125]\n",
      "Xc PCA shape  (20617L, 8L)\n",
      "Xc labeled shape  (20617L, 9L)\n",
      "\n",
      "pev09.3.2_tsl\n",
      "\n",
      "Xc initial shape  (20617L, 16L)\n",
      "[0.43630508 0.2884159  0.11391216 0.09154115 0.04192857 0.01698242\n",
      " 0.00694041 0.00395322]\n",
      "Xc PCA shape  (20617L, 8L)\n",
      "Xc labeled shape  (20617L, 9L)\n",
      "\n",
      "pev09.3.3_tsl\n",
      "\n",
      "Xc initial shape  (6617L, 16L)\n",
      "[0.89856762 0.02552159 0.02466825 0.02144074 0.01197354 0.00930651\n",
      " 0.00736645 0.00112999]\n",
      "Xc PCA shape  (6617L, 8L)\n",
      "Xc labeled shape  (6617L, 9L)\n",
      "\n",
      "pev17.3.1_tsl\n",
      "\n",
      "Xc initial shape  (6617L, 16L)\n",
      "[0.89307569 0.03563295 0.02203404 0.01844495 0.01392358 0.00973351\n",
      " 0.00589897 0.00122901]\n",
      "Xc PCA shape  (6617L, 8L)\n",
      "Xc labeled shape  (6617L, 9L)\n",
      "\n",
      "pev17.3.2_tsl\n",
      "\n",
      "Xc initial shape  (6617L, 16L)\n",
      "[0.7843966  0.10293016 0.04696781 0.02295848 0.01934507 0.01214553\n",
      " 0.00910795 0.00211959]\n",
      "Xc PCA shape  (6617L, 8L)\n",
      "Xc labeled shape  (6617L, 9L)\n",
      "\n",
      "pev17.3.3_tsl\n",
      "\n",
      "Xc initial shape  (3951L, 16L)\n",
      "[0.78718323 0.12319798 0.02796454 0.02155526 0.01455519 0.01136576\n",
      " 0.00967648 0.00444875]\n",
      "Xc PCA shape  (3951L, 8L)\n",
      "Xc labeled shape  (3951L, 9L)\n",
      "\n",
      "prv06.3.1_tsl\n",
      "\n",
      "Xc initial shape  (3951L, 16L)\n",
      "[0.70980886 0.20044239 0.04116824 0.01674552 0.01080523 0.00786502\n",
      " 0.00743387 0.00569374]\n",
      "Xc PCA shape  (3951L, 8L)\n",
      "Xc labeled shape  (3951L, 9L)\n",
      "\n",
      "prv06.3.2_tsl\n",
      "\n",
      "Xc initial shape  (3951L, 16L)\n",
      "[0.73041202 0.19778061 0.03196296 0.02079891 0.00761718 0.00464589\n",
      " 0.0040809  0.00267952]\n",
      "Xc PCA shape  (3951L, 8L)\n",
      "Xc labeled shape  (3951L, 9L)\n",
      "\n",
      "prv06.3.3_tsl\n",
      "\n",
      "Xc initial shape  (3951L, 16L)\n",
      "[0.44466182 0.26280773 0.16430848 0.1035803  0.0090061  0.00707602\n",
      " 0.00494801 0.0034745 ]\n",
      "Xc PCA shape  (3951L, 8L)\n",
      "Xc labeled shape  (3951L, 9L)\n",
      "\n",
      "prv07.2.1_tsl\n",
      "\n",
      "Xc initial shape  (3951L, 16L)\n",
      "[0.43009143 0.29152263 0.15269537 0.09777239 0.01204293 0.0082763\n",
      " 0.00482313 0.00263746]\n",
      "Xc PCA shape  (3951L, 8L)\n",
      "Xc labeled shape  (3951L, 9L)\n",
      "\n",
      "prv07.2.2_tsl\n",
      "\n",
      "Xc initial shape  (3951L, 16L)\n",
      "[0.46749839 0.23686292 0.16780137 0.09555008 0.01596649 0.00868285\n",
      " 0.00548915 0.00200026]\n",
      "Xc PCA shape  (3951L, 8L)\n",
      "Xc labeled shape  (3951L, 9L)\n",
      "\n",
      "prv07.2.3_tsl\n",
      "\n",
      "Xc initial shape  (4617L, 16L)\n",
      "[5.29257460e-01 1.80123219e-01 1.67921594e-01 9.22346416e-02\n",
      " 1.36421768e-02 1.09745563e-02 5.27775850e-03 4.82235822e-04]\n",
      "Xc PCA shape  (4617L, 8L)\n",
      "Xc labeled shape  (4617L, 9L)\n",
      "\n",
      "prv09.3.1_tsl\n",
      "\n",
      "Xc initial shape  (4617L, 16L)\n",
      "[5.01509472e-01 1.80250753e-01 1.59065606e-01 1.28483381e-01\n",
      " 1.33450823e-02 8.80902318e-03 7.99508602e-03 4.51417685e-04]\n",
      "Xc PCA shape  (4617L, 8L)\n",
      "Xc labeled shape  (4617L, 9L)\n",
      "\n",
      "prv09.3.2_tsl\n",
      "\n",
      "Xc initial shape  (4617L, 16L)\n",
      "[7.22896850e-01 1.41812587e-01 8.41684147e-02 3.55879334e-02\n",
      " 7.03099029e-03 4.60284642e-03 3.66304277e-03 1.97517348e-04]\n",
      "Xc PCA shape  (4617L, 8L)\n",
      "Xc labeled shape  (4617L, 9L)\n",
      "\n",
      "prv09.3.3_tsl\n",
      "\n",
      "Xc initial shape  (3951L, 16L)\n",
      "[7.55657796e-01 1.45298160e-01 5.21785419e-02 2.73768060e-02\n",
      " 1.28164716e-02 5.10491234e-03 8.98375606e-04 5.52366314e-04]\n",
      "Xc PCA shape  (3951L, 8L)\n",
      "Xc labeled shape  (3951L, 9L)\n",
      "\n",
      "prv17.3.1_tsl\n",
      "\n",
      "Xc initial shape  (3951L, 16L)\n",
      "[7.45567538e-01 1.62677347e-01 4.28738796e-02 2.35980715e-02\n",
      " 1.77847459e-02 5.79793378e-03 8.80027638e-04 6.78449536e-04]\n",
      "Xc PCA shape  (3951L, 8L)\n",
      "Xc labeled shape  (3951L, 9L)\n",
      "\n",
      "prv17.3.2_tsl\n",
      "\n",
      "Xc initial shape  (3951L, 16L)\n",
      "[8.19975126e-01 9.88810314e-02 3.84572188e-02 2.27420847e-02\n",
      " 9.79722494e-03 9.18099659e-03 4.94970101e-04 3.93663641e-04]\n",
      "Xc PCA shape  (3951L, 8L)\n",
      "Xc labeled shape  (3951L, 9L)\n",
      "\n",
      "prv17.3.3_tsl\n",
      "\n",
      "Xc initial shape  (3951L, 16L)\n",
      "[0.77838568 0.09700315 0.06180578 0.04295677 0.0120011  0.00455212\n",
      " 0.00214957 0.00108512]\n",
      "Xc PCA shape  (3951L, 8L)\n",
      "Xc labeled shape  (3951L, 9L)\n",
      "\n",
      "piv06.2.1_tsl\n",
      "\n",
      "Xc initial shape  (3951L, 16L)\n",
      "[0.80501968 0.07063668 0.06376585 0.04084466 0.01094164 0.00498291\n",
      " 0.00246689 0.00128971]\n",
      "Xc PCA shape  (3951L, 8L)\n",
      "Xc labeled shape  (3951L, 9L)\n",
      "\n",
      "piv06.2.2_tsl\n",
      "\n",
      "Xc initial shape  (3951L, 16L)\n",
      "[8.49567116e-01 8.35180547e-02 3.13916433e-02 2.21877478e-02\n",
      " 7.60317859e-03 3.35512640e-03 1.51000613e-03 8.36684254e-04]\n",
      "Xc PCA shape  (3951L, 8L)\n",
      "Xc labeled shape  (3951L, 9L)\n",
      "\n",
      "piv06.2.3_tsl\n",
      "\n",
      "Xc initial shape  (3951L, 16L)\n",
      "[0.4497234  0.32072682 0.09283223 0.06698997 0.04485289 0.01141615\n",
      " 0.00891781 0.00446434]\n",
      "Xc PCA shape  (3951L, 8L)\n",
      "Xc labeled shape  (3951L, 9L)\n",
      "\n",
      "piv07.3.1_tsl\n",
      "\n",
      "Xc initial shape  (3951L, 16L)\n",
      "[0.60119444 0.20307948 0.09186282 0.04454662 0.0281675  0.01833415\n",
      " 0.00927793 0.0034604 ]\n",
      "Xc PCA shape  (3951L, 8L)\n",
      "Xc labeled shape  (3951L, 9L)\n",
      "\n",
      "piv07.3.2_tsl\n",
      "\n",
      "Xc initial shape  (3951L, 16L)\n"
     ]
    },
    {
     "name": "stdout",
     "output_type": "stream",
     "text": [
      "[0.80477476 0.11193658 0.03394386 0.0257908  0.01419414 0.00485321\n",
      " 0.0031914  0.00128471]\n",
      "Xc PCA shape  (3951L, 8L)\n",
      "Xc labeled shape  (3951L, 9L)\n",
      "\n",
      "piv07.3.3_tsl\n",
      "\n",
      "Xc initial shape  (3951L, 16L)\n",
      "[0.30469106 0.27662727 0.24057613 0.09402961 0.06284269 0.01293333\n",
      " 0.00542166 0.00279144]\n",
      "Xc PCA shape  (3951L, 8L)\n",
      "Xc labeled shape  (3951L, 9L)\n",
      "\n",
      "piv09.2.1_tsl\n",
      "\n",
      "Xc initial shape  (3951L, 16L)\n",
      "[0.4422222  0.21249514 0.1448838  0.10776306 0.07168251 0.01309725\n",
      " 0.00523306 0.00253506]\n",
      "Xc PCA shape  (3951L, 8L)\n",
      "Xc labeled shape  (3951L, 9L)\n",
      "\n",
      "piv09.2.2_tsl\n",
      "\n",
      "Xc initial shape  (3951L, 16L)\n",
      "[0.44728844 0.23932138 0.15757908 0.08463828 0.04984323 0.01323621\n",
      " 0.00497455 0.00303067]\n",
      "Xc PCA shape  (3951L, 8L)\n",
      "Xc labeled shape  (3951L, 9L)\n",
      "\n",
      "piv09.2.3_tsl\n",
      "\n",
      "Xc initial shape  (3951L, 16L)\n",
      "[0.40232376 0.24052907 0.17269177 0.09541261 0.05061922 0.02987272\n",
      " 0.00712987 0.00127706]\n",
      "Xc PCA shape  (3951L, 8L)\n",
      "Xc labeled shape  (3951L, 9L)\n",
      "\n",
      "piv17.3.1_tsl\n",
      "\n",
      "Xc initial shape  (3951L, 16L)\n",
      "[0.58700011 0.15731599 0.09655097 0.08857183 0.05723247 0.00940937\n",
      " 0.00317917 0.00064784]\n",
      "Xc PCA shape  (3951L, 8L)\n",
      "Xc labeled shape  (3951L, 9L)\n",
      "\n",
      "piv17.3.2_tsl\n",
      "\n",
      "Xc initial shape  (3951L, 16L)\n",
      "[7.23659433e-01 9.52512635e-02 7.70358282e-02 6.50907076e-02\n",
      " 2.49979001e-02 1.12205770e-02 2.24662428e-03 4.22971027e-04]\n",
      "Xc PCA shape  (3951L, 8L)\n",
      "Xc labeled shape  (3951L, 9L)\n",
      "\n",
      "piv17.3.3_tsl\n",
      "Tempo total para o envelopamento: 0.08 min\n"
     ]
    }
   ],
   "source": [
    "#Grupo total\n",
    "start = timeit.default_timer()\n",
    "\n",
    "NUM_SAMPLES = 500\n",
    "#l = [2, 15, 4, 1, 0, 0, 15, 3]\n",
    "#l = [2, 1, 4, 1, 0, 0, 1, 3]\n",
    "#l = [2, 1, 4, 1, 1, 3]\n",
    "#l=[2, 3, 4, 1]\n",
    "#l=[2,2,2, 3,3,3, 4,4,4, 1,1,1]\n",
    "#l=[9,9,9, 9,9,9, 9,9,9, 1,1,1]\n",
    "#l=[2,2,2, 9,9,9, 9,9,9, 9,9,9]\n",
    "#l=[9,9,9, 3,3,3, 9,9,9, 9,9,9]\n",
    "#l=[0,0,0, 0,0,0, 4,4,4, 0,0,0]\n",
    "#l=[0,0,0, 3,3,3, 0,0,0, 0,0,0]\n",
    "#l=[2,2,2, 3,3,3, 4,4,4, 1,1,1, 2,2,2, 3,3,3, 4,4,4, 1,1,1]\n",
    "l=[2,2,2, 3,3,3, 4,4,4, 1,1,1, 2,2,2, 3,3,3, 4,4,4, 1,1,1, 2,2,2, 3,3,3, 4,4,4, 1,1,1, 2,2,2, 3,3,3, 4,4,4, 1,1,1]\n",
    "\n",
    "DATAv = []\n",
    "\n",
    "for x, y in zip(DATAv_hs, l):\n",
    "    proccess_data(x,DATAv,NUM_SAMPLES,y)\n",
    "    \n",
    "stop = timeit.default_timer()\n",
    "ti = stop - start \n",
    "print ('Tempo total para o envelopamento: %.2f min' % (ti/60))"
   ]
  },
  {
   "cell_type": "code",
   "execution_count": 43,
   "metadata": {},
   "outputs": [
    {
     "data": {
      "text/plain": [
       "[0.9998240994264294,\n",
       " 0.9998347367058655,\n",
       " 0.999847907179636,\n",
       " 0.9998515188977318,\n",
       " 0.999856079423077,\n",
       " 0.9998579931788153,\n",
       " 0.9998603737387219,\n",
       " 0.999861639968588,\n",
       " 0.9998629687378252,\n",
       " 0.9998632210559566]"
      ]
     },
     "execution_count": 43,
     "metadata": {},
     "output_type": "execute_result"
    }
   ],
   "source": [
    "#print min(entropy)\n",
    "import heapq\n",
    "\n",
    "elements = heapq.nsmallest(10, entropy)\n",
    "elements"
   ]
  },
  {
   "cell_type": "code",
   "execution_count": 44,
   "metadata": {
    "scrolled": false
   },
   "outputs": [
    {
     "data": {
      "text/plain": [
       "['pd06.1.1_tsl.npy',\n",
       " 'pd06.1.2_tsl.npy',\n",
       " 'pd06.1.3_tsl.npy',\n",
       " 'pd07.1.1_tsl.npy',\n",
       " 'pd07.1.2_tsl.npy',\n",
       " 'pd07.1.3_tsl.npy',\n",
       " 'pd09.2.1_tsl.npy',\n",
       " 'pd09.2.2_tsl.npy',\n",
       " 'pd09.2.3_tsl.npy',\n",
       " 'pd17.2.1_tsl.npy',\n",
       " 'pd17.2.2_tsl.npy',\n",
       " 'pd17.2.3_tsl.npy',\n",
       " 'pe06.1.1_tsl.npy',\n",
       " 'pe06.1.2_tsl.npy',\n",
       " 'pe06.1.3_tsl.npy',\n",
       " 'pe07.1.1_tsl.npy',\n",
       " 'pe07.1.2_tsl.npy',\n",
       " 'pe07.1.3_tsl.npy',\n",
       " 'pe09.2.1_tsl.npy',\n",
       " 'pe09.2.2_tsl.npy',\n",
       " 'pe09.2.3_tsl.npy',\n",
       " 'pe17.2.1_tsl.npy',\n",
       " 'pe17.2.2_tsl.npy',\n",
       " 'pe17.2.3_tsl.npy',\n",
       " 'pr06.1.1_tsl.npy',\n",
       " 'pr06.1.2_tsl.npy',\n",
       " 'pr06.1.3_tsl.npy',\n",
       " 'pr06.2.1_tsl.npy',\n",
       " 'pr06.2.2_tsl.npy',\n",
       " 'pr06.2.3_tsl.npy',\n",
       " 'pr07.1.1_tsl.npy',\n",
       " 'pr07.1.2_tsl.npy',\n",
       " 'pr07.1.3_tsl.npy',\n",
       " 'pr09.1.1_tsl.npy',\n",
       " 'pr09.1.2_tsl.npy',\n",
       " 'pr09.1.3_tsl.npy',\n",
       " 'pr09.2.1_tsl.npy',\n",
       " 'pr09.2.2_tsl.npy',\n",
       " 'pr09.2.3_tsl.npy',\n",
       " 'pr17.1.1_tsl.npy',\n",
       " 'pr17.1.2_tsl.npy',\n",
       " 'pr17.1.3_tsl.npy',\n",
       " 'pr17.2.1_tsl.npy',\n",
       " 'pr17.2.2_tsl.npy',\n",
       " 'pr17.2.3_tsl.npy',\n",
       " 'pi06.1.1_tsl.npy',\n",
       " 'pi06.1.2_tsl.npy',\n",
       " 'pi06.1.3_tsl.npy',\n",
       " 'pi07.2.1_tsl.npy',\n",
       " 'pi07.2.2_tsl.npy',\n",
       " 'pi07.2.3_tsl.npy',\n",
       " 'pi09.1.1_tsl.npy',\n",
       " 'pi09.1.2_tsl.npy',\n",
       " 'pi09.1.3_tsl.npy',\n",
       " 'pi17.1.1_tsl.npy',\n",
       " 'pi17.1.2_tsl.npy',\n",
       " 'pi17.1.3_tsl.npy']"
      ]
     },
     "execution_count": 44,
     "metadata": {},
     "output_type": "execute_result"
    }
   ],
   "source": [
    "DATA"
   ]
  },
  {
   "cell_type": "code",
   "execution_count": 45,
   "metadata": {},
   "outputs": [
    {
     "data": {
      "text/plain": [
       "['pdv06.2.1_tsl.npy',\n",
       " 'pdv06.2.2_tsl.npy',\n",
       " 'pdv06.2.3_tsl.npy',\n",
       " 'pdv07.2.1_tsl.npy',\n",
       " 'pdv07.2.2_tsl.npy',\n",
       " 'pdv07.2.3_tsl.npy',\n",
       " 'pdv09.3.1_tsl.npy',\n",
       " 'pdv09.3.2_tsl.npy',\n",
       " 'pdv09.3.3_tsl.npy',\n",
       " 'pdv17.3.1_tsl.npy',\n",
       " 'pdv17.3.2_tsl.npy',\n",
       " 'pdv17.3.3_tsl.npy',\n",
       " 'pev06.2.1_tsl.npy',\n",
       " 'pev06.2.2_tsl.npy',\n",
       " 'pev06.2.3_tsl.npy',\n",
       " 'pev07.2.1_tsl.npy',\n",
       " 'pev07.2.2_tsl.npy',\n",
       " 'pev07.2.3_tsl.npy',\n",
       " 'pev09.3.1_tsl.npy',\n",
       " 'pev09.3.2_tsl.npy',\n",
       " 'pev09.3.3_tsl.npy',\n",
       " 'pev17.3.1_tsl.npy',\n",
       " 'pev17.3.2_tsl.npy',\n",
       " 'pev17.3.3_tsl.npy',\n",
       " 'prv06.3.1_tsl.npy',\n",
       " 'prv06.3.2_tsl.npy',\n",
       " 'prv06.3.3_tsl.npy',\n",
       " 'prv07.2.1_tsl.npy',\n",
       " 'prv07.2.2_tsl.npy',\n",
       " 'prv07.2.3_tsl.npy',\n",
       " 'prv09.3.1_tsl.npy',\n",
       " 'prv09.3.2_tsl.npy',\n",
       " 'prv09.3.3_tsl.npy',\n",
       " 'prv17.3.1_tsl.npy',\n",
       " 'prv17.3.2_tsl.npy',\n",
       " 'prv17.3.3_tsl.npy',\n",
       " 'piv06.2.1_tsl.npy',\n",
       " 'piv06.2.2_tsl.npy',\n",
       " 'piv06.2.3_tsl.npy',\n",
       " 'piv07.3.1_tsl.npy',\n",
       " 'piv07.3.2_tsl.npy',\n",
       " 'piv07.3.3_tsl.npy',\n",
       " 'piv09.2.1_tsl.npy',\n",
       " 'piv09.2.2_tsl.npy',\n",
       " 'piv09.2.3_tsl.npy',\n",
       " 'piv17.3.1_tsl.npy',\n",
       " 'piv17.3.2_tsl.npy',\n",
       " 'piv17.3.3_tsl.npy']"
      ]
     },
     "execution_count": 45,
     "metadata": {},
     "output_type": "execute_result"
    }
   ],
   "source": [
    "DATAv"
   ]
  },
  {
   "cell_type": "markdown",
   "metadata": {},
   "source": [
    "## Shape data"
   ]
  },
  {
   "cell_type": "code",
   "execution_count": 75,
   "metadata": {},
   "outputs": [
    {
     "data": {
      "text/plain": [
       "395637"
      ]
     },
     "execution_count": 75,
     "metadata": {},
     "output_type": "execute_result"
    }
   ],
   "source": [
    "\n",
    "len(yz)"
   ]
  },
  {
   "cell_type": "code",
   "execution_count": 46,
   "metadata": {},
   "outputs": [
    {
     "data": {
      "text/plain": [
       "((453198L, 8L), (453198L,))"
      ]
     },
     "execution_count": 46,
     "metadata": {},
     "output_type": "execute_result"
    }
   ],
   "source": [
    "cdata=0\n",
    "#Separando set de dados X, e set de labels y - Treino e Teste\n",
    "Xc = np.load(\"preproc/labeled/\"+DATA[0])\n",
    "#for i in DATA[1:-2]:\n",
    "%time for i in DATA[1:]:\n",
    "    Xc = np.vstack((Xc,np.load('preproc/labeled/'+i)))\n",
    "    cdata =+ 1\n",
    "    print (\"Vstacking DATA test on X: %i de %i\" % (cdata, len(DATA)))\n",
    "    \n",
    "X = Xc[:,0:(Xc.shape[1]-1)]\n",
    "\n",
    "print \"Creating labels vector ...\"\n",
    "\n",
    "yz = Xc[:,[(Xc.shape[1]-1)]]\n",
    "y = np.array([])\n",
    "for i in range(len(yz)):\n",
    "    y = np.hstack((y,yz[i]))\n",
    "    \n",
    "X.shape, y.shape"
   ]
  },
  {
   "cell_type": "code",
   "execution_count": 47,
   "metadata": {
    "scrolled": true
   },
   "outputs": [
    {
     "data": {
      "text/plain": [
       "array([1., 2., 3., 4.])"
      ]
     },
     "execution_count": 47,
     "metadata": {},
     "output_type": "execute_result"
    }
   ],
   "source": [
    "np.unique(y)"
   ]
  },
  {
   "cell_type": "code",
   "execution_count": 48,
   "metadata": {},
   "outputs": [],
   "source": [
    "#Dividindo os dados em sets de treino, test e validação\n",
    "from sklearn.model_selection import train_test_split\n",
    "X_train, X_test, y_train, y_test = train_test_split(X, y, test_size=0.3, random_state=1)\n",
    "\n",
    "#X_test, X_validate, y_test, y_validate = train_test_split(X_test_p, y_test_p, test_size=0.5, random_state=1)"
   ]
  },
  {
   "cell_type": "code",
   "execution_count": 49,
   "metadata": {},
   "outputs": [
    {
     "data": {
      "text/plain": [
       "((395637L, 8L), (395637L,))"
      ]
     },
     "execution_count": 49,
     "metadata": {},
     "output_type": "execute_result"
    }
   ],
   "source": [
    "cdata=0\n",
    "#Separando set de dados X, e set de labels y - Validação\n",
    "Xc = np.load(\"preproc/labeled/\"+DATAv[0])\n",
    "%time for i in DATAv[1:]:\n",
    "    Xc = np.vstack((Xc,np.load('preproc/labeled/'+i))) \n",
    "     cdata =+ 1\n",
    "    print (\"Vstacking DATA test on X: %i de %i\" % (cdata, len(DATA)))\n",
    "    \n",
    "X_validate = Xc[:,0:(Xc.shape[1]-1)]\n",
    "\n",
    "print \"Creating labels vector ...\"\n",
    "\n",
    "yz = Xc[:,[(Xc.shape[1]-1)]]\n",
    "y_validate = np.array([])\n",
    "for i in range(len(yz)):\n",
    "    y_validate = np.hstack((y_validate,yz[i]))\n",
    "    \n",
    "X_validate.shape, y_validate.shape"
   ]
  },
  {
   "cell_type": "code",
   "execution_count": 50,
   "metadata": {},
   "outputs": [
    {
     "data": {
      "text/plain": [
       "array([1., 2., 3., 4.])"
      ]
     },
     "execution_count": 50,
     "metadata": {},
     "output_type": "execute_result"
    }
   ],
   "source": [
    "np.unique(y_validate)"
   ]
  },
  {
   "cell_type": "code",
   "execution_count": 51,
   "metadata": {},
   "outputs": [
    {
     "name": "stdout",
     "output_type": "stream",
     "text": [
      "(317238L, 8L) (135960L, 8L) (395637L, 8L) (317238L,) (135960L,) (395637L,)\n"
     ]
    }
   ],
   "source": [
    "#Aplica normalizador P.S.: Verificar necessidade pois os dados já foram normalizados anteriormente\n",
    "from sklearn.preprocessing import StandardScaler\n",
    "sc = StandardScaler()\n",
    "sc.fit(X_train)\n",
    "X_train_std = sc.transform(X_train)\n",
    "X_test_std = sc.transform(X_test)\n",
    "X_validate_std = sc.transform(X_validate)\n",
    "\n",
    "print X_train_std.shape, X_test_std.shape, X_validate_std.shape, y_train.shape, y_test.shape, y_validate.shape"
   ]
  },
  {
   "cell_type": "code",
   "execution_count": 52,
   "metadata": {},
   "outputs": [
    {
     "data": {
      "text/plain": [
       "((395637L, 8L), (395637L,))"
      ]
     },
     "execution_count": 52,
     "metadata": {},
     "output_type": "execute_result"
    }
   ],
   "source": [
    "X_validate_std = sc.transform(X_validate)\n",
    "\n",
    "X_validate_std.shape, y_validate.shape"
   ]
  },
  {
   "cell_type": "markdown",
   "metadata": {},
   "source": [
    "---"
   ]
  },
  {
   "cell_type": "markdown",
   "metadata": {},
   "source": [
    "## Classifiers"
   ]
  },
  {
   "cell_type": "markdown",
   "metadata": {},
   "source": [
    "### Random Forest"
   ]
  },
  {
   "cell_type": "code",
   "execution_count": 53,
   "metadata": {},
   "outputs": [
    {
     "name": "stdout",
     "output_type": "stream",
     "text": [
      "Training time\n",
      "Wall time: 5min 54s\n",
      "\n",
      "Predict time\n",
      "Wall time: 5.05 s\n",
      "\n",
      "ClassifyRF accuracy:---------->86.39 %\n"
     ]
    }
   ],
   "source": [
    "#Training and test\n",
    "from sklearn.ensemble import RandomForestClassifier\n",
    "rfc = RandomForestClassifier(n_estimators=100, criterion=\"entropy\", oob_score=True, n_jobs = 4)\n",
    "\n",
    "print 'Training time'\n",
    "%time rfc = rfc.fit(X_train_std, y_train)\n",
    "\n",
    "print''\n",
    "\n",
    "print 'Predict time'\n",
    "%time rfc_y_pred = rfc.predict(X_test_std)\n",
    "\n",
    "print''\n",
    "\n",
    "from sklearn.metrics import accuracy_score\n",
    "print ('ClassifyRF accuracy:---------->%.2f %%' % (accuracy_score(y_test, rfc_y_pred)*100))"
   ]
  },
  {
   "cell_type": "markdown",
   "metadata": {},
   "source": [
    "#### Resultado anterior\n",
    "H-Y Simpliicada + n0\n",
    "\n",
    "Training time\n",
    "CPU times: user 59 s, sys: 696 ms, total: 59.7 s\n",
    "Wall time: 15.5 s\n",
    "\n",
    "Predict time\n",
    "CPU times: user 5.14 s, sys: 16 ms, total: 5.15 s\n",
    "Wall time: 1.45 s\n",
    "\n",
    "ClassifyRF accuracy:---------->73.55 %\n",
    "\n",
    "---\n",
    "\n",
    "Todas as clases\n",
    "\n",
    "Training time\n",
    "CPU times: user 59.5 s, sys: 980 ms, total: 1min\n",
    "Wall time: 16.6 s\n",
    "\n",
    "Predict time\n",
    "CPU times: user 5.46 s, sys: 32 ms, total: 5.49 s\n",
    "Wall time: 1.56 s\n",
    "\n",
    "ClassifyRF accuracy:---------->71.82 %\n",
    "\n",
    "---\n",
    "Overfited\n",
    "\n",
    "Training time\n",
    "CPU times: user 59.5 s, sys: 1.2 s, total: 1min\n",
    "Wall time: 17.2 s\n",
    "\n",
    "Predict time\n",
    "CPU times: user 9.07 s, sys: 132 ms, total: 9.2 s\n",
    "Wall time: 2.75 s\n",
    "\n",
    "ClassifyRF accuracy:---------->100.00 %"
   ]
  },
  {
   "cell_type": "markdown",
   "metadata": {},
   "source": [
    "#Salva a rede treinada para um arquivo\n",
    "joblib.dump(rfc, 'DB_INTENC/preproc/labeled/rfc_split2.pkl') "
   ]
  },
  {
   "cell_type": "markdown",
   "metadata": {
    "collapsed": true
   },
   "source": [
    "rfc = joblib.load('DB_INTENC/preproc/labeled/rfc.pkl')"
   ]
  },
  {
   "cell_type": "code",
   "execution_count": 54,
   "metadata": {},
   "outputs": [
    {
     "name": "stdout",
     "output_type": "stream",
     "text": [
      "Predict time\n",
      "Wall time: 5.68 s\n",
      "\n",
      "ClassifyRF accuracy:---------->21.88 %\n"
     ]
    }
   ],
   "source": [
    "#Validation\n",
    "print 'Predict time'\n",
    "%time rfc_y_pred_v = rfc.predict(X_validate)\n",
    "\n",
    "print''\n",
    "\n",
    "from sklearn.metrics import accuracy_score\n",
    "\n",
    "result = ('ClassifyRF accuracy:---------->%.2f %%' % (accuracy_score(rfc_y_pred_v, y_validate)*100))\n",
    "\n",
    "print result"
   ]
  },
  {
   "cell_type": "markdown",
   "metadata": {},
   "source": [
    "#### Resultado anterior\n",
    "H-Y Simpliicada + n0\n",
    "\n",
    "Predict time\n",
    "CPU times: user 4.2 s, sys: 124 ms, total: 4.32 s\n",
    "Wall time: 1.23 s\n",
    "\n",
    "ClassifyRF accuracy:---------->29.25 %\n",
    "\n",
    "\n",
    "---\n",
    "\n",
    "Predict time\n",
    "CPU times: user 4.48 s, sys: 548 ms, total: 5.02 s\n",
    "Wall time: 1.45 s\n",
    "\n",
    "ClassifyRF accuracy:---------->25.98 %\n",
    "\n",
    "---\n",
    "\n",
    "Predict time\n",
    "CPU times: user 1.73 s, sys: 220 ms, total: 1.95 s\n",
    "Wall time: 707 ms\n",
    "\n",
    "ClassifyRF accuracy:---------->27.10 %\n"
   ]
  },
  {
   "cell_type": "code",
   "execution_count": 55,
   "metadata": {},
   "outputs": [
    {
     "name": "stdout",
     "output_type": "stream",
     "text": [
      "Predict time\n",
      "Wall time: 7.98 s\n",
      "\n",
      "ClassifyRF accuracy:---------->58.53 %\n"
     ]
    }
   ],
   "source": [
    "#Validation\n",
    "print 'Predict time'\n",
    "%time rfc_y_pred_v = rfc.predict(X_validate_std)\n",
    "\n",
    "print''\n",
    "\n",
    "from sklearn.metrics import accuracy_score\n",
    "\n",
    "result = ('ClassifyRF accuracy:---------->%.2f %%' % (accuracy_score(rfc_y_pred_v, y_validate)*100))\n",
    "\n",
    "print result"
   ]
  },
  {
   "cell_type": "markdown",
   "metadata": {},
   "source": [
    "#### Resultado anterior\n",
    "H-Y Simpliicada + n0\n",
    "\n",
    "Predict time\n",
    "CPU times: user 10.1 s, sys: 80 ms, total: 10.1 s\n",
    "Wall time: 2.94 s\n",
    "\n",
    "ClassifyRF accuracy:---------->45.17 %\n",
    "\n",
    "---\n",
    "\n",
    "Predict time\n",
    "CPU times: user 10.5 s, sys: 552 ms, total: 11.1 s\n",
    "Wall time: 3.03 s\n",
    "\n",
    "ClassifyRF accuracy:---------->42.09 %\n",
    "\n",
    "---\n",
    "\n",
    "Predict time\n",
    "\n",
    "CPU times: user 6.7 s, sys: 372 ms, total: 7.07 s\n",
    "Wall time: 2.05 s\n",
    "\n",
    "ClassifyRF accuracy:---------->85.97 %\n"
   ]
  },
  {
   "cell_type": "code",
   "execution_count": 56,
   "metadata": {},
   "outputs": [
    {
     "data": {
      "text/plain": [
       "array([3., 3., 4., ..., 2., 2., 4.])"
      ]
     },
     "execution_count": 56,
     "metadata": {},
     "output_type": "execute_result"
    }
   ],
   "source": [
    "rfc_y_pred_v"
   ]
  },
  {
   "cell_type": "code",
   "execution_count": 57,
   "metadata": {},
   "outputs": [
    {
     "data": {
      "text/plain": [
       "81411"
      ]
     },
     "execution_count": 57,
     "metadata": {},
     "output_type": "execute_result"
    }
   ],
   "source": [
    "list(y_validate).count(3)"
   ]
  },
  {
   "cell_type": "code",
   "execution_count": 58,
   "metadata": {},
   "outputs": [],
   "source": [
    "from sklearn.metrics import confusion_matrix\n",
    "confusion_matrix = confusion_matrix(y_validate, rfc_y_pred_v)\n",
    "confusion_matrix = confusion_matrix.astype('float')"
   ]
  },
  {
   "cell_type": "code",
   "execution_count": 59,
   "metadata": {
    "scrolled": true
   },
   "outputs": [
    {
     "data": {
      "text/plain": [
       "array([[ 21874.,  17748.,  10566.,  15221.],\n",
       "       [ 11091.,  46271.,  16462.,  15585.],\n",
       "       [  7878.,  16688.,  41270.,  15575.],\n",
       "       [  5079.,  18512.,  13660., 122157.]])"
      ]
     },
     "execution_count": 59,
     "metadata": {},
     "output_type": "execute_result"
    }
   ],
   "source": [
    "confusion_matrix\n",
    "cm = confusion_matrix\n",
    "cm"
   ]
  },
  {
   "cell_type": "code",
   "execution_count": 60,
   "metadata": {},
   "outputs": [],
   "source": [
    "FN = confusion_matrix.sum(axis=0) - np.diag(confusion_matrix)  \n",
    "FP = confusion_matrix.sum(axis=1) - np.diag(confusion_matrix)\n",
    "TP = np.diag(confusion_matrix)\n",
    "TN = confusion_matrix.sum() - (FP + FN + TP)\n",
    "\n",
    "# Sensitivity, hit rate, recall, or true positive rate\n",
    "TPR = TP/(TP+FN)\n",
    "# Specificity or true negative rate\n",
    "TNR = TN/(TN+FP) \n",
    "# Precision or positive predictive value\n",
    "PPV = TP/(TP+FP)\n",
    "# Negative predictive value\n",
    "NPV = TN/(TN+FN)\n",
    "# Fall out or false positive rate\n",
    "FPR = FP/(FP+TN)\n",
    "# False negative rate\n",
    "FNR = FN/(TP+FN)\n",
    "# False discovery rate\n",
    "FDR = FP/(TP+FP)\n",
    "\n",
    "# Overall accuracy\n",
    "ACC = (TP+TN)/(TP+FP+FN+TN)"
   ]
  },
  {
   "cell_type": "code",
   "execution_count": 61,
   "metadata": {},
   "outputs": [
    {
     "name": "stdout",
     "output_type": "stream",
     "text": [
      "TP: [ 21874.  46271.  41270. 122157.] = 231572.0\n",
      "TN: [306180. 253280. 273538. 189848.] = 1022846.0\n",
      "FP: [43535. 43138. 40141. 37251.] = 164065.0\n",
      "FN: [24048. 52948. 40688. 46381.] = 164065.0\n"
     ]
    }
   ],
   "source": [
    "print 'TP:', TP, '=', sum(TP)\n",
    "print 'TN:', TN, '=', sum(TN)\n",
    "print 'FP:', FP, '=', sum(FP)\n",
    "print 'FN:', FN, '=', sum(FN)"
   ]
  },
  {
   "cell_type": "code",
   "execution_count": 62,
   "metadata": {},
   "outputs": [],
   "source": [
    "#P1 = sum(cm[0][:5])\n",
    "#P2 = sum(cm[1][:5])\n",
    "#P3 = sum(cm[2][:5])\n",
    "#P4 = sum(cm[3][:5])\n",
    "#P5 = sum(cm[4][:5])\n",
    "\n",
    "P1 = sum(cm[0][:4])\n",
    "P2 = sum(cm[1][:4])\n",
    "P3 = sum(cm[2][:4])\n",
    "P4 = sum(cm[3][:4])\n",
    "\n",
    "#P1 = sum(cm[0][:2])\n",
    "#P2 = sum(cm[1][:2])"
   ]
  },
  {
   "cell_type": "code",
   "execution_count": 63,
   "metadata": {},
   "outputs": [
    {
     "data": {
      "text/plain": [
       "0.5312974980814873"
      ]
     },
     "execution_count": 63,
     "metadata": {},
     "output_type": "execute_result"
    }
   ],
   "source": [
    "#P1 = (TP[0])/sum(cm[0][:5])\n",
    "#P2 = (TP[1])/sum(cm[1][:5])\n",
    "#P3 = (TP[2])/sum(cm[2][:5])\n",
    "#P4 = (TP[3])/sum(cm[3][:5])\n",
    "#P5 = (TP[4])/sum(cm[4][:5])\n",
    "\n",
    "#S1 = (TP[0])/sum(cm[:5,[0]])\n",
    "#S2 = (TP[1])/sum(cm[:5,[1]])\n",
    "#S3 = (TP[2])/sum(cm[:5,[2]])\n",
    "#S4 = (TP[3])/sum(cm[:5,[3]])\n",
    "#S5 = (TP[4])/sum(cm[:5,[4]])\n",
    "\n",
    "#(P1+P2+P3+P4+P5)/5\n",
    "\n",
    "P1 = (TP[0])/sum(cm[0][:4])\n",
    "P2 = (TP[1])/sum(cm[1][:4])\n",
    "P3 = (TP[2])/sum(cm[2][:4])\n",
    "P4 = (TP[3])/sum(cm[3][:4])\n",
    "\n",
    "S1 = (TP[0])/sum(cm[:5,[0]])\n",
    "S2 = (TP[1])/sum(cm[:5,[1]])\n",
    "S3 = (TP[2])/sum(cm[:5,[2]])\n",
    "S4 = (TP[3])/sum(cm[:5,[3]])\n",
    "\n",
    "(P1+P2+P3+P4)/4\n",
    "\n",
    "#P1 = (TP[0])/sum(cm[0][:2])\n",
    "#P2 = (TP[1])/sum(cm[1][:2])\n",
    "\n",
    "#S1 = (TP[0])/sum(cm[:2,[0]])\n",
    "#S2 = (TP[1])/sum(cm[:2,[1]])\n",
    "\n",
    "#(P1+P2)/2"
   ]
  },
  {
   "cell_type": "code",
   "execution_count": 64,
   "metadata": {
    "scrolled": true
   },
   "outputs": [
    {
     "name": "stdout",
     "output_type": "stream",
     "text": [
      "(0.3344188108670061, 0.5175206075451018, 0.506933952414293, 0.7663166214995484)\n",
      "\n",
      "(array([0.47632943]), array([0.46635221]), array([0.5035506]), array([0.7248039]))\n"
     ]
    }
   ],
   "source": [
    "print (P1,P2,P3,P4)\n",
    "print ''\n",
    "print (S1,S2,S3,S4)\n",
    "\n",
    "#print (P1,P2)\n",
    "#print ''\n",
    "#print (S1,S2)"
   ]
  },
  {
   "cell_type": "code",
   "execution_count": 65,
   "metadata": {},
   "outputs": [
    {
     "data": {
      "text/plain": [
       "array([0.54275903])"
      ]
     },
     "execution_count": 65,
     "metadata": {},
     "output_type": "execute_result"
    }
   ],
   "source": [
    "(S1+S2+S3+S4)/4"
   ]
  },
  {
   "cell_type": "code",
   "execution_count": 66,
   "metadata": {},
   "outputs": [
    {
     "data": {
      "text/plain": [
       "array([ 65409.,  89409.,  81411., 159408.])"
      ]
     },
     "execution_count": 66,
     "metadata": {},
     "output_type": "execute_result"
    }
   ],
   "source": [
    "(TP+FP)"
   ]
  },
  {
   "cell_type": "code",
   "execution_count": 67,
   "metadata": {},
   "outputs": [
    {
     "data": {
      "text/plain": [
       "array([47.63294282, 46.63522108, 50.35505991, 72.48039018])"
      ]
     },
     "execution_count": 67,
     "metadata": {},
     "output_type": "execute_result"
    }
   ],
   "source": [
    "TPR*100 # Sensitivity"
   ]
  },
  {
   "cell_type": "code",
   "execution_count": 68,
   "metadata": {},
   "outputs": [
    {
     "data": {
      "text/plain": [
       "array([87.55129177, 85.44690268, 87.20315992, 83.59702156])"
      ]
     },
     "execution_count": 68,
     "metadata": {},
     "output_type": "execute_result"
    }
   ],
   "source": [
    "TNR*100 # Specificity"
   ]
  },
  {
   "cell_type": "code",
   "execution_count": 69,
   "metadata": {},
   "outputs": [
    {
     "data": {
      "text/plain": [
       "array([33.44188109, 51.75206075, 50.69339524, 76.63166215])"
      ]
     },
     "execution_count": 69,
     "metadata": {},
     "output_type": "execute_result"
    }
   ],
   "source": [
    "PPV*100 # Precision"
   ]
  },
  {
   "cell_type": "code",
   "execution_count": 70,
   "metadata": {},
   "outputs": [
    {
     "data": {
      "text/plain": [
       "array([82.91792729, 75.71359605, 79.56990878, 78.86143106])"
      ]
     },
     "execution_count": 70,
     "metadata": {},
     "output_type": "execute_result"
    }
   ],
   "source": [
    "ACC*100 # Accuracy"
   ]
  },
  {
   "cell_type": "code",
   "execution_count": 71,
   "metadata": {
    "scrolled": true
   },
   "outputs": [
    {
     "name": "stdout",
     "output_type": "stream",
     "text": [
      "Sensitivity 54.28%\n",
      "Specificity 85.95%\n",
      "Precision 53.13%\n",
      "Accuray 79.27%\n"
     ]
    }
   ],
   "source": [
    "print ('Sensitivity %.2f%%' %(sum(TPR)/4*100))\n",
    "print ('Specificity %.2f%%' %(sum(TNR)/4*100))\n",
    "print ('Precision %.2f%%' %(sum(PPV)/4*100))\n",
    "print ('Accuray %.2f%%' %(sum(ACC)/4*100))\n",
    "\n",
    "#print ('Sensitivity %.2f%%' %(sum(TPR)/2*100))\n",
    "#print ('Specificity %.2f%%' %(sum(TNR)/2*100))\n",
    "#print ('Precision %.2f%%' %(sum(PPV)/2*100))\n",
    "#print ('Accuray %.2f%%' %(sum(ACC)/2*100))"
   ]
  },
  {
   "cell_type": "markdown",
   "metadata": {},
   "source": [
    "#### Resultado anterior\n",
    "H-Y Simpliicada + n0\n",
    "\n",
    "Sensitivity 44.06%\n",
    "\n",
    "Specificity 86.15%\n",
    "\n",
    "Precision 45.71%\n",
    "\n",
    "Accuray 78.07%"
   ]
  },
  {
   "cell_type": "markdown",
   "metadata": {},
   "source": [
    "## Confusion Matrix"
   ]
  },
  {
   "cell_type": "code",
   "execution_count": 76,
   "metadata": {
    "scrolled": false
   },
   "outputs": [
    {
     "data": {
      "image/png": "[encoded data removed]",
      "text/plain": [
       "<matplotlib.figure.Figure at 0x100110b8>"
      ]
     },
     "metadata": {},
     "output_type": "display_data"
    },
    {
     "data": {
      "image/png": "[encoded data removed]",
      "text/plain": [
       "<matplotlib.figure.Figure at 0xfaf4eb8>"
      ]
     },
     "metadata": {},
     "output_type": "display_data"
    }
   ],
   "source": [
    "# encoding=utf8  \n",
    "import sys  \n",
    "\n",
    "reload(sys)  \n",
    "sys.setdefaultencoding('utf8')\n",
    "\n",
    "from sklearn.metrics import confusion_matrix\n",
    "import itertools\n",
    "import matplotlib.pyplot as plt\n",
    "\n",
    "class_names = np.array(['N-1', 'N-2', 'N-3', 'N-4'])\n",
    "\n",
    "yvalid = y_validate \n",
    "\n",
    "def plot_confusion_matrix(cm, classes,\n",
    "                          normalize=False,\n",
    "                          title='Confusion de matrix',\n",
    "                          cmap=plt.cm.Blues):\n",
    "    \"\"\"\n",
    "    This function prints and plots the confusion matrix.\n",
    "    Normalization can be applied by setting `normalize=True`.\n",
    "    \"\"\"\n",
    "    plt.imshow(cm, interpolation='nearest', cmap=cmap)\n",
    "    plt.title(title)\n",
    "    plt.colorbar()\n",
    "    tick_marks = np.arange(len(classes))\n",
    "    plt.xticks(tick_marks, classes, rotation=45)\n",
    "    plt.yticks(tick_marks, classes)\n",
    "\n",
    "    \n",
    "    if normalize:\n",
    "        cm = cm.astype('float') / cm.sum(axis=1)[:, np.newaxis]\n",
    "        print(\"Matrix de confusão normalizada\")\n",
    "        thresh = cm.max() / 2.\n",
    "        for i, j in itertools.product(range(cm.shape[0]), range(cm.shape[1])):\n",
    "            plt.text(j, i, ('%.3f' % cm[i, j]), horizontalalignment=\"center\", color=\"white\" if cm[i, j] > thresh else \"black\")\n",
    "\n",
    "    else:\n",
    "        print('Matrix de confusão, sem normalização')\n",
    "        thresh = cm.max() / 2.\n",
    "        for i, j in itertools.product(range(cm.shape[0]), range(cm.shape[1])):\n",
    "            plt.text(j, i, cm[i, j], horizontalalignment=\"center\", color=\"white\" if cm[i, j] > thresh else \"black\")\n",
    "\n",
    "    print(cm)\n",
    "\n",
    "    plt.tight_layout()\n",
    "    plt.ylabel('Valores reais')\n",
    "    plt.xlabel('Valores preditos')\n",
    "\n",
    "# Compute confusion matrix\n",
    "cnf_matrix = confusion_matrix(yvalid, rfc_y_pred_v)\n",
    "np.set_printoptions(precision=2)\n",
    "\n",
    "# Plot non-normalized confusion matrix\n",
    "fig = plt.figure()\n",
    "plot_confusion_matrix(cnf_matrix, classes=class_names,\n",
    "                      title='Matrix de confusão - Random Forest')\n",
    "fig.set_size_inches(w=7,h=6)\n",
    "\n",
    "# Plot normalized confusion matrix\n",
    "fig = plt.figure()\n",
    "plot_confusion_matrix(cnf_matrix, classes=class_names, normalize=True,\n",
    "                      title='Matrix de confusão - Random Forest')\n",
    "fig_name = 'CF_figs/cm_RF.png'\n",
    "fig.set_size_inches(w=7,h=6)\n",
    "fig.savefig(fig_name)\n",
    "\n",
    "plt.show()"
   ]
  },
  {
   "cell_type": "markdown",
   "metadata": {},
   "source": [
    "---"
   ]
  },
  {
   "cell_type": "markdown",
   "metadata": {},
   "source": [
    "## Support Vector Machine RBF"
   ]
  },
  {
   "cell_type": "code",
   "execution_count": null,
   "metadata": {},
   "outputs": [],
   "source": [
    "from sklearn import svm, datasets\n",
    "\n",
    "print 'Processing time SVM'\n",
    "%time svm_rbf = svm.SVC(kernel='rbf', gamma=0.2, C=6, decision_function_shape='ovr').fit(X_train_std, y_train)\n",
    "\n",
    "print ''\n",
    "print 'Predict time'  \n",
    "%time rbf_y_pred = svm_rbf.predict(X_test_std)\n",
    "from sklearn.metrics import accuracy_score\n",
    "\n",
    "print ('SVM-RBF accuracy:---------->%.2f %%' % (accuracy_score(y_test, rbf_y_pred)*100))"
   ]
  },
  {
   "cell_type": "code",
   "execution_count": 170,
   "metadata": {},
   "outputs": [
    {
     "data": {
      "text/plain": [
       "0.8774077125259896"
      ]
     },
     "execution_count": 170,
     "metadata": {},
     "output_type": "execute_result"
    }
   ],
   "source": [
    "accuracy_score(y_test, rbf_y_pred)"
   ]
  },
  {
   "cell_type": "code",
   "execution_count": 171,
   "metadata": {},
   "outputs": [
    {
     "name": "stdout",
     "output_type": "stream",
     "text": [
      "Predict time\n",
      "Wall time: 32.6 s\n",
      "SVM-RBF accuracy:---------->71.03 %\n"
     ]
    }
   ],
   "source": [
    "print 'Predict time'  \n",
    "%time rbf_y_pred_v = svm_rbf.predict(X_validate_std)\n",
    "from sklearn.metrics import accuracy_score\n",
    "print ('SVM-RBF accuracy:---------->%.2f %%' % (accuracy_score(y_validate, rbf_y_pred_v)*100))"
   ]
  },
  {
   "cell_type": "code",
   "execution_count": 172,
   "metadata": {},
   "outputs": [
    {
     "data": {
      "text/plain": [
       "0.7102610807528841"
      ]
     },
     "execution_count": 172,
     "metadata": {},
     "output_type": "execute_result"
    }
   ],
   "source": [
    "(accuracy_score(y_validate, rbf_y_pred_v))"
   ]
  },
  {
   "cell_type": "code",
   "execution_count": 174,
   "metadata": {},
   "outputs": [
    {
     "data": {
      "text/plain": [
       "array([[3.5062e+04, 2.4950e+03],\n",
       "       [1.1821e+04, 3.2000e+01]])"
      ]
     },
     "execution_count": 174,
     "metadata": {},
     "output_type": "execute_result"
    }
   ],
   "source": [
    "from sklearn.metrics import confusion_matrix\n",
    "confusion_matrix = confusion_matrix(y_validate, rbf_y_pred_v)\n",
    "confusion_matrix = confusion_matrix.astype('float')\n",
    "confusion_matrix\n",
    "cm = confusion_matrix\n",
    "cm"
   ]
  },
  {
   "cell_type": "markdown",
   "metadata": {
    "collapsed": true
   },
   "source": [
    "# Confusion Matrix"
   ]
  },
  {
   "cell_type": "code",
   "execution_count": null,
   "metadata": {},
   "outputs": [],
   "source": [
    "from sklearn.metrics import confusion_matrix\n",
    "confusion_matrix = confusion_matrix(y_validate, rbf_y_pred_v)\n",
    "confusion_matrix = confusion_matrix.astype('float')"
   ]
  },
  {
   "cell_type": "code",
   "execution_count": null,
   "metadata": {},
   "outputs": [],
   "source": [
    "confusion_matrix"
   ]
  },
  {
   "cell_type": "code",
   "execution_count": 50,
   "metadata": {},
   "outputs": [],
   "source": [
    "FN = confusion_matrix.sum(axis=0) - np.diag(confusion_matrix)  \n",
    "FP = confusion_matrix.sum(axis=1) - np.diag(confusion_matrix)\n",
    "TP = np.diag(confusion_matrix)\n",
    "TN = confusion_matrix.sum() - (FP + FN + TP)\n",
    "\n",
    "# Sensitivity, hit rate, recall, or true positive rate\n",
    "TPR = TP/(TP+FN)\n",
    "# Specificity or true negative rate\n",
    "TNR = TN/(TN+FP) \n",
    "# Precision or positive predictive value\n",
    "PPV = TP/(TP+FP)\n",
    "# Negative predictive value\n",
    "NPV = TN/(TN+FN)\n",
    "# Fall out or false positive rate\n",
    "FPR = FP/(FP+TN)\n",
    "# False negative rate\n",
    "FNR = FN/(TP+FN)\n",
    "# False discovery rate\n",
    "FDR = FP/(TP+FP)\n",
    "\n",
    "# Overall accuracy\n",
    "ACC = (TP+TN)/(TP+FP+FN+TN)"
   ]
  },
  {
   "cell_type": "code",
   "execution_count": 51,
   "metadata": {},
   "outputs": [
    {
     "data": {
      "text/plain": [
       "array([ 59.89,   4.27,  61.09,  16.2 ,  31.69,  42.31])"
      ]
     },
     "execution_count": 51,
     "metadata": {},
     "output_type": "execute_result"
    }
   ],
   "source": [
    "TPR*100 # Sensitivity"
   ]
  },
  {
   "cell_type": "code",
   "execution_count": 52,
   "metadata": {},
   "outputs": [
    {
     "data": {
      "text/plain": [
       "array([ 88.04,  97.06,  75.72,  96.61,  82.9 ,  83.62])"
      ]
     },
     "execution_count": 52,
     "metadata": {},
     "output_type": "execute_result"
    }
   ],
   "source": [
    "TNR*100 # Specificity"
   ]
  },
  {
   "cell_type": "code",
   "execution_count": 53,
   "metadata": {},
   "outputs": [
    {
     "data": {
      "text/plain": [
       "array([ 42.74,  10.93,  34.86,  34.02,  45.66,  40.38])"
      ]
     },
     "execution_count": 53,
     "metadata": {},
     "output_type": "execute_result"
    }
   ],
   "source": [
    "PPV*100 # Precision"
   ]
  },
  {
   "cell_type": "code",
   "execution_count": 54,
   "metadata": {},
   "outputs": [
    {
     "data": {
      "text/plain": [
       "array([ 84.39,  89.84,  73.16,  88.78,  66.93,  75.04])"
      ]
     },
     "execution_count": 54,
     "metadata": {},
     "output_type": "execute_result"
    }
   ],
   "source": [
    "ACC*100 # Accuracy"
   ]
  },
  {
   "cell_type": "code",
   "execution_count": 55,
   "metadata": {},
   "outputs": [
    {
     "data": {
      "text/plain": [
       "79.689084809237727"
      ]
     },
     "execution_count": 55,
     "metadata": {},
     "output_type": "execute_result"
    }
   ],
   "source": [
    "sum(ACC)/6*100"
   ]
  },
  {
   "cell_type": "code",
   "execution_count": 55,
   "metadata": {},
   "outputs": [
    {
     "ename": "NameError",
     "evalue": "name 'rbf_y_pred_v' is not defined",
     "output_type": "error",
     "traceback": [
      "\u001b[1;31m---------------------------------------------------------------------------\u001b[0m",
      "\u001b[1;31mNameError\u001b[0m                                 Traceback (most recent call last)",
      "\u001b[1;32m<ipython-input-55-e9d742a82ac1>\u001b[0m in \u001b[0;36m<module>\u001b[1;34m()\u001b[0m\n\u001b[0;32m     50\u001b[0m \u001b[1;33m\u001b[0m\u001b[0m\n\u001b[0;32m     51\u001b[0m \u001b[1;31m# Compute confusion matrix\u001b[0m\u001b[1;33m\u001b[0m\u001b[1;33m\u001b[0m\u001b[0m\n\u001b[1;32m---> 52\u001b[1;33m \u001b[0mcnf_matrix\u001b[0m \u001b[1;33m=\u001b[0m \u001b[0mconfusion_matrix\u001b[0m\u001b[1;33m(\u001b[0m\u001b[0myvalid\u001b[0m\u001b[1;33m,\u001b[0m \u001b[0mrbf_y_pred_v\u001b[0m\u001b[1;33m)\u001b[0m\u001b[1;33m\u001b[0m\u001b[0m\n\u001b[0m\u001b[0;32m     53\u001b[0m \u001b[0mnp\u001b[0m\u001b[1;33m.\u001b[0m\u001b[0mset_printoptions\u001b[0m\u001b[1;33m(\u001b[0m\u001b[0mprecision\u001b[0m\u001b[1;33m=\u001b[0m\u001b[1;36m2\u001b[0m\u001b[1;33m)\u001b[0m\u001b[1;33m\u001b[0m\u001b[0m\n\u001b[0;32m     54\u001b[0m \u001b[1;33m\u001b[0m\u001b[0m\n",
      "\u001b[1;31mNameError\u001b[0m: name 'rbf_y_pred_v' is not defined"
     ]
    }
   ],
   "source": [
    "# encoding=utf8  \n",
    "import sys  \n",
    "\n",
    "reload(sys)  \n",
    "sys.setdefaultencoding('utf8')\n",
    "\n",
    "from sklearn.metrics import confusion_matrix\n",
    "import itertools\n",
    "import matplotlib.pyplot as plt\n",
    "\n",
    "#%matplotlib notebook\n",
    "class_names = np.array(['N-0', 'N-1', 'N-2', 'N-3', 'N-4', 'N-1,5'])\n",
    "\n",
    "yvalid = y_validate \n",
    "\n",
    "def plot_confusion_matrix(cm, classes,\n",
    "                          normalize=False,\n",
    "                          title='Confusion de matrix',\n",
    "                          cmap=plt.cm.Blues):\n",
    "    \"\"\"\n",
    "    This function prints and plots the confusion matrix.\n",
    "    Normalization can be applied by setting `normalize=True`.\n",
    "    \"\"\"\n",
    "    plt.imshow(cm, interpolation='nearest', cmap=cmap)\n",
    "    plt.title(title)\n",
    "    plt.colorbar()\n",
    "    tick_marks = np.arange(len(classes))\n",
    "    plt.xticks(tick_marks, classes, rotation=45)\n",
    "    plt.yticks(tick_marks, classes)\n",
    "\n",
    "    \n",
    "    if normalize:\n",
    "        cm = cm.astype('float') / cm.sum(axis=1)[:, np.newaxis]\n",
    "        print(\"Matrix de confusão normalizada\")\n",
    "        thresh = cm.max() / 2.\n",
    "        for i, j in itertools.product(range(cm.shape[0]), range(cm.shape[1])):\n",
    "            plt.text(j, i, ('%.3f' % cm[i, j]), horizontalalignment=\"center\", color=\"white\" if cm[i, j] > thresh else \"black\")\n",
    "\n",
    "    else:\n",
    "        print('Matrix de confusão, sem normalização')\n",
    "        thresh = cm.max() / 2.\n",
    "        for i, j in itertools.product(range(cm.shape[0]), range(cm.shape[1])):\n",
    "            plt.text(j, i, cm[i, j], horizontalalignment=\"center\", color=\"white\" if cm[i, j] > thresh else \"black\")\n",
    "\n",
    "    print(cm)\n",
    "\n",
    "    plt.tight_layout()\n",
    "    plt.ylabel('Valores reais')\n",
    "    plt.xlabel('Valores preditos')\n",
    "\n",
    "# Compute confusion matrix\n",
    "cnf_matrix = confusion_matrix(yvalid, rbf_y_pred_v)\n",
    "np.set_printoptions(precision=2)\n",
    "\n",
    "# Plot non-normalized confusion matrix\n",
    "fig = plt.figure()\n",
    "plot_confusion_matrix(cnf_matrix, classes=class_names,\n",
    "                      title='Matrix de confusão - SVM-RBF')\n",
    "fig.set_size_inches(w=7,h=6)\n",
    "\n",
    "# Plot normalized confusion matrix\n",
    "fig = plt.figure()\n",
    "plot_confusion_matrix(cnf_matrix, classes=class_names, normalize=True,\n",
    "                      title='Matrix de confusão - SVM-RBF')\n",
    "fig_name = 'CF_figs/cm_SVM-RBF.png'\n",
    "fig.set_size_inches(w=7,h=6)\n",
    "fig.savefig(fig_name)\n",
    "\n",
    "plt.show()"
   ]
  },
  {
   "cell_type": "markdown",
   "metadata": {},
   "source": [
    "## Support Vector Machine Poly"
   ]
  },
  {
   "cell_type": "code",
   "execution_count": null,
   "metadata": {},
   "outputs": [
    {
     "name": "stdout",
     "output_type": "stream",
     "text": [
      "Processing time Polynomial\n"
     ]
    }
   ],
   "source": [
    "from sklearn import svm, datasets\n",
    "\n",
    "print 'Processing time Polynomial'\n",
    "#%time svm = svm.SVC(kernel='poly', degree=2, coef0=4.7, C=48.9, decision_function_shape='ovr').fit(X_train_std, y_train)\n",
    "%time svm_poly = svm.SVC(kernel='poly', degree=2,  C=500).fit(X_train_std, y_train)\n"
   ]
  },
  {
   "cell_type": "code",
   "execution_count": null,
   "metadata": {},
   "outputs": [],
   "source": [
    "#poly_y_pred = svm_poly.predict(X_test_std)\n",
    "\n",
    "print 'Predict time'  \n",
    "%time poly_y_pred = svm_poly.predict(X_test_std)\n",
    "from sklearn.metrics import accuracy_score\n",
    "print ('SVM-Polynomial accuracy:--->%.2f %%' % (accuracy_score(y_test, poly_y_pred)*100))\n",
    "        "
   ]
  },
  {
   "cell_type": "code",
   "execution_count": null,
   "metadata": {
    "scrolled": true
   },
   "outputs": [],
   "source": [
    "print 'Predict time'  \n",
    "%time poly_y_pred_v = svm_poly.predict(X_validate_std)\n",
    "from sklearn.metrics import accuracy_score\n",
    "print ('SVM-Polynomial accuracy:---------->%.2f %%' % (accuracy_score(y_validate, poly_y_pred_v)*100))"
   ]
  },
  {
   "cell_type": "code",
   "execution_count": null,
   "metadata": {},
   "outputs": [],
   "source": [
    "from sklearn.metrics import confusion_matrix\n",
    "confusion_matrix = confusion_matrix(y_validate, poly_y_pred_v)\n",
    "confusion_matrix = confusion_matrix.astype('float')\n",
    "confusion_matrix\n",
    "cm = confusion_matrix\n",
    "cm"
   ]
  },
  {
   "cell_type": "markdown",
   "metadata": {},
   "source": [
    "# Confusion Matrix"
   ]
  },
  {
   "cell_type": "code",
   "execution_count": null,
   "metadata": {},
   "outputs": [],
   "source": [
    "from sklearn.metrics import confusion_matrix\n",
    "confusion_matrix = confusion_matrix(y_validate, poly_y_pred_v)\n",
    "confusion_matrix = confusion_matrix.astype('float')"
   ]
  },
  {
   "cell_type": "code",
   "execution_count": null,
   "metadata": {},
   "outputs": [],
   "source": [
    "confusion_matrix"
   ]
  },
  {
   "cell_type": "code",
   "execution_count": null,
   "metadata": {},
   "outputs": [],
   "source": [
    "FP = confusion_matrix.sum(axis=0) - np.diag(confusion_matrix)  \n",
    "FN = confusion_matrix.sum(axis=1) - np.diag(confusion_matrix)\n",
    "TP = np.diag(confusion_matrix)\n",
    "TN = confusion_matrix.sum() - (FP + FN + TP)\n",
    "\n",
    "# Sensitivity, hit rate, recall, or true positive rate\n",
    "TPR = TP/(TP+FN)\n",
    "# Specificity or true negative rate\n",
    "TNR = TN/(TN+FP) \n",
    "# Precision or positive predictive value\n",
    "PPV = TP/(TP+FP)\n",
    "# Negative predictive value\n",
    "NPV = TN/(TN+FN)\n",
    "# Fall out or false positive rate\n",
    "FPR = FP/(FP+TN)\n",
    "# False negative rate\n",
    "FNR = FN/(TP+FN)\n",
    "# False discovery rate\n",
    "FDR = FP/(TP+FP)\n",
    "\n",
    "# Overall accuracy\n",
    "ACC = (TP+TN)/(TP+FP+FN+TN)"
   ]
  },
  {
   "cell_type": "code",
   "execution_count": null,
   "metadata": {},
   "outputs": [],
   "source": [
    "TPR*100 # Sensitivity"
   ]
  },
  {
   "cell_type": "code",
   "execution_count": null,
   "metadata": {},
   "outputs": [],
   "source": [
    "TNR*100 # Specificity"
   ]
  },
  {
   "cell_type": "code",
   "execution_count": null,
   "metadata": {},
   "outputs": [],
   "source": [
    "PPV*100 # Precision"
   ]
  },
  {
   "cell_type": "code",
   "execution_count": null,
   "metadata": {},
   "outputs": [],
   "source": [
    "ACC*100 # Accuracy"
   ]
  },
  {
   "cell_type": "code",
   "execution_count": null,
   "metadata": {},
   "outputs": [],
   "source": [
    "sum(ACC)/6*100"
   ]
  },
  {
   "cell_type": "code",
   "execution_count": null,
   "metadata": {},
   "outputs": [],
   "source": [
    "# encoding=utf8  \n",
    "import sys  \n",
    "\n",
    "reload(sys)  \n",
    "sys.setdefaultencoding('utf8')\n",
    "\n",
    "from sklearn.metrics import confusion_matrix\n",
    "import itertools\n",
    "import matplotlib.pyplot as plt\n",
    "\n",
    "#%matplotlib notebook\n",
    "class_names = np.array(['N-0', 'N-1', 'N-2', 'N-3', 'N-4', 'N-1,5'])\n",
    "\n",
    "yvalid = y_validate \n",
    "\n",
    "def plot_confusion_matrix(cm, classes,\n",
    "                          normalize=False,\n",
    "                          title='Confusion de matrix',\n",
    "                          cmap=plt.cm.Blues):\n",
    "    \"\"\"\n",
    "    This function prints and plots the confusion matrix.\n",
    "    Normalization can be applied by setting `normalize=True`.\n",
    "    \"\"\"\n",
    "    plt.imshow(cm, interpolation='nearest', cmap=cmap)\n",
    "    plt.title(title)\n",
    "    plt.colorbar()\n",
    "    tick_marks = np.arange(len(classes))\n",
    "    plt.xticks(tick_marks, classes, rotation=45)\n",
    "    plt.yticks(tick_marks, classes)\n",
    "\n",
    "    \n",
    "    if normalize:\n",
    "        cm = cm.astype('float') / cm.sum(axis=1)[:, np.newaxis]\n",
    "        print(\"Matrix de confusão normalizada\")\n",
    "        thresh = cm.max() / 2.\n",
    "        for i, j in itertools.product(range(cm.shape[0]), range(cm.shape[1])):\n",
    "            plt.text(j, i, ('%.3f' % cm[i, j]), horizontalalignment=\"center\", color=\"white\" if cm[i, j] > thresh else \"black\")\n",
    "\n",
    "    else:\n",
    "        print('Matrix de confusão, sem normalização')\n",
    "        thresh = cm.max() / 2.\n",
    "        for i, j in itertools.product(range(cm.shape[0]), range(cm.shape[1])):\n",
    "            plt.text(j, i, cm[i, j], horizontalalignment=\"center\", color=\"white\" if cm[i, j] > thresh else \"black\")\n",
    "\n",
    "    print(cm)\n",
    "\n",
    "    plt.tight_layout()\n",
    "    plt.ylabel('Valores reais')\n",
    "    plt.xlabel('Valores preditos')\n",
    "\n",
    "# Compute confusion matrix\n",
    "cnf_matrix = confusion_matrix(yvalid, poly_y_pred_v)\n",
    "np.set_printoptions(precision=2)\n",
    "\n",
    "# Plot non-normalized confusion matrix\n",
    "fig = plt.figure()\n",
    "plot_confusion_matrix(cnf_matrix, classes=class_names,\n",
    "                      title='Matrix de confusão - SVM-Poly')\n",
    "fig.set_size_inches(w=7,h=6)\n",
    "\n",
    "# Plot normalized confusion matrix\n",
    "fig = plt.figure()\n",
    "plot_confusion_matrix(cnf_matrix, classes=class_names, normalize=True,\n",
    "                      title='Matrix de confusão - SVM-Poly')\n",
    "fig_name = 'CF_figs/cm_SVM-Poly.png'\n",
    "fig.set_size_inches(w=7,h=6)\n",
    "fig.savefig(fig_name)\n",
    "\n",
    "plt.show()"
   ]
  },
  {
   "cell_type": "markdown",
   "metadata": {},
   "source": [
    "---"
   ]
  },
  {
   "cell_type": "markdown",
   "metadata": {},
   "source": [
    "## KNeigbors"
   ]
  },
  {
   "cell_type": "code",
   "execution_count": 80,
   "metadata": {},
   "outputs": [],
   "source": [
    "from sklearn.neighbors import KNeighborsClassifier\n",
    "knc = KNeighborsClassifier(n_neighbors=2, weights = 'distance', algorithm = 'auto', p = 1)\n",
    "knc = knc.fit(X_train_std, y_train)\n",
    "print''\n",
    "\n",
    "print 'Predict time'\n",
    "%time pred = knc.predict(X_test_std)\n",
    "\n",
    "print''\n",
    "\n",
    "from sklearn.metrics import accuracy_score\n",
    "\n",
    "\n",
    "\n",
    "print ('ClassifyKN accuracy:---------->%.2f %%' % (accuracy_score(y_test, pred)*100))"
   ]
  },
  {
   "cell_type": "code",
   "execution_count": 81,
   "metadata": {},
   "outputs": [
    {
     "data": {
      "text/plain": [
       "70.42095014099111"
      ]
     },
     "execution_count": 81,
     "metadata": {},
     "output_type": "execute_result"
    }
   ],
   "source": [
    "accuracy_score(y_test, pred)*100"
   ]
  },
  {
   "cell_type": "code",
   "execution_count": 82,
   "metadata": {},
   "outputs": [
    {
     "data": {
      "text/plain": [
       "40.215143949442144"
      ]
     },
     "execution_count": 82,
     "metadata": {},
     "output_type": "execute_result"
    }
   ],
   "source": [
    "%time pred = knc.predict(X_validate_std)\n",
    "accuracy_score(y_validate, pred)*100"
   ]
  },
  {
   "cell_type": "markdown",
   "metadata": {},
   "source": [
    "## Confusion Matrix"
   ]
  },
  {
   "cell_type": "code",
   "execution_count": 83,
   "metadata": {},
   "outputs": [],
   "source": [
    "from sklearn.metrics import confusion_matrix\n",
    "confusion_matrix = confusion_matrix(y_validate, y_pred)\n",
    "confusion_matrix = confusion_matrix.astype('float')"
   ]
  },
  {
   "cell_type": "code",
   "execution_count": 84,
   "metadata": {},
   "outputs": [
    {
     "data": {
      "text/plain": [
       "array([[  2.73e+04,   4.75e+03,   2.00e+01,   3.09e+03,   1.06e+03,\n",
       "          3.72e+03],\n",
       "       [  1.06e+04,   1.60e+03,   6.00e+00,   3.57e+03,   2.53e+03,\n",
       "          5.70e+03],\n",
       "       [  3.58e+04,   5.48e+03,   2.60e+01,   4.52e+03,   3.18e+03,\n",
       "          4.96e+03],\n",
       "       [  1.57e+04,   2.55e+03,   1.10e+01,   6.00e+03,   2.24e+03,\n",
       "          3.45e+03],\n",
       "       [  4.22e+04,   6.18e+03,   2.60e+01,   1.75e+04,   8.46e+03,\n",
       "          2.16e+04],\n",
       "       [  2.57e+04,   2.89e+03,   1.10e+01,   1.80e+04,   4.18e+03,\n",
       "          1.31e+04]])"
      ]
     },
     "execution_count": 84,
     "metadata": {},
     "output_type": "execute_result"
    }
   ],
   "source": [
    "confusion_matrix"
   ]
  },
  {
   "cell_type": "code",
   "execution_count": 85,
   "metadata": {},
   "outputs": [],
   "source": [
    "FP = confusion_matrix.sum(axis=0) - np.diag(confusion_matrix)  \n",
    "FN = confusion_matrix.sum(axis=1) - np.diag(confusion_matrix)\n",
    "TP = np.diag(confusion_matrix)\n",
    "TN = confusion_matrix.sum() - (FP + FN + TP)\n",
    "\n",
    "# Sensitivity, hit rate, recall, or true positive rate\n",
    "TPR = TP/(TP+FN)\n",
    "# Specificity or true negative rate\n",
    "TNR = TN/(TN+FP) \n",
    "# Precision or positive predictive value\n",
    "PPV = TP/(TP+FP)\n",
    "# Negative predictive value\n",
    "NPV = TN/(TN+FN)\n",
    "# Fall out or false positive rate\n",
    "FPR = FP/(FP+TN)\n",
    "# False negative rate\n",
    "FNR = FN/(TP+FN)\n",
    "# False discovery rate\n",
    "FDR = FP/(TP+FP)\n",
    "\n",
    "# Overall accuracy\n",
    "ACC = (TP+TN)/(TP+FP+FN+TN)"
   ]
  },
  {
   "cell_type": "code",
   "execution_count": 86,
   "metadata": {},
   "outputs": [
    {
     "data": {
      "text/plain": [
       "array([  6.83e+01,   6.68e+00,   4.82e-02,   2.00e+01,   8.81e+00,\n",
       "         2.05e+01])"
      ]
     },
     "execution_count": 86,
     "metadata": {},
     "output_type": "execute_result"
    }
   ],
   "source": [
    "TPR*100 # Sensitivity"
   ]
  },
  {
   "cell_type": "code",
   "execution_count": 87,
   "metadata": {},
   "outputs": [
    {
     "data": {
      "text/plain": [
       "array([ 51.45,  92.3 ,  99.97,  83.21,  93.76,  83.83])"
      ]
     },
     "execution_count": 87,
     "metadata": {},
     "output_type": "execute_result"
    }
   ],
   "source": [
    "TNR*100 # Specificity"
   ]
  },
  {
   "cell_type": "code",
   "execution_count": 88,
   "metadata": {},
   "outputs": [
    {
     "data": {
      "text/plain": [
       "array([ 17.34,   6.82,  26.  ,  11.41,  39.04,  24.97])"
      ]
     },
     "execution_count": 88,
     "metadata": {},
     "output_type": "execute_result"
    }
   ],
   "source": [
    "PPV*100 # Precision"
   ]
  },
  {
   "cell_type": "code",
   "execution_count": 89,
   "metadata": {},
   "outputs": [
    {
     "data": {
      "text/plain": [
       "array([ 53.64,  85.63,  82.45,  77.06,  67.26,  70.68])"
      ]
     },
     "execution_count": 89,
     "metadata": {},
     "output_type": "execute_result"
    }
   ],
   "source": [
    "ACC*100 # Accuracy"
   ]
  },
  {
   "cell_type": "code",
   "execution_count": 90,
   "metadata": {},
   "outputs": [
    {
     "data": {
      "text/plain": [
       "72.784951410019673"
      ]
     },
     "execution_count": 90,
     "metadata": {},
     "output_type": "execute_result"
    }
   ],
   "source": [
    "sum(ACC)/6*100"
   ]
  },
  {
   "cell_type": "code",
   "execution_count": 91,
   "metadata": {},
   "outputs": [
    {
     "data": {
      "image/png": "[encoded data removed]",
      "text/plain": [
       "<matplotlib.figure.Figure at 0x7fb6ed146a50>"
      ]
     },
     "metadata": {},
     "output_type": "display_data"
    },
    {
     "data": {
      "image/png": "[encoded data removed]",
      "text/plain": [
       "<matplotlib.figure.Figure at 0x7fb6ecebd3d0>"
      ]
     },
     "metadata": {},
     "output_type": "display_data"
    }
   ],
   "source": [
    "# encoding=utf8  \n",
    "import sys  \n",
    "\n",
    "reload(sys)  \n",
    "sys.setdefaultencoding('utf8')\n",
    "\n",
    "from sklearn.metrics import confusion_matrix\n",
    "import itertools\n",
    "import matplotlib.pyplot as plt\n",
    "\n",
    "#%matplotlib notebook\n",
    "class_names = np.array(['N-0', 'N-1', 'N-2', 'N-3', 'N-4', 'N-1,5'])\n",
    "\n",
    "yvalid = y_validate \n",
    "\n",
    "def plot_confusion_matrix(cm, classes,\n",
    "                          normalize=False,\n",
    "                          title='Confusion matrix',\n",
    "                          cmap=plt.cm.Blues):\n",
    "    \"\"\"\n",
    "    This function prints and plots the confusion matrix.\n",
    "    Normalization can be applied by setting `normalize=True`.\n",
    "    \"\"\"\n",
    "    plt.imshow(cm, interpolation='nearest', cmap=cmap)\n",
    "    plt.title(title)\n",
    "    plt.colorbar()\n",
    "    tick_marks = np.arange(len(classes))\n",
    "    plt.xticks(tick_marks, classes, rotation=45)\n",
    "    plt.yticks(tick_marks, classes)\n",
    "\n",
    "    \n",
    "    if normalize:\n",
    "        cm = cm.astype('float') / cm.sum(axis=1)[:, np.newaxis]\n",
    "        print(\"Matrix confusão normalizada\")\n",
    "        thresh = cm.max() / 2.\n",
    "        for i, j in itertools.product(range(cm.shape[0]), range(cm.shape[1])):\n",
    "            plt.text(j, i, ('%.3f' % cm[i, j]), horizontalalignment=\"center\", color=\"white\" if cm[i, j] > thresh else \"black\")\n",
    "\n",
    "    else:\n",
    "        print('Matrix confusão, sem normalização')\n",
    "        thresh = cm.max() / 2.\n",
    "        for i, j in itertools.product(range(cm.shape[0]), range(cm.shape[1])):\n",
    "            plt.text(j, i, cm[i, j], horizontalalignment=\"center\", color=\"white\" if cm[i, j] > thresh else \"black\")\n",
    "\n",
    "    print(cm)\n",
    "\n",
    "    plt.tight_layout()\n",
    "    plt.ylabel('Valores reais')\n",
    "    plt.xlabel('Valores preditos')\n",
    "\n",
    "# Compute confusion matrix\n",
    "cnf_matrix = confusion_matrix(yvalid, y_pred)\n",
    "np.set_printoptions(precision=2)\n",
    "\n",
    "# Plot non-normalized confusion matrix\n",
    "fig = plt.figure()\n",
    "plot_confusion_matrix(cnf_matrix, classes=class_names,\n",
    "                      title='Matrix confusão SVM-RBF')\n",
    "fig.set_size_inches(w=7,h=6)\n",
    "\n",
    "# Plot normalized confusion matrix\n",
    "fig = plt.figure()\n",
    "plot_confusion_matrix(cnf_matrix, classes=class_names, normalize=True,\n",
    "                      title='Matrix confusão SVM-RBF')\n",
    "fig_name = 'cm_SVM-RBF.png'\n",
    "fig.set_size_inches(w=7,h=6)\n",
    "fig.savefig(fig_name)\n",
    "\n",
    "plt.show()"
   ]
  },
  {
   "cell_type": "code",
   "execution_count": null,
   "metadata": {},
   "outputs": [],
   "source": []
  }
 ],
 "metadata": {
  "kernelspec": {
   "display_name": "Python 2",
   "language": "python",
   "name": "python2"
  },
  "language_info": {
   "codemirror_mode": {
    "name": "ipython",
    "version": 2
   },
   "file_extension": ".py",
   "mimetype": "text/x-python",
   "name": "python",
   "nbconvert_exporter": "python",
   "pygments_lexer": "ipython2",
   "version": "2.7.14"
  }
 },
 "nbformat": 4,
 "nbformat_minor": 2
}
