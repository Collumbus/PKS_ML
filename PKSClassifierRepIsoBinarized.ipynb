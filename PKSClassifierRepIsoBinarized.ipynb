{
 "cells": [
  {
   "cell_type": "markdown",
   "metadata": {},
   "source": [
    "Pré-processamento realizado em Processing.ipynb"
   ]
  },
  {
   "cell_type": "markdown",
   "metadata": {},
   "source": [
    "# Bibliotecas"
   ]
  },
  {
   "cell_type": "code",
   "execution_count": 5,
   "metadata": {},
   "outputs": [],
   "source": [
    "import os\n",
    "import pandas as pd\n",
    "import numpy as np\n",
    "import scipy as sp\n",
    "from scipy import signal\n",
    "import ml_time_series as mls\n",
    "import timeit\n",
    "from datetime import datetime\n",
    "from sklearn.externals import joblib\n",
    "import matplotlib.pyplot as plt\n",
    "from sklearn.decomposition import PCA\n",
    "from sklearn import preprocessing\n",
    "from sklearn import utils\n",
    "from sys import platform\n",
    "\n",
    "%matplotlib inline  "
   ]
  },
  {
   "cell_type": "code",
   "execution_count": 6,
   "metadata": {},
   "outputs": [],
   "source": [
    "entropy = []\n",
    "\n",
    "def proccess_data(x,DATA,NUM_SAMPLES,LABEL):\n",
    "    \n",
    "    if \"v\" in x:\n",
    "         Xc = np.load(\"preproc/stacked_v/\"+x)\n",
    "    else:\n",
    "         Xc = np.load(\"preproc/stacked_t/\"+x)\n",
    "   \n",
    "    print '\\nXc initial shape ', Xc.shape\n",
    "    \n",
    "    #Principal component analysis\n",
    "    pca = PCA(n_components=8)\n",
    "    pca.fit(Xc)\n",
    "    Xc = pca.transform(Xc)\n",
    "    print pca.explained_variance_ratio_\n",
    "    entropy.append(sum(pca.explained_variance_ratio_))\n",
    "    print 'Xc PCA shape ', Xc.shape\n",
    "    \n",
    "    #Create temporal serie\n",
    "    #Xc = mls.generate_envelope(Xc, NUM_SAMPLES)\n",
    "    #print 'Xc temporal-serie shape ', Xc.shape\n",
    "    \n",
    "    #Labeling the PKS level    \n",
    "    C = (np.ones(len(Xc))*LABEL).reshape((len(Xc),1))\n",
    "    Xc = np.hstack((Xc.reshape(Xc.shape),C.reshape((len(Xc),1)))) \n",
    "    print 'Xc labeled shape ', Xc.shape\n",
    "    \n",
    "    # Salving in file on the folder </preproc/labeled>\n",
    "    if \"v\" in x:\n",
    "        np.save('./preproc/labeled_bv/'+x[:9]+'_tsl', Xc, allow_pickle=False)\n",
    "        print '\\n'+x[:9]+'_tsl'\n",
    "        DATAv.append(x[:9]+'_tsl.npy')\n",
    "    else:\n",
    "        np.save('./preproc/labeled_bt/'+x[:8]+'_tsl', Xc, allow_pickle=False)\n",
    "        print '\\n'+x[:8]+'_tsl'\n",
    "        DATA.append(x[:8]+'_tsl.npy')\n",
    "        "
   ]
  },
  {
   "cell_type": "code",
   "execution_count": 26,
   "metadata": {
    "scrolled": false
   },
   "outputs": [],
   "source": [
    "if platform == \"linux\" or platform == \"linux2\":\n",
    "    DATA_hs = os.listdir('preproc/stacked_t')\n",
    "elif platform == \"win32\":\n",
    "    DATA_hs = os.listdir('C:\\Users\\jorge.junior\\Documents\\GitHub\\PKS_ML\\preproc\\stacked_t')\n",
    "    \n",
    "list.sort(DATA_hs)"
   ]
  },
  {
   "cell_type": "code",
   "execution_count": 30,
   "metadata": {},
   "outputs": [
    {
     "name": "stdout",
     "output_type": "stream",
     "text": [
      "pi06.1.1 9\n",
      "pi06.1.2 9\n",
      "pi06.1.3 9\n",
      "pi07.2.1 9\n",
      "pi07.2.2 9\n",
      "pi07.2.3 9\n",
      "pi09.1.1 9\n",
      "pi09.1.2 9\n",
      "pi09.1.3 9\n",
      "pi17.1.1 1\n",
      "pi17.1.2 1\n",
      "pi17.1.3 1\n",
      "pr06.1.1 9\n",
      "pr06.1.2 9\n",
      "pr06.1.3 9\n",
      "pr06.2.1 9\n",
      "pr06.2.2 9\n",
      "pr06.2.3 9\n",
      "pr07.1.1 9\n",
      "pr07.1.2 9\n",
      "pr07.1.3 9\n",
      "pr09.1.1 9\n",
      "pr09.1.2 9\n",
      "pr09.1.3 9\n",
      "pr09.2.1 9\n",
      "pr09.2.2 9\n",
      "pr09.2.3 9\n",
      "pr17.1.1 1\n",
      "pr17.1.2 1\n",
      "pr17.1.3 1\n",
      "pr17.2.1 1\n",
      "pr17.2.2 1\n",
      "pr17.2.3 1\n"
     ]
    }
   ],
   "source": [
    "#l=[2,2,2, 3,3,3, 4,4,4, 1,1,1, 2,2,2,2,2,2, 3,3,3, 4,4,4,4,4,4, 1,1,1,1,1,1]\n",
    "l=[9,9,9, 9,9,9, 9,9,9, 1,1,1, 9,9,9, 9,9,9, 9,9,9, 9,9,9, 9,9,9, 1,1,1, 1,1,1]\n",
    "\n",
    "for x, y in zip(DATA_hs, l):\n",
    "    print x[:8],y"
   ]
  },
  {
   "cell_type": "code",
   "execution_count": 32,
   "metadata": {
    "scrolled": true
   },
   "outputs": [
    {
     "name": "stdout",
     "output_type": "stream",
     "text": [
      "\n",
      "Xc initial shape  (4617, 20)\n",
      "[ 0.69698374  0.13835087  0.09718875  0.03074997  0.02423132  0.00579645\n",
      "  0.00513261  0.00147342]\n",
      "Xc PCA shape  (4617, 8)\n",
      "Xc labeled shape  (4617, 9)\n",
      "\n",
      "pi06.1.1_tsl\n",
      "\n",
      "Xc initial shape  (4617, 20)\n",
      "[ 0.78863911  0.09970864  0.06888451  0.02031511  0.01560399  0.00307954\n",
      "  0.00287261  0.00083242]\n",
      "Xc PCA shape  (4617, 8)\n",
      "Xc labeled shape  (4617, 9)\n",
      "\n",
      "pi06.1.2_tsl\n",
      "\n",
      "Xc initial shape  (4617, 20)\n",
      "[  9.16154674e-01   3.45847902e-02   2.58091911e-02   1.68450515e-02\n",
      "   3.74700615e-03   1.35146036e-03   1.19466846e-03   2.94751180e-04]\n",
      "Xc PCA shape  (4617, 8)\n",
      "Xc labeled shape  (4617, 9)\n",
      "\n",
      "pi06.1.3_tsl\n",
      "\n",
      "Xc initial shape  (3951, 20)\n",
      "[ 0.56881013  0.23738481  0.08121453  0.05039322  0.03840582  0.01009115\n",
      "  0.00812802  0.00550022]\n",
      "Xc PCA shape  (3951, 8)\n",
      "Xc labeled shape  (3951, 9)\n",
      "\n",
      "pi07.2.1_tsl\n",
      "\n",
      "Xc initial shape  (3951, 20)\n",
      "[ 0.43778672  0.30794917  0.11250046  0.06612257  0.04199453  0.01233423\n",
      "  0.01168907  0.00952323]\n",
      "Xc PCA shape  (3951, 8)\n",
      "Xc labeled shape  (3951, 9)\n",
      "\n",
      "pi07.2.2_tsl\n",
      "\n",
      "Xc initial shape  (3951, 20)\n",
      "[ 0.66384168  0.17914579  0.06429739  0.04392893  0.03029928  0.00739924\n",
      "  0.00607687  0.00495463]\n",
      "Xc PCA shape  (3951, 8)\n",
      "Xc labeled shape  (3951, 9)\n",
      "\n",
      "pi07.2.3_tsl\n",
      "\n",
      "Xc initial shape  (3951, 20)\n",
      "[ 0.35911595  0.20523298  0.19219041  0.14042554  0.07494953  0.01760646\n",
      "  0.00663013  0.003712  ]\n",
      "Xc PCA shape  (3951, 8)\n",
      "Xc labeled shape  (3951, 9)\n",
      "\n",
      "pi09.1.1_tsl\n",
      "\n",
      "Xc initial shape  (3951, 20)\n",
      "[ 0.45545037  0.23538317  0.1266605   0.09590799  0.05436219  0.01962721\n",
      "  0.00676002  0.00572436]\n",
      "Xc PCA shape  (3951, 8)\n",
      "Xc labeled shape  (3951, 9)\n",
      "\n",
      "pi09.1.2_tsl\n",
      "\n",
      "Xc initial shape  (3951, 20)\n",
      "[ 0.52914153  0.16082288  0.12710548  0.09649696  0.06329334  0.01262073\n",
      "  0.00680185  0.00362557]\n",
      "Xc PCA shape  (3951, 8)\n",
      "Xc labeled shape  (3951, 9)\n",
      "\n",
      "pi09.1.3_tsl\n",
      "\n",
      "Xc initial shape  (3951, 20)\n",
      "[ 0.31602164  0.24855549  0.19614828  0.15537389  0.03974771  0.03327239\n",
      "  0.00960019  0.00109246]\n",
      "Xc PCA shape  (3951, 8)\n",
      "Xc labeled shape  (3951, 9)\n",
      "\n",
      "pi17.1.1_tsl\n",
      "\n",
      "Xc initial shape  (3951, 20)\n",
      "[ 0.36747141  0.2122992   0.15901588  0.13690525  0.0731456   0.03490821\n",
      "  0.01502437  0.00105211]\n",
      "Xc PCA shape  (3951, 8)\n",
      "Xc labeled shape  (3951, 9)\n",
      "\n",
      "pi17.1.2_tsl\n",
      "\n",
      "Xc initial shape  (3951, 20)\n",
      "[  8.08113088e-01   7.58719381e-02   5.85240872e-02   2.88848522e-02\n",
      "   1.35234935e-02   1.16743776e-02   3.05997942e-03   3.00915185e-04]\n",
      "Xc PCA shape  (3951, 8)\n",
      "Xc labeled shape  (3951, 9)\n",
      "\n",
      "pi17.1.3_tsl\n",
      "\n",
      "Xc initial shape  (3951, 20)\n",
      "[ 0.64188408  0.21882295  0.08199484  0.01830283  0.01489269  0.01009606\n",
      "  0.00827021  0.00569312]\n",
      "Xc PCA shape  (3951, 8)\n",
      "Xc labeled shape  (3951, 9)\n",
      "\n",
      "pr06.1.1_tsl\n",
      "\n",
      "Xc initial shape  (3951, 20)\n",
      "[ 0.82206279  0.07571957  0.07220809  0.01147891  0.00632862  0.00561143\n",
      "  0.00344094  0.00312871]\n",
      "Xc PCA shape  (3951, 8)\n",
      "Xc labeled shape  (3951, 9)\n",
      "\n",
      "pr06.1.2_tsl\n",
      "\n",
      "Xc initial shape  (3951, 20)\n",
      "[ 0.74397259  0.16352423  0.03500326  0.03319722  0.00773177  0.00666154\n",
      "  0.00582513  0.00405472]\n",
      "Xc PCA shape  (3951, 8)\n",
      "Xc labeled shape  (3951, 9)\n",
      "\n",
      "pr06.1.3_tsl\n",
      "\n",
      "Xc initial shape  (3951, 20)\n",
      "[ 0.53956532  0.29230511  0.06831415  0.03065719  0.02556911  0.01904035\n",
      "  0.01527406  0.00917357]\n",
      "Xc PCA shape  (3951, 8)\n",
      "Xc labeled shape  (3951, 9)\n",
      "\n",
      "pr06.2.1_tsl\n",
      "\n",
      "Xc initial shape  (3951, 20)\n",
      "[ 0.80055914  0.12973276  0.02765841  0.01241099  0.01113782  0.00693032\n",
      "  0.00632186  0.00521022]\n",
      "Xc PCA shape  (3951, 8)\n",
      "Xc labeled shape  (3951, 9)\n",
      "\n",
      "pr06.2.2_tsl\n",
      "\n",
      "Xc initial shape  (3951, 20)\n",
      "[ 0.73742571  0.16912076  0.03670331  0.02514582  0.01250164  0.00992191\n",
      "  0.00528173  0.00385893]\n",
      "Xc PCA shape  (3951, 8)\n",
      "Xc labeled shape  (3951, 9)\n",
      "\n",
      "pr06.2.3_tsl\n",
      "\n",
      "Xc initial shape  (3951, 20)\n",
      "[ 0.55937598  0.18940007  0.13849573  0.0898348   0.01291665  0.00571628\n",
      "  0.00243358  0.00168749]\n",
      "Xc PCA shape  (3951, 8)\n",
      "Xc labeled shape  (3951, 9)\n",
      "\n",
      "pr07.1.1_tsl\n",
      "\n",
      "Xc initial shape  (3951, 20)\n",
      "[ 0.49420194  0.20255913  0.1846107   0.09356162  0.0090426   0.00859281\n",
      "  0.00441534  0.00285784]\n",
      "Xc PCA shape  (3951, 8)\n",
      "Xc labeled shape  (3951, 9)\n",
      "\n",
      "pr07.1.2_tsl\n",
      "\n",
      "Xc initial shape  (3951, 20)\n",
      "[ 0.73117786  0.11211073  0.08913081  0.04890541  0.00994291  0.00510326\n",
      "  0.00218424  0.00139147]\n",
      "Xc PCA shape  (3951, 8)\n",
      "Xc labeled shape  (3951, 9)\n",
      "\n",
      "pr07.1.3_tsl\n",
      "\n",
      "Xc initial shape  (3951, 20)\n",
      "[ 0.38476217  0.26551395  0.23863519  0.06734426  0.03128177  0.00636617\n",
      "  0.00486706  0.00117946]\n",
      "Xc PCA shape  (3951, 8)\n",
      "Xc labeled shape  (3951, 9)\n",
      "\n",
      "pr09.1.1_tsl\n",
      "\n",
      "Xc initial shape  (3951, 20)\n",
      "[ 0.40235727  0.28431782  0.16738168  0.11350521  0.01612562  0.00931733\n",
      "  0.00518718  0.00173543]\n",
      "Xc PCA shape  (3951, 8)\n",
      "Xc labeled shape  (3951, 9)\n",
      "\n",
      "pr09.1.2_tsl\n",
      "\n",
      "Xc initial shape  (3951, 20)\n",
      "[ 0.6419455   0.16909708  0.09977853  0.06054419  0.01329578  0.0079242\n",
      "  0.00592803  0.00142711]\n",
      "Xc PCA shape  (3951, 8)\n",
      "Xc labeled shape  (3951, 9)\n",
      "\n",
      "pr09.1.3_tsl\n",
      "\n",
      "Xc initial shape  (3951, 20)\n",
      "[ 0.45123134  0.23026757  0.1917361   0.09762835  0.01248028  0.00971931\n",
      "  0.00559888  0.00127333]\n",
      "Xc PCA shape  (3951, 8)\n",
      "Xc labeled shape  (3951, 9)\n",
      "\n",
      "pr09.2.1_tsl\n",
      "\n",
      "Xc initial shape  (3951, 20)\n",
      "[ 0.41592387  0.27975486  0.15164233  0.10389261  0.01881372  0.01571708\n",
      "  0.01110042  0.00303248]\n",
      "Xc PCA shape  (3951, 8)\n",
      "Xc labeled shape  (3951, 9)\n",
      "\n",
      "pr09.2.2_tsl\n",
      "\n",
      "Xc initial shape  (3951, 20)\n",
      "[ 0.53165441  0.24930882  0.10888085  0.07747348  0.01907945  0.00682658\n",
      "  0.00519767  0.00153212]\n",
      "Xc PCA shape  (3951, 8)\n",
      "Xc labeled shape  (3951, 9)\n",
      "\n",
      "pr09.2.3_tsl\n",
      "\n",
      "Xc initial shape  (4617, 20)\n",
      "[  7.60404442e-01   1.81544199e-01   2.39156405e-02   1.33724650e-02\n",
      "   1.31742505e-02   4.79883048e-03   2.02214270e-03   6.43635691e-04]\n",
      "Xc PCA shape  (4617, 8)\n",
      "Xc labeled shape  (4617, 9)\n",
      "\n",
      "pr17.1.1_tsl\n",
      "\n",
      "Xc initial shape  (4617, 20)\n",
      "[  7.45740184e-01   1.96452512e-01   2.19859197e-02   1.53045818e-02\n",
      "   1.19698766e-02   5.57302052e-03   2.12342589e-03   7.21381464e-04]\n",
      "Xc PCA shape  (4617, 8)\n",
      "Xc labeled shape  (4617, 9)\n",
      "\n",
      "pr17.1.2_tsl\n",
      "\n",
      "Xc initial shape  (4617, 20)\n",
      "[  8.65168521e-01   7.51612981e-02   4.48295967e-02   6.06872226e-03\n",
      "   4.47866644e-03   3.13141847e-03   8.18014199e-04   2.91137707e-04]\n",
      "Xc PCA shape  (4617, 8)\n",
      "Xc labeled shape  (4617, 9)\n",
      "\n",
      "pr17.1.3_tsl\n",
      "\n",
      "Xc initial shape  (3951, 20)\n",
      "[  7.38787714e-01   1.38008813e-01   6.50552776e-02   3.65482999e-02\n",
      "   1.26556520e-02   6.32854348e-03   1.93150708e-03   5.73408323e-04]\n",
      "Xc PCA shape  (3951, 8)\n",
      "Xc labeled shape  (3951, 9)\n",
      "\n",
      "pr17.2.1_tsl\n",
      "\n",
      "Xc initial shape  (3951, 20)\n",
      "[ 0.70272143  0.1693827   0.06358569  0.03571159  0.01531211  0.00964469\n",
      "  0.0026277   0.00087181]\n",
      "Xc PCA shape  (3951, 8)\n",
      "Xc labeled shape  (3951, 9)\n",
      "\n",
      "pr17.2.2_tsl\n",
      "\n",
      "Xc initial shape  (3951, 20)\n",
      "[  8.06672863e-01   9.08397178e-02   4.45838145e-02   3.62240711e-02\n",
      "   1.25141666e-02   7.61378518e-03   1.13101939e-03   3.45362321e-04]\n",
      "Xc PCA shape  (3951, 8)\n",
      "Xc labeled shape  (3951, 9)\n",
      "\n",
      "pr17.2.3_tsl\n",
      "Tempo total para o envelopamento: 0.01 min\n"
     ]
    }
   ],
   "source": [
    "#Grupo total\n",
    "start = timeit.default_timer()\n",
    "\n",
    "NUM_SAMPLES = 500\n",
    "#l=[2,2,2, 3,3,3, 4,4,4, 1,1,1, 2,2,2,2,2,2, 3,3,3, 4,4,4,4,4,4, 1,1,1,1,1,1]\n",
    "l=[9,9,9, 9,9,9, 9,9,9, 1,1,1, 9,9,9, 9,9,9, 9,9,9, 9,9,9, 9,9,9, 1,1,1, 1,1,1]\n",
    "DATA = []\n",
    "\n",
    "for x, y in zip(DATA_hs, l):\n",
    "    proccess_data(x,DATA,NUM_SAMPLES,y)\n",
    "    \n",
    "stop = timeit.default_timer()\n",
    "ti = stop - start \n",
    "print ('Tempo total para o envelopamento: %.2f min' % (ti/60))"
   ]
  },
  {
   "cell_type": "code",
   "execution_count": 33,
   "metadata": {},
   "outputs": [
    {
     "data": {
      "text/plain": [
       "[0.99981204454303052,\n",
       " 0.99982202472942305,\n",
       " 0.99984196507909906,\n",
       " 0.99985771689783731,\n",
       " 0.99986058191219418,\n",
       " 0.99986300227588942,\n",
       " 0.99987090190968708,\n",
       " 0.99987560604751269,\n",
       " 0.99987579589704367,\n",
       " 0.99987737036095958]"
      ]
     },
     "execution_count": 33,
     "metadata": {},
     "output_type": "execute_result"
    }
   ],
   "source": [
    "#print min(entropy)\n",
    "import heapq\n",
    "\n",
    "elements = heapq.nsmallest(10, entropy)\n",
    "elements"
   ]
  },
  {
   "cell_type": "code",
   "execution_count": 34,
   "metadata": {},
   "outputs": [
    {
     "data": {
      "text/plain": [
       "['pi06.1.2_tsl.npy',\n",
       " 'pi06.1.3_tsl.npy',\n",
       " 'pi07.2.1_tsl.npy',\n",
       " 'pi07.2.2_tsl.npy',\n",
       " 'pi07.2.3_tsl.npy',\n",
       " 'pi09.1.1_tsl.npy',\n",
       " 'pi09.1.2_tsl.npy',\n",
       " 'pi09.1.3_tsl.npy',\n",
       " 'pi17.1.1_tsl.npy',\n",
       " 'pi17.1.2_tsl.npy',\n",
       " 'pi17.1.3_tsl.npy',\n",
       " 'pr06.1.1_tsl.npy',\n",
       " 'pr06.1.2_tsl.npy',\n",
       " 'pr06.1.3_tsl.npy',\n",
       " 'pr06.2.1_tsl.npy',\n",
       " 'pr06.2.2_tsl.npy',\n",
       " 'pr06.2.3_tsl.npy',\n",
       " 'pr07.1.1_tsl.npy',\n",
       " 'pr07.1.2_tsl.npy',\n",
       " 'pr07.1.3_tsl.npy',\n",
       " 'pr09.1.1_tsl.npy',\n",
       " 'pr09.1.2_tsl.npy',\n",
       " 'pr09.1.3_tsl.npy',\n",
       " 'pr09.2.1_tsl.npy',\n",
       " 'pr09.2.2_tsl.npy',\n",
       " 'pr09.2.3_tsl.npy',\n",
       " 'pr17.1.1_tsl.npy',\n",
       " 'pr17.1.2_tsl.npy',\n",
       " 'pr17.1.3_tsl.npy',\n",
       " 'pr17.2.1_tsl.npy']"
      ]
     },
     "execution_count": 34,
     "metadata": {},
     "output_type": "execute_result"
    }
   ],
   "source": [
    "DATA[1:-2]"
   ]
  },
  {
   "cell_type": "markdown",
   "metadata": {},
   "source": [
    "---"
   ]
  },
  {
   "cell_type": "code",
   "execution_count": 45,
   "metadata": {},
   "outputs": [],
   "source": [
    "if platform == \"linux\" or platform == \"linux2\":\n",
    "    DATAv_hs = os.listdir('preproc/stacked_v')\n",
    "elif platform == \"win32\":\n",
    "    DATAv_hs = os.listdir('C:\\Users\\jorge.junior\\Documents\\GitHub\\PKS_ML\\preproc\\stacked_v')\n",
    "    \n",
    "list.sort(DATAv_hs)"
   ]
  },
  {
   "cell_type": "code",
   "execution_count": 46,
   "metadata": {},
   "outputs": [
    {
     "data": {
      "text/plain": [
       "['piv06.2.1_hs.npy',\n",
       " 'piv06.2.2_hs.npy',\n",
       " 'piv06.2.3_hs.npy',\n",
       " 'piv07.3.1_hs.npy',\n",
       " 'piv07.3.2_hs.npy',\n",
       " 'piv07.3.3_hs.npy',\n",
       " 'piv09.2.1_hs.npy',\n",
       " 'piv09.2.2_hs.npy',\n",
       " 'piv09.2.3_hs.npy',\n",
       " 'piv17.3.1_hs.npy',\n",
       " 'piv17.3.2_hs.npy',\n",
       " 'piv17.3.3_hs.npy',\n",
       " 'prv06.3.1_hs.npy',\n",
       " 'prv06.3.2_hs.npy',\n",
       " 'prv06.3.3_hs.npy',\n",
       " 'prv07.2.1_hs.npy',\n",
       " 'prv07.2.2_hs.npy',\n",
       " 'prv07.2.3_hs.npy',\n",
       " 'prv09.3.1_hs.npy',\n",
       " 'prv09.3.2_hs.npy',\n",
       " 'prv09.3.3_hs.npy',\n",
       " 'prv17.3.1_hs.npy',\n",
       " 'prv17.3.2_hs.npy',\n",
       " 'prv17.3.3_hs.npy']"
      ]
     },
     "execution_count": 46,
     "metadata": {},
     "output_type": "execute_result"
    }
   ],
   "source": [
    "DATAv_hs"
   ]
  },
  {
   "cell_type": "code",
   "execution_count": 81,
   "metadata": {},
   "outputs": [],
   "source": [
    "#l=[2,2,2, 3,3,3, 4,4,4, 1,1,1, 2,2,2, 3,3,3, 4,4,4, 1,1,1]\n",
    "l=[9,9,9, 9,9,9, 9,9,9, 1,1,1, 9,9,9, 9,9,9, 9,9,9, 1,1,1]\n",
    "\n",
    "for x, y in zip(DATAv_hs, l):\n",
    "    print x[:9],y"
   ]
  },
  {
   "cell_type": "code",
   "execution_count": 49,
   "metadata": {
    "scrolled": true
   },
   "outputs": [
    {
     "name": "stdout",
     "output_type": "stream",
     "text": [
      "\n",
      "Xc initial shape  (3951, 20)\n",
      "[ 0.77021966  0.1011548   0.06235438  0.04254813  0.01238205  0.00557211\n",
      "  0.00449661  0.00120495]\n",
      "Xc PCA shape  (3951, 8)\n",
      "Xc labeled shape  (3951, 9)\n",
      "\n",
      "piv06.2.1_tsl\n",
      "\n",
      "Xc initial shape  (3951, 20)\n",
      "[ 0.79596298  0.07427408  0.06536065  0.04041643  0.01114117  0.00646217\n",
      "  0.00492026  0.00140345]\n",
      "Xc PCA shape  (3951, 8)\n",
      "Xc labeled shape  (3951, 9)\n",
      "\n",
      "piv06.2.2_tsl\n",
      "\n",
      "Xc initial shape  (3951, 20)\n",
      "[ 0.84480807  0.08341571  0.03343752  0.02264072  0.00763743  0.00371036\n",
      "  0.00332266  0.00099275]\n",
      "Xc PCA shape  (3951, 8)\n",
      "Xc labeled shape  (3951, 9)\n",
      "\n",
      "piv06.2.3_tsl\n",
      "\n",
      "Xc initial shape  (3951, 20)\n",
      "[ 0.43767846  0.31251627  0.10372691  0.07071281  0.0437634   0.01312103\n",
      "  0.0097703   0.00861804]\n",
      "Xc PCA shape  (3951, 8)\n",
      "Xc labeled shape  (3951, 9)\n",
      "\n",
      "piv07.3.1_tsl\n",
      "\n",
      "Xc initial shape  (3951, 20)\n",
      "[ 0.58852754  0.2000206   0.10252591  0.04363625  0.02757293  0.01886448\n",
      "  0.01135102  0.00741125]\n",
      "Xc PCA shape  (3951, 8)\n",
      "Xc labeled shape  (3951, 9)\n",
      "\n",
      "piv07.3.2_tsl\n",
      "\n",
      "Xc initial shape  (3951, 20)\n",
      "[ 0.79910402  0.11106105  0.03546766  0.02856423  0.01406833  0.00518381\n",
      "  0.0036322   0.00288212]\n",
      "Xc PCA shape  (3951, 8)\n",
      "Xc labeled shape  (3951, 9)\n",
      "\n",
      "piv07.3.3_tsl\n",
      "\n",
      "Xc initial shape  (3951, 20)\n",
      "[ 0.29928615  0.2728833   0.23708506  0.1009469   0.06175451  0.0158109\n",
      "  0.00733427  0.00480114]\n",
      "Xc PCA shape  (3951, 8)\n",
      "Xc labeled shape  (3951, 9)\n",
      "\n",
      "piv09.2.1_tsl\n",
      "\n",
      "Xc initial shape  (3951, 20)\n",
      "[ 0.43555519  0.20947306  0.14257524  0.11464591  0.07068017  0.01493548\n",
      "  0.00758157  0.00445548]\n",
      "Xc PCA shape  (3951, 8)\n",
      "Xc labeled shape  (3951, 9)\n",
      "\n",
      "piv09.2.2_tsl\n",
      "\n",
      "Xc initial shape  (3951, 20)\n",
      "[ 0.44255888  0.23517988  0.15464688  0.08963774  0.04904147  0.01611757\n",
      "  0.00862463  0.00409321]\n",
      "Xc PCA shape  (3951, 8)\n",
      "Xc labeled shape  (3951, 9)\n",
      "\n",
      "piv09.2.3_tsl\n",
      "\n",
      "Xc initial shape  (3951, 20)\n",
      "[ 0.39089664  0.23871553  0.17763963  0.0918285   0.05223774  0.02866942\n",
      "  0.01861697  0.00123157]\n",
      "Xc PCA shape  (3951, 8)\n",
      "Xc labeled shape  (3951, 9)\n",
      "\n",
      "piv17.3.1_tsl\n",
      "\n",
      "Xc initial shape  (3951, 20)\n",
      "[ 0.57799437  0.16148138  0.09491883  0.0871161   0.05930961  0.00942709\n",
      "  0.00900595  0.00064441]\n",
      "Xc PCA shape  (3951, 8)\n",
      "Xc labeled shape  (3951, 9)\n",
      "\n",
      "piv17.3.2_tsl\n",
      "\n",
      "Xc initial shape  (3951, 20)\n",
      "[  7.17601611e-01   9.44871425e-02   8.03935545e-02   6.43334517e-02\n",
      "   2.49101249e-02   1.10792142e-02   6.68931376e-03   4.23145230e-04]\n",
      "Xc PCA shape  (3951, 8)\n",
      "Xc labeled shape  (3951, 9)\n",
      "\n",
      "piv17.3.3_tsl\n",
      "\n",
      "Xc initial shape  (3951, 20)\n",
      "[ 0.77885664  0.1218473   0.02845146  0.02131454  0.01585971  0.01283129\n",
      "  0.01121086  0.00956116]\n",
      "Xc PCA shape  (3951, 8)\n",
      "Xc labeled shape  (3951, 9)\n",
      "\n",
      "prv06.3.1_tsl\n",
      "\n",
      "Xc initial shape  (3951, 20)\n",
      "[ 0.69942434  0.19722464  0.04148819  0.02055242  0.01643929  0.01063169\n",
      "  0.00773531  0.00645005]\n",
      "Xc PCA shape  (3951, 8)\n",
      "Xc labeled shape  (3951, 9)\n",
      "\n",
      "prv06.3.2_tsl\n",
      "\n",
      "Xc initial shape  (3951, 20)\n",
      "[ 0.72470948  0.19613156  0.03184912  0.02150268  0.01059238  0.00724176\n",
      "  0.00457709  0.00336459]\n",
      "Xc PCA shape  (3951, 8)\n",
      "Xc labeled shape  (3951, 9)\n",
      "\n",
      "prv06.3.3_tsl\n",
      "\n",
      "Xc initial shape  (3951, 20)\n",
      "[ 0.44002297  0.26022653  0.16493388  0.10250469  0.01153311  0.00890569\n",
      "  0.00690482  0.00482732]\n",
      "Xc PCA shape  (3951, 8)\n",
      "Xc labeled shape  (3951, 9)\n",
      "\n",
      "prv07.2.1_tsl\n",
      "\n",
      "Xc initial shape  (3951, 20)\n",
      "[ 0.42630853  0.28903755  0.15366938  0.09692995  0.01197283  0.01023223\n",
      "  0.00715907  0.00454585]\n",
      "Xc PCA shape  (3951, 8)\n",
      "Xc labeled shape  (3951, 9)\n",
      "\n",
      "prv07.2.2_tsl\n",
      "\n",
      "Xc initial shape  (3951, 20)\n",
      "[ 0.46406441  0.2353903   0.16836367  0.09492149  0.01584962  0.0101411\n",
      "  0.00649974  0.00461668]\n",
      "Xc PCA shape  (3951, 8)\n",
      "Xc labeled shape  (3951, 9)\n",
      "\n",
      "prv07.2.3_tsl\n",
      "\n",
      "Xc initial shape  (4617, 20)\n",
      "[ 0.52828911  0.17987308  0.16818861  0.09207328  0.0136169   0.01097014\n",
      "  0.00533948  0.00156152]\n",
      "Xc PCA shape  (4617, 8)\n",
      "Xc labeled shape  (4617, 9)\n",
      "\n",
      "prv09.3.1_tsl\n",
      "\n",
      "Xc initial shape  (4617, 20)\n",
      "[ 0.50076039  0.17995166  0.15885249  0.12861378  0.01336994  0.00886113\n",
      "  0.00804081  0.00145806]\n",
      "Xc PCA shape  (4617, 8)\n",
      "Xc labeled shape  (4617, 9)\n",
      "\n",
      "prv09.3.2_tsl\n",
      "\n",
      "Xc initial shape  (4617, 20)\n",
      "[  7.22370461e-01   1.41704224e-01   8.42861669e-02   3.55601412e-02\n",
      "   7.04687593e-03   4.60625565e-03   3.75275498e-03   6.32548325e-04]\n",
      "Xc PCA shape  (4617, 8)\n",
      "Xc labeled shape  (4617, 9)\n",
      "\n",
      "prv09.3.3_tsl\n",
      "\n",
      "Xc initial shape  (3951, 20)\n",
      "[  7.54299503e-01   1.45218160e-01   5.20851465e-02   2.73281876e-02\n",
      "   1.29179083e-02   5.09574736e-03   2.20111944e-03   7.35269068e-04]\n",
      "Xc PCA shape  (3951, 8)\n",
      "Xc labeled shape  (3951, 9)\n",
      "\n",
      "prv17.3.1_tsl\n",
      "\n",
      "Xc initial shape  (3951, 20)\n",
      "[ 0.74419287  0.16246313  0.04279489  0.02356153  0.01780978  0.00579019\n",
      "  0.00243949  0.00080327]\n",
      "Xc PCA shape  (3951, 8)\n",
      "Xc labeled shape  (3951, 9)\n",
      "\n",
      "prv17.3.2_tsl\n",
      "\n",
      "Xc initial shape  (3951, 20)\n",
      "[  8.19118896e-01   9.88038047e-02   3.84208517e-02   2.27189137e-02\n",
      "   9.82918750e-03   9.20479988e-03   1.35270938e-03   4.71653459e-04]\n",
      "Xc PCA shape  (3951, 8)\n",
      "Xc labeled shape  (3951, 9)\n",
      "\n",
      "prv17.3.3_tsl\n",
      "Tempo total para o envelopamento: 0.00 min\n"
     ]
    }
   ],
   "source": [
    "#Grupo total\n",
    "start = timeit.default_timer()\n",
    "\n",
    "NUM_SAMPLES = 500\n",
    "#l=[2,2,2, 3,3,3, 4,4,4, 1,1,1, 2,2,2, 3,3,3, 4,4,4, 1,1,1]\n",
    "l=[9,9,9, 9,9,9, 9,9,9, 1,1,1, 9,9,9, 9,9,9, 9,9,9, 1,1,1]\n",
    "\n",
    "DATAv = []\n",
    "\n",
    "for x, y in zip(DATAv_hs, l):\n",
    "    proccess_data(x,DATAv,NUM_SAMPLES,y)\n",
    "    \n",
    "stop = timeit.default_timer()\n",
    "ti = stop - start \n",
    "print ('Tempo total para o envelopamento: %.2f min' % (ti/60))"
   ]
  },
  {
   "cell_type": "code",
   "execution_count": 50,
   "metadata": {},
   "outputs": [
    {
     "data": {
      "text/plain": [
       "[0.99981204454303052,\n",
       " 0.99982202472942305,\n",
       " 0.99983600290328389,\n",
       " 0.99984196507909906,\n",
       " 0.99984700620000977,\n",
       " 0.999855141963503,\n",
       " 0.99985539010298918,\n",
       " 0.99985771689783731,\n",
       " 0.99985901179438164,\n",
       " 0.99986058191219418]"
      ]
     },
     "execution_count": 50,
     "metadata": {},
     "output_type": "execute_result"
    }
   ],
   "source": [
    "#print min(entropy)\n",
    "import heapq\n",
    "\n",
    "elements = heapq.nsmallest(10, entropy)\n",
    "elements"
   ]
  },
  {
   "cell_type": "code",
   "execution_count": 51,
   "metadata": {
    "scrolled": false
   },
   "outputs": [
    {
     "data": {
      "text/plain": [
       "['pi06.1.1_tsl.npy',\n",
       " 'pi06.1.2_tsl.npy',\n",
       " 'pi06.1.3_tsl.npy',\n",
       " 'pi07.2.1_tsl.npy',\n",
       " 'pi07.2.2_tsl.npy',\n",
       " 'pi07.2.3_tsl.npy',\n",
       " 'pi09.1.1_tsl.npy',\n",
       " 'pi09.1.2_tsl.npy',\n",
       " 'pi09.1.3_tsl.npy',\n",
       " 'pi17.1.1_tsl.npy',\n",
       " 'pi17.1.2_tsl.npy',\n",
       " 'pi17.1.3_tsl.npy',\n",
       " 'pr06.1.1_tsl.npy',\n",
       " 'pr06.1.2_tsl.npy',\n",
       " 'pr06.1.3_tsl.npy',\n",
       " 'pr06.2.1_tsl.npy',\n",
       " 'pr06.2.2_tsl.npy',\n",
       " 'pr06.2.3_tsl.npy',\n",
       " 'pr07.1.1_tsl.npy',\n",
       " 'pr07.1.2_tsl.npy',\n",
       " 'pr07.1.3_tsl.npy',\n",
       " 'pr09.1.1_tsl.npy',\n",
       " 'pr09.1.2_tsl.npy',\n",
       " 'pr09.1.3_tsl.npy',\n",
       " 'pr09.2.1_tsl.npy',\n",
       " 'pr09.2.2_tsl.npy',\n",
       " 'pr09.2.3_tsl.npy',\n",
       " 'pr17.1.1_tsl.npy',\n",
       " 'pr17.1.2_tsl.npy',\n",
       " 'pr17.1.3_tsl.npy',\n",
       " 'pr17.2.1_tsl.npy',\n",
       " 'pr17.2.2_tsl.npy',\n",
       " 'pr17.2.3_tsl.npy']"
      ]
     },
     "execution_count": 51,
     "metadata": {},
     "output_type": "execute_result"
    }
   ],
   "source": [
    "DATA"
   ]
  },
  {
   "cell_type": "code",
   "execution_count": 52,
   "metadata": {},
   "outputs": [
    {
     "data": {
      "text/plain": [
       "['piv06.2.1_tsl.npy',\n",
       " 'piv06.2.2_tsl.npy',\n",
       " 'piv06.2.3_tsl.npy',\n",
       " 'piv07.3.1_tsl.npy',\n",
       " 'piv07.3.2_tsl.npy',\n",
       " 'piv07.3.3_tsl.npy',\n",
       " 'piv09.2.1_tsl.npy',\n",
       " 'piv09.2.2_tsl.npy',\n",
       " 'piv09.2.3_tsl.npy',\n",
       " 'piv17.3.1_tsl.npy',\n",
       " 'piv17.3.2_tsl.npy',\n",
       " 'piv17.3.3_tsl.npy',\n",
       " 'prv06.3.1_tsl.npy',\n",
       " 'prv06.3.2_tsl.npy',\n",
       " 'prv06.3.3_tsl.npy',\n",
       " 'prv07.2.1_tsl.npy',\n",
       " 'prv07.2.2_tsl.npy',\n",
       " 'prv07.2.3_tsl.npy',\n",
       " 'prv09.3.1_tsl.npy',\n",
       " 'prv09.3.2_tsl.npy',\n",
       " 'prv09.3.3_tsl.npy',\n",
       " 'prv17.3.1_tsl.npy',\n",
       " 'prv17.3.2_tsl.npy',\n",
       " 'prv17.3.3_tsl.npy']"
      ]
     },
     "execution_count": 52,
     "metadata": {},
     "output_type": "execute_result"
    }
   ],
   "source": [
    "DATAv"
   ]
  },
  {
   "cell_type": "markdown",
   "metadata": {},
   "source": [
    "## Shape data"
   ]
  },
  {
   "cell_type": "code",
   "execution_count": 53,
   "metadata": {},
   "outputs": [
    {
     "name": "stdout",
     "output_type": "stream",
     "text": [
      "Vstacking DATA test on X: 1 de 33\n",
      "Vstacking DATA test on X: 2 de 33\n",
      "Vstacking DATA test on X: 3 de 33\n",
      "Vstacking DATA test on X: 4 de 33\n",
      "Vstacking DATA test on X: 5 de 33\n",
      "Vstacking DATA test on X: 6 de 33\n",
      "Vstacking DATA test on X: 7 de 33\n",
      "Vstacking DATA test on X: 8 de 33\n",
      "Vstacking DATA test on X: 9 de 33\n",
      "Vstacking DATA test on X: 10 de 33\n",
      "Vstacking DATA test on X: 11 de 33\n",
      "Vstacking DATA test on X: 12 de 33\n",
      "Vstacking DATA test on X: 13 de 33\n",
      "Vstacking DATA test on X: 14 de 33\n",
      "Vstacking DATA test on X: 15 de 33\n",
      "Vstacking DATA test on X: 16 de 33\n",
      "Vstacking DATA test on X: 17 de 33\n",
      "Vstacking DATA test on X: 18 de 33\n",
      "Vstacking DATA test on X: 19 de 33\n",
      "Vstacking DATA test on X: 20 de 33\n",
      "Vstacking DATA test on X: 21 de 33\n",
      "Vstacking DATA test on X: 22 de 33\n",
      "Vstacking DATA test on X: 23 de 33\n",
      "Vstacking DATA test on X: 24 de 33\n",
      "Vstacking DATA test on X: 25 de 33\n",
      "Vstacking DATA test on X: 26 de 33\n",
      "Vstacking DATA test on X: 27 de 33\n",
      "Vstacking DATA test on X: 28 de 33\n",
      "Vstacking DATA test on X: 29 de 33\n",
      "Vstacking DATA test on X: 30 de 33\n",
      "Vstacking DATA test on X: 31 de 33\n",
      "Vstacking DATA test on X: 32 de 33\n",
      "Creating labels vector ...\n"
     ]
    },
    {
     "data": {
      "text/plain": [
       "((134379, 8), (134379,))"
      ]
     },
     "execution_count": 53,
     "metadata": {},
     "output_type": "execute_result"
    }
   ],
   "source": [
    "cdata=0\n",
    "#Separando set de dados X, e set de labels y - Treino e Teste\n",
    "Xc = np.load(\"preproc/labeled_bt/\"+DATA[0])\n",
    "#for i in DATA[1:-2]:\n",
    "\n",
    "for i in DATA[1:]:\n",
    "    Xc = np.vstack((Xc,np.load('preproc/labeled_bt/'+i)))\n",
    "    cdata += 1\n",
    "    print (\"Vstacking DATA test on X: %i de %i\" % (cdata, len(DATA)))\n",
    "    \n",
    "X = Xc[:,0:(Xc.shape[1]-1)]\n",
    "\n",
    "print \"Creating labels vector ...\"\n",
    "\n",
    "yz = Xc[:,[(Xc.shape[1]-1)]]\n",
    "y = np.array([])\n",
    "for i in range(len(yz)):\n",
    "    y = np.hstack((y,yz[i]))\n",
    "    \n",
    "X.shape, y.shape"
   ]
  },
  {
   "cell_type": "code",
   "execution_count": 54,
   "metadata": {
    "scrolled": true
   },
   "outputs": [
    {
     "data": {
      "text/plain": [
       "array([ 1.,  9.])"
      ]
     },
     "execution_count": 54,
     "metadata": {},
     "output_type": "execute_result"
    }
   ],
   "source": [
    "np.unique(y)"
   ]
  },
  {
   "cell_type": "code",
   "execution_count": 55,
   "metadata": {},
   "outputs": [],
   "source": [
    "#Dividindo os dados em sets de treino, test e validação\n",
    "from sklearn.model_selection import train_test_split\n",
    "X_train, X_test, y_train, y_test = train_test_split(X, y, test_size=0.3, random_state=1)\n",
    "\n",
    "#X_test, X_validate, y_test, y_validate = train_test_split(X_test_p, y_test_p, test_size=0.5, random_state=1)"
   ]
  },
  {
   "cell_type": "code",
   "execution_count": 56,
   "metadata": {},
   "outputs": [
    {
     "name": "stdout",
     "output_type": "stream",
     "text": [
      "Vstacking DATA test on X: 1 de 24\n",
      "Vstacking DATA test on X: 2 de 24\n",
      "Vstacking DATA test on X: 3 de 24\n",
      "Vstacking DATA test on X: 4 de 24\n",
      "Vstacking DATA test on X: 5 de 24\n",
      "Vstacking DATA test on X: 6 de 24\n",
      "Vstacking DATA test on X: 7 de 24\n",
      "Vstacking DATA test on X: 8 de 24\n",
      "Vstacking DATA test on X: 9 de 24\n",
      "Vstacking DATA test on X: 10 de 24\n",
      "Vstacking DATA test on X: 11 de 24\n",
      "Vstacking DATA test on X: 12 de 24\n",
      "Vstacking DATA test on X: 13 de 24\n",
      "Vstacking DATA test on X: 14 de 24\n",
      "Vstacking DATA test on X: 15 de 24\n",
      "Vstacking DATA test on X: 16 de 24\n",
      "Vstacking DATA test on X: 17 de 24\n",
      "Vstacking DATA test on X: 18 de 24\n",
      "Vstacking DATA test on X: 19 de 24\n",
      "Vstacking DATA test on X: 20 de 24\n",
      "Vstacking DATA test on X: 21 de 24\n",
      "Vstacking DATA test on X: 22 de 24\n",
      "Vstacking DATA test on X: 23 de 24\n",
      "Creating labels vector ...\n"
     ]
    },
    {
     "data": {
      "text/plain": [
       "((96822, 8), (96822,))"
      ]
     },
     "execution_count": 56,
     "metadata": {},
     "output_type": "execute_result"
    }
   ],
   "source": [
    "cdata=0\n",
    "#Separando set de dados X, e set de labels y - Validação\n",
    "Xc = np.load(\"preproc/labeled_bv/\"+DATAv[0])\n",
    "for i in DATAv[1:]:\n",
    "    Xc = np.vstack((Xc,np.load('preproc/labeled_bv/'+i))) \n",
    "    cdata += 1\n",
    "    print (\"Vstacking DATA test on X: %i de %i\" % (cdata, len(DATAv)))\n",
    "    \n",
    "X_validate = Xc[:,0:(Xc.shape[1]-1)]\n",
    "\n",
    "print \"Creating labels vector ...\"\n",
    "\n",
    "yz = Xc[:,[(Xc.shape[1]-1)]]\n",
    "y_validate = np.array([])\n",
    "for i in range(len(yz)):\n",
    "    y_validate = np.hstack((y_validate,yz[i]))\n",
    "    \n",
    "X_validate.shape, y_validate.shape"
   ]
  },
  {
   "cell_type": "code",
   "execution_count": 57,
   "metadata": {},
   "outputs": [
    {
     "data": {
      "text/plain": [
       "array([ 1.,  9.])"
      ]
     },
     "execution_count": 57,
     "metadata": {},
     "output_type": "execute_result"
    }
   ],
   "source": [
    "np.unique(y_validate)"
   ]
  },
  {
   "cell_type": "code",
   "execution_count": 58,
   "metadata": {},
   "outputs": [
    {
     "name": "stdout",
     "output_type": "stream",
     "text": [
      "(94065, 8) (40314, 8) (96822, 8) (94065,) (40314,) (96822,)\n"
     ]
    }
   ],
   "source": [
    "#Aplica normalizador P.S.: Verificar necessidade pois os dados já foram normalizados anteriormente\n",
    "from sklearn.preprocessing import StandardScaler\n",
    "sc = StandardScaler()\n",
    "sc.fit(X_train)\n",
    "X_train_std = sc.transform(X_train)\n",
    "X_test_std = sc.transform(X_test)\n",
    "X_validate_std = sc.transform(X_validate)\n",
    "\n",
    "print X_train_std.shape, X_test_std.shape, X_validate_std.shape, y_train.shape, y_test.shape, y_validate.shape"
   ]
  },
  {
   "cell_type": "code",
   "execution_count": 59,
   "metadata": {},
   "outputs": [
    {
     "data": {
      "text/plain": [
       "((96822, 8), (96822,))"
      ]
     },
     "execution_count": 59,
     "metadata": {},
     "output_type": "execute_result"
    }
   ],
   "source": [
    "X_validate_std = sc.transform(X_validate)\n",
    "\n",
    "X_validate_std.shape, y_validate.shape"
   ]
  },
  {
   "cell_type": "markdown",
   "metadata": {},
   "source": [
    "---"
   ]
  },
  {
   "cell_type": "markdown",
   "metadata": {},
   "source": [
    "## Classifiers"
   ]
  },
  {
   "cell_type": "markdown",
   "metadata": {},
   "source": [
    "### Random Forest"
   ]
  },
  {
   "cell_type": "code",
   "execution_count": 60,
   "metadata": {},
   "outputs": [
    {
     "name": "stdout",
     "output_type": "stream",
     "text": [
      "Training time\n",
      "CPU times: user 1min 14s, sys: 60 ms, total: 1min 14s\n",
      "Wall time: 20.4 s\n",
      "\n",
      "Predict time\n",
      "CPU times: user 1.15 s, sys: 0 ns, total: 1.15 s\n",
      "Wall time: 422 ms\n",
      "\n",
      "ClassifyRF accuracy:---------->91.82 %\n"
     ]
    }
   ],
   "source": [
    "#Training and test\n",
    "from sklearn.ensemble import RandomForestClassifier\n",
    "rfc = RandomForestClassifier(n_estimators=100, criterion=\"entropy\", oob_score=True, n_jobs = 4)\n",
    "\n",
    "print 'Training time'\n",
    "%time rfc = rfc.fit(X_train_std, y_train)\n",
    "\n",
    "print''\n",
    "\n",
    "print 'Predict time'\n",
    "%time rfc_y_pred = rfc.predict(X_test_std)\n",
    "\n",
    "print''\n",
    "\n",
    "from sklearn.metrics import accuracy_score\n",
    "print ('ClassifyRF accuracy:---------->%.2f %%' % (accuracy_score(y_test, rfc_y_pred)*100))"
   ]
  },
  {
   "cell_type": "markdown",
   "metadata": {},
   "source": [
    "#### Resultado anterior\n",
    "H-Y Simpliicada + n0\n",
    "\n",
    "Training time\n",
    "CPU times: user 59 s, sys: 696 ms, total: 59.7 s\n",
    "Wall time: 15.5 s\n",
    "\n",
    "Predict time\n",
    "CPU times: user 5.14 s, sys: 16 ms, total: 5.15 s\n",
    "Wall time: 1.45 s\n",
    "\n",
    "ClassifyRF accuracy:---------->73.55 %\n",
    "\n",
    "---\n",
    "\n",
    "Todas as clases\n",
    "\n",
    "Training time\n",
    "CPU times: user 59.5 s, sys: 980 ms, total: 1min\n",
    "Wall time: 16.6 s\n",
    "\n",
    "Predict time\n",
    "CPU times: user 5.46 s, sys: 32 ms, total: 5.49 s\n",
    "Wall time: 1.56 s\n",
    "\n",
    "ClassifyRF accuracy:---------->71.82 %\n",
    "\n",
    "---\n",
    "Overfited\n",
    "\n",
    "Training time\n",
    "CPU times: user 59.5 s, sys: 1.2 s, total: 1min\n",
    "Wall time: 17.2 s\n",
    "\n",
    "Predict time\n",
    "CPU times: user 9.07 s, sys: 132 ms, total: 9.2 s\n",
    "Wall time: 2.75 s\n",
    "\n",
    "ClassifyRF accuracy:---------->100.00 %"
   ]
  },
  {
   "cell_type": "markdown",
   "metadata": {},
   "source": [
    "#Salva a rede treinada para um arquivo\n",
    "joblib.dump(rfc, 'DB_INTENC/preproc/labeled/rfc_split2.pkl') "
   ]
  },
  {
   "cell_type": "markdown",
   "metadata": {
    "collapsed": true
   },
   "source": [
    "rfc = joblib.load('DB_INTENC/preproc/labeled/rfc.pkl')"
   ]
  },
  {
   "cell_type": "code",
   "execution_count": 61,
   "metadata": {},
   "outputs": [
    {
     "name": "stdout",
     "output_type": "stream",
     "text": [
      "Predict time\n",
      "CPU times: user 1.31 s, sys: 20 ms, total: 1.33 s\n",
      "Wall time: 451 ms\n",
      "\n",
      "ClassifyRF accuracy:---------->73.31 %\n"
     ]
    }
   ],
   "source": [
    "#Validation\n",
    "print 'Predict time'\n",
    "%time rfc_y_pred_v = rfc.predict(X_validate)\n",
    "\n",
    "print''\n",
    "\n",
    "from sklearn.metrics import accuracy_score\n",
    "\n",
    "result = ('ClassifyRF accuracy:---------->%.2f %%' % (accuracy_score(rfc_y_pred_v, y_validate)*100))\n",
    "\n",
    "print result"
   ]
  },
  {
   "cell_type": "markdown",
   "metadata": {},
   "source": [
    "#### Resultado anterior\n",
    "H-Y Simpliicada + n0\n",
    "\n",
    "Predict time\n",
    "CPU times: user 4.2 s, sys: 124 ms, total: 4.32 s\n",
    "Wall time: 1.23 s\n",
    "\n",
    "ClassifyRF accuracy:---------->29.25 %\n",
    "\n",
    "\n",
    "---\n",
    "\n",
    "Predict time\n",
    "CPU times: user 4.48 s, sys: 548 ms, total: 5.02 s\n",
    "Wall time: 1.45 s\n",
    "\n",
    "ClassifyRF accuracy:---------->25.98 %\n",
    "\n",
    "---\n",
    "\n",
    "Predict time\n",
    "CPU times: user 1.73 s, sys: 220 ms, total: 1.95 s\n",
    "Wall time: 707 ms\n",
    "\n",
    "ClassifyRF accuracy:---------->27.10 %\n"
   ]
  },
  {
   "cell_type": "code",
   "execution_count": 62,
   "metadata": {},
   "outputs": [
    {
     "name": "stdout",
     "output_type": "stream",
     "text": [
      "Predict time\n",
      "CPU times: user 1.91 s, sys: 4 ms, total: 1.91 s\n",
      "Wall time: 639 ms\n",
      "\n",
      "ClassifyRF accuracy:---------->82.67 %\n"
     ]
    }
   ],
   "source": [
    "#Validation\n",
    "print 'Predict time'\n",
    "%time rfc_y_pred_v = rfc.predict(X_validate_std)\n",
    "\n",
    "print''\n",
    "\n",
    "from sklearn.metrics import accuracy_score\n",
    "\n",
    "result = ('ClassifyRF accuracy:---------->%.2f %%' % (accuracy_score(rfc_y_pred_v, y_validate)*100))\n",
    "\n",
    "print result"
   ]
  },
  {
   "cell_type": "markdown",
   "metadata": {},
   "source": [
    "#### Resultado anterior\n",
    "H-Y Simpliicada + n0\n",
    "\n",
    "Predict time\n",
    "CPU times: user 10.1 s, sys: 80 ms, total: 10.1 s\n",
    "Wall time: 2.94 s\n",
    "\n",
    "ClassifyRF accuracy:---------->45.17 %\n",
    "\n",
    "---\n",
    "\n",
    "Predict time\n",
    "CPU times: user 10.5 s, sys: 552 ms, total: 11.1 s\n",
    "Wall time: 3.03 s\n",
    "\n",
    "ClassifyRF accuracy:---------->42.09 %\n",
    "\n",
    "---\n",
    "\n",
    "Predict time\n",
    "\n",
    "CPU times: user 6.7 s, sys: 372 ms, total: 7.07 s\n",
    "Wall time: 2.05 s\n",
    "\n",
    "ClassifyRF accuracy:---------->85.97 %\n"
   ]
  },
  {
   "cell_type": "code",
   "execution_count": 63,
   "metadata": {},
   "outputs": [
    {
     "data": {
      "text/plain": [
       "array([ 9.,  9.,  9., ...,  9.,  9.,  9.])"
      ]
     },
     "execution_count": 63,
     "metadata": {},
     "output_type": "execute_result"
    }
   ],
   "source": [
    "rfc_y_pred_v"
   ]
  },
  {
   "cell_type": "code",
   "execution_count": 64,
   "metadata": {},
   "outputs": [
    {
     "data": {
      "text/plain": [
       "0"
      ]
     },
     "execution_count": 64,
     "metadata": {},
     "output_type": "execute_result"
    }
   ],
   "source": [
    "list(y_validate).count(3)"
   ]
  },
  {
   "cell_type": "code",
   "execution_count": 65,
   "metadata": {},
   "outputs": [],
   "source": [
    "from sklearn.metrics import confusion_matrix\n",
    "confusion_matrix = confusion_matrix(y_validate, rfc_y_pred_v)\n",
    "confusion_matrix = confusion_matrix.astype('float')"
   ]
  },
  {
   "cell_type": "code",
   "execution_count": 66,
   "metadata": {
    "scrolled": true
   },
   "outputs": [
    {
     "data": {
      "text/plain": [
       "array([[ 10790.,  12916.],\n",
       "       [  3863.,  69253.]])"
      ]
     },
     "execution_count": 66,
     "metadata": {},
     "output_type": "execute_result"
    }
   ],
   "source": [
    "confusion_matrix\n",
    "cm = confusion_matrix\n",
    "cm"
   ]
  },
  {
   "cell_type": "code",
   "execution_count": 67,
   "metadata": {},
   "outputs": [],
   "source": [
    "FN = confusion_matrix.sum(axis=0) - np.diag(confusion_matrix)  \n",
    "FP = confusion_matrix.sum(axis=1) - np.diag(confusion_matrix)\n",
    "TP = np.diag(confusion_matrix)\n",
    "TN = confusion_matrix.sum() - (FP + FN + TP)\n",
    "\n",
    "# Sensitivity, hit rate, recall, or true positive rate\n",
    "TPR = TP/(TP+FN)\n",
    "# Specificity or true negative rate\n",
    "TNR = TN/(TN+FP) \n",
    "# Precision or positive predictive value\n",
    "PPV = TP/(TP+FP)\n",
    "# Negative predictive value\n",
    "NPV = TN/(TN+FN)\n",
    "# Fall out or false positive rate\n",
    "FPR = FP/(FP+TN)\n",
    "# False negative rate\n",
    "FNR = FN/(TP+FN)\n",
    "# False discovery rate\n",
    "FDR = FP/(TP+FP)\n",
    "\n",
    "# Overall accuracy\n",
    "ACC = (TP+TN)/(TP+FP+FN+TN)"
   ]
  },
  {
   "cell_type": "code",
   "execution_count": 68,
   "metadata": {},
   "outputs": [
    {
     "name": "stdout",
     "output_type": "stream",
     "text": [
      "TP: [ 10790.  69253.] = 80043.0\n",
      "TN: [ 69253.  10790.] = 80043.0\n",
      "FP: [ 12916.   3863.] = 16779.0\n",
      "FN: [  3863.  12916.] = 16779.0\n"
     ]
    }
   ],
   "source": [
    "print 'TP:', TP, '=', sum(TP)\n",
    "print 'TN:', TN, '=', sum(TN)\n",
    "print 'FP:', FP, '=', sum(FP)\n",
    "print 'FN:', FN, '=', sum(FN)"
   ]
  },
  {
   "cell_type": "code",
   "execution_count": 69,
   "metadata": {},
   "outputs": [],
   "source": [
    "#P1 = sum(cm[0][:4])\n",
    "#P2 = sum(cm[1][:4])\n",
    "#P3 = sum(cm[2][:4])\n",
    "#P4 = sum(cm[3][:4])\n",
    "\n",
    "P1 = sum(cm[0][:2])\n",
    "P2 = sum(cm[1][:2])"
   ]
  },
  {
   "cell_type": "code",
   "execution_count": 70,
   "metadata": {},
   "outputs": [
    {
     "data": {
      "text/plain": [
       "0.70116258920670382"
      ]
     },
     "execution_count": 70,
     "metadata": {},
     "output_type": "execute_result"
    }
   ],
   "source": [
    "#P1 = (TP[0])/sum(cm[0][:4])\n",
    "#P2 = (TP[1])/sum(cm[1][:4])\n",
    "#P3 = (TP[2])/sum(cm[2][:4])\n",
    "#P4 = (TP[3])/sum(cm[3][:4])\n",
    "\n",
    "#S1 = (TP[0])/sum(cm[:5,[0]])\n",
    "#S2 = (TP[1])/sum(cm[:5,[1]])\n",
    "#S3 = (TP[2])/sum(cm[:5,[2]])\n",
    "#S4 = (TP[3])/sum(cm[:5,[3]])\n",
    "\n",
    "#(P1+P2+P3+P4)/4\n",
    "\n",
    "P1 = (TP[0])/sum(cm[0][:2])\n",
    "P2 = (TP[1])/sum(cm[1][:2])\n",
    "\n",
    "S1 = (TP[0])/sum(cm[:2,[0]])\n",
    "S2 = (TP[1])/sum(cm[:2,[1]])\n",
    "\n",
    "(P1+P2)/2"
   ]
  },
  {
   "cell_type": "code",
   "execution_count": 71,
   "metadata": {
    "scrolled": false
   },
   "outputs": [
    {
     "name": "stdout",
     "output_type": "stream",
     "text": [
      "(0.45515903146882647, 0.94716614694458123)\n",
      "\n",
      "(array([ 0.73636798]), array([ 0.84281177]))\n"
     ]
    }
   ],
   "source": [
    "#print (P1,P2,P3,P4)\n",
    "#print ''\n",
    "#print (S1,S2,S3,S4)\n",
    "\n",
    "print (P1,P2)\n",
    "print ''\n",
    "print (S1,S2)"
   ]
  },
  {
   "cell_type": "code",
   "execution_count": 72,
   "metadata": {},
   "outputs": [
    {
     "data": {
      "text/plain": [
       "array([ 0.78958987])"
      ]
     },
     "execution_count": 72,
     "metadata": {},
     "output_type": "execute_result"
    }
   ],
   "source": [
    "(S1+S2)/2"
   ]
  },
  {
   "cell_type": "code",
   "execution_count": 73,
   "metadata": {},
   "outputs": [
    {
     "data": {
      "text/plain": [
       "array([ 23706.,  73116.])"
      ]
     },
     "execution_count": 73,
     "metadata": {},
     "output_type": "execute_result"
    }
   ],
   "source": [
    "(TP+FP)"
   ]
  },
  {
   "cell_type": "code",
   "execution_count": 74,
   "metadata": {},
   "outputs": [
    {
     "data": {
      "text/plain": [
       "array([ 73.63679793,  84.2811766 ])"
      ]
     },
     "execution_count": 74,
     "metadata": {},
     "output_type": "execute_result"
    }
   ],
   "source": [
    "TPR*100 # Sensitivity"
   ]
  },
  {
   "cell_type": "code",
   "execution_count": 75,
   "metadata": {},
   "outputs": [
    {
     "data": {
      "text/plain": [
       "array([ 84.2811766 ,  73.63679793])"
      ]
     },
     "execution_count": 75,
     "metadata": {},
     "output_type": "execute_result"
    }
   ],
   "source": [
    "TNR*100 # Specificity"
   ]
  },
  {
   "cell_type": "code",
   "execution_count": 76,
   "metadata": {},
   "outputs": [
    {
     "data": {
      "text/plain": [
       "array([ 45.51590315,  94.71661469])"
      ]
     },
     "execution_count": 76,
     "metadata": {},
     "output_type": "execute_result"
    }
   ],
   "source": [
    "PPV*100 # Precision"
   ]
  },
  {
   "cell_type": "code",
   "execution_count": 77,
   "metadata": {},
   "outputs": [
    {
     "data": {
      "text/plain": [
       "array([ 82.67026089,  82.67026089])"
      ]
     },
     "execution_count": 77,
     "metadata": {},
     "output_type": "execute_result"
    }
   ],
   "source": [
    "ACC*100 # Accuracy"
   ]
  },
  {
   "cell_type": "code",
   "execution_count": 78,
   "metadata": {
    "scrolled": true
   },
   "outputs": [
    {
     "name": "stdout",
     "output_type": "stream",
     "text": [
      "Sensitivity 78.96%\n",
      "Specificity 78.96%\n",
      "Precision 70.12%\n",
      "Accuray 82.67%\n"
     ]
    }
   ],
   "source": [
    "#print ('Sensitivity %.2f%%' %(sum(TPR)/4*100))\n",
    "#print ('Specificity %.2f%%' %(sum(TNR)/4*100))\n",
    "#print ('Precision %.2f%%' %(sum(PPV)/4*100))\n",
    "#print ('Accuray %.2f%%' %(sum(ACC)/4*100))\n",
    "\n",
    "print ('Sensitivity %.2f%%' %(sum(TPR)/2*100))\n",
    "print ('Specificity %.2f%%' %(sum(TNR)/2*100))\n",
    "print ('Precision %.2f%%' %(sum(PPV)/2*100))\n",
    "print ('Accuray %.2f%%' %(sum(ACC)/2*100))"
   ]
  },
  {
   "cell_type": "markdown",
   "metadata": {},
   "source": [
    "#### Resultado anterior\n",
    "H-Y Simpliicada + n0\n",
    "\n",
    "Sensitivity 44.06%\n",
    "\n",
    "Specificity 86.15%\n",
    "\n",
    "Precision 45.71%\n",
    "\n",
    "Accuray 78.07%"
   ]
  },
  {
   "cell_type": "markdown",
   "metadata": {},
   "source": [
    "## Confusion Matrix"
   ]
  },
  {
   "cell_type": "code",
   "execution_count": 79,
   "metadata": {
    "scrolled": false
   },
   "outputs": [
    {
     "data": {
      "image/png": "[encoded data removed]",
      "text/plain": [
       "<matplotlib.figure.Figure at 0x7fc90dfbdc90>"
      ]
     },
     "metadata": {},
     "output_type": "display_data"
    },
    {
     "data": {
      "image/png": "[encoded data removed]",
      "text/plain": [
       "<matplotlib.figure.Figure at 0x7fc8dc1f2b10>"
      ]
     },
     "metadata": {},
     "output_type": "display_data"
    }
   ],
   "source": [
    "from sklearn.metrics import confusion_matrix\n",
    "import itertools\n",
    "import matplotlib.pyplot as plt\n",
    "\n",
    "class_names = np.array(['N-1', 'N-9'])\n",
    "\n",
    "yvalid = y_validate \n",
    "\n",
    "def plot_confusion_matrix(cm, classes,\n",
    "                          normalize=False,\n",
    "                          title='Confusion de matrix',\n",
    "                          cmap=plt.cm.Blues):\n",
    "    \"\"\"\n",
    "    This function prints and plots the confusion matrix.\n",
    "    Normalization can be applied by setting `normalize=True`.\n",
    "    \"\"\"\n",
    "    plt.imshow(cm, interpolation='nearest', cmap=cmap)\n",
    "    plt.title(title)\n",
    "    plt.colorbar()\n",
    "    tick_marks = np.arange(len(classes))\n",
    "    plt.xticks(tick_marks, classes, rotation=45)\n",
    "    plt.yticks(tick_marks, classes)\n",
    "\n",
    "    \n",
    "    if normalize:\n",
    "        cm = cm.astype('float') / cm.sum(axis=1)[:, np.newaxis]\n",
    "        print(\"Matrix de confusão normalizada\")\n",
    "        thresh = cm.max() / 2.\n",
    "        for i, j in itertools.product(range(cm.shape[0]), range(cm.shape[1])):\n",
    "            plt.text(j, i, ('%.3f' % cm[i, j]), horizontalalignment=\"center\", color=\"white\" if cm[i, j] > thresh else \"black\")\n",
    "\n",
    "    else:\n",
    "        print('Matrix de confusão, sem normalização')\n",
    "        thresh = cm.max() / 2.\n",
    "        for i, j in itertools.product(range(cm.shape[0]), range(cm.shape[1])):\n",
    "            plt.text(j, i, cm[i, j], horizontalalignment=\"center\", color=\"white\" if cm[i, j] > thresh else \"black\")\n",
    "\n",
    "    print(cm)\n",
    "\n",
    "    plt.tight_layout()\n",
    "    plt.ylabel('Valores reais')\n",
    "    plt.xlabel('Valores preditos')\n",
    "\n",
    "# Compute confusion matrix\n",
    "cnf_matrix = confusion_matrix(yvalid, rfc_y_pred_v)\n",
    "np.set_printoptions(precision=2)\n",
    "\n",
    "# Plot non-normalized confusion matrix\n",
    "fig = plt.figure()\n",
    "plot_confusion_matrix(cnf_matrix, classes=class_names,\n",
    "                      title='Matrix de confusão - Random Forest')\n",
    "fig.set_size_inches(w=7,h=6)\n",
    "\n",
    "# Plot normalized confusion matrix\n",
    "fig = plt.figure()\n",
    "plot_confusion_matrix(cnf_matrix, classes=class_names, normalize=True,\n",
    "                      title='Matrix de confusão - Random Forest')\n",
    "fig_name = 'CF_figs/cmB_RF.png'\n",
    "fig.set_size_inches(w=7,h=6)\n",
    "fig.savefig(fig_name)\n",
    "\n",
    "plt.show()"
   ]
  },
  {
   "cell_type": "markdown",
   "metadata": {},
   "source": [
    "---"
   ]
  },
  {
   "cell_type": "markdown",
   "metadata": {},
   "source": [
    "## Support Vector Machine RBF"
   ]
  },
  {
   "cell_type": "code",
   "execution_count": 153,
   "metadata": {},
   "outputs": [],
   "source": [
    "from sklearn import svm, datasets\n",
    "\n",
    "print 'Processing time SVM'\n",
    "%time svm_rbf = svm.SVC(kernel='rbf', gamma=0.2, C=6, decision_function_shape='ovr').fit(X_train_std, y_train)\n",
    "\n",
    "print ''\n",
    "print 'Predict time'  \n",
    "%time rbf_y_pred = svm_rbf.predict(X_test_std)\n",
    "from sklearn.metrics import accuracy_score\n",
    "\n",
    "print ('SVM-RBF accuracy:---------->%.2f %%' % (accuracy_score(y_test, rbf_y_pred)*100))"
   ]
  },
  {
   "cell_type": "code",
   "execution_count": 154,
   "metadata": {},
   "outputs": [
    {
     "data": {
      "text/plain": [
       "0.7834499181425807"
      ]
     },
     "execution_count": 154,
     "metadata": {},
     "output_type": "execute_result"
    }
   ],
   "source": [
    "accuracy_score(y_test, rbf_y_pred)"
   ]
  },
  {
   "cell_type": "code",
   "execution_count": 155,
   "metadata": {},
   "outputs": [],
   "source": [
    "print 'Predict time'  \n",
    "%time rbf_y_pred_v = svm_rbf.predict(X_validate_std)\n",
    "from sklearn.metrics import accuracy_score\n",
    "print ('SVM-RBF accuracy:---------->%.2f %%' % (accuracy_score(y_validate, rbf_y_pred_v)*100))"
   ]
  },
  {
   "cell_type": "code",
   "execution_count": 157,
   "metadata": {},
   "outputs": [
    {
     "data": {
      "text/plain": [
       "0.7648881452562434"
      ]
     },
     "execution_count": 157,
     "metadata": {},
     "output_type": "execute_result"
    }
   ],
   "source": [
    "(accuracy_score(y_validate, rbf_y_pred_v))"
   ]
  },
  {
   "cell_type": "code",
   "execution_count": 158,
   "metadata": {},
   "outputs": [
    {
     "data": {
      "text/plain": [
       "array([[ 4762., 18944.],\n",
       "       [ 3820., 69296.]])"
      ]
     },
     "execution_count": 158,
     "metadata": {},
     "output_type": "execute_result"
    }
   ],
   "source": [
    "from sklearn.metrics import confusion_matrix\n",
    "confusion_matrix = confusion_matrix(y_validate, rbf_y_pred_v)\n",
    "confusion_matrix = confusion_matrix.astype('float')\n",
    "confusion_matrix\n",
    "cm = confusion_matrix\n",
    "cm"
   ]
  },
  {
   "cell_type": "markdown",
   "metadata": {
    "collapsed": true
   },
   "source": [
    "# Confusion Matrix"
   ]
  },
  {
   "cell_type": "code",
   "execution_count": 159,
   "metadata": {},
   "outputs": [],
   "source": [
    "from sklearn.metrics import confusion_matrix\n",
    "confusion_matrix = confusion_matrix(y_validate, rbf_y_pred_v)\n",
    "confusion_matrix = confusion_matrix.astype('float')"
   ]
  },
  {
   "cell_type": "code",
   "execution_count": 160,
   "metadata": {},
   "outputs": [
    {
     "data": {
      "text/plain": [
       "array([[ 4762., 18944.],\n",
       "       [ 3820., 69296.]])"
      ]
     },
     "execution_count": 160,
     "metadata": {},
     "output_type": "execute_result"
    }
   ],
   "source": [
    "confusion_matrix"
   ]
  },
  {
   "cell_type": "code",
   "execution_count": 161,
   "metadata": {},
   "outputs": [],
   "source": [
    "FN = confusion_matrix.sum(axis=0) - np.diag(confusion_matrix)  \n",
    "FP = confusion_matrix.sum(axis=1) - np.diag(confusion_matrix)\n",
    "TP = np.diag(confusion_matrix)\n",
    "TN = confusion_matrix.sum() - (FP + FN + TP)\n",
    "\n",
    "# Sensitivity, hit rate, recall, or true positive rate\n",
    "TPR = TP/(TP+FN)\n",
    "# Specificity or true negative rate\n",
    "TNR = TN/(TN+FP) \n",
    "# Precision or positive predictive value\n",
    "PPV = TP/(TP+FP)\n",
    "# Negative predictive value\n",
    "NPV = TN/(TN+FN)\n",
    "# Fall out or false positive rate\n",
    "FPR = FP/(FP+TN)\n",
    "# False negative rate\n",
    "FNR = FN/(TP+FN)\n",
    "# False discovery rate\n",
    "FDR = FP/(TP+FP)\n",
    "\n",
    "# Overall accuracy\n",
    "ACC = (TP+TN)/(TP+FP+FN+TN)"
   ]
  },
  {
   "cell_type": "code",
   "execution_count": 162,
   "metadata": {},
   "outputs": [
    {
     "data": {
      "text/plain": [
       "array([55.49, 78.53])"
      ]
     },
     "execution_count": 162,
     "metadata": {},
     "output_type": "execute_result"
    }
   ],
   "source": [
    "TPR*100 # Sensitivity"
   ]
  },
  {
   "cell_type": "code",
   "execution_count": 163,
   "metadata": {},
   "outputs": [
    {
     "data": {
      "text/plain": [
       "array([78.53, 55.49])"
      ]
     },
     "execution_count": 163,
     "metadata": {},
     "output_type": "execute_result"
    }
   ],
   "source": [
    "TNR*100 # Specificity"
   ]
  },
  {
   "cell_type": "code",
   "execution_count": 164,
   "metadata": {},
   "outputs": [
    {
     "data": {
      "text/plain": [
       "array([20.09, 94.78])"
      ]
     },
     "execution_count": 164,
     "metadata": {},
     "output_type": "execute_result"
    }
   ],
   "source": [
    "PPV*100 # Precision"
   ]
  },
  {
   "cell_type": "code",
   "execution_count": 165,
   "metadata": {},
   "outputs": [
    {
     "data": {
      "text/plain": [
       "array([76.49, 76.49])"
      ]
     },
     "execution_count": 165,
     "metadata": {},
     "output_type": "execute_result"
    }
   ],
   "source": [
    "ACC*100 # Accuracy"
   ]
  },
  {
   "cell_type": "code",
   "execution_count": 166,
   "metadata": {},
   "outputs": [
    {
     "data": {
      "text/plain": [
       "76.48881452562433"
      ]
     },
     "execution_count": 166,
     "metadata": {},
     "output_type": "execute_result"
    }
   ],
   "source": [
    "sum(ACC)/2*100"
   ]
  },
  {
   "cell_type": "code",
   "execution_count": 167,
   "metadata": {},
   "outputs": [],
   "source": [
    "#print ('Sensitivity %.2f%%' %(sum(TPR)/4*100))\n",
    "#print ('Specificity %.2f%%' %(sum(TNR)/4*100))\n",
    "#print ('Precision %.2f%%' %(sum(PPV)/4*100))\n",
    "#print ('Accuray %.2f%%' %(sum(ACC)/4*100))\n",
    "\n",
    "print ('Sensitivity %.2f%%' %(sum(TPR)/2*100))\n",
    "print ('Specificity %.2f%%' %(sum(TNR)/2*100))\n",
    "print ('Precision %.2f%%' %(sum(PPV)/2*100))\n",
    "print ('Accuray %.2f%%' %(sum(ACC)/2*100))"
   ]
  },
  {
   "cell_type": "code",
   "execution_count": 168,
   "metadata": {},
   "outputs": [
    {
     "data": {
      "image/png": "[encoded data removed]",
      "text/plain": [
       "<matplotlib.figure.Figure at 0x19cfc128>"
      ]
     },
     "metadata": {},
     "output_type": "display_data"
    },
    {
     "data": {
      "image/png": "[encoded data removed]",
      "text/plain": [
       "<matplotlib.figure.Figure at 0x16840400>"
      ]
     },
     "metadata": {},
     "output_type": "display_data"
    }
   ],
   "source": [
    "# encoding=utf8  \n",
    "#import sys  \n",
    "#reload(sys)  \n",
    "#sys.setdefaultencoding('utf8')\n",
    "\n",
    "from sklearn.metrics import confusion_matrix\n",
    "import itertools\n",
    "import matplotlib.pyplot as plt\n",
    "\n",
    "#%matplotlib notebook\n",
    "class_names = np.array(['N-1', 'N-9'])\n",
    "\n",
    "yvalid = y_validate \n",
    "\n",
    "def plot_confusion_matrix(cm, classes,\n",
    "                          normalize=False,\n",
    "                          title='Confusion de matrix',\n",
    "                          cmap=plt.cm.Blues):\n",
    "    \"\"\"\n",
    "    This function prints and plots the confusion matrix.\n",
    "    Normalization can be applied by setting `normalize=True`.\n",
    "    \"\"\"\n",
    "    plt.imshow(cm, interpolation='nearest', cmap=cmap)\n",
    "    plt.title(title)\n",
    "    plt.colorbar()\n",
    "    tick_marks = np.arange(len(classes))\n",
    "    plt.xticks(tick_marks, classes, rotation=45)\n",
    "    plt.yticks(tick_marks, classes)\n",
    "\n",
    "    \n",
    "    if normalize:\n",
    "        cm = cm.astype('float') / cm.sum(axis=1)[:, np.newaxis]\n",
    "        print(\"Matrix de confusão normalizada\")\n",
    "        thresh = cm.max() / 2.\n",
    "        for i, j in itertools.product(range(cm.shape[0]), range(cm.shape[1])):\n",
    "            plt.text(j, i, ('%.3f' % cm[i, j]), horizontalalignment=\"center\", color=\"white\" if cm[i, j] > thresh else \"black\")\n",
    "\n",
    "    else:\n",
    "        print('Matrix de confusão, sem normalização')\n",
    "        thresh = cm.max() / 2.\n",
    "        for i, j in itertools.product(range(cm.shape[0]), range(cm.shape[1])):\n",
    "            plt.text(j, i, cm[i, j], horizontalalignment=\"center\", color=\"white\" if cm[i, j] > thresh else \"black\")\n",
    "\n",
    "    print(cm)\n",
    "\n",
    "    plt.tight_layout()\n",
    "    plt.ylabel('Valores reais')\n",
    "    plt.xlabel('Valores preditos')\n",
    "\n",
    "# Compute confusion matrix\n",
    "cnf_matrix = confusion_matrix(yvalid, rbf_y_pred_v)\n",
    "np.set_printoptions(precision=2)\n",
    "\n",
    "# Plot non-normalized confusion matrix\n",
    "fig = plt.figure()\n",
    "plot_confusion_matrix(cnf_matrix, classes=class_names,\n",
    "                      title='Matrix de confusao - SVM-RBF')\n",
    "fig.set_size_inches(w=7,h=6)\n",
    "\n",
    "# Plot normalized confusion matrix\n",
    "fig = plt.figure()\n",
    "plot_confusion_matrix(cnf_matrix, classes=class_names, normalize=True,\n",
    "                      title='Matrix de confusao - SVM-RBF')\n",
    "fig_name = 'CF_figs/cmB_SVM-RBF.png'\n",
    "fig.set_size_inches(w=7,h=6)\n",
    "fig.savefig(fig_name)\n",
    "\n",
    "plt.show()"
   ]
  },
  {
   "cell_type": "markdown",
   "metadata": {},
   "source": [
    "## Support Vector Machine Poly"
   ]
  },
  {
   "cell_type": "code",
   "execution_count": null,
   "metadata": {},
   "outputs": [
    {
     "name": "stdout",
     "output_type": "stream",
     "text": [
      "Processing time Polynomial\n"
     ]
    }
   ],
   "source": [
    "from sklearn import svm, datasets\n",
    "\n",
    "print 'Processing time Polynomial'\n",
    "#%time svm = svm.SVC(kernel='poly', degree=2, coef0=4.7, C=48.9, decision_function_shape='ovr').fit(X_train_std, y_train)\n",
    "%time svm_poly = svm.SVC(kernel='poly', degree=2).fit(X_train_std, y_train)\n"
   ]
  },
  {
   "cell_type": "code",
   "execution_count": null,
   "metadata": {},
   "outputs": [],
   "source": [
    "#poly_y_pred = svm_poly.predict(X_test_std)\n",
    "\n",
    "print 'Predict time'  \n",
    "%time poly_y_pred = svm_poly.predict(X_test_std)\n",
    "from sklearn.metrics import accuracy_score\n",
    "print ('SVM-Polynomial accuracy:--->%.2f %%' % (accuracy_score(y_test, poly_y_pred)*100))\n",
    "        "
   ]
  },
  {
   "cell_type": "code",
   "execution_count": null,
   "metadata": {
    "scrolled": true
   },
   "outputs": [],
   "source": [
    "print 'Predict time'  \n",
    "%time poly_y_pred_v = svm_poly.predict(X_validate_std)\n",
    "from sklearn.metrics import accuracy_score\n",
    "print ('SVM-Polynomial accuracy:---------->%.2f %%' % (accuracy_score(y_validate, poly_y_pred_v)*100))"
   ]
  },
  {
   "cell_type": "code",
   "execution_count": null,
   "metadata": {},
   "outputs": [],
   "source": [
    "from sklearn.metrics import confusion_matrix\n",
    "confusion_matrix = confusion_matrix(y_validate, poly_y_pred_v)\n",
    "confusion_matrix = confusion_matrix.astype('float')\n",
    "confusion_matrix\n",
    "cm = confusion_matrix\n",
    "cm"
   ]
  },
  {
   "cell_type": "markdown",
   "metadata": {},
   "source": [
    "# Confusion Matrix"
   ]
  },
  {
   "cell_type": "code",
   "execution_count": null,
   "metadata": {},
   "outputs": [],
   "source": [
    "from sklearn.metrics import confusion_matrix\n",
    "confusion_matrix = confusion_matrix(y_validate, poly_y_pred_v)\n",
    "confusion_matrix = confusion_matrix.astype('float')"
   ]
  },
  {
   "cell_type": "code",
   "execution_count": null,
   "metadata": {},
   "outputs": [],
   "source": [
    "confusion_matrix"
   ]
  },
  {
   "cell_type": "code",
   "execution_count": null,
   "metadata": {},
   "outputs": [],
   "source": [
    "FP = confusion_matrix.sum(axis=0) - np.diag(confusion_matrix)  \n",
    "FN = confusion_matrix.sum(axis=1) - np.diag(confusion_matrix)\n",
    "TP = np.diag(confusion_matrix)\n",
    "TN = confusion_matrix.sum() - (FP + FN + TP)\n",
    "\n",
    "# Sensitivity, hit rate, recall, or true positive rate\n",
    "TPR = TP/(TP+FN)\n",
    "# Specificity or true negative rate\n",
    "TNR = TN/(TN+FP) \n",
    "# Precision or positive predictive value\n",
    "PPV = TP/(TP+FP)\n",
    "# Negative predictive value\n",
    "NPV = TN/(TN+FN)\n",
    "# Fall out or false positive rate\n",
    "FPR = FP/(FP+TN)\n",
    "# False negative rate\n",
    "FNR = FN/(TP+FN)\n",
    "# False discovery rate\n",
    "FDR = FP/(TP+FP)\n",
    "\n",
    "# Overall accuracy\n",
    "ACC = (TP+TN)/(TP+FP+FN+TN)"
   ]
  },
  {
   "cell_type": "code",
   "execution_count": null,
   "metadata": {},
   "outputs": [],
   "source": [
    "TPR*100 # Sensitivity"
   ]
  },
  {
   "cell_type": "code",
   "execution_count": null,
   "metadata": {},
   "outputs": [],
   "source": [
    "TNR*100 # Specificity"
   ]
  },
  {
   "cell_type": "code",
   "execution_count": null,
   "metadata": {},
   "outputs": [],
   "source": [
    "PPV*100 # Precision"
   ]
  },
  {
   "cell_type": "code",
   "execution_count": null,
   "metadata": {},
   "outputs": [],
   "source": [
    "ACC*100 # Accuracy"
   ]
  },
  {
   "cell_type": "code",
   "execution_count": null,
   "metadata": {},
   "outputs": [],
   "source": [
    "sum(ACC)/6*100"
   ]
  },
  {
   "cell_type": "code",
   "execution_count": null,
   "metadata": {},
   "outputs": [],
   "source": [
    "# encoding=utf8  \n",
    "#import sys  \n",
    "#reload(sys)  \n",
    "#sys.setdefaultencoding('utf8')\n",
    "\n",
    "from sklearn.metrics import confusion_matrix\n",
    "import itertools\n",
    "import matplotlib.pyplot as plt\n",
    "\n",
    "#%matplotlib notebook\n",
    "class_names = np.array(['N-0', 'N-1', 'N-2', 'N-3', 'N-4', 'N-1,5'])\n",
    "\n",
    "yvalid = y_validate \n",
    "\n",
    "def plot_confusion_matrix(cm, classes,\n",
    "                          normalize=False,\n",
    "                          title='Confusion de matrix',\n",
    "                          cmap=plt.cm.Blues):\n",
    "    \"\"\"\n",
    "    This function prints and plots the confusion matrix.\n",
    "    Normalization can be applied by setting `normalize=True`.\n",
    "    \"\"\"\n",
    "    plt.imshow(cm, interpolation='nearest', cmap=cmap)\n",
    "    plt.title(title)\n",
    "    plt.colorbar()\n",
    "    tick_marks = np.arange(len(classes))\n",
    "    plt.xticks(tick_marks, classes, rotation=45)\n",
    "    plt.yticks(tick_marks, classes)\n",
    "\n",
    "    \n",
    "    if normalize:\n",
    "        cm = cm.astype('float') / cm.sum(axis=1)[:, np.newaxis]\n",
    "        print(\"Matrix de confusão normalizada\")\n",
    "        thresh = cm.max() / 2.\n",
    "        for i, j in itertools.product(range(cm.shape[0]), range(cm.shape[1])):\n",
    "            plt.text(j, i, ('%.3f' % cm[i, j]), horizontalalignment=\"center\", color=\"white\" if cm[i, j] > thresh else \"black\")\n",
    "\n",
    "    else:\n",
    "        print('Matrix de confusão, sem normalização')\n",
    "        thresh = cm.max() / 2.\n",
    "        for i, j in itertools.product(range(cm.shape[0]), range(cm.shape[1])):\n",
    "            plt.text(j, i, cm[i, j], horizontalalignment=\"center\", color=\"white\" if cm[i, j] > thresh else \"black\")\n",
    "\n",
    "    print(cm)\n",
    "\n",
    "    plt.tight_layout()\n",
    "    plt.ylabel('Valores reais')\n",
    "    plt.xlabel('Valores preditos')\n",
    "\n",
    "# Compute confusion matrix\n",
    "cnf_matrix = confusion_matrix(yvalid, poly_y_pred_v)\n",
    "np.set_printoptions(precision=2)\n",
    "\n",
    "# Plot non-normalized confusion matrix\n",
    "fig = plt.figure()\n",
    "plot_confusion_matrix(cnf_matrix, classes=class_names,\n",
    "                      title='Matrix de confusao - SVM-Poly')\n",
    "fig.set_size_inches(w=7,h=6)\n",
    "\n",
    "# Plot normalized confusion matrix\n",
    "fig = plt.figure()\n",
    "plot_confusion_matrix(cnf_matrix, classes=class_names, normalize=True,\n",
    "                      title='Matrix de confusao - SVM-Poly')\n",
    "fig_name = 'CF_figs/cmB_SVM-Poly.png'\n",
    "fig.set_size_inches(w=7,h=6)\n",
    "fig.savefig(fig_name)\n",
    "\n",
    "plt.show()"
   ]
  },
  {
   "cell_type": "markdown",
   "metadata": {},
   "source": [
    "---"
   ]
  },
  {
   "cell_type": "markdown",
   "metadata": {},
   "source": [
    "## KNeigbors"
   ]
  },
  {
   "cell_type": "code",
   "execution_count": 80,
   "metadata": {},
   "outputs": [],
   "source": [
    "from sklearn.neighbors import KNeighborsClassifier\n",
    "knc = KNeighborsClassifier(n_neighbors=2, weights = 'distance', algorithm = 'auto', p = 1)\n",
    "knc = knc.fit(X_train_std, y_train)\n",
    "print''\n",
    "\n",
    "print 'Predict time'\n",
    "%time pred = knc.predict(X_test_std)\n",
    "\n",
    "print''\n",
    "\n",
    "from sklearn.metrics import accuracy_score\n",
    "\n",
    "\n",
    "\n",
    "print ('ClassifyKN accuracy:---------->%.2f %%' % (accuracy_score(y_test, pred)*100))"
   ]
  },
  {
   "cell_type": "code",
   "execution_count": 81,
   "metadata": {},
   "outputs": [
    {
     "data": {
      "text/plain": [
       "70.42095014099111"
      ]
     },
     "execution_count": 81,
     "metadata": {},
     "output_type": "execute_result"
    }
   ],
   "source": [
    "accuracy_score(y_test, pred)*100"
   ]
  },
  {
   "cell_type": "code",
   "execution_count": 82,
   "metadata": {},
   "outputs": [
    {
     "data": {
      "text/plain": [
       "40.215143949442144"
      ]
     },
     "execution_count": 82,
     "metadata": {},
     "output_type": "execute_result"
    }
   ],
   "source": [
    "%time pred = knc.predict(X_validate_std)\n",
    "accuracy_score(y_validate, pred)*100"
   ]
  },
  {
   "cell_type": "markdown",
   "metadata": {},
   "source": [
    "## Confusion Matrix"
   ]
  },
  {
   "cell_type": "code",
   "execution_count": 83,
   "metadata": {},
   "outputs": [],
   "source": [
    "from sklearn.metrics import confusion_matrix\n",
    "confusion_matrix = confusion_matrix(y_validate, y_pred)\n",
    "confusion_matrix = confusion_matrix.astype('float')"
   ]
  },
  {
   "cell_type": "code",
   "execution_count": 84,
   "metadata": {},
   "outputs": [
    {
     "data": {
      "text/plain": [
       "array([[  2.73e+04,   4.75e+03,   2.00e+01,   3.09e+03,   1.06e+03,\n",
       "          3.72e+03],\n",
       "       [  1.06e+04,   1.60e+03,   6.00e+00,   3.57e+03,   2.53e+03,\n",
       "          5.70e+03],\n",
       "       [  3.58e+04,   5.48e+03,   2.60e+01,   4.52e+03,   3.18e+03,\n",
       "          4.96e+03],\n",
       "       [  1.57e+04,   2.55e+03,   1.10e+01,   6.00e+03,   2.24e+03,\n",
       "          3.45e+03],\n",
       "       [  4.22e+04,   6.18e+03,   2.60e+01,   1.75e+04,   8.46e+03,\n",
       "          2.16e+04],\n",
       "       [  2.57e+04,   2.89e+03,   1.10e+01,   1.80e+04,   4.18e+03,\n",
       "          1.31e+04]])"
      ]
     },
     "execution_count": 84,
     "metadata": {},
     "output_type": "execute_result"
    }
   ],
   "source": [
    "confusion_matrix"
   ]
  },
  {
   "cell_type": "code",
   "execution_count": 85,
   "metadata": {},
   "outputs": [],
   "source": [
    "FP = confusion_matrix.sum(axis=0) - np.diag(confusion_matrix)  \n",
    "FN = confusion_matrix.sum(axis=1) - np.diag(confusion_matrix)\n",
    "TP = np.diag(confusion_matrix)\n",
    "TN = confusion_matrix.sum() - (FP + FN + TP)\n",
    "\n",
    "# Sensitivity, hit rate, recall, or true positive rate\n",
    "TPR = TP/(TP+FN)\n",
    "# Specificity or true negative rate\n",
    "TNR = TN/(TN+FP) \n",
    "# Precision or positive predictive value\n",
    "PPV = TP/(TP+FP)\n",
    "# Negative predictive value\n",
    "NPV = TN/(TN+FN)\n",
    "# Fall out or false positive rate\n",
    "FPR = FP/(FP+TN)\n",
    "# False negative rate\n",
    "FNR = FN/(TP+FN)\n",
    "# False discovery rate\n",
    "FDR = FP/(TP+FP)\n",
    "\n",
    "# Overall accuracy\n",
    "ACC = (TP+TN)/(TP+FP+FN+TN)"
   ]
  },
  {
   "cell_type": "code",
   "execution_count": 86,
   "metadata": {},
   "outputs": [
    {
     "data": {
      "text/plain": [
       "array([  6.83e+01,   6.68e+00,   4.82e-02,   2.00e+01,   8.81e+00,\n",
       "         2.05e+01])"
      ]
     },
     "execution_count": 86,
     "metadata": {},
     "output_type": "execute_result"
    }
   ],
   "source": [
    "TPR*100 # Sensitivity"
   ]
  },
  {
   "cell_type": "code",
   "execution_count": 87,
   "metadata": {},
   "outputs": [
    {
     "data": {
      "text/plain": [
       "array([ 51.45,  92.3 ,  99.97,  83.21,  93.76,  83.83])"
      ]
     },
     "execution_count": 87,
     "metadata": {},
     "output_type": "execute_result"
    }
   ],
   "source": [
    "TNR*100 # Specificity"
   ]
  },
  {
   "cell_type": "code",
   "execution_count": 88,
   "metadata": {},
   "outputs": [
    {
     "data": {
      "text/plain": [
       "array([ 17.34,   6.82,  26.  ,  11.41,  39.04,  24.97])"
      ]
     },
     "execution_count": 88,
     "metadata": {},
     "output_type": "execute_result"
    }
   ],
   "source": [
    "PPV*100 # Precision"
   ]
  },
  {
   "cell_type": "code",
   "execution_count": 89,
   "metadata": {},
   "outputs": [
    {
     "data": {
      "text/plain": [
       "array([ 53.64,  85.63,  82.45,  77.06,  67.26,  70.68])"
      ]
     },
     "execution_count": 89,
     "metadata": {},
     "output_type": "execute_result"
    }
   ],
   "source": [
    "ACC*100 # Accuracy"
   ]
  },
  {
   "cell_type": "code",
   "execution_count": 90,
   "metadata": {},
   "outputs": [
    {
     "data": {
      "text/plain": [
       "72.784951410019673"
      ]
     },
     "execution_count": 90,
     "metadata": {},
     "output_type": "execute_result"
    }
   ],
   "source": [
    "sum(ACC)/6*100"
   ]
  },
  {
   "cell_type": "code",
   "execution_count": 91,
   "metadata": {},
   "outputs": [
    {
     "data": {
      "image/png": "[encoded data removed]",
      "text/plain": [
       "<matplotlib.figure.Figure at 0x7fb6ed146a50>"
      ]
     },
     "metadata": {},
     "output_type": "display_data"
    },
    {
     "data": {
      "image/png": "[encoded data removed]",
      "text/plain": [
       "<matplotlib.figure.Figure at 0x7fb6ecebd3d0>"
      ]
     },
     "metadata": {},
     "output_type": "display_data"
    }
   ],
   "source": [
    "# encoding=utf8  \n",
    "#import sys  \n",
    "#reload(sys)  \n",
    "#sys.setdefaultencoding('utf8')\n",
    "\n",
    "from sklearn.metrics import confusion_matrix\n",
    "import itertools\n",
    "import matplotlib.pyplot as plt\n",
    "\n",
    "#%matplotlib notebook\n",
    "class_names = np.array(['N-0', 'N-1', 'N-2', 'N-3', 'N-4', 'N-1,5'])\n",
    "\n",
    "yvalid = y_validate \n",
    "\n",
    "def plot_confusion_matrix(cm, classes,\n",
    "                          normalize=False,\n",
    "                          title='Confusion matrix',\n",
    "                          cmap=plt.cm.Blues):\n",
    "    \"\"\"\n",
    "    This function prints and plots the confusion matrix.\n",
    "    Normalization can be applied by setting `normalize=True`.\n",
    "    \"\"\"\n",
    "    plt.imshow(cm, interpolation='nearest', cmap=cmap)\n",
    "    plt.title(title)\n",
    "    plt.colorbar()\n",
    "    tick_marks = np.arange(len(classes))\n",
    "    plt.xticks(tick_marks, classes, rotation=45)\n",
    "    plt.yticks(tick_marks, classes)\n",
    "\n",
    "    \n",
    "    if normalize:\n",
    "        cm = cm.astype('float') / cm.sum(axis=1)[:, np.newaxis]\n",
    "        print(\"Matrix confusão normalizada\")\n",
    "        thresh = cm.max() / 2.\n",
    "        for i, j in itertools.product(range(cm.shape[0]), range(cm.shape[1])):\n",
    "            plt.text(j, i, ('%.3f' % cm[i, j]), horizontalalignment=\"center\", color=\"white\" if cm[i, j] > thresh else \"black\")\n",
    "\n",
    "    else:\n",
    "        print('Matrix confusão, sem normalização')\n",
    "        thresh = cm.max() / 2.\n",
    "        for i, j in itertools.product(range(cm.shape[0]), range(cm.shape[1])):\n",
    "            plt.text(j, i, cm[i, j], horizontalalignment=\"center\", color=\"white\" if cm[i, j] > thresh else \"black\")\n",
    "\n",
    "    print(cm)\n",
    "\n",
    "    plt.tight_layout()\n",
    "    plt.ylabel('Valores reais')\n",
    "    plt.xlabel('Valores preditos')\n",
    "\n",
    "# Compute confusion matrix\n",
    "cnf_matrix = confusion_matrix(yvalid, y_pred)\n",
    "np.set_printoptions(precision=2)\n",
    "\n",
    "# Plot non-normalized confusion matrix\n",
    "fig = plt.figure()\n",
    "plot_confusion_matrix(cnf_matrix, classes=class_names,\n",
    "                      title='Matrix confusao SVM-RBF')\n",
    "fig.set_size_inches(w=7,h=6)\n",
    "\n",
    "# Plot normalized confusion matrix\n",
    "fig = plt.figure()\n",
    "plot_confusion_matrix(cnf_matrix, classes=class_names, normalize=True,\n",
    "                      title='Matrix confusao SVM-RBF')\n",
    "fig_name = 'cmB_SVM-RBF.png'\n",
    "fig.set_size_inches(w=7,h=6)\n",
    "fig.savefig(fig_name)\n",
    "\n",
    "plt.show()"
   ]
  },
  {
   "cell_type": "code",
   "execution_count": null,
   "metadata": {},
   "outputs": [],
   "source": []
  }
 ],
 "metadata": {
  "kernelspec": {
   "display_name": "Python 2",
   "language": "python",
   "name": "python2"
  },
  "language_info": {
   "codemirror_mode": {
    "name": "ipython",
    "version": 2
   },
   "file_extension": ".py",
   "mimetype": "text/x-python",
   "name": "python",
   "nbconvert_exporter": "python",
   "pygments_lexer": "ipython2",
   "version": "2.7.14"
  }
 },
 "nbformat": 4,
 "nbformat_minor": 2
}
