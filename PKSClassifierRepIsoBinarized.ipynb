{
 "cells": [
  {
   "cell_type": "markdown",
   "metadata": {},
   "source": [
    "Pré-processamento realizado em Processing.ipynb"
   ]
  },
  {
   "cell_type": "markdown",
   "metadata": {},
   "source": [
    "# Bibliotecas"
   ]
  },
  {
   "cell_type": "code",
   "execution_count": 1,
   "metadata": {},
   "outputs": [],
   "source": [
    "import os\n",
    "import pandas as pd\n",
    "import numpy as np\n",
    "import scipy as sp\n",
    "from scipy import signal\n",
    "import ml_time_series as mls\n",
    "import timeit\n",
    "from datetime import datetime\n",
    "from sklearn.externals import joblib\n",
    "import matplotlib.pyplot as plt\n",
    "from sklearn.decomposition import PCA\n",
    "from sklearn import preprocessing\n",
    "from sklearn import utils\n",
    "\n",
    "%matplotlib inline  "
   ]
  },
  {
   "cell_type": "code",
   "execution_count": 2,
   "metadata": {},
   "outputs": [],
   "source": [
    "entropy = []\n",
    "\n",
    "def proccess_data(x,DATA,NUM_SAMPLES,LABEL):\n",
    "    \n",
    "    if \"v\" in x:\n",
    "         Xc = np.load(\"preproc/stacked_v/\"+x)\n",
    "    else:\n",
    "         Xc = np.load(\"preproc/stacked_t/\"+x)\n",
    "   \n",
    "    print '\\nXc initial shape ', Xc.shape\n",
    "    \n",
    "    #Principal component analysis\n",
    "    pca = PCA(n_components=8)\n",
    "    pca.fit(Xc)\n",
    "    Xc = pca.transform(Xc)\n",
    "    print pca.explained_variance_ratio_\n",
    "    entropy.append(sum(pca.explained_variance_ratio_))\n",
    "    print 'Xc PCA shape ', Xc.shape\n",
    "    \n",
    "    #Create temporal serie\n",
    "    #Xc = mls.generate_envelope(Xc, NUM_SAMPLES)\n",
    "    #print 'Xc temporal-serie shape ', Xc.shape\n",
    "    \n",
    "    #Labeling the PKS level    \n",
    "    C = (np.ones(len(Xc))*LABEL).reshape((len(Xc),1))\n",
    "    Xc = np.hstack((Xc.reshape(Xc.shape),C.reshape((len(Xc),1)))) \n",
    "    print 'Xc labeled shape ', Xc.shape\n",
    "    \n",
    "    # Salving in file on the folder </preproc/labeled>\n",
    "    if \"v\" in x:\n",
    "        np.save('./preproc/labeled_bv/'+x[:9]+'_tsl', Xc, allow_pickle=False)\n",
    "        print '\\n'+x[:9]+'_tsl'\n",
    "        DATAv.append(x[:9]+'_tsl.npy')\n",
    "    else:\n",
    "        np.save('./preproc/labeled_bt/'+x[:8]+'_tsl', Xc, allow_pickle=False)\n",
    "        print '\\n'+x[:8]+'_tsl'\n",
    "        DATA.append(x[:8]+'_tsl.npy')\n",
    "        "
   ]
  },
  {
   "cell_type": "code",
   "execution_count": 3,
   "metadata": {
    "scrolled": false
   },
   "outputs": [],
   "source": [
    "#DATA_hs= files = os.listdir('preproc\\stacked_t')\n",
    "DATA_hs = os.listdir('C:\\Users\\jorge.junior\\Documents\\GitHub\\PKS_ML\\preproc\\stacked_t')"
   ]
  },
  {
   "cell_type": "code",
   "execution_count": 4,
   "metadata": {},
   "outputs": [
    {
     "name": "stdout",
     "output_type": "stream",
     "text": [
      "pi06.1.1 9\n",
      "pi06.1.2 9\n",
      "pi06.1.3 9\n",
      "pi07.2.1 9\n",
      "pi07.2.2 9\n",
      "pi07.2.3 9\n",
      "pi09.1.1 9\n",
      "pi09.1.2 9\n",
      "pi09.1.3 9\n",
      "pi17.1.1 1\n",
      "pi17.1.2 1\n",
      "pi17.1.3 1\n",
      "pr06.1.1 9\n",
      "pr06.1.2 9\n",
      "pr06.1.3 9\n",
      "pr06.2.1 9\n",
      "pr06.2.2 9\n",
      "pr06.2.3 9\n",
      "pr07.1.1 9\n",
      "pr07.1.2 9\n",
      "pr07.1.3 9\n",
      "pr09.1.1 9\n",
      "pr09.1.2 9\n",
      "pr09.1.3 9\n",
      "pr09.2.1 9\n",
      "pr09.2.2 9\n",
      "pr09.2.3 9\n",
      "pr17.1.1 1\n",
      "pr17.1.2 1\n",
      "pr17.1.3 1\n",
      "pr17.2.1 1\n",
      "pr17.2.2 1\n",
      "pr17.2.3 1\n"
     ]
    }
   ],
   "source": [
    "#l=[2,2,2, 3,3,3, 4,4,4, 1,1,1, 2,2,2,2,2,2, 3,3,3, 4,4,4,4,4,4, 1,1,1,1,1,1]\n",
    "l=[9,9,9, 9,9,9, 9,9,9, 1,1,1, 9,9,9,9,9,9, 9,9,9, 9,9,9,9,9,9, 1,1,1,1,1,1]\n",
    "\n",
    "for x, y in zip(DATA_hs, l):\n",
    "    print x[:8],y"
   ]
  },
  {
   "cell_type": "code",
   "execution_count": 5,
   "metadata": {
    "scrolled": true
   },
   "outputs": [
    {
     "name": "stdout",
     "output_type": "stream",
     "text": [
      "\n",
      "Xc initial shape  (4617L, 16L)\n",
      "[0.70266675 0.13533794 0.09772733 0.03099862 0.02433168 0.00524991\n",
      " 0.00254483 0.00105406]\n",
      "Xc PCA shape  (4617L, 8L)\n",
      "Xc labeled shape  (4617L, 9L)\n",
      "\n",
      "pi06.1.1_tsl\n",
      "\n",
      "Xc initial shape  (4617L, 16L)\n",
      "[7.92391633e-01 9.74355769e-02 6.92129097e-02 2.04112117e-02\n",
      " 1.56787831e-02 2.91264066e-03 1.26605524e-03 6.29596881e-04]\n",
      "Xc PCA shape  (4617L, 8L)\n",
      "Xc labeled shape  (4617L, 9L)\n",
      "\n",
      "pi06.1.2_tsl\n",
      "\n",
      "Xc initial shape  (4617L, 16L)\n",
      "[9.18108081e-01 3.43028536e-02 2.50061872e-02 1.68807525e-02\n",
      " 3.72872455e-03 1.19810659e-03 5.07704121e-04 2.50394841e-04]\n",
      "Xc PCA shape  (4617L, 8L)\n",
      "Xc labeled shape  (4617L, 9L)\n",
      "\n",
      "pi06.1.3_tsl\n",
      "\n",
      "Xc initial shape  (3951L, 16L)\n",
      "[0.57906879 0.24182858 0.07123382 0.05140601 0.03818228 0.00852123\n",
      " 0.00663139 0.00306768]\n",
      "Xc PCA shape  (3951L, 8L)\n",
      "Xc labeled shape  (3951L, 9L)\n",
      "\n",
      "pi07.2.1_tsl\n",
      "\n",
      "Xc initial shape  (3951L, 16L)\n",
      "[0.45014805 0.31661577 0.09659891 0.06650448 0.04314308 0.01205164\n",
      " 0.01047417 0.00438114]\n",
      "Xc PCA shape  (3951L, 8L)\n",
      "Xc labeled shape  (3951L, 9L)\n",
      "\n",
      "pi07.2.2_tsl\n",
      "\n",
      "Xc initial shape  (3951L, 16L)\n",
      "[0.67122108 0.1809554  0.06385046 0.03920517 0.03065006 0.0063037\n",
      " 0.00531967 0.00244711]\n",
      "Xc PCA shape  (3951L, 8L)\n",
      "Xc labeled shape  (3951L, 9L)\n",
      "\n",
      "pi07.2.3_tsl\n",
      "\n",
      "Xc initial shape  (3951L, 16L)\n",
      "[0.36496785 0.20706995 0.18995804 0.14091615 0.07600909 0.01428718\n",
      " 0.00432326 0.00234071]\n",
      "Xc PCA shape  (3951L, 8L)\n",
      "Xc labeled shape  (3951L, 9L)\n",
      "\n",
      "pi09.1.1_tsl\n",
      "\n",
      "Xc initial shape  (3951L, 16L)\n",
      "[0.46323448 0.23560768 0.123177   0.09776296 0.05541125 0.01604708\n",
      " 0.005899   0.00274725]\n",
      "Xc PCA shape  (3951L, 8L)\n",
      "Xc labeled shape  (3951L, 9L)\n",
      "\n",
      "pi09.1.2_tsl\n",
      "\n",
      "Xc initial shape  (3951L, 16L)\n",
      "[0.5358036  0.16295195 0.12602234 0.09380467 0.06419386 0.0105214\n",
      " 0.00429643 0.00232283]\n",
      "Xc PCA shape  (3951L, 8L)\n",
      "Xc labeled shape  (3951L, 9L)\n",
      "\n",
      "pi09.1.3_tsl\n",
      "\n",
      "Xc initial shape  (3951L, 16L)\n",
      "[0.31923017 0.2437944  0.20038398 0.15717483 0.04068837 0.03415004\n",
      " 0.00330425 0.00109807]\n",
      "Xc PCA shape  (3951L, 8L)\n",
      "Xc labeled shape  (3951L, 9L)\n",
      "\n",
      "pi17.1.1_tsl\n",
      "\n",
      "Xc initial shape  (3951L, 16L)\n",
      "[0.36937519 0.21143965 0.16151947 0.14043055 0.07501281 0.03588402\n",
      " 0.00511392 0.00105912]\n",
      "Xc PCA shape  (3951L, 8L)\n",
      "Xc labeled shape  (3951L, 9L)\n",
      "\n",
      "pi17.1.2_tsl\n",
      "\n",
      "Xc initial shape  (3951L, 16L)\n",
      "[8.13052890e-01 7.49387453e-02 5.63189988e-02 2.89855630e-02\n",
      " 1.36103083e-02 1.17420061e-02 1.00921226e-03 2.98915304e-04]\n",
      "Xc PCA shape  (3951L, 8L)\n",
      "Xc labeled shape  (3951L, 9L)\n",
      "\n",
      "pi17.1.3_tsl\n",
      "\n",
      "Xc initial shape  (3951L, 16L)\n",
      "[0.64615117 0.21950446 0.0825476  0.01837573 0.01498483 0.00837818\n",
      " 0.00774286 0.00227983]\n",
      "Xc PCA shape  (3951L, 8L)\n",
      "Xc labeled shape  (3951L, 9L)\n",
      "\n",
      "pr06.1.1_tsl\n",
      "\n",
      "Xc initial shape  (3951L, 16L)\n",
      "[0.82564748 0.07583612 0.07257669 0.01118889 0.00634047 0.00346747\n",
      " 0.00316274 0.00176472]\n",
      "Xc PCA shape  (3951L, 8L)\n",
      "Xc labeled shape  (3951L, 9L)\n",
      "\n",
      "pr06.1.2_tsl\n",
      "\n",
      "Xc initial shape  (3951L, 16L)\n",
      "[0.74768053 0.16436788 0.03504877 0.03285036 0.00723729 0.00669215\n",
      " 0.00421896 0.00188064]\n",
      "Xc PCA shape  (3951L, 8L)\n",
      "Xc labeled shape  (3951L, 9L)\n",
      "\n",
      "pr06.1.3_tsl\n",
      "\n",
      "Xc initial shape  (3951L, 16L)\n",
      "[0.55295946 0.29930429 0.06490297 0.02728007 0.0202353  0.01644068\n",
      " 0.01117007 0.00763011]\n",
      "Xc PCA shape  (3951L, 8L)\n",
      "Xc labeled shape  (3951L, 9L)\n",
      "\n",
      "pr06.2.1_tsl\n",
      "\n",
      "Xc initial shape  (3951L, 16L)\n",
      "[0.8082161  0.13099914 0.02664084 0.01156593 0.00700946 0.006388\n",
      " 0.00539355 0.00375865]\n",
      "Xc PCA shape  (3951L, 8L)\n",
      "Xc labeled shape  (3951L, 9L)\n",
      "\n",
      "pr06.2.2_tsl\n",
      "\n",
      "Xc initial shape  (3951L, 16L)\n",
      "[0.74481251 0.17077178 0.03653975 0.02429093 0.01019682 0.00543033\n",
      " 0.00459289 0.00333662]\n",
      "Xc PCA shape  (3951L, 8L)\n",
      "Xc labeled shape  (3951L, 9L)\n",
      "\n",
      "pr06.2.3_tsl\n",
      "\n",
      "Xc initial shape  (3951L, 16L)\n",
      "[0.56603286 0.18913763 0.13951404 0.09089788 0.00593423 0.00442389\n",
      " 0.00230987 0.00161281]\n",
      "Xc PCA shape  (3951L, 8L)\n",
      "Xc labeled shape  (3951L, 9L)\n",
      "\n",
      "pr07.1.1_tsl\n",
      "\n",
      "Xc initial shape  (3951L, 16L)\n",
      "[0.49869698 0.2043328  0.18307722 0.09429245 0.00886002 0.00526048\n",
      " 0.00327031 0.00205766]\n",
      "Xc PCA shape  (3951L, 8L)\n",
      "Xc labeled shape  (3951L, 9L)\n",
      "\n",
      "pr07.1.2_tsl\n",
      "\n",
      "Xc initial shape  (3951L, 16L)\n",
      "[0.73432252 0.11258207 0.08946202 0.04806327 0.00998581 0.00264284\n",
      " 0.00194883 0.00094289]\n",
      "Xc PCA shape  (3951L, 8L)\n",
      "Xc labeled shape  (3951L, 9L)\n",
      "\n",
      "pr07.1.3_tsl\n",
      "\n",
      "Xc initial shape  (3951L, 16L)\n",
      "[3.85064134e-01 2.65783032e-01 2.38884458e-01 6.73375716e-02\n",
      " 3.13115960e-02 6.33940969e-03 4.87210256e-03 3.59213842e-04]\n",
      "Xc PCA shape  (3951L, 8L)\n",
      "Xc labeled shape  (3951L, 9L)\n",
      "\n",
      "pr09.1.1_tsl\n",
      "\n",
      "Xc initial shape  (3951L, 16L)\n",
      "[0.40293805 0.28474687 0.1676038  0.11346024 0.01614995 0.00930969\n",
      " 0.00519341 0.00052779]\n",
      "Xc PCA shape  (3951L, 8L)\n",
      "Xc labeled shape  (3951L, 9L)\n",
      "\n",
      "pr09.1.2_tsl\n",
      "\n",
      "Xc initial shape  (3951L, 16L)\n",
      "[6.42644212e-01 1.69288327e-01 9.98710374e-02 6.05275987e-02\n",
      " 1.33106242e-02 7.93306543e-03 5.93470809e-03 4.32482511e-04]\n",
      "Xc PCA shape  (3951L, 8L)\n",
      "Xc labeled shape  (3951L, 9L)\n",
      "\n",
      "pr09.1.3_tsl\n",
      "\n",
      "Xc initial shape  (3951L, 16L)\n",
      "[4.51751330e-01 2.30546668e-01 1.91811232e-01 9.77025972e-02\n",
      " 1.23993857e-02 9.73113786e-03 5.60562216e-03 3.88801267e-04]\n",
      "Xc PCA shape  (3951L, 8L)\n",
      "Xc labeled shape  (3951L, 9L)\n",
      "\n",
      "pr09.2.1_tsl\n",
      "\n",
      "Xc initial shape  (3951L, 16L)\n",
      "[0.41719984 0.28061121 0.1519992  0.10366898 0.01885402 0.01574853\n",
      " 0.01084805 0.00095102]\n",
      "Xc PCA shape  (3951L, 8L)\n",
      "Xc labeled shape  (3951L, 9L)\n",
      "\n",
      "pr09.2.2_tsl\n",
      "\n",
      "Xc initial shape  (3951L, 16L)\n",
      "[5.32364550e-01 2.49639346e-01 1.08978643e-01 7.75307805e-02\n",
      " 1.90444663e-02 6.77249708e-03 5.15001994e-03 4.75014695e-04]\n",
      "Xc PCA shape  (3951L, 8L)\n",
      "Xc labeled shape  (3951L, 9L)\n",
      "\n",
      "pr09.2.3_tsl\n",
      "\n",
      "Xc initial shape  (4617L, 16L)\n",
      "[7.62104502e-01 1.81519788e-01 2.39687598e-02 1.33357612e-02\n",
      " 1.28455418e-02 4.80924243e-03 7.43778336e-04 5.50075772e-04]\n",
      "Xc PCA shape  (4617L, 8L)\n",
      "Xc labeled shape  (4617L, 9L)\n",
      "\n",
      "pr17.1.1_tsl\n",
      "\n",
      "Xc initial shape  (4617L, 16L)\n",
      "[7.47469788e-01 1.96280951e-01 2.20341238e-02 1.52965570e-02\n",
      " 1.18038983e-02 5.58527864e-03 8.27204386e-04 5.74991131e-04]\n",
      "Xc PCA shape  (4617L, 8L)\n",
      "Xc labeled shape  (4617L, 9L)\n",
      "\n",
      "pr17.1.2_tsl\n",
      "\n",
      "Xc initial shape  (4617L, 16L)\n",
      "[8.65835899e-01 7.50868382e-02 4.48643567e-02 6.07010044e-03\n",
      " 4.39981951e-03 3.13368996e-03 3.42806879e-04 2.14716612e-04]\n",
      "Xc PCA shape  (4617L, 8L)\n",
      "Xc labeled shape  (4617L, 9L)\n",
      "\n",
      "pr17.1.3_tsl\n",
      "\n",
      "Xc initial shape  (3951L, 16L)\n",
      "[7.40395815e-01 1.37761743e-01 6.51964963e-02 3.66249925e-02\n",
      " 1.23556581e-02 6.33736576e-03 7.67706739e-04 4.51643741e-04]\n",
      "Xc PCA shape  (3951L, 8L)\n",
      "Xc labeled shape  (3951L, 9L)\n",
      "\n",
      "pr17.2.1_tsl\n",
      "\n",
      "Xc initial shape  (3951L, 16L)\n",
      "[7.04748760e-01 1.69053203e-01 6.37692150e-02 3.58145839e-02\n",
      " 1.50827298e-02 9.66889806e-03 1.03353008e-03 6.89454680e-04]\n",
      "Xc PCA shape  (3951L, 8L)\n",
      "Xc labeled shape  (3951L, 9L)\n",
      "\n",
      "pr17.2.2_tsl\n",
      "\n",
      "Xc initial shape  (3951L, 16L)\n",
      "[8.07559874e-01 9.07833840e-02 4.46373122e-02 3.62648427e-02\n",
      " 1.25173272e-02 7.46099415e-03 3.96985949e-04 3.05424714e-04]\n",
      "Xc PCA shape  (3951L, 8L)\n",
      "Xc labeled shape  (3951L, 9L)\n",
      "\n",
      "pr17.2.3_tsl\n",
      "Tempo total para o envelopamento: 0.03 min\n"
     ]
    }
   ],
   "source": [
    "#Grupo total\n",
    "start = timeit.default_timer()\n",
    "\n",
    "NUM_SAMPLES = 500\n",
    "#l=[2,2,2, 3,3,3, 4,4,4, 1,1,1, 2,2,2,2,2,2, 3,3,3, 4,4,4,4,4,4, 1,1,1,1,1,1]\n",
    "l=[9,9,9, 9,9,9, 9,9,9, 1,1,1, 9,9,9,9,9,9, 9,9,9, 9,9,9,9,9,9, 1,1,1,1,1,1]\n",
    "DATA = []\n",
    "\n",
    "for x, y in zip(DATA_hs, l):\n",
    "    proccess_data(x,DATA,NUM_SAMPLES,y)\n",
    "    \n",
    "stop = timeit.default_timer()\n",
    "ti = stop - start \n",
    "print ('Tempo total para o envelopamento: %.2f min' % (ti/60))"
   ]
  },
  {
   "cell_type": "code",
   "execution_count": 6,
   "metadata": {},
   "outputs": [
    {
     "data": {
      "text/plain": [
       "[0.9998240994264298,\n",
       " 0.9998347367058654,\n",
       " 0.9998479071796365,\n",
       " 0.9998603737387222,\n",
       " 0.9998632210559553,\n",
       " 0.9998722232483349,\n",
       " 0.9998727927219485,\n",
       " 0.9998774484405439,\n",
       " 0.9998808405551053,\n",
       " 0.9998867086090623]"
      ]
     },
     "execution_count": 6,
     "metadata": {},
     "output_type": "execute_result"
    }
   ],
   "source": [
    "#print min(entropy)\n",
    "import heapq\n",
    "\n",
    "elements = heapq.nsmallest(10, entropy)\n",
    "elements"
   ]
  },
  {
   "cell_type": "code",
   "execution_count": 7,
   "metadata": {},
   "outputs": [
    {
     "data": {
      "text/plain": [
       "['pi06.1.2_tsl.npy',\n",
       " 'pi06.1.3_tsl.npy',\n",
       " 'pi07.2.1_tsl.npy',\n",
       " 'pi07.2.2_tsl.npy',\n",
       " 'pi07.2.3_tsl.npy',\n",
       " 'pi09.1.1_tsl.npy',\n",
       " 'pi09.1.2_tsl.npy',\n",
       " 'pi09.1.3_tsl.npy',\n",
       " 'pi17.1.1_tsl.npy',\n",
       " 'pi17.1.2_tsl.npy',\n",
       " 'pi17.1.3_tsl.npy',\n",
       " 'pr06.1.1_tsl.npy',\n",
       " 'pr06.1.2_tsl.npy',\n",
       " 'pr06.1.3_tsl.npy',\n",
       " 'pr06.2.1_tsl.npy',\n",
       " 'pr06.2.2_tsl.npy',\n",
       " 'pr06.2.3_tsl.npy',\n",
       " 'pr07.1.1_tsl.npy',\n",
       " 'pr07.1.2_tsl.npy',\n",
       " 'pr07.1.3_tsl.npy',\n",
       " 'pr09.1.1_tsl.npy',\n",
       " 'pr09.1.2_tsl.npy',\n",
       " 'pr09.1.3_tsl.npy',\n",
       " 'pr09.2.1_tsl.npy',\n",
       " 'pr09.2.2_tsl.npy',\n",
       " 'pr09.2.3_tsl.npy',\n",
       " 'pr17.1.1_tsl.npy',\n",
       " 'pr17.1.2_tsl.npy',\n",
       " 'pr17.1.3_tsl.npy',\n",
       " 'pr17.2.1_tsl.npy']"
      ]
     },
     "execution_count": 7,
     "metadata": {},
     "output_type": "execute_result"
    }
   ],
   "source": [
    "DATA[1:-2]"
   ]
  },
  {
   "cell_type": "markdown",
   "metadata": {},
   "source": [
    "---"
   ]
  },
  {
   "cell_type": "code",
   "execution_count": 8,
   "metadata": {},
   "outputs": [],
   "source": [
    "#DATAv_hs= files = os.listdir('preproc\\stacked_v')\n",
    "DATAv_hs = os.listdir('C:\\Users\\jorge.junior\\Documents\\GitHub\\PKS_ML\\preproc\\stacked_v')"
   ]
  },
  {
   "cell_type": "code",
   "execution_count": 9,
   "metadata": {},
   "outputs": [
    {
     "name": "stdout",
     "output_type": "stream",
     "text": [
      "piv06.2 9\n",
      "piv06.2 9\n",
      "piv06.2 9\n",
      "piv07.3 9\n",
      "piv07.3 9\n",
      "piv07.3 9\n",
      "piv09.2 9\n",
      "piv09.2 9\n",
      "piv09.2 9\n",
      "piv17.3 1\n",
      "piv17.3 1\n",
      "piv17.3 1\n",
      "prv06.3 9\n",
      "prv06.3 9\n",
      "prv06.3 9\n",
      "prv07.2 9\n",
      "prv07.2 9\n",
      "prv07.2 9\n",
      "prv09.3 9\n",
      "prv09.3 9\n",
      "prv09.3 9\n",
      "prv17.3 1\n",
      "prv17.3 1\n",
      "prv17.3 1\n"
     ]
    }
   ],
   "source": [
    "#l=[2,2,2, 3,3,3, 4,4,4, 1,1,1, 2,2,2, 3,3,3, 4,4,4, 1,1,1]\n",
    "l=[9,9,9, 9,9,9, 9,9,9, 1,1,1, 9,9,9, 9,9,9, 9,9,9, 1,1,1]\n",
    "\n",
    "for x, y in zip(DATAv_hs, l):\n",
    "    print x[:7],y"
   ]
  },
  {
   "cell_type": "code",
   "execution_count": 10,
   "metadata": {
    "scrolled": true
   },
   "outputs": [
    {
     "name": "stdout",
     "output_type": "stream",
     "text": [
      "\n",
      "Xc initial shape  (3951L, 16L)\n",
      "[0.77838568 0.09700315 0.06180578 0.04295677 0.0120011  0.00455212\n",
      " 0.00214957 0.00108512]\n",
      "Xc PCA shape  (3951L, 8L)\n",
      "Xc labeled shape  (3951L, 9L)\n",
      "\n",
      "piv06.2.1_tsl\n",
      "\n",
      "Xc initial shape  (3951L, 16L)\n",
      "[0.80501968 0.07063668 0.06376585 0.04084466 0.01094164 0.00498291\n",
      " 0.00246689 0.00128971]\n",
      "Xc PCA shape  (3951L, 8L)\n",
      "Xc labeled shape  (3951L, 9L)\n",
      "\n",
      "piv06.2.2_tsl\n",
      "\n",
      "Xc initial shape  (3951L, 16L)\n",
      "[8.49567116e-01 8.35180547e-02 3.13916433e-02 2.21877478e-02\n",
      " 7.60317859e-03 3.35512640e-03 1.51000613e-03 8.36684254e-04]\n",
      "Xc PCA shape  (3951L, 8L)\n",
      "Xc labeled shape  (3951L, 9L)\n",
      "\n",
      "piv06.2.3_tsl\n",
      "\n",
      "Xc initial shape  (3951L, 16L)\n",
      "[0.4497234  0.32072682 0.09283223 0.06698997 0.04485289 0.01141615\n",
      " 0.00891781 0.00446434]\n",
      "Xc PCA shape  (3951L, 8L)\n",
      "Xc labeled shape  (3951L, 9L)\n",
      "\n",
      "piv07.3.1_tsl\n",
      "\n",
      "Xc initial shape  (3951L, 16L)\n",
      "[0.60119444 0.20307948 0.09186282 0.04454662 0.0281675  0.01833415\n",
      " 0.00927793 0.0034604 ]\n",
      "Xc PCA shape  (3951L, 8L)\n",
      "Xc labeled shape  (3951L, 9L)\n",
      "\n",
      "piv07.3.2_tsl\n",
      "\n",
      "Xc initial shape  (3951L, 16L)\n",
      "[0.80477476 0.11193658 0.03394386 0.0257908  0.01419414 0.00485321\n",
      " 0.0031914  0.00128471]\n",
      "Xc PCA shape  (3951L, 8L)\n",
      "Xc labeled shape  (3951L, 9L)\n",
      "\n",
      "piv07.3.3_tsl\n",
      "\n",
      "Xc initial shape  (3951L, 16L)\n",
      "[0.30469106 0.27662727 0.24057613 0.09402961 0.06284269 0.01293333\n",
      " 0.00542166 0.00279144]\n",
      "Xc PCA shape  (3951L, 8L)\n",
      "Xc labeled shape  (3951L, 9L)\n",
      "\n",
      "piv09.2.1_tsl\n",
      "\n",
      "Xc initial shape  (3951L, 16L)\n",
      "[0.4422222  0.21249514 0.1448838  0.10776306 0.07168251 0.01309725\n",
      " 0.00523306 0.00253506]\n",
      "Xc PCA shape  (3951L, 8L)\n",
      "Xc labeled shape  (3951L, 9L)\n",
      "\n",
      "piv09.2.2_tsl\n",
      "\n",
      "Xc initial shape  (3951L, 16L)\n",
      "[0.44728844 0.23932138 0.15757908 0.08463828 0.04984323 0.01323621\n",
      " 0.00497455 0.00303067]\n",
      "Xc PCA shape  (3951L, 8L)\n",
      "Xc labeled shape  (3951L, 9L)\n",
      "\n",
      "piv09.2.3_tsl\n",
      "\n",
      "Xc initial shape  (3951L, 16L)\n",
      "[0.40232376 0.24052907 0.17269177 0.09541261 0.05061922 0.02987272\n",
      " 0.00712987 0.00127706]\n",
      "Xc PCA shape  (3951L, 8L)\n",
      "Xc labeled shape  (3951L, 9L)\n",
      "\n",
      "piv17.3.1_tsl\n",
      "\n",
      "Xc initial shape  (3951L, 16L)\n",
      "[0.58700011 0.15731599 0.09655097 0.08857183 0.05723247 0.00940937\n",
      " 0.00317917 0.00064784]\n",
      "Xc PCA shape  (3951L, 8L)\n",
      "Xc labeled shape  (3951L, 9L)\n",
      "\n",
      "piv17.3.2_tsl\n",
      "\n",
      "Xc initial shape  (3951L, 16L)\n",
      "[7.23659433e-01 9.52512635e-02 7.70358282e-02 6.50907076e-02\n",
      " 2.49979001e-02 1.12205770e-02 2.24662428e-03 4.22971027e-04]\n",
      "Xc PCA shape  (3951L, 8L)\n",
      "Xc labeled shape  (3951L, 9L)\n",
      "\n",
      "piv17.3.3_tsl\n",
      "\n",
      "Xc initial shape  (3951L, 16L)\n",
      "[0.78718323 0.12319798 0.02796454 0.02155526 0.01455519 0.01136576\n",
      " 0.00967648 0.00444875]\n",
      "Xc PCA shape  (3951L, 8L)\n",
      "Xc labeled shape  (3951L, 9L)\n",
      "\n",
      "prv06.3.1_tsl\n",
      "\n",
      "Xc initial shape  (3951L, 16L)\n",
      "[0.70980886 0.20044239 0.04116824 0.01674552 0.01080523 0.00786502\n",
      " 0.00743387 0.00569374]\n",
      "Xc PCA shape  (3951L, 8L)\n",
      "Xc labeled shape  (3951L, 9L)\n",
      "\n",
      "prv06.3.2_tsl\n",
      "\n",
      "Xc initial shape  (3951L, 16L)\n",
      "[0.73041202 0.19778061 0.03196296 0.02079891 0.00761718 0.00464589\n",
      " 0.0040809  0.00267952]\n",
      "Xc PCA shape  (3951L, 8L)\n",
      "Xc labeled shape  (3951L, 9L)\n",
      "\n",
      "prv06.3.3_tsl\n",
      "\n",
      "Xc initial shape  (3951L, 16L)\n",
      "[0.44466182 0.26280773 0.16430848 0.1035803  0.0090061  0.00707602\n",
      " 0.00494801 0.0034745 ]\n",
      "Xc PCA shape  (3951L, 8L)\n",
      "Xc labeled shape  (3951L, 9L)\n",
      "\n",
      "prv07.2.1_tsl\n",
      "\n",
      "Xc initial shape  (3951L, 16L)\n",
      "[0.43009143 0.29152263 0.15269537 0.09777239 0.01204293 0.0082763\n",
      " 0.00482313 0.00263746]\n",
      "Xc PCA shape  (3951L, 8L)\n",
      "Xc labeled shape  (3951L, 9L)\n",
      "\n",
      "prv07.2.2_tsl\n",
      "\n",
      "Xc initial shape  (3951L, 16L)\n",
      "[0.46749839 0.23686292 0.16780137 0.09555008 0.01596649 0.00868285\n",
      " 0.00548915 0.00200026]\n",
      "Xc PCA shape  (3951L, 8L)\n",
      "Xc labeled shape  (3951L, 9L)\n",
      "\n",
      "prv07.2.3_tsl\n",
      "\n",
      "Xc initial shape  (4617L, 16L)\n",
      "[5.29257460e-01 1.80123219e-01 1.67921594e-01 9.22346416e-02\n",
      " 1.36421768e-02 1.09745563e-02 5.27775850e-03 4.82235822e-04]\n",
      "Xc PCA shape  (4617L, 8L)\n",
      "Xc labeled shape  (4617L, 9L)\n",
      "\n",
      "prv09.3.1_tsl\n",
      "\n",
      "Xc initial shape  (4617L, 16L)\n",
      "[5.01509472e-01 1.80250753e-01 1.59065606e-01 1.28483381e-01\n",
      " 1.33450823e-02 8.80902318e-03 7.99508602e-03 4.51417685e-04]\n",
      "Xc PCA shape  (4617L, 8L)\n",
      "Xc labeled shape  (4617L, 9L)\n",
      "\n",
      "prv09.3.2_tsl\n",
      "\n",
      "Xc initial shape  (4617L, 16L)\n",
      "[7.22896850e-01 1.41812587e-01 8.41684147e-02 3.55879334e-02\n",
      " 7.03099029e-03 4.60284642e-03 3.66304277e-03 1.97517348e-04]\n",
      "Xc PCA shape  (4617L, 8L)\n",
      "Xc labeled shape  (4617L, 9L)\n",
      "\n",
      "prv09.3.3_tsl\n",
      "\n",
      "Xc initial shape  (3951L, 16L)\n",
      "[7.55657796e-01 1.45298160e-01 5.21785419e-02 2.73768060e-02\n",
      " 1.28164716e-02 5.10491234e-03 8.98375606e-04 5.52366314e-04]\n",
      "Xc PCA shape  (3951L, 8L)\n",
      "Xc labeled shape  (3951L, 9L)\n",
      "\n",
      "prv17.3.1_tsl\n",
      "\n",
      "Xc initial shape  (3951L, 16L)\n",
      "[7.45567538e-01 1.62677347e-01 4.28738796e-02 2.35980715e-02\n",
      " 1.77847459e-02 5.79793378e-03 8.80027638e-04 6.78449536e-04]\n",
      "Xc PCA shape  (3951L, 8L)\n",
      "Xc labeled shape  (3951L, 9L)\n",
      "\n",
      "prv17.3.2_tsl\n",
      "\n",
      "Xc initial shape  (3951L, 16L)\n",
      "[8.19975126e-01 9.88810314e-02 3.84572188e-02 2.27420847e-02\n",
      " 9.79722494e-03 9.18099659e-03 4.94970101e-04 3.93663641e-04]\n",
      "Xc PCA shape  (3951L, 8L)\n",
      "Xc labeled shape  (3951L, 9L)\n",
      "\n",
      "prv17.3.3_tsl\n",
      "Tempo total para o envelopamento: 0.02 min\n"
     ]
    }
   ],
   "source": [
    "#Grupo total\n",
    "start = timeit.default_timer()\n",
    "\n",
    "NUM_SAMPLES = 500\n",
    "#l=[2,2,2, 3,3,3, 4,4,4, 1,1,1, 2,2,2, 3,3,3, 4,4,4, 1,1,1]\n",
    "l=[9,9,9, 9,9,9, 9,9,9, 1,1,1, 9,9,9, 9,9,9, 9,9,9, 1,1,1]\n",
    "\n",
    "DATAv = []\n",
    "\n",
    "for x, y in zip(DATAv_hs, l):\n",
    "    proccess_data(x,DATAv,NUM_SAMPLES,y)\n",
    "    \n",
    "stop = timeit.default_timer()\n",
    "ti = stop - start \n",
    "print ('Tempo total para o envelopamento: %.2f min' % (ti/60))"
   ]
  },
  {
   "cell_type": "code",
   "execution_count": 11,
   "metadata": {},
   "outputs": [
    {
     "data": {
      "text/plain": [
       "[0.9998240994264298,\n",
       " 0.9998347367058654,\n",
       " 0.9998479071796365,\n",
       " 0.9998515188977302,\n",
       " 0.9998560794230766,\n",
       " 0.9998579931788172,\n",
       " 0.9998603737387222,\n",
       " 0.9998616399685891,\n",
       " 0.9998629687378252,\n",
       " 0.9998632210559553]"
      ]
     },
     "execution_count": 11,
     "metadata": {},
     "output_type": "execute_result"
    }
   ],
   "source": [
    "#print min(entropy)\n",
    "import heapq\n",
    "\n",
    "elements = heapq.nsmallest(10, entropy)\n",
    "elements"
   ]
  },
  {
   "cell_type": "code",
   "execution_count": 12,
   "metadata": {
    "scrolled": false
   },
   "outputs": [
    {
     "data": {
      "text/plain": [
       "['pi06.1.1_tsl.npy',\n",
       " 'pi06.1.2_tsl.npy',\n",
       " 'pi06.1.3_tsl.npy',\n",
       " 'pi07.2.1_tsl.npy',\n",
       " 'pi07.2.2_tsl.npy',\n",
       " 'pi07.2.3_tsl.npy',\n",
       " 'pi09.1.1_tsl.npy',\n",
       " 'pi09.1.2_tsl.npy',\n",
       " 'pi09.1.3_tsl.npy',\n",
       " 'pi17.1.1_tsl.npy',\n",
       " 'pi17.1.2_tsl.npy',\n",
       " 'pi17.1.3_tsl.npy',\n",
       " 'pr06.1.1_tsl.npy',\n",
       " 'pr06.1.2_tsl.npy',\n",
       " 'pr06.1.3_tsl.npy',\n",
       " 'pr06.2.1_tsl.npy',\n",
       " 'pr06.2.2_tsl.npy',\n",
       " 'pr06.2.3_tsl.npy',\n",
       " 'pr07.1.1_tsl.npy',\n",
       " 'pr07.1.2_tsl.npy',\n",
       " 'pr07.1.3_tsl.npy',\n",
       " 'pr09.1.1_tsl.npy',\n",
       " 'pr09.1.2_tsl.npy',\n",
       " 'pr09.1.3_tsl.npy',\n",
       " 'pr09.2.1_tsl.npy',\n",
       " 'pr09.2.2_tsl.npy',\n",
       " 'pr09.2.3_tsl.npy',\n",
       " 'pr17.1.1_tsl.npy',\n",
       " 'pr17.1.2_tsl.npy',\n",
       " 'pr17.1.3_tsl.npy',\n",
       " 'pr17.2.1_tsl.npy',\n",
       " 'pr17.2.2_tsl.npy',\n",
       " 'pr17.2.3_tsl.npy']"
      ]
     },
     "execution_count": 12,
     "metadata": {},
     "output_type": "execute_result"
    }
   ],
   "source": [
    "DATA"
   ]
  },
  {
   "cell_type": "code",
   "execution_count": 13,
   "metadata": {},
   "outputs": [
    {
     "data": {
      "text/plain": [
       "['piv06.2.1_tsl.npy',\n",
       " 'piv06.2.2_tsl.npy',\n",
       " 'piv06.2.3_tsl.npy',\n",
       " 'piv07.3.1_tsl.npy',\n",
       " 'piv07.3.2_tsl.npy',\n",
       " 'piv07.3.3_tsl.npy',\n",
       " 'piv09.2.1_tsl.npy',\n",
       " 'piv09.2.2_tsl.npy',\n",
       " 'piv09.2.3_tsl.npy',\n",
       " 'piv17.3.1_tsl.npy',\n",
       " 'piv17.3.2_tsl.npy',\n",
       " 'piv17.3.3_tsl.npy',\n",
       " 'prv06.3.1_tsl.npy',\n",
       " 'prv06.3.2_tsl.npy',\n",
       " 'prv06.3.3_tsl.npy',\n",
       " 'prv07.2.1_tsl.npy',\n",
       " 'prv07.2.2_tsl.npy',\n",
       " 'prv07.2.3_tsl.npy',\n",
       " 'prv09.3.1_tsl.npy',\n",
       " 'prv09.3.2_tsl.npy',\n",
       " 'prv09.3.3_tsl.npy',\n",
       " 'prv17.3.1_tsl.npy',\n",
       " 'prv17.3.2_tsl.npy',\n",
       " 'prv17.3.3_tsl.npy']"
      ]
     },
     "execution_count": 13,
     "metadata": {},
     "output_type": "execute_result"
    }
   ],
   "source": [
    "DATAv"
   ]
  },
  {
   "cell_type": "markdown",
   "metadata": {},
   "source": [
    "## Shape data"
   ]
  },
  {
   "cell_type": "code",
   "execution_count": 14,
   "metadata": {},
   "outputs": [
    {
     "name": "stdout",
     "output_type": "stream",
     "text": [
      "Vstacking DATA test on X: 1 de 33\n",
      "Vstacking DATA test on X: 2 de 33\n",
      "Vstacking DATA test on X: 3 de 33\n",
      "Vstacking DATA test on X: 4 de 33\n",
      "Vstacking DATA test on X: 5 de 33\n",
      "Vstacking DATA test on X: 6 de 33\n",
      "Vstacking DATA test on X: 7 de 33\n",
      "Vstacking DATA test on X: 8 de 33\n",
      "Vstacking DATA test on X: 9 de 33\n",
      "Vstacking DATA test on X: 10 de 33\n",
      "Vstacking DATA test on X: 11 de 33\n",
      "Vstacking DATA test on X: 12 de 33\n",
      "Vstacking DATA test on X: 13 de 33\n",
      "Vstacking DATA test on X: 14 de 33\n",
      "Vstacking DATA test on X: 15 de 33\n",
      "Vstacking DATA test on X: 16 de 33\n",
      "Vstacking DATA test on X: 17 de 33\n",
      "Vstacking DATA test on X: 18 de 33\n",
      "Vstacking DATA test on X: 19 de 33\n",
      "Vstacking DATA test on X: 20 de 33\n",
      "Vstacking DATA test on X: 21 de 33\n",
      "Vstacking DATA test on X: 22 de 33\n",
      "Vstacking DATA test on X: 23 de 33\n",
      "Vstacking DATA test on X: 24 de 33\n",
      "Vstacking DATA test on X: 25 de 33\n",
      "Vstacking DATA test on X: 26 de 33\n",
      "Vstacking DATA test on X: 27 de 33\n",
      "Vstacking DATA test on X: 28 de 33\n",
      "Vstacking DATA test on X: 29 de 33\n",
      "Vstacking DATA test on X: 30 de 33\n",
      "Vstacking DATA test on X: 31 de 33\n",
      "Vstacking DATA test on X: 32 de 33\n",
      "Creating labels vector ...\n"
     ]
    },
    {
     "data": {
      "text/plain": [
       "((134379L, 8L), (134379L,))"
      ]
     },
     "execution_count": 14,
     "metadata": {},
     "output_type": "execute_result"
    }
   ],
   "source": [
    "cdata=0\n",
    "#Separando set de dados X, e set de labels y - Treino e Teste\n",
    "Xc = np.load(\"preproc/labeled_bt/\"+DATA[0])\n",
    "#for i in DATA[1:-2]:\n",
    "\n",
    "for i in DATA[1:]:\n",
    "    Xc = np.vstack((Xc,np.load('preproc/labeled_bt/'+i)))\n",
    "    cdata += 1\n",
    "    print (\"Vstacking DATA test on X: %i de %i\" % (cdata, len(DATA)))\n",
    "    \n",
    "X = Xc[:,0:(Xc.shape[1]-1)]\n",
    "\n",
    "print \"Creating labels vector ...\"\n",
    "\n",
    "yz = Xc[:,[(Xc.shape[1]-1)]]\n",
    "y = np.array([])\n",
    "for i in range(len(yz)):\n",
    "    y = np.hstack((y,yz[i]))\n",
    "    \n",
    "X.shape, y.shape"
   ]
  },
  {
   "cell_type": "code",
   "execution_count": 15,
   "metadata": {
    "scrolled": true
   },
   "outputs": [
    {
     "data": {
      "text/plain": [
       "array([1., 9.])"
      ]
     },
     "execution_count": 15,
     "metadata": {},
     "output_type": "execute_result"
    }
   ],
   "source": [
    "np.unique(y)"
   ]
  },
  {
   "cell_type": "code",
   "execution_count": 16,
   "metadata": {},
   "outputs": [],
   "source": [
    "#Dividindo os dados em sets de treino, test e validação\n",
    "from sklearn.model_selection import train_test_split\n",
    "X_train, X_test, y_train, y_test = train_test_split(X, y, test_size=0.3, random_state=1)\n",
    "\n",
    "#X_test, X_validate, y_test, y_validate = train_test_split(X_test_p, y_test_p, test_size=0.5, random_state=1)"
   ]
  },
  {
   "cell_type": "code",
   "execution_count": 17,
   "metadata": {},
   "outputs": [
    {
     "name": "stdout",
     "output_type": "stream",
     "text": [
      "Vstacking DATA test on X: 1 de 24\n",
      "Vstacking DATA test on X: 2 de 24\n",
      "Vstacking DATA test on X: 3 de 24\n",
      "Vstacking DATA test on X: 4 de 24\n",
      "Vstacking DATA test on X: 5 de 24\n",
      "Vstacking DATA test on X: 6 de 24\n",
      "Vstacking DATA test on X: 7 de 24\n",
      "Vstacking DATA test on X: 8 de 24\n",
      "Vstacking DATA test on X: 9 de 24\n",
      "Vstacking DATA test on X: 10 de 24\n",
      "Vstacking DATA test on X: 11 de 24\n",
      "Vstacking DATA test on X: 12 de 24\n",
      "Vstacking DATA test on X: 13 de 24\n",
      "Vstacking DATA test on X: 14 de 24\n",
      "Vstacking DATA test on X: 15 de 24\n",
      "Vstacking DATA test on X: 16 de 24\n",
      "Vstacking DATA test on X: 17 de 24\n",
      "Vstacking DATA test on X: 18 de 24\n",
      "Vstacking DATA test on X: 19 de 24\n",
      "Vstacking DATA test on X: 20 de 24\n",
      "Vstacking DATA test on X: 21 de 24\n",
      "Vstacking DATA test on X: 22 de 24\n",
      "Vstacking DATA test on X: 23 de 24\n",
      "Creating labels vector ...\n"
     ]
    },
    {
     "data": {
      "text/plain": [
       "((96822L, 8L), (96822L,))"
      ]
     },
     "execution_count": 17,
     "metadata": {},
     "output_type": "execute_result"
    }
   ],
   "source": [
    "cdata=0\n",
    "#Separando set de dados X, e set de labels y - Validação\n",
    "Xc = np.load(\"preproc/labeled_bv/\"+DATAv[0])\n",
    "for i in DATAv[1:]:\n",
    "    Xc = np.vstack((Xc,np.load('preproc/labeled_bv/'+i))) \n",
    "    cdata += 1\n",
    "    print (\"Vstacking DATA test on X: %i de %i\" % (cdata, len(DATAv)))\n",
    "    \n",
    "X_validate = Xc[:,0:(Xc.shape[1]-1)]\n",
    "\n",
    "print \"Creating labels vector ...\"\n",
    "\n",
    "yz = Xc[:,[(Xc.shape[1]-1)]]\n",
    "y_validate = np.array([])\n",
    "for i in range(len(yz)):\n",
    "    y_validate = np.hstack((y_validate,yz[i]))\n",
    "    \n",
    "X_validate.shape, y_validate.shape"
   ]
  },
  {
   "cell_type": "code",
   "execution_count": 18,
   "metadata": {},
   "outputs": [
    {
     "data": {
      "text/plain": [
       "array([1., 9.])"
      ]
     },
     "execution_count": 18,
     "metadata": {},
     "output_type": "execute_result"
    }
   ],
   "source": [
    "np.unique(y_validate)"
   ]
  },
  {
   "cell_type": "code",
   "execution_count": 19,
   "metadata": {},
   "outputs": [
    {
     "name": "stdout",
     "output_type": "stream",
     "text": [
      "(94065L, 8L) (40314L, 8L) (96822L, 8L) (94065L,) (40314L,) (96822L,)\n"
     ]
    }
   ],
   "source": [
    "#Aplica normalizador P.S.: Verificar necessidade pois os dados já foram normalizados anteriormente\n",
    "from sklearn.preprocessing import StandardScaler\n",
    "sc = StandardScaler()\n",
    "sc.fit(X_train)\n",
    "X_train_std = sc.transform(X_train)\n",
    "X_test_std = sc.transform(X_test)\n",
    "X_validate_std = sc.transform(X_validate)\n",
    "\n",
    "print X_train_std.shape, X_test_std.shape, X_validate_std.shape, y_train.shape, y_test.shape, y_validate.shape"
   ]
  },
  {
   "cell_type": "code",
   "execution_count": 20,
   "metadata": {},
   "outputs": [
    {
     "data": {
      "text/plain": [
       "((96822L, 8L), (96822L,))"
      ]
     },
     "execution_count": 20,
     "metadata": {},
     "output_type": "execute_result"
    }
   ],
   "source": [
    "X_validate_std = sc.transform(X_validate)\n",
    "\n",
    "X_validate_std.shape, y_validate.shape"
   ]
  },
  {
   "cell_type": "markdown",
   "metadata": {},
   "source": [
    "---"
   ]
  },
  {
   "cell_type": "markdown",
   "metadata": {},
   "source": [
    "## Classifiers"
   ]
  },
  {
   "cell_type": "markdown",
   "metadata": {},
   "source": [
    "### Random Forest"
   ]
  },
  {
   "cell_type": "code",
   "execution_count": 132,
   "metadata": {},
   "outputs": [
    {
     "name": "stdout",
     "output_type": "stream",
     "text": [
      "Training time\n",
      "Wall time: 43.6 s\n",
      "\n",
      "Predict time\n",
      "Wall time: 670 ms\n",
      "\n",
      "ClassifyRF accuracy:---------->91.95 %\n"
     ]
    }
   ],
   "source": [
    "#Training and test\n",
    "from sklearn.ensemble import RandomForestClassifier\n",
    "rfc = RandomForestClassifier(n_estimators=100, criterion=\"entropy\", oob_score=True, n_jobs = 4)\n",
    "\n",
    "print 'Training time'\n",
    "%time rfc = rfc.fit(X_train_std, y_train)\n",
    "\n",
    "print''\n",
    "\n",
    "print 'Predict time'\n",
    "%time rfc_y_pred = rfc.predict(X_test_std)\n",
    "\n",
    "print''\n",
    "\n",
    "from sklearn.metrics import accuracy_score\n",
    "print ('ClassifyRF accuracy:---------->%.2f %%' % (accuracy_score(y_test, rfc_y_pred)*100))"
   ]
  },
  {
   "cell_type": "markdown",
   "metadata": {},
   "source": [
    "#### Resultado anterior\n",
    "H-Y Simpliicada + n0\n",
    "\n",
    "Training time\n",
    "CPU times: user 59 s, sys: 696 ms, total: 59.7 s\n",
    "Wall time: 15.5 s\n",
    "\n",
    "Predict time\n",
    "CPU times: user 5.14 s, sys: 16 ms, total: 5.15 s\n",
    "Wall time: 1.45 s\n",
    "\n",
    "ClassifyRF accuracy:---------->73.55 %\n",
    "\n",
    "---\n",
    "\n",
    "Todas as clases\n",
    "\n",
    "Training time\n",
    "CPU times: user 59.5 s, sys: 980 ms, total: 1min\n",
    "Wall time: 16.6 s\n",
    "\n",
    "Predict time\n",
    "CPU times: user 5.46 s, sys: 32 ms, total: 5.49 s\n",
    "Wall time: 1.56 s\n",
    "\n",
    "ClassifyRF accuracy:---------->71.82 %\n",
    "\n",
    "---\n",
    "Overfited\n",
    "\n",
    "Training time\n",
    "CPU times: user 59.5 s, sys: 1.2 s, total: 1min\n",
    "Wall time: 17.2 s\n",
    "\n",
    "Predict time\n",
    "CPU times: user 9.07 s, sys: 132 ms, total: 9.2 s\n",
    "Wall time: 2.75 s\n",
    "\n",
    "ClassifyRF accuracy:---------->100.00 %"
   ]
  },
  {
   "cell_type": "markdown",
   "metadata": {},
   "source": [
    "#Salva a rede treinada para um arquivo\n",
    "joblib.dump(rfc, 'DB_INTENC/preproc/labeled/rfc_split2.pkl') "
   ]
  },
  {
   "cell_type": "markdown",
   "metadata": {
    "collapsed": true
   },
   "source": [
    "rfc = joblib.load('DB_INTENC/preproc/labeled/rfc.pkl')"
   ]
  },
  {
   "cell_type": "code",
   "execution_count": 133,
   "metadata": {},
   "outputs": [
    {
     "name": "stdout",
     "output_type": "stream",
     "text": [
      "Predict time\n",
      "Wall time: 1.02 s\n",
      "\n",
      "ClassifyRF accuracy:---------->72.50 %\n"
     ]
    }
   ],
   "source": [
    "#Validation\n",
    "print 'Predict time'\n",
    "%time rfc_y_pred_v = rfc.predict(X_validate)\n",
    "\n",
    "print''\n",
    "\n",
    "from sklearn.metrics import accuracy_score\n",
    "\n",
    "result = ('ClassifyRF accuracy:---------->%.2f %%' % (accuracy_score(rfc_y_pred_v, y_validate)*100))\n",
    "\n",
    "print result"
   ]
  },
  {
   "cell_type": "markdown",
   "metadata": {},
   "source": [
    "#### Resultado anterior\n",
    "H-Y Simpliicada + n0\n",
    "\n",
    "Predict time\n",
    "CPU times: user 4.2 s, sys: 124 ms, total: 4.32 s\n",
    "Wall time: 1.23 s\n",
    "\n",
    "ClassifyRF accuracy:---------->29.25 %\n",
    "\n",
    "\n",
    "---\n",
    "\n",
    "Predict time\n",
    "CPU times: user 4.48 s, sys: 548 ms, total: 5.02 s\n",
    "Wall time: 1.45 s\n",
    "\n",
    "ClassifyRF accuracy:---------->25.98 %\n",
    "\n",
    "---\n",
    "\n",
    "Predict time\n",
    "CPU times: user 1.73 s, sys: 220 ms, total: 1.95 s\n",
    "Wall time: 707 ms\n",
    "\n",
    "ClassifyRF accuracy:---------->27.10 %\n"
   ]
  },
  {
   "cell_type": "code",
   "execution_count": 134,
   "metadata": {},
   "outputs": [
    {
     "name": "stdout",
     "output_type": "stream",
     "text": [
      "Predict time\n",
      "Wall time: 1.16 s\n",
      "\n",
      "ClassifyRF accuracy:---------->82.34 %\n"
     ]
    }
   ],
   "source": [
    "#Validation\n",
    "print 'Predict time'\n",
    "%time rfc_y_pred_v = rfc.predict(X_validate_std)\n",
    "\n",
    "print''\n",
    "\n",
    "from sklearn.metrics import accuracy_score\n",
    "\n",
    "result = ('ClassifyRF accuracy:---------->%.2f %%' % (accuracy_score(rfc_y_pred_v, y_validate)*100))\n",
    "\n",
    "print result"
   ]
  },
  {
   "cell_type": "markdown",
   "metadata": {},
   "source": [
    "#### Resultado anterior\n",
    "H-Y Simpliicada + n0\n",
    "\n",
    "Predict time\n",
    "CPU times: user 10.1 s, sys: 80 ms, total: 10.1 s\n",
    "Wall time: 2.94 s\n",
    "\n",
    "ClassifyRF accuracy:---------->45.17 %\n",
    "\n",
    "---\n",
    "\n",
    "Predict time\n",
    "CPU times: user 10.5 s, sys: 552 ms, total: 11.1 s\n",
    "Wall time: 3.03 s\n",
    "\n",
    "ClassifyRF accuracy:---------->42.09 %\n",
    "\n",
    "---\n",
    "\n",
    "Predict time\n",
    "\n",
    "CPU times: user 6.7 s, sys: 372 ms, total: 7.07 s\n",
    "Wall time: 2.05 s\n",
    "\n",
    "ClassifyRF accuracy:---------->85.97 %\n"
   ]
  },
  {
   "cell_type": "code",
   "execution_count": 135,
   "metadata": {},
   "outputs": [
    {
     "data": {
      "text/plain": [
       "array([9., 9., 9., ..., 9., 9., 9.])"
      ]
     },
     "execution_count": 135,
     "metadata": {},
     "output_type": "execute_result"
    }
   ],
   "source": [
    "rfc_y_pred_v"
   ]
  },
  {
   "cell_type": "code",
   "execution_count": 136,
   "metadata": {},
   "outputs": [
    {
     "data": {
      "text/plain": [
       "0"
      ]
     },
     "execution_count": 136,
     "metadata": {},
     "output_type": "execute_result"
    }
   ],
   "source": [
    "list(y_validate).count(3)"
   ]
  },
  {
   "cell_type": "code",
   "execution_count": 137,
   "metadata": {},
   "outputs": [],
   "source": [
    "from sklearn.metrics import confusion_matrix\n",
    "confusion_matrix = confusion_matrix(y_validate, rfc_y_pred_v)\n",
    "confusion_matrix = confusion_matrix.astype('float')"
   ]
  },
  {
   "cell_type": "code",
   "execution_count": 138,
   "metadata": {
    "scrolled": true
   },
   "outputs": [
    {
     "data": {
      "text/plain": [
       "array([[10758., 12948.],\n",
       "       [ 4152., 68964.]])"
      ]
     },
     "execution_count": 138,
     "metadata": {},
     "output_type": "execute_result"
    }
   ],
   "source": [
    "confusion_matrix\n",
    "cm = confusion_matrix\n",
    "cm"
   ]
  },
  {
   "cell_type": "code",
   "execution_count": 139,
   "metadata": {},
   "outputs": [],
   "source": [
    "FN = confusion_matrix.sum(axis=0) - np.diag(confusion_matrix)  \n",
    "FP = confusion_matrix.sum(axis=1) - np.diag(confusion_matrix)\n",
    "TP = np.diag(confusion_matrix)\n",
    "TN = confusion_matrix.sum() - (FP + FN + TP)\n",
    "\n",
    "# Sensitivity, hit rate, recall, or true positive rate\n",
    "TPR = TP/(TP+FN)\n",
    "# Specificity or true negative rate\n",
    "TNR = TN/(TN+FP) \n",
    "# Precision or positive predictive value\n",
    "PPV = TP/(TP+FP)\n",
    "# Negative predictive value\n",
    "NPV = TN/(TN+FN)\n",
    "# Fall out or false positive rate\n",
    "FPR = FP/(FP+TN)\n",
    "# False negative rate\n",
    "FNR = FN/(TP+FN)\n",
    "# False discovery rate\n",
    "FDR = FP/(TP+FP)\n",
    "\n",
    "# Overall accuracy\n",
    "ACC = (TP+TN)/(TP+FP+FN+TN)"
   ]
  },
  {
   "cell_type": "code",
   "execution_count": 140,
   "metadata": {},
   "outputs": [
    {
     "name": "stdout",
     "output_type": "stream",
     "text": [
      "TP: [10758. 68964.] = 79722.0\n",
      "TN: [68964. 10758.] = 79722.0\n",
      "FP: [12948.  4152.] = 17100.0\n",
      "FN: [ 4152. 12948.] = 17100.0\n"
     ]
    }
   ],
   "source": [
    "print 'TP:', TP, '=', sum(TP)\n",
    "print 'TN:', TN, '=', sum(TN)\n",
    "print 'FP:', FP, '=', sum(FP)\n",
    "print 'FN:', FN, '=', sum(FN)"
   ]
  },
  {
   "cell_type": "code",
   "execution_count": 141,
   "metadata": {},
   "outputs": [],
   "source": [
    "#P1 = sum(cm[0][:4])\n",
    "#P2 = sum(cm[1][:4])\n",
    "#P3 = sum(cm[2][:4])\n",
    "#P4 = sum(cm[3][:4])\n",
    "\n",
    "P1 = sum(cm[0][:2])\n",
    "P2 = sum(cm[1][:2])"
   ]
  },
  {
   "cell_type": "code",
   "execution_count": 142,
   "metadata": {},
   "outputs": [
    {
     "data": {
      "text/plain": [
       "0.6985113429765738"
      ]
     },
     "execution_count": 142,
     "metadata": {},
     "output_type": "execute_result"
    }
   ],
   "source": [
    "#P1 = (TP[0])/sum(cm[0][:4])\n",
    "#P2 = (TP[1])/sum(cm[1][:4])\n",
    "#P3 = (TP[2])/sum(cm[2][:4])\n",
    "#P4 = (TP[3])/sum(cm[3][:4])\n",
    "\n",
    "#S1 = (TP[0])/sum(cm[:5,[0]])\n",
    "#S2 = (TP[1])/sum(cm[:5,[1]])\n",
    "#S3 = (TP[2])/sum(cm[:5,[2]])\n",
    "#S4 = (TP[3])/sum(cm[:5,[3]])\n",
    "\n",
    "#(P1+P2+P3+P4)/4\n",
    "\n",
    "P1 = (TP[0])/sum(cm[0][:2])\n",
    "P2 = (TP[1])/sum(cm[1][:2])\n",
    "\n",
    "S1 = (TP[0])/sum(cm[:2,[0]])\n",
    "S2 = (TP[1])/sum(cm[:2,[1]])\n",
    "\n",
    "(P1+P2)/2"
   ]
  },
  {
   "cell_type": "code",
   "execution_count": 143,
   "metadata": {
    "scrolled": false
   },
   "outputs": [
    {
     "name": "stdout",
     "output_type": "stream",
     "text": [
      "(0.45380916223740825, 0.9432135237157394)\n",
      "\n",
      "(array([0.72152918]), array([0.84192792]))\n"
     ]
    }
   ],
   "source": [
    "#print (P1,P2,P3,P4)\n",
    "#print ''\n",
    "#print (S1,S2,S3,S4)\n",
    "\n",
    "print (P1,P2)\n",
    "print ''\n",
    "print (S1,S2)"
   ]
  },
  {
   "cell_type": "code",
   "execution_count": 144,
   "metadata": {},
   "outputs": [
    {
     "data": {
      "text/plain": [
       "array([0.78172855])"
      ]
     },
     "execution_count": 144,
     "metadata": {},
     "output_type": "execute_result"
    }
   ],
   "source": [
    "(S1+S2)/2"
   ]
  },
  {
   "cell_type": "code",
   "execution_count": 145,
   "metadata": {},
   "outputs": [
    {
     "data": {
      "text/plain": [
       "array([23706., 73116.])"
      ]
     },
     "execution_count": 145,
     "metadata": {},
     "output_type": "execute_result"
    }
   ],
   "source": [
    "(TP+FP)"
   ]
  },
  {
   "cell_type": "code",
   "execution_count": 146,
   "metadata": {},
   "outputs": [
    {
     "data": {
      "text/plain": [
       "array([72.15291751, 84.19279226])"
      ]
     },
     "execution_count": 146,
     "metadata": {},
     "output_type": "execute_result"
    }
   ],
   "source": [
    "TPR*100 # Sensitivity"
   ]
  },
  {
   "cell_type": "code",
   "execution_count": 147,
   "metadata": {},
   "outputs": [
    {
     "data": {
      "text/plain": [
       "array([84.19279226, 72.15291751])"
      ]
     },
     "execution_count": 147,
     "metadata": {},
     "output_type": "execute_result"
    }
   ],
   "source": [
    "TNR*100 # Specificity"
   ]
  },
  {
   "cell_type": "code",
   "execution_count": 148,
   "metadata": {},
   "outputs": [
    {
     "data": {
      "text/plain": [
       "array([45.38091622, 94.32135237])"
      ]
     },
     "execution_count": 148,
     "metadata": {},
     "output_type": "execute_result"
    }
   ],
   "source": [
    "PPV*100 # Precision"
   ]
  },
  {
   "cell_type": "code",
   "execution_count": 149,
   "metadata": {},
   "outputs": [
    {
     "data": {
      "text/plain": [
       "array([82.33872467, 82.33872467])"
      ]
     },
     "execution_count": 149,
     "metadata": {},
     "output_type": "execute_result"
    }
   ],
   "source": [
    "ACC*100 # Accuracy"
   ]
  },
  {
   "cell_type": "code",
   "execution_count": 150,
   "metadata": {
    "scrolled": true
   },
   "outputs": [
    {
     "name": "stdout",
     "output_type": "stream",
     "text": [
      "Sensitivity 78.17%\n",
      "Specificity 78.17%\n",
      "Precision 69.85%\n",
      "Accuray 82.34%\n"
     ]
    }
   ],
   "source": [
    "#print ('Sensitivity %.2f%%' %(sum(TPR)/4*100))\n",
    "#print ('Specificity %.2f%%' %(sum(TNR)/4*100))\n",
    "#print ('Precision %.2f%%' %(sum(PPV)/4*100))\n",
    "#print ('Accuray %.2f%%' %(sum(ACC)/4*100))\n",
    "\n",
    "print ('Sensitivity %.2f%%' %(sum(TPR)/2*100))\n",
    "print ('Specificity %.2f%%' %(sum(TNR)/2*100))\n",
    "print ('Precision %.2f%%' %(sum(PPV)/2*100))\n",
    "print ('Accuray %.2f%%' %(sum(ACC)/2*100))"
   ]
  },
  {
   "cell_type": "markdown",
   "metadata": {},
   "source": [
    "#### Resultado anterior\n",
    "H-Y Simpliicada + n0\n",
    "\n",
    "Sensitivity 44.06%\n",
    "\n",
    "Specificity 86.15%\n",
    "\n",
    "Precision 45.71%\n",
    "\n",
    "Accuray 78.07%"
   ]
  },
  {
   "cell_type": "markdown",
   "metadata": {},
   "source": [
    "## Confusion Matrix"
   ]
  },
  {
   "cell_type": "code",
   "execution_count": 151,
   "metadata": {
    "scrolled": false
   },
   "outputs": [
    {
     "data": {
      "image/png": "[encoded data removed]",
      "text/plain": [
       "<matplotlib.figure.Figure at 0xbc1fe10>"
      ]
     },
     "metadata": {},
     "output_type": "display_data"
    },
    {
     "data": {
      "image/png": "[encoded data removed]",
      "text/plain": [
       "<matplotlib.figure.Figure at 0x196e9f98>"
      ]
     },
     "metadata": {},
     "output_type": "display_data"
    }
   ],
   "source": [
    "# encoding=utf8  \n",
    "import sys  \n",
    "\n",
    "reload(sys)  \n",
    "sys.setdefaultencoding('utf8')\n",
    "\n",
    "from sklearn.metrics import confusion_matrix\n",
    "import itertools\n",
    "import matplotlib.pyplot as plt\n",
    "\n",
    "class_names = np.array(['N-1', 'N-9'])\n",
    "\n",
    "yvalid = y_validate \n",
    "\n",
    "def plot_confusion_matrix(cm, classes,\n",
    "                          normalize=False,\n",
    "                          title='Confusion de matrix',\n",
    "                          cmap=plt.cm.Blues):\n",
    "    \"\"\"\n",
    "    This function prints and plots the confusion matrix.\n",
    "    Normalization can be applied by setting `normalize=True`.\n",
    "    \"\"\"\n",
    "    plt.imshow(cm, interpolation='nearest', cmap=cmap)\n",
    "    plt.title(title)\n",
    "    plt.colorbar()\n",
    "    tick_marks = np.arange(len(classes))\n",
    "    plt.xticks(tick_marks, classes, rotation=45)\n",
    "    plt.yticks(tick_marks, classes)\n",
    "\n",
    "    \n",
    "    if normalize:\n",
    "        cm = cm.astype('float') / cm.sum(axis=1)[:, np.newaxis]\n",
    "        print(\"Matrix de confusão normalizada\")\n",
    "        thresh = cm.max() / 2.\n",
    "        for i, j in itertools.product(range(cm.shape[0]), range(cm.shape[1])):\n",
    "            plt.text(j, i, ('%.3f' % cm[i, j]), horizontalalignment=\"center\", color=\"white\" if cm[i, j] > thresh else \"black\")\n",
    "\n",
    "    else:\n",
    "        print('Matrix de confusão, sem normalização')\n",
    "        thresh = cm.max() / 2.\n",
    "        for i, j in itertools.product(range(cm.shape[0]), range(cm.shape[1])):\n",
    "            plt.text(j, i, cm[i, j], horizontalalignment=\"center\", color=\"white\" if cm[i, j] > thresh else \"black\")\n",
    "\n",
    "    print(cm)\n",
    "\n",
    "    plt.tight_layout()\n",
    "    plt.ylabel('Valores reais')\n",
    "    plt.xlabel('Valores preditos')\n",
    "\n",
    "# Compute confusion matrix\n",
    "cnf_matrix = confusion_matrix(yvalid, rfc_y_pred_v)\n",
    "np.set_printoptions(precision=2)\n",
    "\n",
    "# Plot non-normalized confusion matrix\n",
    "fig = plt.figure()\n",
    "plot_confusion_matrix(cnf_matrix, classes=class_names,\n",
    "                      title='Matrix de confusão - Random Forest')\n",
    "fig.set_size_inches(w=7,h=6)\n",
    "\n",
    "# Plot normalized confusion matrix\n",
    "fig = plt.figure()\n",
    "plot_confusion_matrix(cnf_matrix, classes=class_names, normalize=True,\n",
    "                      title='Matrix de confusão - Random Forest')\n",
    "fig_name = 'CF_figs/cmB_RF.png'\n",
    "fig.set_size_inches(w=7,h=6)\n",
    "fig.savefig(fig_name)\n",
    "\n",
    "plt.show()"
   ]
  },
  {
   "cell_type": "markdown",
   "metadata": {},
   "source": [
    "---"
   ]
  },
  {
   "cell_type": "markdown",
   "metadata": {},
   "source": [
    "## Support Vector Machine RBF"
   ]
  },
  {
   "cell_type": "code",
   "execution_count": 153,
   "metadata": {},
   "outputs": [],
   "source": [
    "from sklearn import svm, datasets\n",
    "\n",
    "print 'Processing time SVM'\n",
    "%time svm_rbf = svm.SVC(kernel='rbf', gamma=0.2, C=6, decision_function_shape='ovr').fit(X_train_std, y_train)\n",
    "\n",
    "print ''\n",
    "print 'Predict time'  \n",
    "%time rbf_y_pred = svm_rbf.predict(X_test_std)\n",
    "from sklearn.metrics import accuracy_score\n",
    "\n",
    "print ('SVM-RBF accuracy:---------->%.2f %%' % (accuracy_score(y_test, rbf_y_pred)*100))"
   ]
  },
  {
   "cell_type": "code",
   "execution_count": 154,
   "metadata": {},
   "outputs": [
    {
     "data": {
      "text/plain": [
       "0.7834499181425807"
      ]
     },
     "execution_count": 154,
     "metadata": {},
     "output_type": "execute_result"
    }
   ],
   "source": [
    "accuracy_score(y_test, rbf_y_pred)"
   ]
  },
  {
   "cell_type": "code",
   "execution_count": 155,
   "metadata": {},
   "outputs": [],
   "source": [
    "print 'Predict time'  \n",
    "%time rbf_y_pred_v = svm_rbf.predict(X_validate_std)\n",
    "from sklearn.metrics import accuracy_score\n",
    "print ('SVM-RBF accuracy:---------->%.2f %%' % (accuracy_score(y_validate, rbf_y_pred_v)*100))"
   ]
  },
  {
   "cell_type": "code",
   "execution_count": 157,
   "metadata": {},
   "outputs": [
    {
     "data": {
      "text/plain": [
       "0.7648881452562434"
      ]
     },
     "execution_count": 157,
     "metadata": {},
     "output_type": "execute_result"
    }
   ],
   "source": [
    "(accuracy_score(y_validate, rbf_y_pred_v))"
   ]
  },
  {
   "cell_type": "code",
   "execution_count": 158,
   "metadata": {},
   "outputs": [
    {
     "data": {
      "text/plain": [
       "array([[ 4762., 18944.],\n",
       "       [ 3820., 69296.]])"
      ]
     },
     "execution_count": 158,
     "metadata": {},
     "output_type": "execute_result"
    }
   ],
   "source": [
    "from sklearn.metrics import confusion_matrix\n",
    "confusion_matrix = confusion_matrix(y_validate, rbf_y_pred_v)\n",
    "confusion_matrix = confusion_matrix.astype('float')\n",
    "confusion_matrix\n",
    "cm = confusion_matrix\n",
    "cm"
   ]
  },
  {
   "cell_type": "markdown",
   "metadata": {
    "collapsed": true
   },
   "source": [
    "# Confusion Matrix"
   ]
  },
  {
   "cell_type": "code",
   "execution_count": 159,
   "metadata": {},
   "outputs": [],
   "source": [
    "from sklearn.metrics import confusion_matrix\n",
    "confusion_matrix = confusion_matrix(y_validate, rbf_y_pred_v)\n",
    "confusion_matrix = confusion_matrix.astype('float')"
   ]
  },
  {
   "cell_type": "code",
   "execution_count": 160,
   "metadata": {},
   "outputs": [
    {
     "data": {
      "text/plain": [
       "array([[ 4762., 18944.],\n",
       "       [ 3820., 69296.]])"
      ]
     },
     "execution_count": 160,
     "metadata": {},
     "output_type": "execute_result"
    }
   ],
   "source": [
    "confusion_matrix"
   ]
  },
  {
   "cell_type": "code",
   "execution_count": 161,
   "metadata": {},
   "outputs": [],
   "source": [
    "FN = confusion_matrix.sum(axis=0) - np.diag(confusion_matrix)  \n",
    "FP = confusion_matrix.sum(axis=1) - np.diag(confusion_matrix)\n",
    "TP = np.diag(confusion_matrix)\n",
    "TN = confusion_matrix.sum() - (FP + FN + TP)\n",
    "\n",
    "# Sensitivity, hit rate, recall, or true positive rate\n",
    "TPR = TP/(TP+FN)\n",
    "# Specificity or true negative rate\n",
    "TNR = TN/(TN+FP) \n",
    "# Precision or positive predictive value\n",
    "PPV = TP/(TP+FP)\n",
    "# Negative predictive value\n",
    "NPV = TN/(TN+FN)\n",
    "# Fall out or false positive rate\n",
    "FPR = FP/(FP+TN)\n",
    "# False negative rate\n",
    "FNR = FN/(TP+FN)\n",
    "# False discovery rate\n",
    "FDR = FP/(TP+FP)\n",
    "\n",
    "# Overall accuracy\n",
    "ACC = (TP+TN)/(TP+FP+FN+TN)"
   ]
  },
  {
   "cell_type": "code",
   "execution_count": 162,
   "metadata": {},
   "outputs": [
    {
     "data": {
      "text/plain": [
       "array([55.49, 78.53])"
      ]
     },
     "execution_count": 162,
     "metadata": {},
     "output_type": "execute_result"
    }
   ],
   "source": [
    "TPR*100 # Sensitivity"
   ]
  },
  {
   "cell_type": "code",
   "execution_count": 163,
   "metadata": {},
   "outputs": [
    {
     "data": {
      "text/plain": [
       "array([78.53, 55.49])"
      ]
     },
     "execution_count": 163,
     "metadata": {},
     "output_type": "execute_result"
    }
   ],
   "source": [
    "TNR*100 # Specificity"
   ]
  },
  {
   "cell_type": "code",
   "execution_count": 164,
   "metadata": {},
   "outputs": [
    {
     "data": {
      "text/plain": [
       "array([20.09, 94.78])"
      ]
     },
     "execution_count": 164,
     "metadata": {},
     "output_type": "execute_result"
    }
   ],
   "source": [
    "PPV*100 # Precision"
   ]
  },
  {
   "cell_type": "code",
   "execution_count": 165,
   "metadata": {},
   "outputs": [
    {
     "data": {
      "text/plain": [
       "array([76.49, 76.49])"
      ]
     },
     "execution_count": 165,
     "metadata": {},
     "output_type": "execute_result"
    }
   ],
   "source": [
    "ACC*100 # Accuracy"
   ]
  },
  {
   "cell_type": "code",
   "execution_count": 166,
   "metadata": {},
   "outputs": [
    {
     "data": {
      "text/plain": [
       "76.48881452562433"
      ]
     },
     "execution_count": 166,
     "metadata": {},
     "output_type": "execute_result"
    }
   ],
   "source": [
    "sum(ACC)/2*100"
   ]
  },
  {
   "cell_type": "code",
   "execution_count": 167,
   "metadata": {},
   "outputs": [],
   "source": [
    "#print ('Sensitivity %.2f%%' %(sum(TPR)/4*100))\n",
    "#print ('Specificity %.2f%%' %(sum(TNR)/4*100))\n",
    "#print ('Precision %.2f%%' %(sum(PPV)/4*100))\n",
    "#print ('Accuray %.2f%%' %(sum(ACC)/4*100))\n",
    "\n",
    "print ('Sensitivity %.2f%%' %(sum(TPR)/2*100))\n",
    "print ('Specificity %.2f%%' %(sum(TNR)/2*100))\n",
    "print ('Precision %.2f%%' %(sum(PPV)/2*100))\n",
    "print ('Accuray %.2f%%' %(sum(ACC)/2*100))"
   ]
  },
  {
   "cell_type": "code",
   "execution_count": 168,
   "metadata": {},
   "outputs": [
    {
     "data": {
      "image/png": "[encoded data removed]",
      "text/plain": [
       "<matplotlib.figure.Figure at 0x19cfc128>"
      ]
     },
     "metadata": {},
     "output_type": "display_data"
    },
    {
     "data": {
      "image/png": "[encoded data removed]",
      "text/plain": [
       "<matplotlib.figure.Figure at 0x16840400>"
      ]
     },
     "metadata": {},
     "output_type": "display_data"
    }
   ],
   "source": [
    "# encoding=utf8  \n",
    "#import sys  \n",
    "#reload(sys)  \n",
    "#sys.setdefaultencoding('utf8')\n",
    "\n",
    "from sklearn.metrics import confusion_matrix\n",
    "import itertools\n",
    "import matplotlib.pyplot as plt\n",
    "\n",
    "#%matplotlib notebook\n",
    "class_names = np.array(['N-1', 'N-9'])\n",
    "\n",
    "yvalid = y_validate \n",
    "\n",
    "def plot_confusion_matrix(cm, classes,\n",
    "                          normalize=False,\n",
    "                          title='Confusion de matrix',\n",
    "                          cmap=plt.cm.Blues):\n",
    "    \"\"\"\n",
    "    This function prints and plots the confusion matrix.\n",
    "    Normalization can be applied by setting `normalize=True`.\n",
    "    \"\"\"\n",
    "    plt.imshow(cm, interpolation='nearest', cmap=cmap)\n",
    "    plt.title(title)\n",
    "    plt.colorbar()\n",
    "    tick_marks = np.arange(len(classes))\n",
    "    plt.xticks(tick_marks, classes, rotation=45)\n",
    "    plt.yticks(tick_marks, classes)\n",
    "\n",
    "    \n",
    "    if normalize:\n",
    "        cm = cm.astype('float') / cm.sum(axis=1)[:, np.newaxis]\n",
    "        print(\"Matrix de confusão normalizada\")\n",
    "        thresh = cm.max() / 2.\n",
    "        for i, j in itertools.product(range(cm.shape[0]), range(cm.shape[1])):\n",
    "            plt.text(j, i, ('%.3f' % cm[i, j]), horizontalalignment=\"center\", color=\"white\" if cm[i, j] > thresh else \"black\")\n",
    "\n",
    "    else:\n",
    "        print('Matrix de confusão, sem normalização')\n",
    "        thresh = cm.max() / 2.\n",
    "        for i, j in itertools.product(range(cm.shape[0]), range(cm.shape[1])):\n",
    "            plt.text(j, i, cm[i, j], horizontalalignment=\"center\", color=\"white\" if cm[i, j] > thresh else \"black\")\n",
    "\n",
    "    print(cm)\n",
    "\n",
    "    plt.tight_layout()\n",
    "    plt.ylabel('Valores reais')\n",
    "    plt.xlabel('Valores preditos')\n",
    "\n",
    "# Compute confusion matrix\n",
    "cnf_matrix = confusion_matrix(yvalid, rbf_y_pred_v)\n",
    "np.set_printoptions(precision=2)\n",
    "\n",
    "# Plot non-normalized confusion matrix\n",
    "fig = plt.figure()\n",
    "plot_confusion_matrix(cnf_matrix, classes=class_names,\n",
    "                      title='Matrix de confusao - SVM-RBF')\n",
    "fig.set_size_inches(w=7,h=6)\n",
    "\n",
    "# Plot normalized confusion matrix\n",
    "fig = plt.figure()\n",
    "plot_confusion_matrix(cnf_matrix, classes=class_names, normalize=True,\n",
    "                      title='Matrix de confusao - SVM-RBF')\n",
    "fig_name = 'CF_figs/cmB_SVM-RBF.png'\n",
    "fig.set_size_inches(w=7,h=6)\n",
    "fig.savefig(fig_name)\n",
    "\n",
    "plt.show()"
   ]
  },
  {
   "cell_type": "markdown",
   "metadata": {},
   "source": [
    "## Support Vector Machine Poly"
   ]
  },
  {
   "cell_type": "code",
   "execution_count": null,
   "metadata": {},
   "outputs": [
    {
     "name": "stdout",
     "output_type": "stream",
     "text": [
      "Processing time Polynomial\n"
     ]
    }
   ],
   "source": [
    "from sklearn import svm, datasets\n",
    "\n",
    "print 'Processing time Polynomial'\n",
    "#%time svm = svm.SVC(kernel='poly', degree=2, coef0=4.7, C=48.9, decision_function_shape='ovr').fit(X_train_std, y_train)\n",
    "%time svm_poly = svm.SVC(kernel='poly', degree=2).fit(X_train_std, y_train)\n"
   ]
  },
  {
   "cell_type": "code",
   "execution_count": null,
   "metadata": {},
   "outputs": [],
   "source": [
    "#poly_y_pred = svm_poly.predict(X_test_std)\n",
    "\n",
    "print 'Predict time'  \n",
    "%time poly_y_pred = svm_poly.predict(X_test_std)\n",
    "from sklearn.metrics import accuracy_score\n",
    "print ('SVM-Polynomial accuracy:--->%.2f %%' % (accuracy_score(y_test, poly_y_pred)*100))\n",
    "        "
   ]
  },
  {
   "cell_type": "code",
   "execution_count": null,
   "metadata": {
    "scrolled": true
   },
   "outputs": [],
   "source": [
    "print 'Predict time'  \n",
    "%time poly_y_pred_v = svm_poly.predict(X_validate_std)\n",
    "from sklearn.metrics import accuracy_score\n",
    "print ('SVM-Polynomial accuracy:---------->%.2f %%' % (accuracy_score(y_validate, poly_y_pred_v)*100))"
   ]
  },
  {
   "cell_type": "code",
   "execution_count": null,
   "metadata": {},
   "outputs": [],
   "source": [
    "from sklearn.metrics import confusion_matrix\n",
    "confusion_matrix = confusion_matrix(y_validate, poly_y_pred_v)\n",
    "confusion_matrix = confusion_matrix.astype('float')\n",
    "confusion_matrix\n",
    "cm = confusion_matrix\n",
    "cm"
   ]
  },
  {
   "cell_type": "markdown",
   "metadata": {},
   "source": [
    "# Confusion Matrix"
   ]
  },
  {
   "cell_type": "code",
   "execution_count": null,
   "metadata": {},
   "outputs": [],
   "source": [
    "from sklearn.metrics import confusion_matrix\n",
    "confusion_matrix = confusion_matrix(y_validate, poly_y_pred_v)\n",
    "confusion_matrix = confusion_matrix.astype('float')"
   ]
  },
  {
   "cell_type": "code",
   "execution_count": null,
   "metadata": {},
   "outputs": [],
   "source": [
    "confusion_matrix"
   ]
  },
  {
   "cell_type": "code",
   "execution_count": null,
   "metadata": {},
   "outputs": [],
   "source": [
    "FP = confusion_matrix.sum(axis=0) - np.diag(confusion_matrix)  \n",
    "FN = confusion_matrix.sum(axis=1) - np.diag(confusion_matrix)\n",
    "TP = np.diag(confusion_matrix)\n",
    "TN = confusion_matrix.sum() - (FP + FN + TP)\n",
    "\n",
    "# Sensitivity, hit rate, recall, or true positive rate\n",
    "TPR = TP/(TP+FN)\n",
    "# Specificity or true negative rate\n",
    "TNR = TN/(TN+FP) \n",
    "# Precision or positive predictive value\n",
    "PPV = TP/(TP+FP)\n",
    "# Negative predictive value\n",
    "NPV = TN/(TN+FN)\n",
    "# Fall out or false positive rate\n",
    "FPR = FP/(FP+TN)\n",
    "# False negative rate\n",
    "FNR = FN/(TP+FN)\n",
    "# False discovery rate\n",
    "FDR = FP/(TP+FP)\n",
    "\n",
    "# Overall accuracy\n",
    "ACC = (TP+TN)/(TP+FP+FN+TN)"
   ]
  },
  {
   "cell_type": "code",
   "execution_count": null,
   "metadata": {},
   "outputs": [],
   "source": [
    "TPR*100 # Sensitivity"
   ]
  },
  {
   "cell_type": "code",
   "execution_count": null,
   "metadata": {},
   "outputs": [],
   "source": [
    "TNR*100 # Specificity"
   ]
  },
  {
   "cell_type": "code",
   "execution_count": null,
   "metadata": {},
   "outputs": [],
   "source": [
    "PPV*100 # Precision"
   ]
  },
  {
   "cell_type": "code",
   "execution_count": null,
   "metadata": {},
   "outputs": [],
   "source": [
    "ACC*100 # Accuracy"
   ]
  },
  {
   "cell_type": "code",
   "execution_count": null,
   "metadata": {},
   "outputs": [],
   "source": [
    "sum(ACC)/6*100"
   ]
  },
  {
   "cell_type": "code",
   "execution_count": null,
   "metadata": {},
   "outputs": [],
   "source": [
    "# encoding=utf8  \n",
    "#import sys  \n",
    "#reload(sys)  \n",
    "#sys.setdefaultencoding('utf8')\n",
    "\n",
    "from sklearn.metrics import confusion_matrix\n",
    "import itertools\n",
    "import matplotlib.pyplot as plt\n",
    "\n",
    "#%matplotlib notebook\n",
    "class_names = np.array(['N-0', 'N-1', 'N-2', 'N-3', 'N-4', 'N-1,5'])\n",
    "\n",
    "yvalid = y_validate \n",
    "\n",
    "def plot_confusion_matrix(cm, classes,\n",
    "                          normalize=False,\n",
    "                          title='Confusion de matrix',\n",
    "                          cmap=plt.cm.Blues):\n",
    "    \"\"\"\n",
    "    This function prints and plots the confusion matrix.\n",
    "    Normalization can be applied by setting `normalize=True`.\n",
    "    \"\"\"\n",
    "    plt.imshow(cm, interpolation='nearest', cmap=cmap)\n",
    "    plt.title(title)\n",
    "    plt.colorbar()\n",
    "    tick_marks = np.arange(len(classes))\n",
    "    plt.xticks(tick_marks, classes, rotation=45)\n",
    "    plt.yticks(tick_marks, classes)\n",
    "\n",
    "    \n",
    "    if normalize:\n",
    "        cm = cm.astype('float') / cm.sum(axis=1)[:, np.newaxis]\n",
    "        print(\"Matrix de confusão normalizada\")\n",
    "        thresh = cm.max() / 2.\n",
    "        for i, j in itertools.product(range(cm.shape[0]), range(cm.shape[1])):\n",
    "            plt.text(j, i, ('%.3f' % cm[i, j]), horizontalalignment=\"center\", color=\"white\" if cm[i, j] > thresh else \"black\")\n",
    "\n",
    "    else:\n",
    "        print('Matrix de confusão, sem normalização')\n",
    "        thresh = cm.max() / 2.\n",
    "        for i, j in itertools.product(range(cm.shape[0]), range(cm.shape[1])):\n",
    "            plt.text(j, i, cm[i, j], horizontalalignment=\"center\", color=\"white\" if cm[i, j] > thresh else \"black\")\n",
    "\n",
    "    print(cm)\n",
    "\n",
    "    plt.tight_layout()\n",
    "    plt.ylabel('Valores reais')\n",
    "    plt.xlabel('Valores preditos')\n",
    "\n",
    "# Compute confusion matrix\n",
    "cnf_matrix = confusion_matrix(yvalid, poly_y_pred_v)\n",
    "np.set_printoptions(precision=2)\n",
    "\n",
    "# Plot non-normalized confusion matrix\n",
    "fig = plt.figure()\n",
    "plot_confusion_matrix(cnf_matrix, classes=class_names,\n",
    "                      title='Matrix de confusao - SVM-Poly')\n",
    "fig.set_size_inches(w=7,h=6)\n",
    "\n",
    "# Plot normalized confusion matrix\n",
    "fig = plt.figure()\n",
    "plot_confusion_matrix(cnf_matrix, classes=class_names, normalize=True,\n",
    "                      title='Matrix de confusao - SVM-Poly')\n",
    "fig_name = 'CF_figs/cmB_SVM-Poly.png'\n",
    "fig.set_size_inches(w=7,h=6)\n",
    "fig.savefig(fig_name)\n",
    "\n",
    "plt.show()"
   ]
  },
  {
   "cell_type": "markdown",
   "metadata": {},
   "source": [
    "---"
   ]
  },
  {
   "cell_type": "markdown",
   "metadata": {},
   "source": [
    "## KNeigbors"
   ]
  },
  {
   "cell_type": "code",
   "execution_count": 80,
   "metadata": {},
   "outputs": [],
   "source": [
    "from sklearn.neighbors import KNeighborsClassifier\n",
    "knc = KNeighborsClassifier(n_neighbors=2, weights = 'distance', algorithm = 'auto', p = 1)\n",
    "knc = knc.fit(X_train_std, y_train)\n",
    "print''\n",
    "\n",
    "print 'Predict time'\n",
    "%time pred = knc.predict(X_test_std)\n",
    "\n",
    "print''\n",
    "\n",
    "from sklearn.metrics import accuracy_score\n",
    "\n",
    "\n",
    "\n",
    "print ('ClassifyKN accuracy:---------->%.2f %%' % (accuracy_score(y_test, pred)*100))"
   ]
  },
  {
   "cell_type": "code",
   "execution_count": 81,
   "metadata": {},
   "outputs": [
    {
     "data": {
      "text/plain": [
       "70.42095014099111"
      ]
     },
     "execution_count": 81,
     "metadata": {},
     "output_type": "execute_result"
    }
   ],
   "source": [
    "accuracy_score(y_test, pred)*100"
   ]
  },
  {
   "cell_type": "code",
   "execution_count": 82,
   "metadata": {},
   "outputs": [
    {
     "data": {
      "text/plain": [
       "40.215143949442144"
      ]
     },
     "execution_count": 82,
     "metadata": {},
     "output_type": "execute_result"
    }
   ],
   "source": [
    "%time pred = knc.predict(X_validate_std)\n",
    "accuracy_score(y_validate, pred)*100"
   ]
  },
  {
   "cell_type": "markdown",
   "metadata": {},
   "source": [
    "## Confusion Matrix"
   ]
  },
  {
   "cell_type": "code",
   "execution_count": 83,
   "metadata": {},
   "outputs": [],
   "source": [
    "from sklearn.metrics import confusion_matrix\n",
    "confusion_matrix = confusion_matrix(y_validate, y_pred)\n",
    "confusion_matrix = confusion_matrix.astype('float')"
   ]
  },
  {
   "cell_type": "code",
   "execution_count": 84,
   "metadata": {},
   "outputs": [
    {
     "data": {
      "text/plain": [
       "array([[  2.73e+04,   4.75e+03,   2.00e+01,   3.09e+03,   1.06e+03,\n",
       "          3.72e+03],\n",
       "       [  1.06e+04,   1.60e+03,   6.00e+00,   3.57e+03,   2.53e+03,\n",
       "          5.70e+03],\n",
       "       [  3.58e+04,   5.48e+03,   2.60e+01,   4.52e+03,   3.18e+03,\n",
       "          4.96e+03],\n",
       "       [  1.57e+04,   2.55e+03,   1.10e+01,   6.00e+03,   2.24e+03,\n",
       "          3.45e+03],\n",
       "       [  4.22e+04,   6.18e+03,   2.60e+01,   1.75e+04,   8.46e+03,\n",
       "          2.16e+04],\n",
       "       [  2.57e+04,   2.89e+03,   1.10e+01,   1.80e+04,   4.18e+03,\n",
       "          1.31e+04]])"
      ]
     },
     "execution_count": 84,
     "metadata": {},
     "output_type": "execute_result"
    }
   ],
   "source": [
    "confusion_matrix"
   ]
  },
  {
   "cell_type": "code",
   "execution_count": 85,
   "metadata": {},
   "outputs": [],
   "source": [
    "FP = confusion_matrix.sum(axis=0) - np.diag(confusion_matrix)  \n",
    "FN = confusion_matrix.sum(axis=1) - np.diag(confusion_matrix)\n",
    "TP = np.diag(confusion_matrix)\n",
    "TN = confusion_matrix.sum() - (FP + FN + TP)\n",
    "\n",
    "# Sensitivity, hit rate, recall, or true positive rate\n",
    "TPR = TP/(TP+FN)\n",
    "# Specificity or true negative rate\n",
    "TNR = TN/(TN+FP) \n",
    "# Precision or positive predictive value\n",
    "PPV = TP/(TP+FP)\n",
    "# Negative predictive value\n",
    "NPV = TN/(TN+FN)\n",
    "# Fall out or false positive rate\n",
    "FPR = FP/(FP+TN)\n",
    "# False negative rate\n",
    "FNR = FN/(TP+FN)\n",
    "# False discovery rate\n",
    "FDR = FP/(TP+FP)\n",
    "\n",
    "# Overall accuracy\n",
    "ACC = (TP+TN)/(TP+FP+FN+TN)"
   ]
  },
  {
   "cell_type": "code",
   "execution_count": 86,
   "metadata": {},
   "outputs": [
    {
     "data": {
      "text/plain": [
       "array([  6.83e+01,   6.68e+00,   4.82e-02,   2.00e+01,   8.81e+00,\n",
       "         2.05e+01])"
      ]
     },
     "execution_count": 86,
     "metadata": {},
     "output_type": "execute_result"
    }
   ],
   "source": [
    "TPR*100 # Sensitivity"
   ]
  },
  {
   "cell_type": "code",
   "execution_count": 87,
   "metadata": {},
   "outputs": [
    {
     "data": {
      "text/plain": [
       "array([ 51.45,  92.3 ,  99.97,  83.21,  93.76,  83.83])"
      ]
     },
     "execution_count": 87,
     "metadata": {},
     "output_type": "execute_result"
    }
   ],
   "source": [
    "TNR*100 # Specificity"
   ]
  },
  {
   "cell_type": "code",
   "execution_count": 88,
   "metadata": {},
   "outputs": [
    {
     "data": {
      "text/plain": [
       "array([ 17.34,   6.82,  26.  ,  11.41,  39.04,  24.97])"
      ]
     },
     "execution_count": 88,
     "metadata": {},
     "output_type": "execute_result"
    }
   ],
   "source": [
    "PPV*100 # Precision"
   ]
  },
  {
   "cell_type": "code",
   "execution_count": 89,
   "metadata": {},
   "outputs": [
    {
     "data": {
      "text/plain": [
       "array([ 53.64,  85.63,  82.45,  77.06,  67.26,  70.68])"
      ]
     },
     "execution_count": 89,
     "metadata": {},
     "output_type": "execute_result"
    }
   ],
   "source": [
    "ACC*100 # Accuracy"
   ]
  },
  {
   "cell_type": "code",
   "execution_count": 90,
   "metadata": {},
   "outputs": [
    {
     "data": {
      "text/plain": [
       "72.784951410019673"
      ]
     },
     "execution_count": 90,
     "metadata": {},
     "output_type": "execute_result"
    }
   ],
   "source": [
    "sum(ACC)/6*100"
   ]
  },
  {
   "cell_type": "code",
   "execution_count": 91,
   "metadata": {},
   "outputs": [
    {
     "data": {
      "image/png": "[encoded data removed]",
      "text/plain": [
       "<matplotlib.figure.Figure at 0x7fb6ed146a50>"
      ]
     },
     "metadata": {},
     "output_type": "display_data"
    },
    {
     "data": {
      "image/png": "[encoded data removed]",
      "text/plain": [
       "<matplotlib.figure.Figure at 0x7fb6ecebd3d0>"
      ]
     },
     "metadata": {},
     "output_type": "display_data"
    }
   ],
   "source": [
    "# encoding=utf8  \n",
    "#import sys  \n",
    "#reload(sys)  \n",
    "#sys.setdefaultencoding('utf8')\n",
    "\n",
    "from sklearn.metrics import confusion_matrix\n",
    "import itertools\n",
    "import matplotlib.pyplot as plt\n",
    "\n",
    "#%matplotlib notebook\n",
    "class_names = np.array(['N-0', 'N-1', 'N-2', 'N-3', 'N-4', 'N-1,5'])\n",
    "\n",
    "yvalid = y_validate \n",
    "\n",
    "def plot_confusion_matrix(cm, classes,\n",
    "                          normalize=False,\n",
    "                          title='Confusion matrix',\n",
    "                          cmap=plt.cm.Blues):\n",
    "    \"\"\"\n",
    "    This function prints and plots the confusion matrix.\n",
    "    Normalization can be applied by setting `normalize=True`.\n",
    "    \"\"\"\n",
    "    plt.imshow(cm, interpolation='nearest', cmap=cmap)\n",
    "    plt.title(title)\n",
    "    plt.colorbar()\n",
    "    tick_marks = np.arange(len(classes))\n",
    "    plt.xticks(tick_marks, classes, rotation=45)\n",
    "    plt.yticks(tick_marks, classes)\n",
    "\n",
    "    \n",
    "    if normalize:\n",
    "        cm = cm.astype('float') / cm.sum(axis=1)[:, np.newaxis]\n",
    "        print(\"Matrix confusão normalizada\")\n",
    "        thresh = cm.max() / 2.\n",
    "        for i, j in itertools.product(range(cm.shape[0]), range(cm.shape[1])):\n",
    "            plt.text(j, i, ('%.3f' % cm[i, j]), horizontalalignment=\"center\", color=\"white\" if cm[i, j] > thresh else \"black\")\n",
    "\n",
    "    else:\n",
    "        print('Matrix confusão, sem normalização')\n",
    "        thresh = cm.max() / 2.\n",
    "        for i, j in itertools.product(range(cm.shape[0]), range(cm.shape[1])):\n",
    "            plt.text(j, i, cm[i, j], horizontalalignment=\"center\", color=\"white\" if cm[i, j] > thresh else \"black\")\n",
    "\n",
    "    print(cm)\n",
    "\n",
    "    plt.tight_layout()\n",
    "    plt.ylabel('Valores reais')\n",
    "    plt.xlabel('Valores preditos')\n",
    "\n",
    "# Compute confusion matrix\n",
    "cnf_matrix = confusion_matrix(yvalid, y_pred)\n",
    "np.set_printoptions(precision=2)\n",
    "\n",
    "# Plot non-normalized confusion matrix\n",
    "fig = plt.figure()\n",
    "plot_confusion_matrix(cnf_matrix, classes=class_names,\n",
    "                      title='Matrix confusao SVM-RBF')\n",
    "fig.set_size_inches(w=7,h=6)\n",
    "\n",
    "# Plot normalized confusion matrix\n",
    "fig = plt.figure()\n",
    "plot_confusion_matrix(cnf_matrix, classes=class_names, normalize=True,\n",
    "                      title='Matrix confusao SVM-RBF')\n",
    "fig_name = 'cmB_SVM-RBF.png'\n",
    "fig.set_size_inches(w=7,h=6)\n",
    "fig.savefig(fig_name)\n",
    "\n",
    "plt.show()"
   ]
  },
  {
   "cell_type": "code",
   "execution_count": null,
   "metadata": {},
   "outputs": [],
   "source": []
  }
 ],
 "metadata": {
  "kernelspec": {
   "display_name": "Python 2",
   "language": "python",
   "name": "python2"
  },
  "language_info": {
   "codemirror_mode": {
    "name": "ipython",
    "version": 2
   },
   "file_extension": ".py",
   "mimetype": "text/x-python",
   "name": "python",
   "nbconvert_exporter": "python",
   "pygments_lexer": "ipython2",
   "version": "2.7.14"
  }
 },
 "nbformat": 4,
 "nbformat_minor": 2
}
